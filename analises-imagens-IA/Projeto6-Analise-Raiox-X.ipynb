{
 "cells": [
  {
   "cell_type": "markdown",
   "id": "08e58550",
   "metadata": {},
   "source": [
    "# Projeto 6 - Análise de Raio-X para Identificar Doenças Pulmonares"
   ]
  },
  {
   "cell_type": "markdown",
   "id": "78a60ec8",
   "metadata": {},
   "source": [
    "O objetivo deste projeto será treinar um modelo com imagens de pulmões saudáveis e com tuberculose para que o modelo seja capaz de fazer a detecção em novas imagens.\n",
    "\n",
    "A radiografia de tórax (ouradiografia torácica) é uma técnica de diagnóstico de imagem médica  econômica  e  fácil  de  usar.  A  técnica  é  a  ferramenta  de  diagnóstico  mais  utilizada  na prática médica e tem um papel importante no diagnóstico de doenças pulmonares. Radiologistas bem  treinados  usam  raios-X  do  tórax  para  detectar  doenças,  como  pneumonia,  tuberculose  e câncer de pulmão precoce. Em inglês é conhecido como Chest radiography (chest X-ray ou CXR).\n",
    "\n",
    "As  grandes  vantagens  dos  raios-X  do  tórax  incluem  seu  baixo  custo  e  fácil  operação. Mesmo  em  áreas  subdesenvolvidas,  as  modernas  máquinas  de  radiografia  digital  são  muito acessíveis. A radiografia de tórax contém uma grande quantidade de informações sobre a saúde de  um  paciente.  No  entanto,  interpretar  corretamente  as  informações  é  sempre  um  grande desafio  para  o  médico.  A  sobreposição  das  estruturas  dos  tecidos  na  radiografia  de  tórax aumenta muito a complexidade da interpretação. \n",
    "\n",
    "Fonte dos dados: https://lhncbc.nlm.nih.gov/LHC-downloads/downloads.html#tuberculosis-image-data-sets"
   ]
  },
  {
   "cell_type": "markdown",
   "id": "330672a3",
   "metadata": {},
   "source": [
    "## 1. Carga dos pacotes"
   ]
  },
  {
   "cell_type": "code",
   "execution_count": 1,
   "id": "9343aa6d",
   "metadata": {},
   "outputs": [
    {
     "name": "stdout",
     "output_type": "stream",
     "text": [
      "Versão da Linguagem Python Usada Neste Jupyter Notebook: 3.9.13\n"
     ]
    }
   ],
   "source": [
    "# Versão da Linguagem Python\n",
    "from platform import python_version\n",
    "print('Versão da Linguagem Python Usada Neste Jupyter Notebook:', python_version())"
   ]
  },
  {
   "cell_type": "code",
   "execution_count": 2,
   "id": "41c6a716",
   "metadata": {},
   "outputs": [],
   "source": [
    "# Pacote para uso da linha de comando\n",
    "!pip install -q -U prompt_toolkit"
   ]
  },
  {
   "cell_type": "code",
   "execution_count": 3,
   "id": "13bd7fb4",
   "metadata": {},
   "outputs": [],
   "source": [
    "# OpenCV\n",
    "!pip install -q opencv-python"
   ]
  },
  {
   "cell_type": "code",
   "execution_count": 4,
   "id": "44856902",
   "metadata": {},
   "outputs": [
    {
     "name": "stdout",
     "output_type": "stream",
     "text": [
      "env: TF_CPP_MIN_LOG_LEVEL=3\n"
     ]
    }
   ],
   "source": [
    "# Comando para silenciar o Tensor Flow\n",
    "%env TF_CPP_MIN_LOG_LEVEL=3"
   ]
  },
  {
   "cell_type": "code",
   "execution_count": 5,
   "id": "a6082eaa",
   "metadata": {},
   "outputs": [],
   "source": [
    "# Instala TensorFlow\n",
    "#!pip install tensorflow==2.11.0"
   ]
  },
  {
   "cell_type": "code",
   "execution_count": 6,
   "id": "cabeabce",
   "metadata": {},
   "outputs": [],
   "source": [
    "# Instala o Keras\n",
    "#!pip install keras==2.11.0"
   ]
  },
  {
   "cell_type": "code",
   "execution_count": 7,
   "id": "555fe516",
   "metadata": {},
   "outputs": [],
   "source": [
    "# Instala Scikit-Image\n",
    "#!pip install scikit-image==0.19.2"
   ]
  },
  {
   "cell_type": "code",
   "execution_count": 8,
   "id": "6e0d4076",
   "metadata": {},
   "outputs": [],
   "source": [
    "# Imports \n",
    "\n",
    "# Imports para manipulação e visualização de dados\n",
    "import numpy as np\n",
    "import pandas as pd\n",
    "import matplotlib\n",
    "import matplotlib.pyplot as plt\n",
    "\n",
    "# Imports para manipulação de imagens\n",
    "import os\n",
    "import cv2\n",
    "import itertools\n",
    "import shutil\n",
    "import imageio\n",
    "import skimage\n",
    "import skimage.io\n",
    "import skimage.transform\n",
    "from pathlib import Path\n",
    "\n",
    "# Imports para Deep Learning\n",
    "import tensorflow\n",
    "import keras\n",
    "from keras.models import Sequential\n",
    "from keras.layers import Dense, Dropout, Flatten\n",
    "from keras.layers import Conv2D, MaxPooling2D\n",
    "from keras.optimizers import Adam \n",
    "from keras.callbacks import EarlyStopping, ModelCheckpoint, Callback, ReduceLROnPlateau\n",
    "from tensorflow.keras.preprocessing.image import ImageDataGenerator\n",
    "from tensorflow.keras.metrics import categorical_crossentropy\n",
    "from tensorflow.keras.metrics import binary_accuracy\n",
    "\n",
    "# Imports para cálculo de métricas e outras tarefas\n",
    "import sklearn\n",
    "from sklearn.utils import shuffle\n",
    "from sklearn.metrics import confusion_matrix\n",
    "from sklearn.model_selection import train_test_split\n",
    "\n",
    "# Supress de warnings\n",
    "import warnings\n",
    "warnings.filterwarnings('ignore')\n",
    "\n",
    "%matplotlib inline"
   ]
  },
  {
   "cell_type": "code",
   "execution_count": 9,
   "id": "3ec75a0d",
   "metadata": {},
   "outputs": [
    {
     "name": "stdout",
     "output_type": "stream",
     "text": [
      "Author: Data Science Academy\n",
      "\n",
      "imageio   : 2.19.3\n",
      "matplotlib: 3.5.2\n",
      "pandas    : 1.4.4\n",
      "keras     : 2.11.0\n",
      "numpy     : 1.21.5\n",
      "cv2       : 4.7.0\n",
      "tensorflow: 2.11.0\n",
      "sklearn   : 1.0.2\n",
      "skimage   : 0.19.2\n",
      "\n"
     ]
    }
   ],
   "source": [
    "# Versões dos pacotes usados neste jupyter notebook\n",
    "%reload_ext watermark\n",
    "%watermark -a \"Data Science Academy\" --iversions"
   ]
  },
  {
   "cell_type": "markdown",
   "id": "f902e2f5",
   "metadata": {},
   "source": [
    "## 2. Define local de armazenamento das imagens"
   ]
  },
  {
   "cell_type": "code",
   "execution_count": 10,
   "id": "c66fc3e6",
   "metadata": {},
   "outputs": [
    {
     "data": {
      "text/plain": [
       "['ChinaSet_AllFiles', 'MontgomerySet']"
      ]
     },
     "execution_count": 10,
     "metadata": {},
     "output_type": "execute_result"
    }
   ],
   "source": [
    "# Lista o conteúdo do diretório\n",
    "os.listdir('dados')"
   ]
  },
  {
   "cell_type": "code",
   "execution_count": 11,
   "id": "9aeba6d2",
   "metadata": {},
   "outputs": [],
   "source": [
    "# Diretórios para os 2 grupos de imagens\n",
    "imagens_shen = 'dados/ChinaSet_AllFiles/CXR_png/'\n",
    "imagens_mont = 'dados/MontgomerySet/CXR_png/'"
   ]
  },
  {
   "cell_type": "code",
   "execution_count": 12,
   "id": "c49f6e0e",
   "metadata": {},
   "outputs": [
    {
     "name": "stdout",
     "output_type": "stream",
     "text": [
      "663\n",
      "139\n"
     ]
    }
   ],
   "source": [
    "# Visualiza o tamanho de cada pasta\n",
    "print(len(os.listdir(imagens_shen)))\n",
    "print(len(os.listdir(imagens_mont)))"
   ]
  },
  {
   "cell_type": "code",
   "execution_count": 13,
   "id": "d1b73eb8",
   "metadata": {},
   "outputs": [],
   "source": [
    "# Grava a lista de imagens em cada pasta\n",
    "shen_image_list = os.listdir(imagens_shen)\n",
    "mont_image_list = os.listdir(imagens_mont)"
   ]
  },
  {
   "cell_type": "markdown",
   "id": "c0316fb1",
   "metadata": {},
   "source": [
    "## 3. Carga das imagens em Rio-X"
   ]
  },
  {
   "cell_type": "code",
   "execution_count": 14,
   "id": "3494c2a8",
   "metadata": {},
   "outputs": [],
   "source": [
    "# Prepara os dataframes com as listas das imagens\n",
    "df_shen = pd.DataFrame(shen_image_list, columns = ['image_id'])\n",
    "df_mont = pd.DataFrame(mont_image_list, columns = ['image_id'])"
   ]
  },
  {
   "cell_type": "code",
   "execution_count": 15,
   "id": "ded8d889",
   "metadata": {},
   "outputs": [],
   "source": [
    "# Remove da lista o nome 'Thumbs.db'\n",
    "# Este é um arquivo tipo 'cookie' do PC para agilizar o carregamento das imagens\n",
    "\n",
    "df_shen = df_shen[df_shen['image_id'] != 'Thumbs.db']\n",
    "df_mont = df_mont[df_mont['image_id'] != 'Thumbs.db']"
   ]
  },
  {
   "cell_type": "code",
   "execution_count": 16,
   "id": "08529ee6",
   "metadata": {},
   "outputs": [],
   "source": [
    "# Reset do índice para evitar erros nas próximas células do Jupyter Notebook\n",
    "df_shen.reset_index(inplace = True, drop = True)\n",
    "df_mont.reset_index(inplace = True, drop = True)"
   ]
  },
  {
   "cell_type": "code",
   "execution_count": 17,
   "id": "e9efbf83",
   "metadata": {},
   "outputs": [
    {
     "name": "stdout",
     "output_type": "stream",
     "text": [
      "O dataset Shen possui o shape:  (662, 1)\n",
      "O dataset Montgomery possui o shape:  (138, 1)\n"
     ]
    }
   ],
   "source": [
    "# Visualiza o shape dos datasets\n",
    "print('O dataset Shen possui o shape: ', df_shen.shape)\n",
    "print('O dataset Montgomery possui o shape: ', df_mont.shape)"
   ]
  },
  {
   "cell_type": "code",
   "execution_count": 18,
   "id": "76f7def9",
   "metadata": {},
   "outputs": [
    {
     "data": {
      "text/html": [
       "<div>\n",
       "<style scoped>\n",
       "    .dataframe tbody tr th:only-of-type {\n",
       "        vertical-align: middle;\n",
       "    }\n",
       "\n",
       "    .dataframe tbody tr th {\n",
       "        vertical-align: top;\n",
       "    }\n",
       "\n",
       "    .dataframe thead th {\n",
       "        text-align: right;\n",
       "    }\n",
       "</style>\n",
       "<table border=\"1\" class=\"dataframe\">\n",
       "  <thead>\n",
       "    <tr style=\"text-align: right;\">\n",
       "      <th></th>\n",
       "      <th>image_id</th>\n",
       "    </tr>\n",
       "  </thead>\n",
       "  <tbody>\n",
       "    <tr>\n",
       "      <th>0</th>\n",
       "      <td>CHNCXR_0001_0.png</td>\n",
       "    </tr>\n",
       "    <tr>\n",
       "      <th>1</th>\n",
       "      <td>CHNCXR_0002_0.png</td>\n",
       "    </tr>\n",
       "    <tr>\n",
       "      <th>2</th>\n",
       "      <td>CHNCXR_0003_0.png</td>\n",
       "    </tr>\n",
       "    <tr>\n",
       "      <th>3</th>\n",
       "      <td>CHNCXR_0004_0.png</td>\n",
       "    </tr>\n",
       "    <tr>\n",
       "      <th>4</th>\n",
       "      <td>CHNCXR_0005_0.png</td>\n",
       "    </tr>\n",
       "  </tbody>\n",
       "</table>\n",
       "</div>"
      ],
      "text/plain": [
       "            image_id\n",
       "0  CHNCXR_0001_0.png\n",
       "1  CHNCXR_0002_0.png\n",
       "2  CHNCXR_0003_0.png\n",
       "3  CHNCXR_0004_0.png\n",
       "4  CHNCXR_0005_0.png"
      ]
     },
     "execution_count": 18,
     "metadata": {},
     "output_type": "execute_result"
    }
   ],
   "source": [
    "# Visualiza os dados do dataset Shen\n",
    "df_shen.head()"
   ]
  },
  {
   "cell_type": "code",
   "execution_count": 19,
   "id": "e79d46e5",
   "metadata": {},
   "outputs": [
    {
     "data": {
      "text/html": [
       "<div>\n",
       "<style scoped>\n",
       "    .dataframe tbody tr th:only-of-type {\n",
       "        vertical-align: middle;\n",
       "    }\n",
       "\n",
       "    .dataframe tbody tr th {\n",
       "        vertical-align: top;\n",
       "    }\n",
       "\n",
       "    .dataframe thead th {\n",
       "        text-align: right;\n",
       "    }\n",
       "</style>\n",
       "<table border=\"1\" class=\"dataframe\">\n",
       "  <thead>\n",
       "    <tr style=\"text-align: right;\">\n",
       "      <th></th>\n",
       "      <th>image_id</th>\n",
       "    </tr>\n",
       "  </thead>\n",
       "  <tbody>\n",
       "    <tr>\n",
       "      <th>0</th>\n",
       "      <td>MCUCXR_0001_0.png</td>\n",
       "    </tr>\n",
       "    <tr>\n",
       "      <th>1</th>\n",
       "      <td>MCUCXR_0002_0.png</td>\n",
       "    </tr>\n",
       "    <tr>\n",
       "      <th>2</th>\n",
       "      <td>MCUCXR_0003_0.png</td>\n",
       "    </tr>\n",
       "    <tr>\n",
       "      <th>3</th>\n",
       "      <td>MCUCXR_0004_0.png</td>\n",
       "    </tr>\n",
       "    <tr>\n",
       "      <th>4</th>\n",
       "      <td>MCUCXR_0005_0.png</td>\n",
       "    </tr>\n",
       "  </tbody>\n",
       "</table>\n",
       "</div>"
      ],
      "text/plain": [
       "            image_id\n",
       "0  MCUCXR_0001_0.png\n",
       "1  MCUCXR_0002_0.png\n",
       "2  MCUCXR_0003_0.png\n",
       "3  MCUCXR_0004_0.png\n",
       "4  MCUCXR_0005_0.png"
      ]
     },
     "execution_count": 19,
     "metadata": {},
     "output_type": "execute_result"
    }
   ],
   "source": [
    "# Visualiza os dados do dataset Montgomery\n",
    "df_mont.head()"
   ]
  },
  {
   "cell_type": "markdown",
   "id": "adc7be35",
   "metadata": {},
   "source": [
    "## 4. Extrai a variável Target"
   ]
  },
  {
   "cell_type": "code",
   "execution_count": 20,
   "id": "51a1e100",
   "metadata": {},
   "outputs": [],
   "source": [
    "# Função para selecionar o 4º índice no final da string (nome do arquivo)\n",
    "# Exemplo: CHNCXR_0470_1.png --> 1 é o label, significa que Tuberculose está presente na imagem.\n",
    "\n",
    "def extrair_target(x):\n",
    "    \n",
    "    target = int(x[-5])\n",
    "    \n",
    "    if target == 0:\n",
    "        return 'Normal'\n",
    "    if target == 1:\n",
    "        return 'Tuberculose'"
   ]
  },
  {
   "cell_type": "code",
   "execution_count": 21,
   "id": "dd23face",
   "metadata": {},
   "outputs": [],
   "source": [
    "# Adiciona o label aos dataframes\n",
    "df_shen['target'] = df_shen['image_id'].apply(extrair_target)\n",
    "df_mont['target'] = df_mont['image_id'].apply(extrair_target)"
   ]
  },
  {
   "cell_type": "code",
   "execution_count": 22,
   "id": "02d8c1dd",
   "metadata": {},
   "outputs": [
    {
     "data": {
      "text/html": [
       "<div>\n",
       "<style scoped>\n",
       "    .dataframe tbody tr th:only-of-type {\n",
       "        vertical-align: middle;\n",
       "    }\n",
       "\n",
       "    .dataframe tbody tr th {\n",
       "        vertical-align: top;\n",
       "    }\n",
       "\n",
       "    .dataframe thead th {\n",
       "        text-align: right;\n",
       "    }\n",
       "</style>\n",
       "<table border=\"1\" class=\"dataframe\">\n",
       "  <thead>\n",
       "    <tr style=\"text-align: right;\">\n",
       "      <th></th>\n",
       "      <th>image_id</th>\n",
       "      <th>target</th>\n",
       "    </tr>\n",
       "  </thead>\n",
       "  <tbody>\n",
       "    <tr>\n",
       "      <th>0</th>\n",
       "      <td>CHNCXR_0001_0.png</td>\n",
       "      <td>Normal</td>\n",
       "    </tr>\n",
       "    <tr>\n",
       "      <th>1</th>\n",
       "      <td>CHNCXR_0002_0.png</td>\n",
       "      <td>Normal</td>\n",
       "    </tr>\n",
       "    <tr>\n",
       "      <th>2</th>\n",
       "      <td>CHNCXR_0003_0.png</td>\n",
       "      <td>Normal</td>\n",
       "    </tr>\n",
       "    <tr>\n",
       "      <th>3</th>\n",
       "      <td>CHNCXR_0004_0.png</td>\n",
       "      <td>Normal</td>\n",
       "    </tr>\n",
       "    <tr>\n",
       "      <th>4</th>\n",
       "      <td>CHNCXR_0005_0.png</td>\n",
       "      <td>Normal</td>\n",
       "    </tr>\n",
       "  </tbody>\n",
       "</table>\n",
       "</div>"
      ],
      "text/plain": [
       "            image_id  target\n",
       "0  CHNCXR_0001_0.png  Normal\n",
       "1  CHNCXR_0002_0.png  Normal\n",
       "2  CHNCXR_0003_0.png  Normal\n",
       "3  CHNCXR_0004_0.png  Normal\n",
       "4  CHNCXR_0005_0.png  Normal"
      ]
     },
     "execution_count": 22,
     "metadata": {},
     "output_type": "execute_result"
    }
   ],
   "source": [
    "# Visualiza os dados do dataset Shen\n",
    "df_shen.head()"
   ]
  },
  {
   "cell_type": "code",
   "execution_count": 23,
   "id": "d6c98dd1",
   "metadata": {},
   "outputs": [
    {
     "data": {
      "text/html": [
       "<div>\n",
       "<style scoped>\n",
       "    .dataframe tbody tr th:only-of-type {\n",
       "        vertical-align: middle;\n",
       "    }\n",
       "\n",
       "    .dataframe tbody tr th {\n",
       "        vertical-align: top;\n",
       "    }\n",
       "\n",
       "    .dataframe thead th {\n",
       "        text-align: right;\n",
       "    }\n",
       "</style>\n",
       "<table border=\"1\" class=\"dataframe\">\n",
       "  <thead>\n",
       "    <tr style=\"text-align: right;\">\n",
       "      <th></th>\n",
       "      <th>image_id</th>\n",
       "      <th>target</th>\n",
       "    </tr>\n",
       "  </thead>\n",
       "  <tbody>\n",
       "    <tr>\n",
       "      <th>0</th>\n",
       "      <td>MCUCXR_0001_0.png</td>\n",
       "      <td>Normal</td>\n",
       "    </tr>\n",
       "    <tr>\n",
       "      <th>1</th>\n",
       "      <td>MCUCXR_0002_0.png</td>\n",
       "      <td>Normal</td>\n",
       "    </tr>\n",
       "    <tr>\n",
       "      <th>2</th>\n",
       "      <td>MCUCXR_0003_0.png</td>\n",
       "      <td>Normal</td>\n",
       "    </tr>\n",
       "    <tr>\n",
       "      <th>3</th>\n",
       "      <td>MCUCXR_0004_0.png</td>\n",
       "      <td>Normal</td>\n",
       "    </tr>\n",
       "    <tr>\n",
       "      <th>4</th>\n",
       "      <td>MCUCXR_0005_0.png</td>\n",
       "      <td>Normal</td>\n",
       "    </tr>\n",
       "  </tbody>\n",
       "</table>\n",
       "</div>"
      ],
      "text/plain": [
       "            image_id  target\n",
       "0  MCUCXR_0001_0.png  Normal\n",
       "1  MCUCXR_0002_0.png  Normal\n",
       "2  MCUCXR_0003_0.png  Normal\n",
       "3  MCUCXR_0004_0.png  Normal\n",
       "4  MCUCXR_0005_0.png  Normal"
      ]
     },
     "execution_count": 23,
     "metadata": {},
     "output_type": "execute_result"
    }
   ],
   "source": [
    "# Visualiza os dados do dataset Montgomery\n",
    "df_mont.head()"
   ]
  },
  {
   "cell_type": "code",
   "execution_count": 24,
   "id": "39b09299",
   "metadata": {},
   "outputs": [
    {
     "data": {
      "text/plain": [
       "Tuberculose    336\n",
       "Normal         326\n",
       "Name: target, dtype: int64"
      ]
     },
     "execution_count": 24,
     "metadata": {},
     "output_type": "execute_result"
    }
   ],
   "source": [
    "# Shenzen Dataset\n",
    "df_shen['target'].value_counts()"
   ]
  },
  {
   "cell_type": "code",
   "execution_count": 25,
   "id": "a7a995aa",
   "metadata": {},
   "outputs": [
    {
     "data": {
      "text/plain": [
       "Normal         80\n",
       "Tuberculose    58\n",
       "Name: target, dtype: int64"
      ]
     },
     "execution_count": 25,
     "metadata": {},
     "output_type": "execute_result"
    }
   ],
   "source": [
    "# Montgomery Dataset\n",
    "df_mont['target'].value_counts()"
   ]
  },
  {
   "cell_type": "markdown",
   "id": "438b2074",
   "metadata": {},
   "source": [
    "## 5. Ajusta e organiza as imagens do Raio-X"
   ]
  },
  {
   "cell_type": "markdown",
   "id": "4e4fa022",
   "metadata": {},
   "source": [
    "### 5.1 Dataset Shenzen"
   ]
  },
  {
   "cell_type": "code",
   "execution_count": 26,
   "id": "8b8f4d8f",
   "metadata": {},
   "outputs": [],
   "source": [
    "# Função para leitura dos metadados das imagens\n",
    "def leitura_imagens(file_name):\n",
    "\n",
    "    # Leitura da imagem\n",
    "    image = cv2.imread(caminho_imagens + file_name)\n",
    "    \n",
    "    # Extração do número máximo e mínimo de pixels\n",
    "    max_pixel_val = image.max()\n",
    "    min_pixel_val = image.min()\n",
    "    \n",
    "    # image.shape[0] - largura da imagem \n",
    "    # image.shape[1] - altura da imagem \n",
    "    # image.shape[2] - número de canais\n",
    "    # Se o shape não tiver um valor para num_channels (altura, largura) então atribuímos 1 ao número de canais.\n",
    "    if len(image.shape) > 2: \n",
    "        output = [image.shape[0], image.shape[1], image.shape[2], max_pixel_val, min_pixel_val]\n",
    "    else:\n",
    "        output = [image.shape[0], image.shape[1], 1, max_pixel_val, min_pixel_val]\n",
    "    return output"
   ]
  },
  {
   "cell_type": "code",
   "execution_count": 27,
   "id": "2205d829",
   "metadata": {},
   "outputs": [],
   "source": [
    "# Define o caminho onde estão as imagens\n",
    "caminho_imagens = imagens_shen"
   ]
  },
  {
   "cell_type": "code",
   "execution_count": 28,
   "id": "0ad6ea6d",
   "metadata": {},
   "outputs": [],
   "source": [
    "# Retorna os metadados das imagens\n",
    "meta_shen = np.stack(df_shen['image_id'].apply(leitura_imagens))"
   ]
  },
  {
   "cell_type": "code",
   "execution_count": 29,
   "id": "575ab25b",
   "metadata": {},
   "outputs": [],
   "source": [
    "# Grava o resultado em um dataframe\n",
    "df = pd.DataFrame(meta_shen, columns = ['largura', 'altura', 'canais', 'maior_valor_pixel', 'menor_valor_pixel'])"
   ]
  },
  {
   "cell_type": "code",
   "execution_count": 30,
   "id": "e8ef551a",
   "metadata": {},
   "outputs": [],
   "source": [
    "# Concatena com o dataset atual\n",
    "df_shen = pd.concat([df_shen, df], axis = 1, sort = False)"
   ]
  },
  {
   "cell_type": "code",
   "execution_count": 31,
   "id": "c7217abd",
   "metadata": {},
   "outputs": [
    {
     "data": {
      "text/plain": [
       "(662, 7)"
      ]
     },
     "execution_count": 31,
     "metadata": {},
     "output_type": "execute_result"
    }
   ],
   "source": [
    "# Shape\n",
    "df_shen.shape"
   ]
  },
  {
   "cell_type": "code",
   "execution_count": 32,
   "id": "65446c30",
   "metadata": {},
   "outputs": [
    {
     "data": {
      "text/html": [
       "<div>\n",
       "<style scoped>\n",
       "    .dataframe tbody tr th:only-of-type {\n",
       "        vertical-align: middle;\n",
       "    }\n",
       "\n",
       "    .dataframe tbody tr th {\n",
       "        vertical-align: top;\n",
       "    }\n",
       "\n",
       "    .dataframe thead th {\n",
       "        text-align: right;\n",
       "    }\n",
       "</style>\n",
       "<table border=\"1\" class=\"dataframe\">\n",
       "  <thead>\n",
       "    <tr style=\"text-align: right;\">\n",
       "      <th></th>\n",
       "      <th>image_id</th>\n",
       "      <th>target</th>\n",
       "      <th>largura</th>\n",
       "      <th>altura</th>\n",
       "      <th>canais</th>\n",
       "      <th>maior_valor_pixel</th>\n",
       "      <th>menor_valor_pixel</th>\n",
       "    </tr>\n",
       "  </thead>\n",
       "  <tbody>\n",
       "    <tr>\n",
       "      <th>0</th>\n",
       "      <td>CHNCXR_0001_0.png</td>\n",
       "      <td>Normal</td>\n",
       "      <td>2919</td>\n",
       "      <td>3000</td>\n",
       "      <td>3</td>\n",
       "      <td>255</td>\n",
       "      <td>0</td>\n",
       "    </tr>\n",
       "    <tr>\n",
       "      <th>1</th>\n",
       "      <td>CHNCXR_0002_0.png</td>\n",
       "      <td>Normal</td>\n",
       "      <td>2951</td>\n",
       "      <td>3000</td>\n",
       "      <td>3</td>\n",
       "      <td>255</td>\n",
       "      <td>0</td>\n",
       "    </tr>\n",
       "    <tr>\n",
       "      <th>2</th>\n",
       "      <td>CHNCXR_0003_0.png</td>\n",
       "      <td>Normal</td>\n",
       "      <td>2945</td>\n",
       "      <td>2987</td>\n",
       "      <td>3</td>\n",
       "      <td>255</td>\n",
       "      <td>0</td>\n",
       "    </tr>\n",
       "    <tr>\n",
       "      <th>3</th>\n",
       "      <td>CHNCXR_0004_0.png</td>\n",
       "      <td>Normal</td>\n",
       "      <td>2933</td>\n",
       "      <td>3000</td>\n",
       "      <td>3</td>\n",
       "      <td>255</td>\n",
       "      <td>0</td>\n",
       "    </tr>\n",
       "    <tr>\n",
       "      <th>4</th>\n",
       "      <td>CHNCXR_0005_0.png</td>\n",
       "      <td>Normal</td>\n",
       "      <td>2933</td>\n",
       "      <td>3000</td>\n",
       "      <td>3</td>\n",
       "      <td>255</td>\n",
       "      <td>0</td>\n",
       "    </tr>\n",
       "  </tbody>\n",
       "</table>\n",
       "</div>"
      ],
      "text/plain": [
       "            image_id  target  largura  altura  canais  maior_valor_pixel  \\\n",
       "0  CHNCXR_0001_0.png  Normal     2919    3000       3                255   \n",
       "1  CHNCXR_0002_0.png  Normal     2951    3000       3                255   \n",
       "2  CHNCXR_0003_0.png  Normal     2945    2987       3                255   \n",
       "3  CHNCXR_0004_0.png  Normal     2933    3000       3                255   \n",
       "4  CHNCXR_0005_0.png  Normal     2933    3000       3                255   \n",
       "\n",
       "   menor_valor_pixel  \n",
       "0                  0  \n",
       "1                  0  \n",
       "2                  0  \n",
       "3                  0  \n",
       "4                  0  "
      ]
     },
     "execution_count": 32,
     "metadata": {},
     "output_type": "execute_result"
    }
   ],
   "source": [
    "# Visualiza\n",
    "df_shen.head()"
   ]
  },
  {
   "cell_type": "code",
   "execution_count": 33,
   "id": "e8be196d",
   "metadata": {},
   "outputs": [],
   "source": [
    "# Não precisamos mais desse dataframe. Removemos para liberar espaço na memória RAM.\n",
    "del df"
   ]
  },
  {
   "cell_type": "markdown",
   "id": "5954c743",
   "metadata": {},
   "source": [
    "### 5.2 Dataset Montgomery"
   ]
  },
  {
   "cell_type": "code",
   "execution_count": 34,
   "id": "8ec2b517",
   "metadata": {},
   "outputs": [],
   "source": [
    "# Define o caminho onde estão as imagens\n",
    "caminho_imagens = imagens_mont"
   ]
  },
  {
   "cell_type": "code",
   "execution_count": 35,
   "id": "6f1dfdac",
   "metadata": {},
   "outputs": [],
   "source": [
    "# Retorna os metadados das imagens\n",
    "meta_mont = np.stack(df_mont['image_id'].apply(leitura_imagens))"
   ]
  },
  {
   "cell_type": "code",
   "execution_count": 36,
   "id": "ed0b71c7",
   "metadata": {},
   "outputs": [],
   "source": [
    "# Grava o resultado em um dataframe\n",
    "df = pd.DataFrame(meta_mont, columns = ['largura', 'altura', 'canais', 'maior_valor_pixel', 'menor_valor_pixel'])"
   ]
  },
  {
   "cell_type": "code",
   "execution_count": 37,
   "id": "05ef1674",
   "metadata": {},
   "outputs": [],
   "source": [
    "# Concatena com o dataset atual\n",
    "df_mont = pd.concat([df_mont, df], axis = 1, sort = False)"
   ]
  },
  {
   "cell_type": "code",
   "execution_count": 38,
   "id": "a223aae8",
   "metadata": {},
   "outputs": [
    {
     "data": {
      "text/html": [
       "<div>\n",
       "<style scoped>\n",
       "    .dataframe tbody tr th:only-of-type {\n",
       "        vertical-align: middle;\n",
       "    }\n",
       "\n",
       "    .dataframe tbody tr th {\n",
       "        vertical-align: top;\n",
       "    }\n",
       "\n",
       "    .dataframe thead th {\n",
       "        text-align: right;\n",
       "    }\n",
       "</style>\n",
       "<table border=\"1\" class=\"dataframe\">\n",
       "  <thead>\n",
       "    <tr style=\"text-align: right;\">\n",
       "      <th></th>\n",
       "      <th>image_id</th>\n",
       "      <th>target</th>\n",
       "      <th>largura</th>\n",
       "      <th>altura</th>\n",
       "      <th>canais</th>\n",
       "      <th>maior_valor_pixel</th>\n",
       "      <th>menor_valor_pixel</th>\n",
       "    </tr>\n",
       "  </thead>\n",
       "  <tbody>\n",
       "    <tr>\n",
       "      <th>0</th>\n",
       "      <td>MCUCXR_0001_0.png</td>\n",
       "      <td>Normal</td>\n",
       "      <td>4020</td>\n",
       "      <td>4892</td>\n",
       "      <td>3</td>\n",
       "      <td>255</td>\n",
       "      <td>0</td>\n",
       "    </tr>\n",
       "    <tr>\n",
       "      <th>1</th>\n",
       "      <td>MCUCXR_0002_0.png</td>\n",
       "      <td>Normal</td>\n",
       "      <td>4020</td>\n",
       "      <td>4892</td>\n",
       "      <td>3</td>\n",
       "      <td>255</td>\n",
       "      <td>0</td>\n",
       "    </tr>\n",
       "    <tr>\n",
       "      <th>2</th>\n",
       "      <td>MCUCXR_0003_0.png</td>\n",
       "      <td>Normal</td>\n",
       "      <td>4892</td>\n",
       "      <td>4020</td>\n",
       "      <td>3</td>\n",
       "      <td>255</td>\n",
       "      <td>0</td>\n",
       "    </tr>\n",
       "    <tr>\n",
       "      <th>3</th>\n",
       "      <td>MCUCXR_0004_0.png</td>\n",
       "      <td>Normal</td>\n",
       "      <td>4892</td>\n",
       "      <td>4020</td>\n",
       "      <td>3</td>\n",
       "      <td>255</td>\n",
       "      <td>0</td>\n",
       "    </tr>\n",
       "    <tr>\n",
       "      <th>4</th>\n",
       "      <td>MCUCXR_0005_0.png</td>\n",
       "      <td>Normal</td>\n",
       "      <td>4892</td>\n",
       "      <td>4020</td>\n",
       "      <td>3</td>\n",
       "      <td>255</td>\n",
       "      <td>0</td>\n",
       "    </tr>\n",
       "  </tbody>\n",
       "</table>\n",
       "</div>"
      ],
      "text/plain": [
       "            image_id  target  largura  altura  canais  maior_valor_pixel  \\\n",
       "0  MCUCXR_0001_0.png  Normal     4020    4892       3                255   \n",
       "1  MCUCXR_0002_0.png  Normal     4020    4892       3                255   \n",
       "2  MCUCXR_0003_0.png  Normal     4892    4020       3                255   \n",
       "3  MCUCXR_0004_0.png  Normal     4892    4020       3                255   \n",
       "4  MCUCXR_0005_0.png  Normal     4892    4020       3                255   \n",
       "\n",
       "   menor_valor_pixel  \n",
       "0                  0  \n",
       "1                  0  \n",
       "2                  0  \n",
       "3                  0  \n",
       "4                  0  "
      ]
     },
     "execution_count": 38,
     "metadata": {},
     "output_type": "execute_result"
    }
   ],
   "source": [
    "# Visualiza\n",
    "df_mont.head()"
   ]
  },
  {
   "cell_type": "code",
   "execution_count": 39,
   "id": "304ba7d4",
   "metadata": {},
   "outputs": [],
   "source": [
    "# Não precisamos mais desse dataframe. Removemos para liberar espaço na memória RAM.\n",
    "del df"
   ]
  },
  {
   "cell_type": "markdown",
   "id": "27feeda8",
   "metadata": {},
   "source": [
    "## 6. Divisão dos dados em treino e validação"
   ]
  },
  {
   "cell_type": "code",
   "execution_count": 40,
   "id": "ffa7e610",
   "metadata": {},
   "outputs": [
    {
     "name": "stdout",
     "output_type": "stream",
     "text": [
      "Dataset Shenzen:  Tuberculose    336\n",
      "Normal         326\n",
      "Name: target, dtype: int64\n",
      "Dataset Montgomery:  Normal         80\n",
      "Tuberculose    58\n",
      "Name: target, dtype: int64\n"
     ]
    }
   ],
   "source": [
    "# Visualiza o total de registros\n",
    "print('Dataset Shenzen: ', df_shen['target'].value_counts())\n",
    "print('Dataset Montgomery: ', df_mont['target'].value_counts())"
   ]
  },
  {
   "cell_type": "code",
   "execution_count": 41,
   "id": "7a29aa06",
   "metadata": {},
   "outputs": [],
   "source": [
    "# União dos dois datasets\n",
    "df_data = pd.concat([df_shen, df_mont], axis = 0).reset_index(drop = True)"
   ]
  },
  {
   "cell_type": "code",
   "execution_count": 42,
   "id": "3c9fea73",
   "metadata": {},
   "outputs": [],
   "source": [
    "# Shuffle dos dados\n",
    "df_data = shuffle(df_data)"
   ]
  },
  {
   "cell_type": "code",
   "execution_count": 43,
   "id": "4e74c71f",
   "metadata": {},
   "outputs": [
    {
     "data": {
      "text/plain": [
       "(800, 7)"
      ]
     },
     "execution_count": 43,
     "metadata": {},
     "output_type": "execute_result"
    }
   ],
   "source": [
    "# Visualiza o shape dos dados\n",
    "df_data.shape"
   ]
  },
  {
   "cell_type": "code",
   "execution_count": 44,
   "id": "a2d89f0a",
   "metadata": {},
   "outputs": [
    {
     "data": {
      "text/html": [
       "<div>\n",
       "<style scoped>\n",
       "    .dataframe tbody tr th:only-of-type {\n",
       "        vertical-align: middle;\n",
       "    }\n",
       "\n",
       "    .dataframe tbody tr th {\n",
       "        vertical-align: top;\n",
       "    }\n",
       "\n",
       "    .dataframe thead th {\n",
       "        text-align: right;\n",
       "    }\n",
       "</style>\n",
       "<table border=\"1\" class=\"dataframe\">\n",
       "  <thead>\n",
       "    <tr style=\"text-align: right;\">\n",
       "      <th></th>\n",
       "      <th>image_id</th>\n",
       "      <th>target</th>\n",
       "      <th>largura</th>\n",
       "      <th>altura</th>\n",
       "      <th>canais</th>\n",
       "      <th>maior_valor_pixel</th>\n",
       "      <th>menor_valor_pixel</th>\n",
       "    </tr>\n",
       "  </thead>\n",
       "  <tbody>\n",
       "    <tr>\n",
       "      <th>759</th>\n",
       "      <td>MCUCXR_0195_1.png</td>\n",
       "      <td>Tuberculose</td>\n",
       "      <td>4892</td>\n",
       "      <td>4020</td>\n",
       "      <td>3</td>\n",
       "      <td>255</td>\n",
       "      <td>0</td>\n",
       "    </tr>\n",
       "    <tr>\n",
       "      <th>188</th>\n",
       "      <td>CHNCXR_0189_0.png</td>\n",
       "      <td>Normal</td>\n",
       "      <td>2758</td>\n",
       "      <td>2478</td>\n",
       "      <td>3</td>\n",
       "      <td>255</td>\n",
       "      <td>0</td>\n",
       "    </tr>\n",
       "    <tr>\n",
       "      <th>546</th>\n",
       "      <td>CHNCXR_0547_1.png</td>\n",
       "      <td>Tuberculose</td>\n",
       "      <td>2823</td>\n",
       "      <td>2610</td>\n",
       "      <td>3</td>\n",
       "      <td>255</td>\n",
       "      <td>0</td>\n",
       "    </tr>\n",
       "    <tr>\n",
       "      <th>126</th>\n",
       "      <td>CHNCXR_0127_0.png</td>\n",
       "      <td>Normal</td>\n",
       "      <td>2382</td>\n",
       "      <td>2478</td>\n",
       "      <td>3</td>\n",
       "      <td>255</td>\n",
       "      <td>0</td>\n",
       "    </tr>\n",
       "    <tr>\n",
       "      <th>684</th>\n",
       "      <td>MCUCXR_0030_0.png</td>\n",
       "      <td>Normal</td>\n",
       "      <td>4020</td>\n",
       "      <td>4892</td>\n",
       "      <td>3</td>\n",
       "      <td>255</td>\n",
       "      <td>0</td>\n",
       "    </tr>\n",
       "  </tbody>\n",
       "</table>\n",
       "</div>"
      ],
      "text/plain": [
       "              image_id       target  largura  altura  canais  \\\n",
       "759  MCUCXR_0195_1.png  Tuberculose     4892    4020       3   \n",
       "188  CHNCXR_0189_0.png       Normal     2758    2478       3   \n",
       "546  CHNCXR_0547_1.png  Tuberculose     2823    2610       3   \n",
       "126  CHNCXR_0127_0.png       Normal     2382    2478       3   \n",
       "684  MCUCXR_0030_0.png       Normal     4020    4892       3   \n",
       "\n",
       "     maior_valor_pixel  menor_valor_pixel  \n",
       "759                255                  0  \n",
       "188                255                  0  \n",
       "546                255                  0  \n",
       "126                255                  0  \n",
       "684                255                  0  "
      ]
     },
     "execution_count": 44,
     "metadata": {},
     "output_type": "execute_result"
    }
   ],
   "source": [
    "# Visualiza os dados\n",
    "df_data.head()"
   ]
  },
  {
   "cell_type": "code",
   "execution_count": 45,
   "id": "6b235333",
   "metadata": {},
   "outputs": [],
   "source": [
    "# Cria uma nova coluna chamada 'labels' que mapeia as classes para valores binários (0 ou 1)\n",
    "df_data['labels'] = df_data['target'].map({'Normal':0, 'Tuberculose':1})"
   ]
  },
  {
   "cell_type": "code",
   "execution_count": 46,
   "id": "7b712c95",
   "metadata": {},
   "outputs": [
    {
     "data": {
      "text/html": [
       "<div>\n",
       "<style scoped>\n",
       "    .dataframe tbody tr th:only-of-type {\n",
       "        vertical-align: middle;\n",
       "    }\n",
       "\n",
       "    .dataframe tbody tr th {\n",
       "        vertical-align: top;\n",
       "    }\n",
       "\n",
       "    .dataframe thead th {\n",
       "        text-align: right;\n",
       "    }\n",
       "</style>\n",
       "<table border=\"1\" class=\"dataframe\">\n",
       "  <thead>\n",
       "    <tr style=\"text-align: right;\">\n",
       "      <th></th>\n",
       "      <th>image_id</th>\n",
       "      <th>target</th>\n",
       "      <th>largura</th>\n",
       "      <th>altura</th>\n",
       "      <th>canais</th>\n",
       "      <th>maior_valor_pixel</th>\n",
       "      <th>menor_valor_pixel</th>\n",
       "      <th>labels</th>\n",
       "    </tr>\n",
       "  </thead>\n",
       "  <tbody>\n",
       "    <tr>\n",
       "      <th>759</th>\n",
       "      <td>MCUCXR_0195_1.png</td>\n",
       "      <td>Tuberculose</td>\n",
       "      <td>4892</td>\n",
       "      <td>4020</td>\n",
       "      <td>3</td>\n",
       "      <td>255</td>\n",
       "      <td>0</td>\n",
       "      <td>1</td>\n",
       "    </tr>\n",
       "    <tr>\n",
       "      <th>188</th>\n",
       "      <td>CHNCXR_0189_0.png</td>\n",
       "      <td>Normal</td>\n",
       "      <td>2758</td>\n",
       "      <td>2478</td>\n",
       "      <td>3</td>\n",
       "      <td>255</td>\n",
       "      <td>0</td>\n",
       "      <td>0</td>\n",
       "    </tr>\n",
       "    <tr>\n",
       "      <th>546</th>\n",
       "      <td>CHNCXR_0547_1.png</td>\n",
       "      <td>Tuberculose</td>\n",
       "      <td>2823</td>\n",
       "      <td>2610</td>\n",
       "      <td>3</td>\n",
       "      <td>255</td>\n",
       "      <td>0</td>\n",
       "      <td>1</td>\n",
       "    </tr>\n",
       "    <tr>\n",
       "      <th>126</th>\n",
       "      <td>CHNCXR_0127_0.png</td>\n",
       "      <td>Normal</td>\n",
       "      <td>2382</td>\n",
       "      <td>2478</td>\n",
       "      <td>3</td>\n",
       "      <td>255</td>\n",
       "      <td>0</td>\n",
       "      <td>0</td>\n",
       "    </tr>\n",
       "    <tr>\n",
       "      <th>684</th>\n",
       "      <td>MCUCXR_0030_0.png</td>\n",
       "      <td>Normal</td>\n",
       "      <td>4020</td>\n",
       "      <td>4892</td>\n",
       "      <td>3</td>\n",
       "      <td>255</td>\n",
       "      <td>0</td>\n",
       "      <td>0</td>\n",
       "    </tr>\n",
       "  </tbody>\n",
       "</table>\n",
       "</div>"
      ],
      "text/plain": [
       "              image_id       target  largura  altura  canais  \\\n",
       "759  MCUCXR_0195_1.png  Tuberculose     4892    4020       3   \n",
       "188  CHNCXR_0189_0.png       Normal     2758    2478       3   \n",
       "546  CHNCXR_0547_1.png  Tuberculose     2823    2610       3   \n",
       "126  CHNCXR_0127_0.png       Normal     2382    2478       3   \n",
       "684  MCUCXR_0030_0.png       Normal     4020    4892       3   \n",
       "\n",
       "     maior_valor_pixel  menor_valor_pixel  labels  \n",
       "759                255                  0       1  \n",
       "188                255                  0       0  \n",
       "546                255                  0       1  \n",
       "126                255                  0       0  \n",
       "684                255                  0       0  "
      ]
     },
     "execution_count": 46,
     "metadata": {},
     "output_type": "execute_result"
    }
   ],
   "source": [
    "# Visualiza os dados\n",
    "df_data.head()"
   ]
  },
  {
   "cell_type": "code",
   "execution_count": 47,
   "id": "81630f68",
   "metadata": {},
   "outputs": [],
   "source": [
    "# Define y (saída)\n",
    "y = df_data['labels']"
   ]
  },
  {
   "cell_type": "code",
   "execution_count": 49,
   "id": "66a5c588",
   "metadata": {},
   "outputs": [],
   "source": [
    "# Definimos dados de treino e validação\n",
    "df_treino, df_val = train_test_split(df_data, test_size = 0.15, random_state = 101, stratify = y)"
   ]
  },
  {
   "cell_type": "code",
   "execution_count": 50,
   "id": "71db077b",
   "metadata": {},
   "outputs": [
    {
     "name": "stdout",
     "output_type": "stream",
     "text": [
      "(680, 8)\n",
      "(120, 8)\n"
     ]
    }
   ],
   "source": [
    "# Visualiza o shape dos dados\n",
    "print(df_treino.shape)\n",
    "print(df_val.shape)"
   ]
  },
  {
   "cell_type": "code",
   "execution_count": 51,
   "id": "bcefb319",
   "metadata": {},
   "outputs": [
    {
     "name": "stdout",
     "output_type": "stream",
     "text": [
      "Dataset de treino : Normal         345\n",
      "Tuberculose    335\n",
      "Name: target, dtype: int64\n",
      "Dataset de validação : Normal         61\n",
      "Tuberculose    59\n",
      "Name: target, dtype: int64\n"
     ]
    }
   ],
   "source": [
    "# Total de registros dos dataset\n",
    "print('Dataset de treino :', df_treino['target'].value_counts())\n",
    "print('Dataset de validação :', df_val['target'].value_counts())"
   ]
  },
  {
   "cell_type": "markdown",
   "id": "06bb8ee8",
   "metadata": {},
   "source": [
    "## 7. Separa imagens por classe"
   ]
  },
  {
   "cell_type": "code",
   "execution_count": null,
   "id": "f3e2095f",
   "metadata": {},
   "outputs": [],
   "source": []
  },
  {
   "cell_type": "code",
   "execution_count": null,
   "id": "f11fd8a1",
   "metadata": {},
   "outputs": [],
   "source": []
  },
  {
   "cell_type": "code",
   "execution_count": null,
   "id": "b82b1ca7",
   "metadata": {},
   "outputs": [],
   "source": []
  },
  {
   "cell_type": "code",
   "execution_count": null,
   "id": "e4b71cf7",
   "metadata": {},
   "outputs": [],
   "source": []
  },
  {
   "cell_type": "code",
   "execution_count": null,
   "id": "b81cd440",
   "metadata": {},
   "outputs": [],
   "source": []
  },
  {
   "cell_type": "code",
   "execution_count": null,
   "id": "070b0bff",
   "metadata": {},
   "outputs": [],
   "source": []
  },
  {
   "cell_type": "code",
   "execution_count": null,
   "id": "414ed498",
   "metadata": {},
   "outputs": [],
   "source": []
  },
  {
   "cell_type": "code",
   "execution_count": null,
   "id": "67a699c0",
   "metadata": {},
   "outputs": [],
   "source": []
  },
  {
   "cell_type": "code",
   "execution_count": null,
   "id": "1f8807c4",
   "metadata": {},
   "outputs": [],
   "source": []
  },
  {
   "cell_type": "code",
   "execution_count": null,
   "id": "e6663b42",
   "metadata": {},
   "outputs": [],
   "source": []
  },
  {
   "cell_type": "code",
   "execution_count": null,
   "id": "6e5e7629",
   "metadata": {},
   "outputs": [],
   "source": []
  },
  {
   "cell_type": "code",
   "execution_count": null,
   "id": "f0084a48",
   "metadata": {},
   "outputs": [],
   "source": []
  },
  {
   "cell_type": "code",
   "execution_count": null,
   "id": "5f4ead2e",
   "metadata": {},
   "outputs": [],
   "source": []
  }
 ],
 "metadata": {
  "kernelspec": {
   "display_name": "Python 3 (ipykernel)",
   "language": "python",
   "name": "python3"
  },
  "language_info": {
   "codemirror_mode": {
    "name": "ipython",
    "version": 3
   },
   "file_extension": ".py",
   "mimetype": "text/x-python",
   "name": "python",
   "nbconvert_exporter": "python",
   "pygments_lexer": "ipython3",
   "version": "3.9.13"
  }
 },
 "nbformat": 4,
 "nbformat_minor": 5
}
