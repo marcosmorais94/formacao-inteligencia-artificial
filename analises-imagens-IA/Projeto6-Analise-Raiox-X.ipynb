{
 "cells": [
  {
   "cell_type": "markdown",
   "id": "08e58550",
   "metadata": {},
   "source": [
    "# Projeto 6 - Análise de Raio-X para Identificar Doenças Pulmonares"
   ]
  },
  {
   "cell_type": "markdown",
   "id": "78a60ec8",
   "metadata": {},
   "source": [
    "O objetivo deste projeto será treinar um modelo com imagens de pulmões saudáveis e com tuberculose para que o modelo seja capaz de fazer a detecção em novas imagens.\n",
    "\n",
    "A radiografia de tórax (ouradiografia torácica) é uma técnica de diagnóstico de imagem médica  econômica  e  fácil  de  usar.  A  técnica  é  a  ferramenta  de  diagnóstico  mais  utilizada  na prática médica e tem um papel importante no diagnóstico de doenças pulmonares. Radiologistas bem  treinados  usam  raios-X  do  tórax  para  detectar  doenças,  como  pneumonia,  tuberculose  e câncer de pulmão precoce. Em inglês é conhecido como Chest radiography (chest X-ray ou CXR).\n",
    "\n",
    "As  grandes  vantagens  dos  raios-X  do  tórax  incluem  seu  baixo  custo  e  fácil  operação. Mesmo  em  áreas  subdesenvolvidas,  as  modernas  máquinas  de  radiografia  digital  são  muito acessíveis. A radiografia de tórax contém uma grande quantidade de informações sobre a saúde de  um  paciente.  No  entanto,  interpretar  corretamente  as  informações  é  sempre  um  grande desafio  para  o  médico.  A  sobreposição  das  estruturas  dos  tecidos  na  radiografia  de  tórax aumenta muito a complexidade da interpretação. \n",
    "\n",
    "Fonte dos dados: https://lhncbc.nlm.nih.gov/LHC-downloads/downloads.html#tuberculosis-image-data-sets"
   ]
  },
  {
   "cell_type": "markdown",
   "id": "330672a3",
   "metadata": {},
   "source": [
    "## 1. Carga dos pacotes"
   ]
  },
  {
   "cell_type": "code",
   "execution_count": 1,
   "id": "9343aa6d",
   "metadata": {},
   "outputs": [
    {
     "name": "stdout",
     "output_type": "stream",
     "text": [
      "Versão da Linguagem Python Usada Neste Jupyter Notebook: 3.9.13\n"
     ]
    }
   ],
   "source": [
    "# Versão da Linguagem Python\n",
    "from platform import python_version\n",
    "print('Versão da Linguagem Python Usada Neste Jupyter Notebook:', python_version())"
   ]
  },
  {
   "cell_type": "code",
   "execution_count": 2,
   "id": "41c6a716",
   "metadata": {},
   "outputs": [],
   "source": [
    "# Pacote para uso da linha de comando\n",
    "!pip install -q -U prompt_toolkit"
   ]
  },
  {
   "cell_type": "code",
   "execution_count": 3,
   "id": "13bd7fb4",
   "metadata": {},
   "outputs": [],
   "source": [
    "# OpenCV\n",
    "!pip install -q opencv-python"
   ]
  },
  {
   "cell_type": "code",
   "execution_count": 4,
   "id": "44856902",
   "metadata": {},
   "outputs": [
    {
     "name": "stdout",
     "output_type": "stream",
     "text": [
      "env: TF_CPP_MIN_LOG_LEVEL=3\n"
     ]
    }
   ],
   "source": [
    "# Comando para silenciar o Tensor Flow\n",
    "%env TF_CPP_MIN_LOG_LEVEL=3"
   ]
  },
  {
   "cell_type": "code",
   "execution_count": 5,
   "id": "a6082eaa",
   "metadata": {},
   "outputs": [],
   "source": [
    "# Instala TensorFlow\n",
    "#!pip install tensorflow==2.11.0"
   ]
  },
  {
   "cell_type": "code",
   "execution_count": 6,
   "id": "cabeabce",
   "metadata": {},
   "outputs": [],
   "source": [
    "# Instala o Keras\n",
    "#!pip install keras==2.11.0"
   ]
  },
  {
   "cell_type": "code",
   "execution_count": 7,
   "id": "555fe516",
   "metadata": {},
   "outputs": [],
   "source": [
    "# Instala Scikit-Image\n",
    "#!pip install scikit-image==0.19.2"
   ]
  },
  {
   "cell_type": "code",
   "execution_count": 8,
   "id": "6e0d4076",
   "metadata": {},
   "outputs": [],
   "source": [
    "# Imports \n",
    "\n",
    "# Imports para manipulação e visualização de dados\n",
    "import numpy as np\n",
    "import pandas as pd\n",
    "import matplotlib\n",
    "import matplotlib.pyplot as plt\n",
    "\n",
    "# Imports para manipulação de imagens\n",
    "import os\n",
    "import cv2\n",
    "import itertools\n",
    "import shutil\n",
    "import imageio\n",
    "import skimage\n",
    "import skimage.io\n",
    "import skimage.transform\n",
    "from pathlib import Path\n",
    "\n",
    "# Imports para Deep Learning\n",
    "import tensorflow\n",
    "import keras\n",
    "from keras.models import Sequential\n",
    "from keras.layers import Dense, Dropout, Flatten\n",
    "from keras.layers import Conv2D, MaxPooling2D\n",
    "from keras.optimizers import Adam \n",
    "from keras.callbacks import EarlyStopping, ModelCheckpoint, Callback, ReduceLROnPlateau\n",
    "from tensorflow.keras.preprocessing.image import ImageDataGenerator\n",
    "from tensorflow.keras.metrics import categorical_crossentropy\n",
    "from tensorflow.keras.metrics import binary_accuracy\n",
    "\n",
    "# Imports para cálculo de métricas e outras tarefas\n",
    "import sklearn\n",
    "from sklearn.utils import shuffle\n",
    "from sklearn.metrics import confusion_matrix\n",
    "from sklearn.model_selection import train_test_split\n",
    "\n",
    "# Supress de warnings\n",
    "import warnings\n",
    "warnings.filterwarnings('ignore')\n",
    "\n",
    "%matplotlib inline"
   ]
  },
  {
   "cell_type": "code",
   "execution_count": 9,
   "id": "3ec75a0d",
   "metadata": {},
   "outputs": [
    {
     "name": "stdout",
     "output_type": "stream",
     "text": [
      "Author: Data Science Academy\n",
      "\n",
      "matplotlib: 3.5.2\n",
      "pandas    : 1.4.4\n",
      "cv2       : 4.7.0\n",
      "sklearn   : 1.0.2\n",
      "imageio   : 2.19.3\n",
      "tensorflow: 2.11.0\n",
      "keras     : 2.11.0\n",
      "skimage   : 0.19.2\n",
      "numpy     : 1.21.5\n",
      "\n"
     ]
    }
   ],
   "source": [
    "# Versões dos pacotes usados neste jupyter notebook\n",
    "%reload_ext watermark\n",
    "%watermark -a \"Data Science Academy\" --iversions"
   ]
  },
  {
   "cell_type": "markdown",
   "id": "c836b3f0",
   "metadata": {},
   "source": [
    "## 2. Define local de armazenamento das imagens"
   ]
  },
  {
   "cell_type": "code",
   "execution_count": 10,
   "id": "c66fc3e6",
   "metadata": {},
   "outputs": [
    {
     "data": {
      "text/plain": [
       "['ChinaSet_AllFiles', 'MontgomerySet']"
      ]
     },
     "execution_count": 10,
     "metadata": {},
     "output_type": "execute_result"
    }
   ],
   "source": [
    "# Lista o conteúdo do diretório\n",
    "os.listdir('dados')"
   ]
  },
  {
   "cell_type": "code",
   "execution_count": 11,
   "id": "9aeba6d2",
   "metadata": {},
   "outputs": [],
   "source": [
    "# Diretórios para os 2 grupos de imagens\n",
    "imagens_shen = 'dados/ChinaSet_AllFiles/CXR_png/'\n",
    "imagens_mont = 'dados/MontgomerySet/CXR_png/'"
   ]
  },
  {
   "cell_type": "code",
   "execution_count": 12,
   "id": "c49f6e0e",
   "metadata": {},
   "outputs": [
    {
     "name": "stdout",
     "output_type": "stream",
     "text": [
      "663\n",
      "139\n"
     ]
    }
   ],
   "source": [
    "# Visualiza o tamanho de cada pasta\n",
    "print(len(os.listdir(imagens_shen)))\n",
    "print(len(os.listdir(imagens_mont)))"
   ]
  },
  {
   "cell_type": "code",
   "execution_count": 13,
   "id": "d1b73eb8",
   "metadata": {},
   "outputs": [],
   "source": [
    "# Grava a lista de imagens em cada pasta\n",
    "shen_image_list = os.listdir(imagens_shen)\n",
    "mont_image_list = os.listdir(imagens_mont)"
   ]
  },
  {
   "cell_type": "markdown",
   "id": "3bb55d1b",
   "metadata": {},
   "source": [
    "## 3. Carga das imagens em Rio-X"
   ]
  },
  {
   "cell_type": "code",
   "execution_count": 14,
   "id": "8b65ec19",
   "metadata": {},
   "outputs": [],
   "source": [
    "# Prepara os dataframes com as listas das imagens\n",
    "df_shen = pd.DataFrame(shen_image_list, columns = ['image_id'])\n",
    "df_mont = pd.DataFrame(mont_image_list, columns = ['image_id'])"
   ]
  },
  {
   "cell_type": "code",
   "execution_count": 15,
   "id": "8e4df8a0",
   "metadata": {},
   "outputs": [],
   "source": [
    "# Remove da lista o nome 'Thumbs.db'\n",
    "# Este é um arquivo tipo 'cookie' do PC para agilizar o carregamento das imagens\n",
    "\n",
    "df_shen = df_shen[df_shen['image_id'] != 'Thumbs.db']\n",
    "df_mont = df_mont[df_mont['image_id'] != 'Thumbs.db']"
   ]
  },
  {
   "cell_type": "code",
   "execution_count": 16,
   "id": "1e70f9d2",
   "metadata": {},
   "outputs": [],
   "source": [
    "# Reset do índice para evitar erros nas próximas células do Jupyter Notebook\n",
    "df_shen.reset_index(inplace = True, drop = True)\n",
    "df_mont.reset_index(inplace = True, drop = True)"
   ]
  },
  {
   "cell_type": "code",
   "execution_count": 17,
   "id": "d9c3f503",
   "metadata": {},
   "outputs": [
    {
     "name": "stdout",
     "output_type": "stream",
     "text": [
      "O dataset Shen possui o shape:  (662, 1)\n",
      "O dataset Montgomery possui o shape:  (138, 1)\n"
     ]
    }
   ],
   "source": [
    "# Visualiza o shape dos datasets\n",
    "print('O dataset Shen possui o shape: ', df_shen.shape)\n",
    "print('O dataset Montgomery possui o shape: ', df_mont.shape)"
   ]
  },
  {
   "cell_type": "code",
   "execution_count": 18,
   "id": "bcbdc1b5",
   "metadata": {},
   "outputs": [
    {
     "data": {
      "text/html": [
       "<div>\n",
       "<style scoped>\n",
       "    .dataframe tbody tr th:only-of-type {\n",
       "        vertical-align: middle;\n",
       "    }\n",
       "\n",
       "    .dataframe tbody tr th {\n",
       "        vertical-align: top;\n",
       "    }\n",
       "\n",
       "    .dataframe thead th {\n",
       "        text-align: right;\n",
       "    }\n",
       "</style>\n",
       "<table border=\"1\" class=\"dataframe\">\n",
       "  <thead>\n",
       "    <tr style=\"text-align: right;\">\n",
       "      <th></th>\n",
       "      <th>image_id</th>\n",
       "    </tr>\n",
       "  </thead>\n",
       "  <tbody>\n",
       "    <tr>\n",
       "      <th>0</th>\n",
       "      <td>CHNCXR_0001_0.png</td>\n",
       "    </tr>\n",
       "    <tr>\n",
       "      <th>1</th>\n",
       "      <td>CHNCXR_0002_0.png</td>\n",
       "    </tr>\n",
       "    <tr>\n",
       "      <th>2</th>\n",
       "      <td>CHNCXR_0003_0.png</td>\n",
       "    </tr>\n",
       "    <tr>\n",
       "      <th>3</th>\n",
       "      <td>CHNCXR_0004_0.png</td>\n",
       "    </tr>\n",
       "    <tr>\n",
       "      <th>4</th>\n",
       "      <td>CHNCXR_0005_0.png</td>\n",
       "    </tr>\n",
       "  </tbody>\n",
       "</table>\n",
       "</div>"
      ],
      "text/plain": [
       "            image_id\n",
       "0  CHNCXR_0001_0.png\n",
       "1  CHNCXR_0002_0.png\n",
       "2  CHNCXR_0003_0.png\n",
       "3  CHNCXR_0004_0.png\n",
       "4  CHNCXR_0005_0.png"
      ]
     },
     "execution_count": 18,
     "metadata": {},
     "output_type": "execute_result"
    }
   ],
   "source": [
    "# Visualiza os dados do dataset Shen\n",
    "df_shen.head()"
   ]
  },
  {
   "cell_type": "code",
   "execution_count": 19,
   "id": "ce1bf3e4",
   "metadata": {},
   "outputs": [
    {
     "data": {
      "text/html": [
       "<div>\n",
       "<style scoped>\n",
       "    .dataframe tbody tr th:only-of-type {\n",
       "        vertical-align: middle;\n",
       "    }\n",
       "\n",
       "    .dataframe tbody tr th {\n",
       "        vertical-align: top;\n",
       "    }\n",
       "\n",
       "    .dataframe thead th {\n",
       "        text-align: right;\n",
       "    }\n",
       "</style>\n",
       "<table border=\"1\" class=\"dataframe\">\n",
       "  <thead>\n",
       "    <tr style=\"text-align: right;\">\n",
       "      <th></th>\n",
       "      <th>image_id</th>\n",
       "    </tr>\n",
       "  </thead>\n",
       "  <tbody>\n",
       "    <tr>\n",
       "      <th>0</th>\n",
       "      <td>MCUCXR_0001_0.png</td>\n",
       "    </tr>\n",
       "    <tr>\n",
       "      <th>1</th>\n",
       "      <td>MCUCXR_0002_0.png</td>\n",
       "    </tr>\n",
       "    <tr>\n",
       "      <th>2</th>\n",
       "      <td>MCUCXR_0003_0.png</td>\n",
       "    </tr>\n",
       "    <tr>\n",
       "      <th>3</th>\n",
       "      <td>MCUCXR_0004_0.png</td>\n",
       "    </tr>\n",
       "    <tr>\n",
       "      <th>4</th>\n",
       "      <td>MCUCXR_0005_0.png</td>\n",
       "    </tr>\n",
       "  </tbody>\n",
       "</table>\n",
       "</div>"
      ],
      "text/plain": [
       "            image_id\n",
       "0  MCUCXR_0001_0.png\n",
       "1  MCUCXR_0002_0.png\n",
       "2  MCUCXR_0003_0.png\n",
       "3  MCUCXR_0004_0.png\n",
       "4  MCUCXR_0005_0.png"
      ]
     },
     "execution_count": 19,
     "metadata": {},
     "output_type": "execute_result"
    }
   ],
   "source": [
    "# Visualiza os dados do dataset Montgomery\n",
    "df_mont.head()"
   ]
  },
  {
   "cell_type": "markdown",
   "id": "6dd7b55f",
   "metadata": {},
   "source": [
    "## 4. Extrai a variável Target"
   ]
  },
  {
   "cell_type": "code",
   "execution_count": 20,
   "id": "459954f5",
   "metadata": {},
   "outputs": [],
   "source": [
    "# Função para selecionar o 4º índice no final da string (nome do arquivo)\n",
    "# Exemplo: CHNCXR_0470_1.png --> 1 é o label, significa que Tuberculose está presente na imagem.\n",
    "\n",
    "def extrair_target(x):\n",
    "    \n",
    "    target = int(x[-5])\n",
    "    \n",
    "    if target == 0:\n",
    "        return 'Normal'\n",
    "    if target == 1:\n",
    "        return 'Tuberculose'"
   ]
  },
  {
   "cell_type": "code",
   "execution_count": 21,
   "id": "03dc98e1",
   "metadata": {},
   "outputs": [],
   "source": [
    "# Adiciona o label aos dataframes\n",
    "df_shen['target'] = df_shen['image_id'].apply(extrair_target)\n",
    "df_mont['target'] = df_mont['image_id'].apply(extrair_target)"
   ]
  },
  {
   "cell_type": "code",
   "execution_count": 22,
   "id": "0e3e3458",
   "metadata": {},
   "outputs": [
    {
     "data": {
      "text/html": [
       "<div>\n",
       "<style scoped>\n",
       "    .dataframe tbody tr th:only-of-type {\n",
       "        vertical-align: middle;\n",
       "    }\n",
       "\n",
       "    .dataframe tbody tr th {\n",
       "        vertical-align: top;\n",
       "    }\n",
       "\n",
       "    .dataframe thead th {\n",
       "        text-align: right;\n",
       "    }\n",
       "</style>\n",
       "<table border=\"1\" class=\"dataframe\">\n",
       "  <thead>\n",
       "    <tr style=\"text-align: right;\">\n",
       "      <th></th>\n",
       "      <th>image_id</th>\n",
       "      <th>target</th>\n",
       "    </tr>\n",
       "  </thead>\n",
       "  <tbody>\n",
       "    <tr>\n",
       "      <th>0</th>\n",
       "      <td>CHNCXR_0001_0.png</td>\n",
       "      <td>Normal</td>\n",
       "    </tr>\n",
       "    <tr>\n",
       "      <th>1</th>\n",
       "      <td>CHNCXR_0002_0.png</td>\n",
       "      <td>Normal</td>\n",
       "    </tr>\n",
       "    <tr>\n",
       "      <th>2</th>\n",
       "      <td>CHNCXR_0003_0.png</td>\n",
       "      <td>Normal</td>\n",
       "    </tr>\n",
       "    <tr>\n",
       "      <th>3</th>\n",
       "      <td>CHNCXR_0004_0.png</td>\n",
       "      <td>Normal</td>\n",
       "    </tr>\n",
       "    <tr>\n",
       "      <th>4</th>\n",
       "      <td>CHNCXR_0005_0.png</td>\n",
       "      <td>Normal</td>\n",
       "    </tr>\n",
       "  </tbody>\n",
       "</table>\n",
       "</div>"
      ],
      "text/plain": [
       "            image_id  target\n",
       "0  CHNCXR_0001_0.png  Normal\n",
       "1  CHNCXR_0002_0.png  Normal\n",
       "2  CHNCXR_0003_0.png  Normal\n",
       "3  CHNCXR_0004_0.png  Normal\n",
       "4  CHNCXR_0005_0.png  Normal"
      ]
     },
     "execution_count": 22,
     "metadata": {},
     "output_type": "execute_result"
    }
   ],
   "source": [
    "# Visualiza os dados do dataset Shen\n",
    "df_shen.head()"
   ]
  },
  {
   "cell_type": "code",
   "execution_count": 23,
   "id": "1eec525b",
   "metadata": {},
   "outputs": [
    {
     "data": {
      "text/html": [
       "<div>\n",
       "<style scoped>\n",
       "    .dataframe tbody tr th:only-of-type {\n",
       "        vertical-align: middle;\n",
       "    }\n",
       "\n",
       "    .dataframe tbody tr th {\n",
       "        vertical-align: top;\n",
       "    }\n",
       "\n",
       "    .dataframe thead th {\n",
       "        text-align: right;\n",
       "    }\n",
       "</style>\n",
       "<table border=\"1\" class=\"dataframe\">\n",
       "  <thead>\n",
       "    <tr style=\"text-align: right;\">\n",
       "      <th></th>\n",
       "      <th>image_id</th>\n",
       "      <th>target</th>\n",
       "    </tr>\n",
       "  </thead>\n",
       "  <tbody>\n",
       "    <tr>\n",
       "      <th>0</th>\n",
       "      <td>MCUCXR_0001_0.png</td>\n",
       "      <td>Normal</td>\n",
       "    </tr>\n",
       "    <tr>\n",
       "      <th>1</th>\n",
       "      <td>MCUCXR_0002_0.png</td>\n",
       "      <td>Normal</td>\n",
       "    </tr>\n",
       "    <tr>\n",
       "      <th>2</th>\n",
       "      <td>MCUCXR_0003_0.png</td>\n",
       "      <td>Normal</td>\n",
       "    </tr>\n",
       "    <tr>\n",
       "      <th>3</th>\n",
       "      <td>MCUCXR_0004_0.png</td>\n",
       "      <td>Normal</td>\n",
       "    </tr>\n",
       "    <tr>\n",
       "      <th>4</th>\n",
       "      <td>MCUCXR_0005_0.png</td>\n",
       "      <td>Normal</td>\n",
       "    </tr>\n",
       "  </tbody>\n",
       "</table>\n",
       "</div>"
      ],
      "text/plain": [
       "            image_id  target\n",
       "0  MCUCXR_0001_0.png  Normal\n",
       "1  MCUCXR_0002_0.png  Normal\n",
       "2  MCUCXR_0003_0.png  Normal\n",
       "3  MCUCXR_0004_0.png  Normal\n",
       "4  MCUCXR_0005_0.png  Normal"
      ]
     },
     "execution_count": 23,
     "metadata": {},
     "output_type": "execute_result"
    }
   ],
   "source": [
    "# Visualiza os dados do dataset Montgomery\n",
    "df_mont.head()"
   ]
  },
  {
   "cell_type": "code",
   "execution_count": 24,
   "id": "74d92467",
   "metadata": {},
   "outputs": [
    {
     "data": {
      "text/plain": [
       "Tuberculose    336\n",
       "Normal         326\n",
       "Name: target, dtype: int64"
      ]
     },
     "execution_count": 24,
     "metadata": {},
     "output_type": "execute_result"
    }
   ],
   "source": [
    "# Shenzen Dataset\n",
    "df_shen['target'].value_counts()"
   ]
  },
  {
   "cell_type": "code",
   "execution_count": 25,
   "id": "a572d274",
   "metadata": {},
   "outputs": [
    {
     "data": {
      "text/plain": [
       "Normal         80\n",
       "Tuberculose    58\n",
       "Name: target, dtype: int64"
      ]
     },
     "execution_count": 25,
     "metadata": {},
     "output_type": "execute_result"
    }
   ],
   "source": [
    "# Montgomery Dataset\n",
    "df_mont['target'].value_counts()"
   ]
  },
  {
   "cell_type": "markdown",
   "id": "4fe5ff3f",
   "metadata": {},
   "source": [
    "## 5. Ajusta e organiza as imagens do Raio-X"
   ]
  },
  {
   "cell_type": "markdown",
   "id": "65b62553",
   "metadata": {},
   "source": [
    "### 5.1 Dataset Shenzen"
   ]
  },
  {
   "cell_type": "code",
   "execution_count": 26,
   "id": "7362490a",
   "metadata": {},
   "outputs": [],
   "source": [
    "# Função para leitura dos metadados das imagens\n",
    "def leitura_imagens(file_name):\n",
    "\n",
    "    # Leitura da imagem\n",
    "    image = cv2.imread(caminho_imagens + file_name)\n",
    "    \n",
    "    # Extração do número máximo e mínimo de pixels\n",
    "    max_pixel_val = image.max()\n",
    "    min_pixel_val = image.min()\n",
    "    \n",
    "    # image.shape[0] - largura da imagem \n",
    "    # image.shape[1] - altura da imagem \n",
    "    # image.shape[2] - número de canais\n",
    "    # Se o shape não tiver um valor para num_channels (altura, largura) então atribuímos 1 ao número de canais.\n",
    "    if len(image.shape) > 2: \n",
    "        output = [image.shape[0], image.shape[1], image.shape[2], max_pixel_val, min_pixel_val]\n",
    "    else:\n",
    "        output = [image.shape[0], image.shape[1], 1, max_pixel_val, min_pixel_val]\n",
    "    return output"
   ]
  },
  {
   "cell_type": "code",
   "execution_count": 27,
   "id": "98b499f5",
   "metadata": {},
   "outputs": [],
   "source": [
    "# Define o caminho onde estão as imagens\n",
    "caminho_imagens = imagens_shen"
   ]
  },
  {
   "cell_type": "code",
   "execution_count": 28,
   "id": "0d01654c",
   "metadata": {},
   "outputs": [],
   "source": [
    "# Retorna os metadados das imagens\n",
    "meta_shen = np.stack(df_shen['image_id'].apply(leitura_imagens))"
   ]
  },
  {
   "cell_type": "code",
   "execution_count": 29,
   "id": "f1509846",
   "metadata": {},
   "outputs": [],
   "source": [
    "# Grava o resultado em um dataframe\n",
    "df = pd.DataFrame(meta_shen, columns = ['largura', 'altura', 'canais', 'maior_valor_pixel', 'menor_valor_pixel'])"
   ]
  },
  {
   "cell_type": "code",
   "execution_count": 30,
   "id": "f05dd351",
   "metadata": {},
   "outputs": [],
   "source": [
    "# Concatena com o dataset atual\n",
    "df_shen = pd.concat([df_shen, df], axis = 1, sort = False)"
   ]
  },
  {
   "cell_type": "code",
   "execution_count": 31,
   "id": "d77d7101",
   "metadata": {},
   "outputs": [
    {
     "data": {
      "text/plain": [
       "(662, 7)"
      ]
     },
     "execution_count": 31,
     "metadata": {},
     "output_type": "execute_result"
    }
   ],
   "source": [
    "# Shape\n",
    "df_shen.shape"
   ]
  },
  {
   "cell_type": "code",
   "execution_count": 32,
   "id": "f8cec200",
   "metadata": {},
   "outputs": [
    {
     "data": {
      "text/html": [
       "<div>\n",
       "<style scoped>\n",
       "    .dataframe tbody tr th:only-of-type {\n",
       "        vertical-align: middle;\n",
       "    }\n",
       "\n",
       "    .dataframe tbody tr th {\n",
       "        vertical-align: top;\n",
       "    }\n",
       "\n",
       "    .dataframe thead th {\n",
       "        text-align: right;\n",
       "    }\n",
       "</style>\n",
       "<table border=\"1\" class=\"dataframe\">\n",
       "  <thead>\n",
       "    <tr style=\"text-align: right;\">\n",
       "      <th></th>\n",
       "      <th>image_id</th>\n",
       "      <th>target</th>\n",
       "      <th>largura</th>\n",
       "      <th>altura</th>\n",
       "      <th>canais</th>\n",
       "      <th>maior_valor_pixel</th>\n",
       "      <th>menor_valor_pixel</th>\n",
       "    </tr>\n",
       "  </thead>\n",
       "  <tbody>\n",
       "    <tr>\n",
       "      <th>0</th>\n",
       "      <td>CHNCXR_0001_0.png</td>\n",
       "      <td>Normal</td>\n",
       "      <td>2919</td>\n",
       "      <td>3000</td>\n",
       "      <td>3</td>\n",
       "      <td>255</td>\n",
       "      <td>0</td>\n",
       "    </tr>\n",
       "    <tr>\n",
       "      <th>1</th>\n",
       "      <td>CHNCXR_0002_0.png</td>\n",
       "      <td>Normal</td>\n",
       "      <td>2951</td>\n",
       "      <td>3000</td>\n",
       "      <td>3</td>\n",
       "      <td>255</td>\n",
       "      <td>0</td>\n",
       "    </tr>\n",
       "    <tr>\n",
       "      <th>2</th>\n",
       "      <td>CHNCXR_0003_0.png</td>\n",
       "      <td>Normal</td>\n",
       "      <td>2945</td>\n",
       "      <td>2987</td>\n",
       "      <td>3</td>\n",
       "      <td>255</td>\n",
       "      <td>0</td>\n",
       "    </tr>\n",
       "    <tr>\n",
       "      <th>3</th>\n",
       "      <td>CHNCXR_0004_0.png</td>\n",
       "      <td>Normal</td>\n",
       "      <td>2933</td>\n",
       "      <td>3000</td>\n",
       "      <td>3</td>\n",
       "      <td>255</td>\n",
       "      <td>0</td>\n",
       "    </tr>\n",
       "    <tr>\n",
       "      <th>4</th>\n",
       "      <td>CHNCXR_0005_0.png</td>\n",
       "      <td>Normal</td>\n",
       "      <td>2933</td>\n",
       "      <td>3000</td>\n",
       "      <td>3</td>\n",
       "      <td>255</td>\n",
       "      <td>0</td>\n",
       "    </tr>\n",
       "  </tbody>\n",
       "</table>\n",
       "</div>"
      ],
      "text/plain": [
       "            image_id  target  largura  altura  canais  maior_valor_pixel  \\\n",
       "0  CHNCXR_0001_0.png  Normal     2919    3000       3                255   \n",
       "1  CHNCXR_0002_0.png  Normal     2951    3000       3                255   \n",
       "2  CHNCXR_0003_0.png  Normal     2945    2987       3                255   \n",
       "3  CHNCXR_0004_0.png  Normal     2933    3000       3                255   \n",
       "4  CHNCXR_0005_0.png  Normal     2933    3000       3                255   \n",
       "\n",
       "   menor_valor_pixel  \n",
       "0                  0  \n",
       "1                  0  \n",
       "2                  0  \n",
       "3                  0  \n",
       "4                  0  "
      ]
     },
     "execution_count": 32,
     "metadata": {},
     "output_type": "execute_result"
    }
   ],
   "source": [
    "# Visualiza\n",
    "df_shen.head()"
   ]
  },
  {
   "cell_type": "code",
   "execution_count": 33,
   "id": "8730e42f",
   "metadata": {},
   "outputs": [],
   "source": [
    "# Não precisamos mais desse dataframe. Removemos para liberar espaço na memória RAM.\n",
    "del df"
   ]
  },
  {
   "cell_type": "markdown",
   "id": "7bb476b5",
   "metadata": {},
   "source": [
    "### 5.2 Dataset Montgomery"
   ]
  },
  {
   "cell_type": "code",
   "execution_count": 34,
   "id": "1004e270",
   "metadata": {},
   "outputs": [],
   "source": [
    "# Define o caminho onde estão as imagens\n",
    "caminho_imagens = imagens_mont"
   ]
  },
  {
   "cell_type": "code",
   "execution_count": 35,
   "id": "6f1dfdac",
   "metadata": {},
   "outputs": [],
   "source": [
    "# Retorna os metadados das imagens\n",
    "meta_mont = np.stack(df_mont['image_id'].apply(leitura_imagens))"
   ]
  },
  {
   "cell_type": "code",
   "execution_count": 36,
   "id": "ed0b71c7",
   "metadata": {},
   "outputs": [],
   "source": [
    "# Grava o resultado em um dataframe\n",
    "df = pd.DataFrame(meta_mont, columns = ['largura', 'altura', 'canais', 'maior_valor_pixel', 'menor_valor_pixel'])"
   ]
  },
  {
   "cell_type": "code",
   "execution_count": 37,
   "id": "05ef1674",
   "metadata": {},
   "outputs": [],
   "source": [
    "# Concatena com o dataset atual\n",
    "df_mont = pd.concat([df_mont, df], axis = 1, sort = False)"
   ]
  },
  {
   "cell_type": "code",
   "execution_count": 38,
   "id": "a223aae8",
   "metadata": {},
   "outputs": [
    {
     "data": {
      "text/html": [
       "<div>\n",
       "<style scoped>\n",
       "    .dataframe tbody tr th:only-of-type {\n",
       "        vertical-align: middle;\n",
       "    }\n",
       "\n",
       "    .dataframe tbody tr th {\n",
       "        vertical-align: top;\n",
       "    }\n",
       "\n",
       "    .dataframe thead th {\n",
       "        text-align: right;\n",
       "    }\n",
       "</style>\n",
       "<table border=\"1\" class=\"dataframe\">\n",
       "  <thead>\n",
       "    <tr style=\"text-align: right;\">\n",
       "      <th></th>\n",
       "      <th>image_id</th>\n",
       "      <th>target</th>\n",
       "      <th>largura</th>\n",
       "      <th>altura</th>\n",
       "      <th>canais</th>\n",
       "      <th>maior_valor_pixel</th>\n",
       "      <th>menor_valor_pixel</th>\n",
       "    </tr>\n",
       "  </thead>\n",
       "  <tbody>\n",
       "    <tr>\n",
       "      <th>0</th>\n",
       "      <td>MCUCXR_0001_0.png</td>\n",
       "      <td>Normal</td>\n",
       "      <td>4020</td>\n",
       "      <td>4892</td>\n",
       "      <td>3</td>\n",
       "      <td>255</td>\n",
       "      <td>0</td>\n",
       "    </tr>\n",
       "    <tr>\n",
       "      <th>1</th>\n",
       "      <td>MCUCXR_0002_0.png</td>\n",
       "      <td>Normal</td>\n",
       "      <td>4020</td>\n",
       "      <td>4892</td>\n",
       "      <td>3</td>\n",
       "      <td>255</td>\n",
       "      <td>0</td>\n",
       "    </tr>\n",
       "    <tr>\n",
       "      <th>2</th>\n",
       "      <td>MCUCXR_0003_0.png</td>\n",
       "      <td>Normal</td>\n",
       "      <td>4892</td>\n",
       "      <td>4020</td>\n",
       "      <td>3</td>\n",
       "      <td>255</td>\n",
       "      <td>0</td>\n",
       "    </tr>\n",
       "    <tr>\n",
       "      <th>3</th>\n",
       "      <td>MCUCXR_0004_0.png</td>\n",
       "      <td>Normal</td>\n",
       "      <td>4892</td>\n",
       "      <td>4020</td>\n",
       "      <td>3</td>\n",
       "      <td>255</td>\n",
       "      <td>0</td>\n",
       "    </tr>\n",
       "    <tr>\n",
       "      <th>4</th>\n",
       "      <td>MCUCXR_0005_0.png</td>\n",
       "      <td>Normal</td>\n",
       "      <td>4892</td>\n",
       "      <td>4020</td>\n",
       "      <td>3</td>\n",
       "      <td>255</td>\n",
       "      <td>0</td>\n",
       "    </tr>\n",
       "  </tbody>\n",
       "</table>\n",
       "</div>"
      ],
      "text/plain": [
       "            image_id  target  largura  altura  canais  maior_valor_pixel  \\\n",
       "0  MCUCXR_0001_0.png  Normal     4020    4892       3                255   \n",
       "1  MCUCXR_0002_0.png  Normal     4020    4892       3                255   \n",
       "2  MCUCXR_0003_0.png  Normal     4892    4020       3                255   \n",
       "3  MCUCXR_0004_0.png  Normal     4892    4020       3                255   \n",
       "4  MCUCXR_0005_0.png  Normal     4892    4020       3                255   \n",
       "\n",
       "   menor_valor_pixel  \n",
       "0                  0  \n",
       "1                  0  \n",
       "2                  0  \n",
       "3                  0  \n",
       "4                  0  "
      ]
     },
     "execution_count": 38,
     "metadata": {},
     "output_type": "execute_result"
    }
   ],
   "source": [
    "# Visualiza\n",
    "df_mont.head()"
   ]
  },
  {
   "cell_type": "code",
   "execution_count": 39,
   "id": "304ba7d4",
   "metadata": {},
   "outputs": [],
   "source": [
    "# Não precisamos mais desse dataframe. Removemos para liberar espaço na memória RAM.\n",
    "del df"
   ]
  },
  {
   "cell_type": "markdown",
   "id": "7c060885",
   "metadata": {},
   "source": [
    "## 6. Divisão dos dados em treino e validação"
   ]
  },
  {
   "cell_type": "code",
   "execution_count": 40,
   "id": "ffa7e610",
   "metadata": {},
   "outputs": [
    {
     "name": "stdout",
     "output_type": "stream",
     "text": [
      "Dataset Shenzen:  Tuberculose    336\n",
      "Normal         326\n",
      "Name: target, dtype: int64\n",
      "Dataset Montgomery:  Normal         80\n",
      "Tuberculose    58\n",
      "Name: target, dtype: int64\n"
     ]
    }
   ],
   "source": [
    "# Visualiza o total de registros\n",
    "print('Dataset Shenzen: ', df_shen['target'].value_counts())\n",
    "print('Dataset Montgomery: ', df_mont['target'].value_counts())"
   ]
  },
  {
   "cell_type": "code",
   "execution_count": 41,
   "id": "443f30f5",
   "metadata": {},
   "outputs": [],
   "source": [
    "# União dos dois datasets\n",
    "df_data = pd.concat([df_shen, df_mont], axis = 0).reset_index(drop = True)"
   ]
  },
  {
   "cell_type": "code",
   "execution_count": 42,
   "id": "d4cb729e",
   "metadata": {},
   "outputs": [],
   "source": [
    "# Shuffle dos dados\n",
    "df_data = shuffle(df_data)"
   ]
  },
  {
   "cell_type": "code",
   "execution_count": 43,
   "id": "f40bcdad",
   "metadata": {},
   "outputs": [
    {
     "data": {
      "text/plain": [
       "(800, 7)"
      ]
     },
     "execution_count": 43,
     "metadata": {},
     "output_type": "execute_result"
    }
   ],
   "source": [
    "# Visualiza o shape dos dados\n",
    "df_data.shape"
   ]
  },
  {
   "cell_type": "code",
   "execution_count": 44,
   "id": "cad13454",
   "metadata": {},
   "outputs": [
    {
     "data": {
      "text/html": [
       "<div>\n",
       "<style scoped>\n",
       "    .dataframe tbody tr th:only-of-type {\n",
       "        vertical-align: middle;\n",
       "    }\n",
       "\n",
       "    .dataframe tbody tr th {\n",
       "        vertical-align: top;\n",
       "    }\n",
       "\n",
       "    .dataframe thead th {\n",
       "        text-align: right;\n",
       "    }\n",
       "</style>\n",
       "<table border=\"1\" class=\"dataframe\">\n",
       "  <thead>\n",
       "    <tr style=\"text-align: right;\">\n",
       "      <th></th>\n",
       "      <th>image_id</th>\n",
       "      <th>target</th>\n",
       "      <th>largura</th>\n",
       "      <th>altura</th>\n",
       "      <th>canais</th>\n",
       "      <th>maior_valor_pixel</th>\n",
       "      <th>menor_valor_pixel</th>\n",
       "    </tr>\n",
       "  </thead>\n",
       "  <tbody>\n",
       "    <tr>\n",
       "      <th>391</th>\n",
       "      <td>CHNCXR_0392_1.png</td>\n",
       "      <td>Tuberculose</td>\n",
       "      <td>2722</td>\n",
       "      <td>2572</td>\n",
       "      <td>3</td>\n",
       "      <td>255</td>\n",
       "      <td>0</td>\n",
       "    </tr>\n",
       "    <tr>\n",
       "      <th>105</th>\n",
       "      <td>CHNCXR_0106_0.png</td>\n",
       "      <td>Normal</td>\n",
       "      <td>2943</td>\n",
       "      <td>3000</td>\n",
       "      <td>3</td>\n",
       "      <td>255</td>\n",
       "      <td>0</td>\n",
       "    </tr>\n",
       "    <tr>\n",
       "      <th>470</th>\n",
       "      <td>CHNCXR_0471_1.png</td>\n",
       "      <td>Tuberculose</td>\n",
       "      <td>2622</td>\n",
       "      <td>2276</td>\n",
       "      <td>3</td>\n",
       "      <td>255</td>\n",
       "      <td>0</td>\n",
       "    </tr>\n",
       "    <tr>\n",
       "      <th>203</th>\n",
       "      <td>CHNCXR_0204_0.png</td>\n",
       "      <td>Normal</td>\n",
       "      <td>2990</td>\n",
       "      <td>2987</td>\n",
       "      <td>3</td>\n",
       "      <td>255</td>\n",
       "      <td>0</td>\n",
       "    </tr>\n",
       "    <tr>\n",
       "      <th>443</th>\n",
       "      <td>CHNCXR_0444_1.png</td>\n",
       "      <td>Tuberculose</td>\n",
       "      <td>2987</td>\n",
       "      <td>2980</td>\n",
       "      <td>3</td>\n",
       "      <td>255</td>\n",
       "      <td>0</td>\n",
       "    </tr>\n",
       "  </tbody>\n",
       "</table>\n",
       "</div>"
      ],
      "text/plain": [
       "              image_id       target  largura  altura  canais  \\\n",
       "391  CHNCXR_0392_1.png  Tuberculose     2722    2572       3   \n",
       "105  CHNCXR_0106_0.png       Normal     2943    3000       3   \n",
       "470  CHNCXR_0471_1.png  Tuberculose     2622    2276       3   \n",
       "203  CHNCXR_0204_0.png       Normal     2990    2987       3   \n",
       "443  CHNCXR_0444_1.png  Tuberculose     2987    2980       3   \n",
       "\n",
       "     maior_valor_pixel  menor_valor_pixel  \n",
       "391                255                  0  \n",
       "105                255                  0  \n",
       "470                255                  0  \n",
       "203                255                  0  \n",
       "443                255                  0  "
      ]
     },
     "execution_count": 44,
     "metadata": {},
     "output_type": "execute_result"
    }
   ],
   "source": [
    "# Visualiza os dados\n",
    "df_data.head()"
   ]
  },
  {
   "cell_type": "code",
   "execution_count": 45,
   "id": "3e231e47",
   "metadata": {},
   "outputs": [],
   "source": [
    "# Cria uma nova coluna chamada 'labels' que mapeia as classes para valores binários (0 ou 1)\n",
    "df_data['labels'] = df_data['target'].map({'Normal':0, 'Tuberculose':1})"
   ]
  },
  {
   "cell_type": "code",
   "execution_count": 46,
   "id": "a63c69de",
   "metadata": {},
   "outputs": [
    {
     "data": {
      "text/html": [
       "<div>\n",
       "<style scoped>\n",
       "    .dataframe tbody tr th:only-of-type {\n",
       "        vertical-align: middle;\n",
       "    }\n",
       "\n",
       "    .dataframe tbody tr th {\n",
       "        vertical-align: top;\n",
       "    }\n",
       "\n",
       "    .dataframe thead th {\n",
       "        text-align: right;\n",
       "    }\n",
       "</style>\n",
       "<table border=\"1\" class=\"dataframe\">\n",
       "  <thead>\n",
       "    <tr style=\"text-align: right;\">\n",
       "      <th></th>\n",
       "      <th>image_id</th>\n",
       "      <th>target</th>\n",
       "      <th>largura</th>\n",
       "      <th>altura</th>\n",
       "      <th>canais</th>\n",
       "      <th>maior_valor_pixel</th>\n",
       "      <th>menor_valor_pixel</th>\n",
       "      <th>labels</th>\n",
       "    </tr>\n",
       "  </thead>\n",
       "  <tbody>\n",
       "    <tr>\n",
       "      <th>391</th>\n",
       "      <td>CHNCXR_0392_1.png</td>\n",
       "      <td>Tuberculose</td>\n",
       "      <td>2722</td>\n",
       "      <td>2572</td>\n",
       "      <td>3</td>\n",
       "      <td>255</td>\n",
       "      <td>0</td>\n",
       "      <td>1</td>\n",
       "    </tr>\n",
       "    <tr>\n",
       "      <th>105</th>\n",
       "      <td>CHNCXR_0106_0.png</td>\n",
       "      <td>Normal</td>\n",
       "      <td>2943</td>\n",
       "      <td>3000</td>\n",
       "      <td>3</td>\n",
       "      <td>255</td>\n",
       "      <td>0</td>\n",
       "      <td>0</td>\n",
       "    </tr>\n",
       "    <tr>\n",
       "      <th>470</th>\n",
       "      <td>CHNCXR_0471_1.png</td>\n",
       "      <td>Tuberculose</td>\n",
       "      <td>2622</td>\n",
       "      <td>2276</td>\n",
       "      <td>3</td>\n",
       "      <td>255</td>\n",
       "      <td>0</td>\n",
       "      <td>1</td>\n",
       "    </tr>\n",
       "    <tr>\n",
       "      <th>203</th>\n",
       "      <td>CHNCXR_0204_0.png</td>\n",
       "      <td>Normal</td>\n",
       "      <td>2990</td>\n",
       "      <td>2987</td>\n",
       "      <td>3</td>\n",
       "      <td>255</td>\n",
       "      <td>0</td>\n",
       "      <td>0</td>\n",
       "    </tr>\n",
       "    <tr>\n",
       "      <th>443</th>\n",
       "      <td>CHNCXR_0444_1.png</td>\n",
       "      <td>Tuberculose</td>\n",
       "      <td>2987</td>\n",
       "      <td>2980</td>\n",
       "      <td>3</td>\n",
       "      <td>255</td>\n",
       "      <td>0</td>\n",
       "      <td>1</td>\n",
       "    </tr>\n",
       "  </tbody>\n",
       "</table>\n",
       "</div>"
      ],
      "text/plain": [
       "              image_id       target  largura  altura  canais  \\\n",
       "391  CHNCXR_0392_1.png  Tuberculose     2722    2572       3   \n",
       "105  CHNCXR_0106_0.png       Normal     2943    3000       3   \n",
       "470  CHNCXR_0471_1.png  Tuberculose     2622    2276       3   \n",
       "203  CHNCXR_0204_0.png       Normal     2990    2987       3   \n",
       "443  CHNCXR_0444_1.png  Tuberculose     2987    2980       3   \n",
       "\n",
       "     maior_valor_pixel  menor_valor_pixel  labels  \n",
       "391                255                  0       1  \n",
       "105                255                  0       0  \n",
       "470                255                  0       1  \n",
       "203                255                  0       0  \n",
       "443                255                  0       1  "
      ]
     },
     "execution_count": 46,
     "metadata": {},
     "output_type": "execute_result"
    }
   ],
   "source": [
    "# Visualiza os dados\n",
    "df_data.head()"
   ]
  },
  {
   "cell_type": "code",
   "execution_count": 47,
   "id": "39c6940c",
   "metadata": {},
   "outputs": [],
   "source": [
    "# Define y (saída)\n",
    "y = df_data['labels']"
   ]
  },
  {
   "cell_type": "code",
   "execution_count": 48,
   "id": "9d6e4b22",
   "metadata": {},
   "outputs": [],
   "source": [
    "# Definimos dados de treino e validação\n",
    "df_treino, df_val = train_test_split(df_data, test_size = 0.15, random_state = 101, stratify = y)"
   ]
  },
  {
   "cell_type": "code",
   "execution_count": 49,
   "id": "20d6f794",
   "metadata": {},
   "outputs": [
    {
     "name": "stdout",
     "output_type": "stream",
     "text": [
      "(680, 8)\n",
      "(120, 8)\n"
     ]
    }
   ],
   "source": [
    "# Visualiza o shape dos dados\n",
    "print(df_treino.shape)\n",
    "print(df_val.shape)"
   ]
  },
  {
   "cell_type": "code",
   "execution_count": 50,
   "id": "a7245cc1",
   "metadata": {},
   "outputs": [
    {
     "name": "stdout",
     "output_type": "stream",
     "text": [
      "Dataset de treino : Normal         345\n",
      "Tuberculose    335\n",
      "Name: target, dtype: int64\n",
      "Dataset de validação : Normal         61\n",
      "Tuberculose    59\n",
      "Name: target, dtype: int64\n"
     ]
    }
   ],
   "source": [
    "# Total de registros dos dataset\n",
    "print('Dataset de treino :', df_treino['target'].value_counts())\n",
    "print('Dataset de validação :', df_val['target'].value_counts())"
   ]
  },
  {
   "cell_type": "markdown",
   "id": "6a6a4bd7",
   "metadata": {},
   "source": [
    "## 7. Separa imagens por classe"
   ]
  },
  {
   "cell_type": "markdown",
   "id": "5f1e046e",
   "metadata": {},
   "source": [
    "### 7.1 Cria novo diretório dados_final"
   ]
  },
  {
   "cell_type": "code",
   "execution_count": 51,
   "id": "7724f720",
   "metadata": {},
   "outputs": [],
   "source": [
    "# Cria um novo diretório que servirá como base\n",
    "# Você deve alterar o base_dir para oo seu diretório, no Titan ou na sua máquina local\n",
    "base_dir = 'dados_final/'\n",
    "\n",
    "# Criamos o PATH (caminho)\n",
    "dir_base = Path(base_dir)\n",
    "\n",
    "# Verificamos se o diretório já existe e se não existir, criamos\n",
    "if dir_base.exists():\n",
    "    print('O diretório já existe. Delete no SO e tente novamente.')\n",
    "else:\n",
    "    os.mkdir(base_dir)"
   ]
  },
  {
   "cell_type": "markdown",
   "id": "4e361a0e",
   "metadata": {},
   "source": [
    "### 7.2 Diretório Teste e Validação"
   ]
  },
  {
   "cell_type": "code",
   "execution_count": 52,
   "id": "42d60866",
   "metadata": {},
   "outputs": [],
   "source": [
    "# Prepara a criação do diretório com dados de treino\n",
    "dados_treino = os.path.join(base_dir, 'dados_treino/')\n",
    "\n",
    "# Criamos o PATH (caminho)\n",
    "dir_treino = Path(dados_treino)\n",
    "\n",
    "# Verifica se o diretório já existe\n",
    "if dir_treino.exists():\n",
    "    print('O diretório já existe, Delete no SO e tente novamento.')\n",
    "else:\n",
    "    os.mkdir(dados_treino)"
   ]
  },
  {
   "cell_type": "code",
   "execution_count": 53,
   "id": "15abe8e3",
   "metadata": {},
   "outputs": [],
   "source": [
    "# Prepara a criação do diretório com dados de validação\n",
    "dados_val = os.path.join(base_dir, 'dados_val/')\n",
    "\n",
    "# Criamos o PATH (caminho)\n",
    "dir_val = Path(dados_val)\n",
    "\n",
    "# Verificamos se o diretório já existe e se não existir, criamos\n",
    "if dir_val.exists():\n",
    "    print('O diretório já existe. Delete no SO e tente novamente.')\n",
    "else:\n",
    "    os.mkdir(dados_val)"
   ]
  },
  {
   "cell_type": "markdown",
   "id": "46294a73",
   "metadata": {},
   "source": [
    "### 7.3 Cria pasta com label em treino"
   ]
  },
  {
   "cell_type": "code",
   "execution_count": 54,
   "id": "2da37963",
   "metadata": {},
   "outputs": [],
   "source": [
    "# Diretório para imagens de raio-x Normais para treinamento\n",
    "Normal = os.path.join(dados_treino, 'Normal')\n",
    "\n",
    "# Criamos o PATH (caminho)\n",
    "dir_normal_treino = Path(Normal)\n",
    "\n",
    "# Verificamos se o diretório já existe e se não existir, criamos\n",
    "if dir_normal_treino.exists():\n",
    "    print('O diretório já existe. Delete no SO e tente novamente.')\n",
    "else:\n",
    "    os.mkdir(Normal)"
   ]
  },
  {
   "cell_type": "code",
   "execution_count": 55,
   "id": "176319c1",
   "metadata": {},
   "outputs": [],
   "source": [
    "# Diretório com imagens de raio-x com Tuberculose para treinamento\n",
    "Tuberculose = os.path.join(dados_treino, 'Tuberculose')\n",
    "\n",
    "# Criamos o PATH (caminho)\n",
    "dir_tb_treino = Path(Tuberculose)\n",
    "\n",
    "# Verificamos se o diretório já existe e se não existir, criamos\n",
    "if dir_tb_treino.exists():\n",
    "    print('O diretório já existe. Delete no SO e tente novamente.')\n",
    "else:\n",
    "    os.mkdir(Tuberculose)"
   ]
  },
  {
   "cell_type": "markdown",
   "id": "1399ec6b",
   "metadata": {},
   "source": [
    "### 7.4 Cria pasta com label em validação"
   ]
  },
  {
   "cell_type": "code",
   "execution_count": 56,
   "id": "81008317",
   "metadata": {},
   "outputs": [],
   "source": [
    "# Diretório com imagens de raio-x Normais para validação\n",
    "Normal = os.path.join(dados_val, 'Normal')\n",
    "\n",
    "# Criamos o PATH (caminho)\n",
    "dir_normal_val = Path(Normal)\n",
    "\n",
    "# Verificamos se o diretório já existe\n",
    "if dir_normal_val.exists():\n",
    "    print('O diretório já existe. Delete no SO e tente novamente.')\n",
    "else:\n",
    "    os.mkdir(Normal)"
   ]
  },
  {
   "cell_type": "code",
   "execution_count": 57,
   "id": "1a597419",
   "metadata": {},
   "outputs": [],
   "source": [
    "# Diretório com imagens de raio-x com Tuberculose para validação\n",
    "Tuberculose = os.path.join(dados_val, 'Tuberculose')\n",
    "\n",
    "# Criamos o PATH (caminho)\n",
    "dir_tb_val = Path(Tuberculose)\n",
    "\n",
    "# Verificamos se o diretório já existe\n",
    "if dir_tb_val.exists():\n",
    "    print('O diretório já existe. Delete no SO e tente novamente.')\n",
    "else:\n",
    "    os.mkdir(Tuberculose)"
   ]
  },
  {
   "cell_type": "markdown",
   "id": "ea1d157f",
   "metadata": {},
   "source": [
    "### 7.5 Ajuste nos diretórios"
   ]
  },
  {
   "cell_type": "code",
   "execution_count": 58,
   "id": "07a30016",
   "metadata": {},
   "outputs": [],
   "source": [
    "# Define o image_id como o índice em df_data\n",
    "df_data.set_index('image_id', inplace = True)"
   ]
  },
  {
   "cell_type": "code",
   "execution_count": 59,
   "id": "93b45537",
   "metadata": {},
   "outputs": [
    {
     "data": {
      "text/html": [
       "<div>\n",
       "<style scoped>\n",
       "    .dataframe tbody tr th:only-of-type {\n",
       "        vertical-align: middle;\n",
       "    }\n",
       "\n",
       "    .dataframe tbody tr th {\n",
       "        vertical-align: top;\n",
       "    }\n",
       "\n",
       "    .dataframe thead th {\n",
       "        text-align: right;\n",
       "    }\n",
       "</style>\n",
       "<table border=\"1\" class=\"dataframe\">\n",
       "  <thead>\n",
       "    <tr style=\"text-align: right;\">\n",
       "      <th></th>\n",
       "      <th>target</th>\n",
       "      <th>largura</th>\n",
       "      <th>altura</th>\n",
       "      <th>canais</th>\n",
       "      <th>maior_valor_pixel</th>\n",
       "      <th>menor_valor_pixel</th>\n",
       "      <th>labels</th>\n",
       "    </tr>\n",
       "    <tr>\n",
       "      <th>image_id</th>\n",
       "      <th></th>\n",
       "      <th></th>\n",
       "      <th></th>\n",
       "      <th></th>\n",
       "      <th></th>\n",
       "      <th></th>\n",
       "      <th></th>\n",
       "    </tr>\n",
       "  </thead>\n",
       "  <tbody>\n",
       "    <tr>\n",
       "      <th>CHNCXR_0392_1.png</th>\n",
       "      <td>Tuberculose</td>\n",
       "      <td>2722</td>\n",
       "      <td>2572</td>\n",
       "      <td>3</td>\n",
       "      <td>255</td>\n",
       "      <td>0</td>\n",
       "      <td>1</td>\n",
       "    </tr>\n",
       "    <tr>\n",
       "      <th>CHNCXR_0106_0.png</th>\n",
       "      <td>Normal</td>\n",
       "      <td>2943</td>\n",
       "      <td>3000</td>\n",
       "      <td>3</td>\n",
       "      <td>255</td>\n",
       "      <td>0</td>\n",
       "      <td>0</td>\n",
       "    </tr>\n",
       "    <tr>\n",
       "      <th>CHNCXR_0471_1.png</th>\n",
       "      <td>Tuberculose</td>\n",
       "      <td>2622</td>\n",
       "      <td>2276</td>\n",
       "      <td>3</td>\n",
       "      <td>255</td>\n",
       "      <td>0</td>\n",
       "      <td>1</td>\n",
       "    </tr>\n",
       "    <tr>\n",
       "      <th>CHNCXR_0204_0.png</th>\n",
       "      <td>Normal</td>\n",
       "      <td>2990</td>\n",
       "      <td>2987</td>\n",
       "      <td>3</td>\n",
       "      <td>255</td>\n",
       "      <td>0</td>\n",
       "      <td>0</td>\n",
       "    </tr>\n",
       "    <tr>\n",
       "      <th>CHNCXR_0444_1.png</th>\n",
       "      <td>Tuberculose</td>\n",
       "      <td>2987</td>\n",
       "      <td>2980</td>\n",
       "      <td>3</td>\n",
       "      <td>255</td>\n",
       "      <td>0</td>\n",
       "      <td>1</td>\n",
       "    </tr>\n",
       "  </tbody>\n",
       "</table>\n",
       "</div>"
      ],
      "text/plain": [
       "                        target  largura  altura  canais  maior_valor_pixel  \\\n",
       "image_id                                                                     \n",
       "CHNCXR_0392_1.png  Tuberculose     2722    2572       3                255   \n",
       "CHNCXR_0106_0.png       Normal     2943    3000       3                255   \n",
       "CHNCXR_0471_1.png  Tuberculose     2622    2276       3                255   \n",
       "CHNCXR_0204_0.png       Normal     2990    2987       3                255   \n",
       "CHNCXR_0444_1.png  Tuberculose     2987    2980       3                255   \n",
       "\n",
       "                   menor_valor_pixel  labels  \n",
       "image_id                                      \n",
       "CHNCXR_0392_1.png                  0       1  \n",
       "CHNCXR_0106_0.png                  0       0  \n",
       "CHNCXR_0471_1.png                  0       1  \n",
       "CHNCXR_0204_0.png                  0       0  \n",
       "CHNCXR_0444_1.png                  0       1  "
      ]
     },
     "execution_count": 59,
     "metadata": {},
     "output_type": "execute_result"
    }
   ],
   "source": [
    "# Checamos df_data\n",
    "df_data.head()"
   ]
  },
  {
   "cell_type": "code",
   "execution_count": 60,
   "id": "6d8b5ccd",
   "metadata": {},
   "outputs": [],
   "source": [
    "# Obtém uma lista de imagens em cada uma das duas pastas originais\n",
    "folder_1 = os.listdir(imagens_shen)\n",
    "folder_2 = os.listdir(imagens_mont)"
   ]
  },
  {
   "cell_type": "code",
   "execution_count": 61,
   "id": "c31cc6f2",
   "metadata": {},
   "outputs": [],
   "source": [
    "# Obtém uma lista de imagens de treino e validação\n",
    "lista_imagens_treino = list(df_treino['image_id'])\n",
    "lista_imagens_val = list(df_val['image_id'])"
   ]
  },
  {
   "cell_type": "markdown",
   "id": "0307fedc",
   "metadata": {},
   "source": [
    "## 8. Pré-Processamento de imagens"
   ]
  },
  {
   "cell_type": "code",
   "execution_count": 62,
   "id": "e1b240d4",
   "metadata": {},
   "outputs": [],
   "source": [
    "# Resize das imagens\n",
    "IMAGE_HEIGHT = 96\n",
    "IMAGE_WIDTH = 96"
   ]
  },
  {
   "cell_type": "code",
   "execution_count": 63,
   "id": "2dbe5ed6",
   "metadata": {},
   "outputs": [
    {
     "name": "stdout",
     "output_type": "stream",
     "text": [
      "\n",
      "Pré-processamento dos dados de treino! Aguarde...\n",
      "\n",
      "Os dados de treino estão prontos!\n"
     ]
    }
   ],
   "source": [
    "# Transfere as imagens de treino pré-processadas para o novo diretório\n",
    "\n",
    "print('\\nPré-processamento dos dados de treino! Aguarde...')\n",
    "\n",
    "# Loop pela lista de imagens de treino\n",
    "for image in lista_imagens_treino:\n",
    "    \n",
    "    # Nome da imagem\n",
    "    fname = image\n",
    "    \n",
    "    # Label da imagem\n",
    "    label = df_data.loc[image,'target']\n",
    "    \n",
    "    # Percorremos a folder_1 (imagens do dataset de shenzen) para buscar o caminho da imagem\n",
    "    if fname in folder_1:\n",
    "        \n",
    "        # Diretório fonte da imagem\n",
    "        src = os.path.join(imagens_shen, fname)\n",
    "        \n",
    "        # Diretório destino da imagem\n",
    "        dst = os.path.join(dados_treino, label, fname)\n",
    "        \n",
    "        # Copia a imagem\n",
    "        image = cv2.imread(src)\n",
    "        \n",
    "        # Aplica o redimensionamento\n",
    "        image = cv2.resize(image, (IMAGE_HEIGHT, IMAGE_WIDTH))\n",
    "        \n",
    "        # Salva a imagem no diretório de destino\n",
    "        cv2.imwrite(dst, image)\n",
    "\n",
    "    # Percorremos a folder_2 (imagens do dataset de montgomery) para buscar o caminho da imagem\n",
    "    if fname in folder_2:\n",
    "        \n",
    "        # Diretório fonte da imagem\n",
    "        src = os.path.join(imagens_mont, fname)\n",
    "        \n",
    "        # Diretório destino da imagem\n",
    "        dst = os.path.join(dados_treino, label, fname)\n",
    "        \n",
    "        # Copia a imagem\n",
    "        image = cv2.imread(src)\n",
    "        \n",
    "        # Aplica o redimensionamento\n",
    "        image = cv2.resize(image, (IMAGE_HEIGHT, IMAGE_WIDTH))\n",
    "        \n",
    "        # Salva a imagem no diretório de destino\n",
    "        cv2.imwrite(dst, image)\n",
    "\n",
    "print('\\nOs dados de treino estão prontos!')"
   ]
  },
  {
   "cell_type": "code",
   "execution_count": 64,
   "id": "f5aea565",
   "metadata": {},
   "outputs": [
    {
     "name": "stdout",
     "output_type": "stream",
     "text": [
      "\n",
      "Pré-processamento dos dados de valiação/teste! Aguarde...\n",
      "\n",
      "Os dados de validação/teste estão prontos!\n"
     ]
    }
   ],
   "source": [
    "# Transfere as imagens de validação pré-processadas para o novo diretório\n",
    "\n",
    "print('\\nPré-processamento dos dados de valiação/teste! Aguarde...')\n",
    "\n",
    "# Loop pela lista de imagens de validação/teste\n",
    "for image in lista_imagens_val:\n",
    "    \n",
    "    # Nome da imagem\n",
    "    fname = image\n",
    "    \n",
    "    # Label da imagem\n",
    "    label = df_data.loc[image,'target']\n",
    "    \n",
    "    # Percorremos a folder_1 (imagens do dataset de shenzen) para buscar o caminho da imagem\n",
    "    if fname in folder_1:\n",
    "        \n",
    "        # Diretório fonte da imagem\n",
    "        src = os.path.join(imagens_shen, fname)\n",
    "        \n",
    "        # Diretório destino da imagem\n",
    "        dst = os.path.join(dados_val, label, fname)\n",
    "        \n",
    "        # Copia a imagem\n",
    "        image = cv2.imread(src)\n",
    "        \n",
    "        # Aplica o redimensionamento\n",
    "        image = cv2.resize(image, (IMAGE_HEIGHT, IMAGE_WIDTH))\n",
    "        \n",
    "        # Salva a imagem no diretório de destino\n",
    "        cv2.imwrite(dst, image)\n",
    "\n",
    "    # Percorremos a folder_2 (imagens do dataset de montgomery) para buscar o caminho da imagem\n",
    "    if fname in folder_2:\n",
    "        \n",
    "        # Diretório fonte da imagem\n",
    "        src = os.path.join(imagens_mont, fname)\n",
    "        \n",
    "        # Diretório destino da imagem\n",
    "        dst = os.path.join(dados_val, label, fname)\n",
    "        \n",
    "        # Copia a imagem\n",
    "        image = cv2.imread(src)\n",
    "        \n",
    "        # Aplica o redimensionamento\n",
    "        image = cv2.resize(image, (IMAGE_HEIGHT, IMAGE_WIDTH))\n",
    "        \n",
    "        # Salva a imagem no diretório de destino\n",
    "        cv2.imwrite(dst, image)\n",
    "        \n",
    "print('\\nOs dados de validação/teste estão prontos!')"
   ]
  },
  {
   "cell_type": "code",
   "execution_count": 65,
   "id": "de079cf4",
   "metadata": {},
   "outputs": [
    {
     "name": "stdout",
     "output_type": "stream",
     "text": [
      "345\n",
      "335\n"
     ]
    }
   ],
   "source": [
    "# Verifica quantas imagens de treino estão presentes em cada pasta de classe\n",
    "print(len(os.listdir(dados_treino + '/Normal')))\n",
    "print(len(os.listdir(dados_treino + '/Tuberculose')))"
   ]
  },
  {
   "cell_type": "code",
   "execution_count": 66,
   "id": "8fc711de",
   "metadata": {},
   "outputs": [
    {
     "name": "stdout",
     "output_type": "stream",
     "text": [
      "61\n",
      "59\n"
     ]
    }
   ],
   "source": [
    "# Verifica quantas imagens de validação estão presentes em cada pasta de classe\n",
    "print(len(os.listdir(dados_val + '/Normal')))\n",
    "print(len(os.listdir(dados_val + '/Tuberculose')))"
   ]
  },
  {
   "cell_type": "markdown",
   "id": "19d8d68c",
   "metadata": {},
   "source": [
    "## 9. Dataset Augmentation"
   ]
  },
  {
   "cell_type": "code",
   "execution_count": 67,
   "id": "caca3e9b",
   "metadata": {},
   "outputs": [],
   "source": [
    "# Lista de classes\n",
    "class_list = ['Normal', 'Tuberculose']"
   ]
  },
  {
   "cell_type": "code",
   "execution_count": 68,
   "id": "248b51d4",
   "metadata": {},
   "outputs": [],
   "source": [
    "# Número de imagens sintéticas desejadas\n",
    "NUM_IMAGENS_SINTETICAS = 1000 "
   ]
  },
  {
   "cell_type": "code",
   "execution_count": 69,
   "id": "160972e2",
   "metadata": {},
   "outputs": [
    {
     "name": "stdout",
     "output_type": "stream",
     "text": [
      "\n",
      "Geração de imagens sintéticas para treinamento! Aguarde...\n",
      "\n",
      "Found 345 images belonging to 1 classes.\n",
      "Found 335 images belonging to 1 classes.\n",
      "\n",
      "Os dados foram criados com sucesso!\n"
     ]
    }
   ],
   "source": [
    "# Cria imagens sintéticas para aumentar o volume de dados de treino (não fazemos isso com dados de validação/teste)\n",
    "\n",
    "print('\\nGeração de imagens sintéticas para treinamento! Aguarde...\\n')\n",
    "\n",
    "# Loop pelas imagens de cada classe\n",
    "for item in class_list:\n",
    "    \n",
    "    # Estamos criando diretório temporário aqui porque o excluiremos posteriormente.\n",
    "    # Criamos um diretório base\n",
    "    aug_dir = base_dir + 'temp/'\n",
    "    os.mkdir(aug_dir)\n",
    "    \n",
    "    # Criamos um diretório dentro do diretório base para armazenar imagens da mesma classe\n",
    "    img_dir = os.path.join(aug_dir, 'img_dir')\n",
    "    os.mkdir(img_dir)\n",
    "\n",
    "    # Escolhe a classe\n",
    "    img_class = item\n",
    "\n",
    "    # Listamos todas as imagens no diretório\n",
    "    img_list = os.listdir(dados_treino + img_class)\n",
    "\n",
    "    # Copiamos imagens do diretório de treino para a classe no loop, para o img_dir\n",
    "    for fname in img_list:\n",
    "            \n",
    "            # Diretório fonte da imagem\n",
    "            src = os.path.join(dados_treino + img_class, fname)\n",
    "            \n",
    "            # Diretório destino da imagem\n",
    "            dst = os.path.join(img_dir, fname)\n",
    "            \n",
    "            # Copia a imagem da fonte para o destino\n",
    "            shutil.copyfile(src, dst)\n",
    "\n",
    "\n",
    "    # Apontamos para o diretório contendo as imagens que foram copiadas\n",
    "    path = aug_dir\n",
    "    save_path = dados_treino + img_class\n",
    "\n",
    "    # Criamos um gerador de imagens \n",
    "    datagen = ImageDataGenerator(rotation_range = 10,\n",
    "                                 width_shift_range = 0.1,\n",
    "                                 height_shift_range = 0.1,\n",
    "                                 zoom_range = 0.1,\n",
    "                                 horizontal_flip = True,\n",
    "                                 fill_mode = 'nearest')\n",
    "\n",
    "    # Tamanho do batch\n",
    "    batch_size = 50\n",
    "\n",
    "    # Geração de dados\n",
    "    aug_datagen = datagen.flow_from_directory(path,\n",
    "                                              save_to_dir = save_path,\n",
    "                                              save_format = 'png',\n",
    "                                              target_size = (IMAGE_HEIGHT, IMAGE_WIDTH),\n",
    "                                              batch_size = batch_size)\n",
    "    \n",
    "    \n",
    "    # Geramos as imagens aumentadas e adicionamos às pastas de treinamento\n",
    "    num_files = len(os.listdir(img_dir))\n",
    "    \n",
    "    # Aqui criamos uma quantidade semelhante de imagens para cada classe\n",
    "    num_batches = int(np.ceil((NUM_IMAGENS_SINTETICAS - num_files) / batch_size))\n",
    "\n",
    "    # Executa o gerador e cria imagens aumentadas\n",
    "    for i in range(0, num_batches):\n",
    "        imgs, labels = next(aug_datagen)\n",
    "        \n",
    "    # Exclui o diretório temporário com os arquivos de imagem brutos\n",
    "    shutil.rmtree(aug_dir)\n",
    "    \n",
    "print('\\nOs dados foram criados com sucesso!')"
   ]
  },
  {
   "cell_type": "code",
   "execution_count": 70,
   "id": "22de493a",
   "metadata": {},
   "outputs": [
    {
     "name": "stdout",
     "output_type": "stream",
     "text": [
      "1035\n",
      "1005\n"
     ]
    }
   ],
   "source": [
    "# Verificamos quantas imagens de treino temos agora em cada pasta.\n",
    "# Estas são as imagens originais mais as imagens sintéticas.\n",
    "print(len(os.listdir(dados_treino + 'Normal')))\n",
    "print(len(os.listdir(dados_treino + 'Tuberculose')))"
   ]
  },
  {
   "cell_type": "code",
   "execution_count": 71,
   "id": "aeb7bf17",
   "metadata": {},
   "outputs": [
    {
     "name": "stdout",
     "output_type": "stream",
     "text": [
      "61\n",
      "59\n"
     ]
    }
   ],
   "source": [
    "# Verifica quantas imagens de validação temos em cada pasta (deve ser o mesmo número inicial)\n",
    "# Estas são as imagens originais mais as imagens sintéticas.\n",
    "print(len(os.listdir(dados_val + 'Normal')))\n",
    "print(len(os.listdir(dados_val + 'Tuberculose')))"
   ]
  },
  {
   "cell_type": "markdown",
   "id": "dcfeb9de",
   "metadata": {},
   "source": [
    "## 10. Construção do modelo"
   ]
  },
  {
   "cell_type": "markdown",
   "id": "198b7cb8",
   "metadata": {},
   "source": [
    "### 10.1 Definição do batch"
   ]
  },
  {
   "cell_type": "code",
   "execution_count": 72,
   "id": "c8302c7b",
   "metadata": {},
   "outputs": [],
   "source": [
    "# Número de exemplos de treinamento\n",
    "num_amostras_treino = len(df_treino)\n",
    "\n",
    "# Número de exemplos de validação\n",
    "num_amostras_val = len(df_val)\n",
    "\n",
    "# Tamanho do batch de treino\n",
    "batch_size_treino = 10\n",
    "\n",
    "# Tamanho do batch de validação\n",
    "batch_size_val = 10"
   ]
  },
  {
   "cell_type": "code",
   "execution_count": 73,
   "id": "3dcdb976",
   "metadata": {},
   "outputs": [],
   "source": [
    "# Aqui definimos o número de passos\n",
    "passos_treino = np.ceil(num_amostras_treino / batch_size_treino)\n",
    "passos_val = np.ceil(num_amostras_val / batch_size_val)"
   ]
  },
  {
   "cell_type": "code",
   "execution_count": 74,
   "id": "3321a0d4",
   "metadata": {},
   "outputs": [
    {
     "name": "stdout",
     "output_type": "stream",
     "text": [
      "Found 2040 images belonging to 2 classes.\n",
      "Found 120 images belonging to 2 classes.\n",
      "Found 120 images belonging to 2 classes.\n"
     ]
    }
   ],
   "source": [
    "# Aqui geramos os batches de dados\n",
    "datagen = ImageDataGenerator(rescale = 1.0/255)\n",
    "\n",
    "# Gera os batches de treino\n",
    "gen_treino = datagen.flow_from_directory(dados_treino,\n",
    "                                         target_size = (IMAGE_HEIGHT, IMAGE_WIDTH),\n",
    "                                         batch_size = batch_size_treino,\n",
    "                                         class_mode = 'categorical')\n",
    "\n",
    "# Gera os batches de validação\n",
    "gen_val = datagen.flow_from_directory(dados_val,\n",
    "                                      target_size = (IMAGE_HEIGHT, IMAGE_WIDTH),\n",
    "                                      batch_size = batch_size_val,\n",
    "                                      class_mode = 'categorical')\n",
    "\n",
    "# Gera os batches de teste\n",
    "# Nota: shuffle = False faz com que o conjunto de dados de teste não seja \"embaralhado\"\n",
    "gen_teste = datagen.flow_from_directory(dados_val,\n",
    "                                        target_size = (IMAGE_HEIGHT, IMAGE_WIDTH),\n",
    "                                        batch_size = batch_size_val,\n",
    "                                        class_mode = 'categorical',\n",
    "                                        shuffle = False)"
   ]
  },
  {
   "cell_type": "markdown",
   "id": "7cb54b5a",
   "metadata": {},
   "source": [
    "### 10.2 Hiperparametros"
   ]
  },
  {
   "cell_type": "code",
   "execution_count": 75,
   "id": "5f4ead2e",
   "metadata": {},
   "outputs": [],
   "source": [
    "# Tamanho do kernel\n",
    "kernel_size = (3,3)\n",
    "\n",
    "# Tamanho do Pool\n",
    "pool_size = (2,2)\n",
    "\n",
    "# Número de neurônios da primeira camada\n",
    "num_neurons_1 = 32\n",
    "\n",
    "# Número de neurônios da primeira camada\n",
    "num_neurons_2 = 64\n",
    "\n",
    "# Número de neurônios da primeira camada\n",
    "num_neurons_3 = 128\n",
    "\n",
    "# Taxa de dropout nas camadas de convolução\n",
    "dropout_conv = 0.3\n",
    "\n",
    "# Taxa de dropout na camada densa\n",
    "dropout_dense = 0.3\n",
    "\n",
    "# Taxa de aprendizado\n",
    "taxa_aprendizado = 0.0001\n",
    "\n",
    "# Número de épocas de treinamento\n",
    "num_epochs = 50"
   ]
  },
  {
   "cell_type": "markdown",
   "id": "264baf42",
   "metadata": {},
   "source": [
    "### 10.3 Arquitetura do modelo"
   ]
  },
  {
   "cell_type": "code",
   "execution_count": 76,
   "id": "0d17312e",
   "metadata": {},
   "outputs": [
    {
     "name": "stdout",
     "output_type": "stream",
     "text": [
      "Model: \"sequential\"\n",
      "_________________________________________________________________\n",
      " Layer (type)                Output Shape              Param #   \n",
      "=================================================================\n",
      " conv2d (Conv2D)             (None, 94, 94, 32)        896       \n",
      "                                                                 \n",
      " conv2d_1 (Conv2D)           (None, 92, 92, 32)        9248      \n",
      "                                                                 \n",
      " conv2d_2 (Conv2D)           (None, 90, 90, 32)        9248      \n",
      "                                                                 \n",
      " max_pooling2d (MaxPooling2D  (None, 45, 45, 32)       0         \n",
      " )                                                               \n",
      "                                                                 \n",
      " dropout (Dropout)           (None, 45, 45, 32)        0         \n",
      "                                                                 \n",
      " conv2d_3 (Conv2D)           (None, 43, 43, 64)        18496     \n",
      "                                                                 \n",
      " conv2d_4 (Conv2D)           (None, 41, 41, 64)        36928     \n",
      "                                                                 \n",
      " conv2d_5 (Conv2D)           (None, 39, 39, 64)        36928     \n",
      "                                                                 \n",
      " max_pooling2d_1 (MaxPooling  (None, 19, 19, 64)       0         \n",
      " 2D)                                                             \n",
      "                                                                 \n",
      " dropout_1 (Dropout)         (None, 19, 19, 64)        0         \n",
      "                                                                 \n",
      " conv2d_6 (Conv2D)           (None, 17, 17, 128)       73856     \n",
      "                                                                 \n",
      " conv2d_7 (Conv2D)           (None, 15, 15, 128)       147584    \n",
      "                                                                 \n",
      " conv2d_8 (Conv2D)           (None, 13, 13, 128)       147584    \n",
      "                                                                 \n",
      " max_pooling2d_2 (MaxPooling  (None, 6, 6, 128)        0         \n",
      " 2D)                                                             \n",
      "                                                                 \n",
      " dropout_2 (Dropout)         (None, 6, 6, 128)         0         \n",
      "                                                                 \n",
      " flatten (Flatten)           (None, 4608)              0         \n",
      "                                                                 \n",
      " dense (Dense)               (None, 256)               1179904   \n",
      "                                                                 \n",
      " dropout_3 (Dropout)         (None, 256)               0         \n",
      "                                                                 \n",
      " dense_1 (Dense)             (None, 2)                 514       \n",
      "                                                                 \n",
      "=================================================================\n",
      "Total params: 1,661,186\n",
      "Trainable params: 1,661,186\n",
      "Non-trainable params: 0\n",
      "_________________________________________________________________\n"
     ]
    }
   ],
   "source": [
    "# Arquitetura do Modelo\n",
    "\n",
    "# Cria a sequência de camadas\n",
    "model = Sequential()\n",
    "\n",
    "# Adicionamos a primeira camada convolucional com 3 operações de convolução\n",
    "# Por que input_shape tem apenas 3 dimensões? Porque iremos alimentar uma imagem por vez durante o treinamento.\n",
    "model.add(Conv2D(num_neurons_1, kernel_size, activation = 'relu', input_shape = (IMAGE_HEIGHT, IMAGE_WIDTH, 3)))\n",
    "model.add(Conv2D(num_neurons_1, kernel_size, activation = 'relu'))\n",
    "model.add(Conv2D(num_neurons_1, kernel_size, activation = 'relu'))\n",
    "model.add(MaxPooling2D(pool_size = pool_size)) \n",
    "model.add(Dropout(dropout_conv))\n",
    "\n",
    "# Adicionamos a segunda camada convolucional com 3 operações de convolução\n",
    "model.add(Conv2D(num_neurons_2, kernel_size, activation = 'relu'))\n",
    "model.add(Conv2D(num_neurons_2, kernel_size, activation = 'relu'))\n",
    "model.add(Conv2D(num_neurons_2, kernel_size, activation = 'relu'))\n",
    "model.add(MaxPooling2D(pool_size = pool_size))\n",
    "model.add(Dropout(dropout_conv))\n",
    "\n",
    "# Adicionamos a terceira camada convolucional com 3 operações de convolução\n",
    "model.add(Conv2D(num_neurons_3, kernel_size, activation = 'relu'))\n",
    "model.add(Conv2D(num_neurons_3, kernel_size, activation = 'relu'))\n",
    "model.add(Conv2D(num_neurons_3, kernel_size, activation = 'relu'))\n",
    "model.add(MaxPooling2D(pool_size = pool_size))\n",
    "model.add(Dropout(dropout_conv))\n",
    "\n",
    "# Camada de \"achatamento\"\n",
    "model.add(Flatten())\n",
    "\n",
    "# Camada densa com dropout\n",
    "model.add(Dense(256, activation = \"relu\"))\n",
    "model.add(Dropout(dropout_dense))\n",
    "\n",
    "# Camada de saída\n",
    "model.add(Dense(2, activation = \"softmax\"))\n",
    "\n",
    "# Sumário do modelo\n",
    "model.summary()"
   ]
  },
  {
   "cell_type": "code",
   "execution_count": 77,
   "id": "5e0e6677",
   "metadata": {},
   "outputs": [],
   "source": [
    "# Compilação do modelo\n",
    "model.compile(Adam(taxa_aprendizado), \n",
    "              loss = 'binary_crossentropy', \n",
    "              metrics = ['accuracy'], \n",
    "              sample_weight_mode = None)"
   ]
  },
  {
   "cell_type": "code",
   "execution_count": 78,
   "id": "e3b40c25",
   "metadata": {},
   "outputs": [
    {
     "name": "stdout",
     "output_type": "stream",
     "text": [
      "O diretório já existe. Delete no SO e tente novamente.\n"
     ]
    }
   ],
   "source": [
    "# Criamos um diretório para salvar o modelo treinado\n",
    "modelos_base_dir = '.'\n",
    "modelos_dir = os.path.join(modelos_base_dir, 'modelos/')\n",
    "\n",
    "# Define o Path\n",
    "dir_modelos = Path(modelos_dir)\n",
    "\n",
    "if dir_modelos.exists():\n",
    "    print('O diretório já existe. Delete no SO e tente novamente.')\n",
    "else:\n",
    "    os.mkdir(modelos_dir)"
   ]
  },
  {
   "cell_type": "code",
   "execution_count": 79,
   "id": "39c4d9bb",
   "metadata": {},
   "outputs": [],
   "source": [
    "# Nome completo do modelo a ser salvo\n",
    "modelo_salvo = modelos_dir + 'modelo_raiox.h5'"
   ]
  },
  {
   "cell_type": "code",
   "execution_count": 80,
   "id": "9bf4504b",
   "metadata": {},
   "outputs": [],
   "source": [
    "# Definimos um checkpoint para verificar regularmente se a acurácia em validação melhorou\n",
    "# Se a performance melhorar em validação salvamos o modelo\n",
    "# Podemos ainda optar por salvar o modelo a cada número de épocas\n",
    "checkpoint = ModelCheckpoint(modelo_salvo, \n",
    "                             monitor = 'val_accuracy', \n",
    "                             verbose = 1, \n",
    "                             save_best_only = True, \n",
    "                             mode = 'max')"
   ]
  },
  {
   "cell_type": "code",
   "execution_count": 81,
   "id": "7fa6cf64",
   "metadata": {},
   "outputs": [],
   "source": [
    "# Redução gradual da taxa de aprendizado (Reduce on Plateau)\n",
    "reduce_lr = ReduceLROnPlateau(monitor = 'val_accuracy', \n",
    "                              factor = 0.5, \n",
    "                              patience = 2, \n",
    "                              verbose = 1, \n",
    "                              mode = 'max', \n",
    "                              min_lr = 0.00001)"
   ]
  },
  {
   "cell_type": "code",
   "execution_count": 82,
   "id": "af0a0bca",
   "metadata": {},
   "outputs": [],
   "source": [
    "# Cria os callbacks que serão usados no treinamento\n",
    "callbacks_list = [checkpoint, reduce_lr]"
   ]
  },
  {
   "cell_type": "markdown",
   "id": "5f2ae958",
   "metadata": {},
   "source": [
    "## 11. Treino do modelo"
   ]
  },
  {
   "cell_type": "code",
   "execution_count": 83,
   "id": "a3c6875a",
   "metadata": {},
   "outputs": [
    {
     "name": "stdout",
     "output_type": "stream",
     "text": [
      "Epoch 1/50\n",
      "68/68 [==============================] - ETA: 0s - loss: 0.6935 - accuracy: 0.5235\n",
      "Epoch 1: val_accuracy improved from -inf to 0.50833, saving model to .\\modelos\\modelo_raiox.h5\n",
      "68/68 [==============================] - 16s 223ms/step - loss: 0.6935 - accuracy: 0.5235 - val_loss: 0.6923 - val_accuracy: 0.5083 - lr: 1.0000e-04\n",
      "Epoch 2/50\n",
      "68/68 [==============================] - ETA: 0s - loss: 0.6921 - accuracy: 0.5250\n",
      "Epoch 2: val_accuracy did not improve from 0.50833\n",
      "68/68 [==============================] - 15s 214ms/step - loss: 0.6921 - accuracy: 0.5250 - val_loss: 0.6917 - val_accuracy: 0.5083 - lr: 1.0000e-04\n",
      "Epoch 3/50\n",
      "68/68 [==============================] - ETA: 0s - loss: 0.6904 - accuracy: 0.5235\n",
      "Epoch 3: val_accuracy did not improve from 0.50833\n",
      "\n",
      "Epoch 3: ReduceLROnPlateau reducing learning rate to 4.999999873689376e-05.\n",
      "68/68 [==============================] - 15s 217ms/step - loss: 0.6904 - accuracy: 0.5235 - val_loss: 0.6918 - val_accuracy: 0.4917 - lr: 1.0000e-04\n",
      "Epoch 4/50\n",
      "68/68 [==============================] - ETA: 0s - loss: 0.6928 - accuracy: 0.5074\n",
      "Epoch 4: val_accuracy improved from 0.50833 to 0.53333, saving model to .\\modelos\\modelo_raiox.h5\n",
      "68/68 [==============================] - 15s 223ms/step - loss: 0.6928 - accuracy: 0.5074 - val_loss: 0.6880 - val_accuracy: 0.5333 - lr: 5.0000e-05\n",
      "Epoch 5/50\n",
      "68/68 [==============================] - ETA: 0s - loss: 0.6872 - accuracy: 0.5735\n",
      "Epoch 5: val_accuracy improved from 0.53333 to 0.72500, saving model to .\\modelos\\modelo_raiox.h5\n",
      "68/68 [==============================] - 15s 217ms/step - loss: 0.6872 - accuracy: 0.5735 - val_loss: 0.6779 - val_accuracy: 0.7250 - lr: 5.0000e-05\n",
      "Epoch 6/50\n",
      "68/68 [==============================] - ETA: 0s - loss: 0.6704 - accuracy: 0.6118\n",
      "Epoch 6: val_accuracy did not improve from 0.72500\n",
      "68/68 [==============================] - 14s 206ms/step - loss: 0.6704 - accuracy: 0.6118 - val_loss: 0.6374 - val_accuracy: 0.6750 - lr: 5.0000e-05\n",
      "Epoch 7/50\n",
      "68/68 [==============================] - ETA: 0s - loss: 0.6496 - accuracy: 0.6353\n",
      "Epoch 7: val_accuracy did not improve from 0.72500\n",
      "\n",
      "Epoch 7: ReduceLROnPlateau reducing learning rate to 2.499999936844688e-05.\n",
      "68/68 [==============================] - 14s 208ms/step - loss: 0.6496 - accuracy: 0.6353 - val_loss: 0.6315 - val_accuracy: 0.5917 - lr: 5.0000e-05\n",
      "Epoch 8/50\n",
      "68/68 [==============================] - ETA: 0s - loss: 0.6478 - accuracy: 0.6265\n",
      "Epoch 8: val_accuracy improved from 0.72500 to 0.76667, saving model to .\\modelos\\modelo_raiox.h5\n",
      "68/68 [==============================] - 15s 214ms/step - loss: 0.6478 - accuracy: 0.6265 - val_loss: 0.5852 - val_accuracy: 0.7667 - lr: 2.5000e-05\n",
      "Epoch 9/50\n",
      "68/68 [==============================] - ETA: 0s - loss: 0.6369 - accuracy: 0.6500\n",
      "Epoch 9: val_accuracy did not improve from 0.76667\n",
      "68/68 [==============================] - 15s 225ms/step - loss: 0.6369 - accuracy: 0.6500 - val_loss: 0.6399 - val_accuracy: 0.5833 - lr: 2.5000e-05\n",
      "Epoch 10/50\n",
      "68/68 [==============================] - ETA: 0s - loss: 0.6358 - accuracy: 0.6456\n",
      "Epoch 10: val_accuracy did not improve from 0.76667\n",
      "\n",
      "Epoch 10: ReduceLROnPlateau reducing learning rate to 1.249999968422344e-05.\n",
      "68/68 [==============================] - 15s 217ms/step - loss: 0.6358 - accuracy: 0.6456 - val_loss: 0.6317 - val_accuracy: 0.6167 - lr: 2.5000e-05\n",
      "Epoch 11/50\n",
      "68/68 [==============================] - ETA: 0s - loss: 0.6147 - accuracy: 0.6721\n",
      "Epoch 11: val_accuracy did not improve from 0.76667\n",
      "68/68 [==============================] - 16s 231ms/step - loss: 0.6147 - accuracy: 0.6721 - val_loss: 0.6037 - val_accuracy: 0.6583 - lr: 1.2500e-05\n",
      "Epoch 12/50\n",
      "68/68 [==============================] - ETA: 0s - loss: 0.6098 - accuracy: 0.6574\n",
      "Epoch 12: val_accuracy did not improve from 0.76667\n",
      "\n",
      "Epoch 12: ReduceLROnPlateau reducing learning rate to 1e-05.\n",
      "68/68 [==============================] - 15s 222ms/step - loss: 0.6098 - accuracy: 0.6574 - val_loss: 0.6053 - val_accuracy: 0.6500 - lr: 1.2500e-05\n",
      "Epoch 13/50\n",
      "68/68 [==============================] - ETA: 0s - loss: 0.5871 - accuracy: 0.6824\n",
      "Epoch 13: val_accuracy did not improve from 0.76667\n",
      "68/68 [==============================] - 15s 219ms/step - loss: 0.5871 - accuracy: 0.6824 - val_loss: 0.5794 - val_accuracy: 0.7083 - lr: 1.0000e-05\n",
      "Epoch 14/50\n",
      "68/68 [==============================] - ETA: 0s - loss: 0.5768 - accuracy: 0.6897\n",
      "Epoch 14: val_accuracy did not improve from 0.76667\n",
      "68/68 [==============================] - 15s 217ms/step - loss: 0.5768 - accuracy: 0.6897 - val_loss: 0.5763 - val_accuracy: 0.6917 - lr: 1.0000e-05\n",
      "Epoch 15/50\n",
      "68/68 [==============================] - ETA: 0s - loss: 0.5753 - accuracy: 0.6985\n",
      "Epoch 15: val_accuracy did not improve from 0.76667\n",
      "68/68 [==============================] - 15s 217ms/step - loss: 0.5753 - accuracy: 0.6985 - val_loss: 0.5821 - val_accuracy: 0.6917 - lr: 1.0000e-05\n",
      "Epoch 16/50\n",
      "68/68 [==============================] - ETA: 0s - loss: 0.5959 - accuracy: 0.6868\n",
      "Epoch 16: val_accuracy did not improve from 0.76667\n",
      "68/68 [==============================] - 15s 220ms/step - loss: 0.5959 - accuracy: 0.6868 - val_loss: 0.5737 - val_accuracy: 0.7083 - lr: 1.0000e-05\n",
      "Epoch 17/50\n",
      "68/68 [==============================] - ETA: 0s - loss: 0.5757 - accuracy: 0.6912\n",
      "Epoch 17: val_accuracy did not improve from 0.76667\n",
      "68/68 [==============================] - 15s 216ms/step - loss: 0.5757 - accuracy: 0.6912 - val_loss: 0.5734 - val_accuracy: 0.6917 - lr: 1.0000e-05\n",
      "Epoch 18/50\n",
      "68/68 [==============================] - ETA: 0s - loss: 0.5731 - accuracy: 0.7015\n",
      "Epoch 18: val_accuracy did not improve from 0.76667\n",
      "68/68 [==============================] - 15s 217ms/step - loss: 0.5731 - accuracy: 0.7015 - val_loss: 0.5643 - val_accuracy: 0.7333 - lr: 1.0000e-05\n",
      "Epoch 19/50\n",
      "68/68 [==============================] - ETA: 0s - loss: 0.5702 - accuracy: 0.7000\n",
      "Epoch 19: val_accuracy did not improve from 0.76667\n",
      "68/68 [==============================] - 15s 217ms/step - loss: 0.5702 - accuracy: 0.7000 - val_loss: 0.5711 - val_accuracy: 0.7083 - lr: 1.0000e-05\n",
      "Epoch 20/50\n",
      "68/68 [==============================] - ETA: 0s - loss: 0.5764 - accuracy: 0.6882\n",
      "Epoch 20: val_accuracy did not improve from 0.76667\n",
      "68/68 [==============================] - 15s 216ms/step - loss: 0.5764 - accuracy: 0.6882 - val_loss: 0.5715 - val_accuracy: 0.7083 - lr: 1.0000e-05\n",
      "Epoch 21/50\n",
      "68/68 [==============================] - ETA: 0s - loss: 0.5636 - accuracy: 0.6941\n",
      "Epoch 21: val_accuracy did not improve from 0.76667\n",
      "68/68 [==============================] - 15s 221ms/step - loss: 0.5636 - accuracy: 0.6941 - val_loss: 0.6095 - val_accuracy: 0.6417 - lr: 1.0000e-05\n",
      "Epoch 22/50\n",
      "68/68 [==============================] - ETA: 0s - loss: 0.5765 - accuracy: 0.6926\n",
      "Epoch 22: val_accuracy did not improve from 0.76667\n",
      "68/68 [==============================] - 15s 219ms/step - loss: 0.5765 - accuracy: 0.6926 - val_loss: 0.5743 - val_accuracy: 0.7000 - lr: 1.0000e-05\n",
      "Epoch 23/50\n",
      "68/68 [==============================] - ETA: 0s - loss: 0.5663 - accuracy: 0.7103\n",
      "Epoch 23: val_accuracy did not improve from 0.76667\n",
      "68/68 [==============================] - 15s 221ms/step - loss: 0.5663 - accuracy: 0.7103 - val_loss: 0.5745 - val_accuracy: 0.7083 - lr: 1.0000e-05\n",
      "Epoch 24/50\n",
      "68/68 [==============================] - ETA: 0s - loss: 0.5684 - accuracy: 0.7015\n",
      "Epoch 24: val_accuracy did not improve from 0.76667\n",
      "68/68 [==============================] - 15s 226ms/step - loss: 0.5684 - accuracy: 0.7015 - val_loss: 0.5749 - val_accuracy: 0.7083 - lr: 1.0000e-05\n",
      "Epoch 25/50\n",
      "68/68 [==============================] - ETA: 0s - loss: 0.5574 - accuracy: 0.7118\n",
      "Epoch 25: val_accuracy did not improve from 0.76667\n",
      "68/68 [==============================] - 15s 220ms/step - loss: 0.5574 - accuracy: 0.7118 - val_loss: 0.5805 - val_accuracy: 0.7167 - lr: 1.0000e-05\n",
      "Epoch 26/50\n",
      "68/68 [==============================] - ETA: 0s - loss: 0.5507 - accuracy: 0.7176\n",
      "Epoch 26: val_accuracy did not improve from 0.76667\n",
      "68/68 [==============================] - 15s 218ms/step - loss: 0.5507 - accuracy: 0.7176 - val_loss: 0.5797 - val_accuracy: 0.7083 - lr: 1.0000e-05\n",
      "Epoch 27/50\n"
     ]
    },
    {
     "name": "stdout",
     "output_type": "stream",
     "text": [
      "68/68 [==============================] - ETA: 0s - loss: 0.5470 - accuracy: 0.7441\n",
      "Epoch 27: val_accuracy did not improve from 0.76667\n",
      "68/68 [==============================] - 15s 221ms/step - loss: 0.5470 - accuracy: 0.7441 - val_loss: 0.5664 - val_accuracy: 0.7417 - lr: 1.0000e-05\n",
      "Epoch 28/50\n",
      "68/68 [==============================] - ETA: 0s - loss: 0.5610 - accuracy: 0.7279\n",
      "Epoch 28: val_accuracy did not improve from 0.76667\n",
      "68/68 [==============================] - 15s 218ms/step - loss: 0.5610 - accuracy: 0.7279 - val_loss: 0.5656 - val_accuracy: 0.7250 - lr: 1.0000e-05\n",
      "Epoch 29/50\n",
      "68/68 [==============================] - ETA: 0s - loss: 0.5470 - accuracy: 0.7221\n",
      "Epoch 29: val_accuracy did not improve from 0.76667\n",
      "68/68 [==============================] - 15s 220ms/step - loss: 0.5470 - accuracy: 0.7221 - val_loss: 0.5711 - val_accuracy: 0.7167 - lr: 1.0000e-05\n",
      "Epoch 30/50\n",
      "68/68 [==============================] - ETA: 0s - loss: 0.5345 - accuracy: 0.7397\n",
      "Epoch 30: val_accuracy did not improve from 0.76667\n",
      "68/68 [==============================] - 14s 211ms/step - loss: 0.5345 - accuracy: 0.7397 - val_loss: 0.5743 - val_accuracy: 0.7333 - lr: 1.0000e-05\n",
      "Epoch 31/50\n",
      "68/68 [==============================] - ETA: 0s - loss: 0.5628 - accuracy: 0.6926\n",
      "Epoch 31: val_accuracy did not improve from 0.76667\n",
      "68/68 [==============================] - 14s 210ms/step - loss: 0.5628 - accuracy: 0.6926 - val_loss: 0.5712 - val_accuracy: 0.7167 - lr: 1.0000e-05\n",
      "Epoch 32/50\n",
      "68/68 [==============================] - ETA: 0s - loss: 0.5427 - accuracy: 0.7382\n",
      "Epoch 32: val_accuracy did not improve from 0.76667\n",
      "68/68 [==============================] - 14s 211ms/step - loss: 0.5427 - accuracy: 0.7382 - val_loss: 0.5661 - val_accuracy: 0.7333 - lr: 1.0000e-05\n",
      "Epoch 33/50\n",
      "68/68 [==============================] - ETA: 0s - loss: 0.5558 - accuracy: 0.7191\n",
      "Epoch 33: val_accuracy did not improve from 0.76667\n",
      "68/68 [==============================] - 14s 212ms/step - loss: 0.5558 - accuracy: 0.7191 - val_loss: 0.5693 - val_accuracy: 0.7250 - lr: 1.0000e-05\n",
      "Epoch 34/50\n",
      "68/68 [==============================] - ETA: 0s - loss: 0.5449 - accuracy: 0.7397\n",
      "Epoch 34: val_accuracy did not improve from 0.76667\n",
      "68/68 [==============================] - 14s 210ms/step - loss: 0.5449 - accuracy: 0.7397 - val_loss: 0.5546 - val_accuracy: 0.7417 - lr: 1.0000e-05\n",
      "Epoch 35/50\n",
      "68/68 [==============================] - ETA: 0s - loss: 0.5326 - accuracy: 0.7324\n",
      "Epoch 35: val_accuracy did not improve from 0.76667\n",
      "68/68 [==============================] - 16s 237ms/step - loss: 0.5326 - accuracy: 0.7324 - val_loss: 0.5736 - val_accuracy: 0.7250 - lr: 1.0000e-05\n",
      "Epoch 36/50\n",
      "68/68 [==============================] - ETA: 0s - loss: 0.5428 - accuracy: 0.7235\n",
      "Epoch 36: val_accuracy did not improve from 0.76667\n",
      "68/68 [==============================] - 16s 228ms/step - loss: 0.5428 - accuracy: 0.7235 - val_loss: 0.5596 - val_accuracy: 0.7417 - lr: 1.0000e-05\n",
      "Epoch 37/50\n",
      "68/68 [==============================] - ETA: 0s - loss: 0.5497 - accuracy: 0.7441\n",
      "Epoch 37: val_accuracy did not improve from 0.76667\n",
      "68/68 [==============================] - 15s 221ms/step - loss: 0.5497 - accuracy: 0.7441 - val_loss: 0.5762 - val_accuracy: 0.7083 - lr: 1.0000e-05\n",
      "Epoch 38/50\n",
      "68/68 [==============================] - ETA: 0s - loss: 0.5273 - accuracy: 0.7500\n",
      "Epoch 38: val_accuracy did not improve from 0.76667\n",
      "68/68 [==============================] - 15s 222ms/step - loss: 0.5273 - accuracy: 0.7500 - val_loss: 0.5632 - val_accuracy: 0.7417 - lr: 1.0000e-05\n",
      "Epoch 39/50\n",
      "68/68 [==============================] - ETA: 0s - loss: 0.5235 - accuracy: 0.7471\n",
      "Epoch 39: val_accuracy did not improve from 0.76667\n",
      "68/68 [==============================] - 15s 221ms/step - loss: 0.5235 - accuracy: 0.7471 - val_loss: 0.5652 - val_accuracy: 0.7250 - lr: 1.0000e-05\n",
      "Epoch 40/50\n",
      "68/68 [==============================] - ETA: 0s - loss: 0.5314 - accuracy: 0.7324\n",
      "Epoch 40: val_accuracy did not improve from 0.76667\n",
      "68/68 [==============================] - 16s 239ms/step - loss: 0.5314 - accuracy: 0.7324 - val_loss: 0.5726 - val_accuracy: 0.7333 - lr: 1.0000e-05\n",
      "Epoch 41/50\n",
      "68/68 [==============================] - ETA: 0s - loss: 0.5029 - accuracy: 0.7574\n",
      "Epoch 41: val_accuracy did not improve from 0.76667\n",
      "68/68 [==============================] - 17s 245ms/step - loss: 0.5029 - accuracy: 0.7574 - val_loss: 0.5696 - val_accuracy: 0.7417 - lr: 1.0000e-05\n",
      "Epoch 42/50\n",
      "68/68 [==============================] - ETA: 0s - loss: 0.5440 - accuracy: 0.7309\n",
      "Epoch 42: val_accuracy did not improve from 0.76667\n",
      "68/68 [==============================] - 15s 223ms/step - loss: 0.5440 - accuracy: 0.7309 - val_loss: 0.5666 - val_accuracy: 0.7333 - lr: 1.0000e-05\n",
      "Epoch 43/50\n",
      "68/68 [==============================] - ETA: 0s - loss: 0.5426 - accuracy: 0.7191\n",
      "Epoch 43: val_accuracy did not improve from 0.76667\n",
      "68/68 [==============================] - 15s 222ms/step - loss: 0.5426 - accuracy: 0.7191 - val_loss: 0.5651 - val_accuracy: 0.7417 - lr: 1.0000e-05\n",
      "Epoch 44/50\n",
      "68/68 [==============================] - ETA: 0s - loss: 0.5128 - accuracy: 0.7691\n",
      "Epoch 44: val_accuracy did not improve from 0.76667\n",
      "68/68 [==============================] - 15s 222ms/step - loss: 0.5128 - accuracy: 0.7691 - val_loss: 0.5675 - val_accuracy: 0.7333 - lr: 1.0000e-05\n",
      "Epoch 45/50\n",
      "68/68 [==============================] - ETA: 0s - loss: 0.5195 - accuracy: 0.7544\n",
      "Epoch 45: val_accuracy did not improve from 0.76667\n",
      "68/68 [==============================] - 16s 230ms/step - loss: 0.5195 - accuracy: 0.7544 - val_loss: 0.5758 - val_accuracy: 0.7083 - lr: 1.0000e-05\n",
      "Epoch 46/50\n",
      "68/68 [==============================] - ETA: 0s - loss: 0.5378 - accuracy: 0.7338\n",
      "Epoch 46: val_accuracy did not improve from 0.76667\n",
      "68/68 [==============================] - 16s 238ms/step - loss: 0.5378 - accuracy: 0.7338 - val_loss: 0.5578 - val_accuracy: 0.7500 - lr: 1.0000e-05\n",
      "Epoch 47/50\n",
      "68/68 [==============================] - ETA: 0s - loss: 0.5224 - accuracy: 0.7456\n",
      "Epoch 47: val_accuracy did not improve from 0.76667\n",
      "68/68 [==============================] - 15s 221ms/step - loss: 0.5224 - accuracy: 0.7456 - val_loss: 0.5580 - val_accuracy: 0.7667 - lr: 1.0000e-05\n",
      "Epoch 48/50\n",
      "68/68 [==============================] - ETA: 0s - loss: 0.5124 - accuracy: 0.7603\n",
      "Epoch 48: val_accuracy did not improve from 0.76667\n",
      "68/68 [==============================] - 15s 221ms/step - loss: 0.5124 - accuracy: 0.7603 - val_loss: 0.5619 - val_accuracy: 0.7333 - lr: 1.0000e-05\n",
      "Epoch 49/50\n",
      "68/68 [==============================] - ETA: 0s - loss: 0.4922 - accuracy: 0.7706\n",
      "Epoch 49: val_accuracy did not improve from 0.76667\n",
      "68/68 [==============================] - 15s 228ms/step - loss: 0.4922 - accuracy: 0.7706 - val_loss: 0.5635 - val_accuracy: 0.7417 - lr: 1.0000e-05\n",
      "Epoch 50/50\n",
      "68/68 [==============================] - ETA: 0s - loss: 0.4905 - accuracy: 0.7794\n",
      "Epoch 50: val_accuracy did not improve from 0.76667\n",
      "68/68 [==============================] - 14s 210ms/step - loss: 0.4905 - accuracy: 0.7794 - val_loss: 0.5692 - val_accuracy: 0.7583 - lr: 1.0000e-05\n",
      "Wall time: 12min 31s\n"
     ]
    }
   ],
   "source": [
    "%%time\n",
    "history = model.fit(gen_treino, \n",
    "                    steps_per_epoch = passos_treino, \n",
    "                    validation_data = gen_val,\n",
    "                    validation_steps = passos_val,\n",
    "                    epochs = num_epochs, \n",
    "                    verbose = 1,\n",
    "                    callbacks = callbacks_list)"
   ]
  },
  {
   "cell_type": "markdown",
   "id": "d52af206",
   "metadata": {},
   "source": [
    "## 12. Análise do Modelo"
   ]
  },
  {
   "cell_type": "code",
   "execution_count": 84,
   "id": "57123940",
   "metadata": {},
   "outputs": [
    {
     "data": {
      "text/plain": [
       "['loss', 'accuracy']"
      ]
     },
     "execution_count": 84,
     "metadata": {},
     "output_type": "execute_result"
    }
   ],
   "source": [
    "# Obtém os nomes das métricas do modelo\n",
    "model.metrics_names"
   ]
  },
  {
   "cell_type": "code",
   "execution_count": 85,
   "id": "5c0d7363",
   "metadata": {},
   "outputs": [],
   "source": [
    "# Carregamos o modelo treinado\n",
    "model.load_weights('modelos/modelo_raiox.h5')"
   ]
  },
  {
   "cell_type": "code",
   "execution_count": 86,
   "id": "77e7ebb3",
   "metadata": {},
   "outputs": [],
   "source": [
    "# Extraímos as métricas de treinamento\n",
    "val_loss, val_acc = model.evaluate_generator(gen_val, steps = passos_val)"
   ]
  },
  {
   "cell_type": "code",
   "execution_count": 87,
   "id": "846e941d",
   "metadata": {},
   "outputs": [
    {
     "name": "stdout",
     "output_type": "stream",
     "text": [
      "\n",
      "Erro do Modelo em Validação (val_loss): 0.585242509841919\n",
      "Acurácia do Modelo em Validação (val_acc): 0.7666666507720947\n"
     ]
    }
   ],
   "source": [
    "# Imprimimos\n",
    "print('\\nErro do Modelo em Validação (val_loss):', val_loss)\n",
    "print('Acurácia do Modelo em Validação (val_acc):', val_acc)"
   ]
  },
  {
   "cell_type": "code",
   "execution_count": 88,
   "id": "90a2321a",
   "metadata": {},
   "outputs": [],
   "source": [
    "# Extrai as métricas\n",
    "acc = history.history['accuracy']\n",
    "val_acc = history.history['val_accuracy']\n",
    "loss = history.history['loss']\n",
    "val_loss = history.history['val_loss']\n",
    "epochs = range(1, len(acc) + 1)"
   ]
  },
  {
   "cell_type": "code",
   "execution_count": 89,
   "id": "2cfd5cb6",
   "metadata": {},
   "outputs": [
    {
     "data": {
      "text/plain": [
       "<Figure size 640x480 with 0 Axes>"
      ]
     },
     "execution_count": 89,
     "metadata": {},
     "output_type": "execute_result"
    },
    {
     "data": {
      "image/png": "[encoded data removed]",
      "text/plain": [
       "<Figure size 640x480 with 1 Axes>"
      ]
     },
     "metadata": {},
     "output_type": "display_data"
    },
    {
     "data": {
      "image/png": "[encoded data removed]",
      "text/plain": [
       "<Figure size 640x480 with 1 Axes>"
      ]
     },
     "metadata": {},
     "output_type": "display_data"
    },
    {
     "data": {
      "text/plain": [
       "<Figure size 640x480 with 0 Axes>"
      ]
     },
     "metadata": {},
     "output_type": "display_data"
    }
   ],
   "source": [
    "# Plot\n",
    "\n",
    "plt.plot(epochs, acc, '-', label = 'Acurácia em Treinamento', color = 'blue')\n",
    "plt.title('Acurácia em Treinamento')\n",
    "plt.legend()\n",
    "plt.figure()\n",
    "\n",
    "plt.plot(epochs, loss, '-', label = 'Erro em Treinamento', color = 'red')\n",
    "plt.title('Erro em Treinamento')\n",
    "plt.legend()\n",
    "plt.figure()"
   ]
  },
  {
   "cell_type": "markdown",
   "id": "8598c9e8",
   "metadata": {},
   "source": [
    "Os gráficos acima estão com um comportamento não muito estável, isso indica que temos que analisar melhor a taxa de aprendizagem do modelo. O comportamento ideal são curvas mais estavéis. "
   ]
  },
  {
   "cell_type": "code",
   "execution_count": 90,
   "id": "5d7cdc1f",
   "metadata": {},
   "outputs": [
    {
     "data": {
      "text/plain": [
       "<Figure size 640x480 with 0 Axes>"
      ]
     },
     "execution_count": 90,
     "metadata": {},
     "output_type": "execute_result"
    },
    {
     "data": {
      "image/png": "[encoded data removed]",
      "text/plain": [
       "<Figure size 640x480 with 1 Axes>"
      ]
     },
     "metadata": {},
     "output_type": "display_data"
    },
    {
     "data": {
      "image/png": "[encoded data removed]",
      "text/plain": [
       "<Figure size 640x480 with 1 Axes>"
      ]
     },
     "metadata": {},
     "output_type": "display_data"
    },
    {
     "data": {
      "text/plain": [
       "<Figure size 640x480 with 0 Axes>"
      ]
     },
     "metadata": {},
     "output_type": "display_data"
    }
   ],
   "source": [
    "# Plot\n",
    "\n",
    "plt.plot(epochs, val_acc, '-', label = 'Acurácia em Validação', color = 'green')\n",
    "plt.title('Acurácia em Validação')\n",
    "plt.legend()\n",
    "plt.figure()\n",
    "\n",
    "plt.plot(epochs, val_loss, '-', label = 'Erro em Validação', color = 'magenta')\n",
    "plt.title('Erro em Validação')\n",
    "plt.legend()\n",
    "plt.figure()"
   ]
  },
  {
   "cell_type": "code",
   "execution_count": 91,
   "id": "0d9fe75b",
   "metadata": {},
   "outputs": [],
   "source": [
    "# Vamos obter os labels dos dados de teste\n",
    "labels_teste = gen_teste.classes"
   ]
  },
  {
   "cell_type": "code",
   "execution_count": 92,
   "id": "0f79c920",
   "metadata": {},
   "outputs": [
    {
     "data": {
      "text/plain": [
       "(120,)"
      ]
     },
     "execution_count": 92,
     "metadata": {},
     "output_type": "execute_result"
    }
   ],
   "source": [
    "# Precisamos dos labels para o plot da matriz de confusão\n",
    "labels_teste.shape"
   ]
  },
  {
   "cell_type": "code",
   "execution_count": 93,
   "id": "e68f8c45",
   "metadata": {},
   "outputs": [
    {
     "data": {
      "text/plain": [
       "{'Normal': 0, 'Tuberculose': 1}"
      ]
     },
     "execution_count": 93,
     "metadata": {},
     "output_type": "execute_result"
    }
   ],
   "source": [
    "# Imprimimos a etiqueta (label) associada a cada classe\n",
    "gen_teste.class_indices"
   ]
  },
  {
   "cell_type": "code",
   "execution_count": 94,
   "id": "3577184d",
   "metadata": {},
   "outputs": [
    {
     "name": "stdout",
     "output_type": "stream",
     "text": [
      "12/12 [==============================] - 1s 39ms/step\n"
     ]
    }
   ],
   "source": [
    "# Fazemos as previsões\n",
    "previsoes = model.predict_generator(gen_teste, steps = passos_val, verbose = 1)"
   ]
  },
  {
   "cell_type": "code",
   "execution_count": 95,
   "id": "c07c0e9a",
   "metadata": {},
   "outputs": [
    {
     "data": {
      "text/plain": [
       "(120, 2)"
      ]
     },
     "execution_count": 95,
     "metadata": {},
     "output_type": "execute_result"
    }
   ],
   "source": [
    "# Shape das previsões\n",
    "previsoes.shape"
   ]
  },
  {
   "cell_type": "code",
   "execution_count": 96,
   "id": "0e032fc5",
   "metadata": {},
   "outputs": [],
   "source": [
    "# Função para a Matriz de Confusão\n",
    "def plot_confusion_matrix(cm, \n",
    "                          classes,\n",
    "                          normalize = False,\n",
    "                          title = 'Matriz de Confusão',\n",
    "                          cmap = plt.cm.YlOrRd):\n",
    "\n",
    "    # Se normalize = True, obtemos a matriz de confusão com dados normalizados\n",
    "    if normalize:\n",
    "        cm = cm.astype('float') / cm.sum(axis = 1)[:, np.newaxis]\n",
    "        print(\"Matriz de Confusão Normalizada\")\n",
    "    else:\n",
    "        print('Matriz de Confusão Sem Normalização')\n",
    "\n",
    "    # Mostramos a Matriz de Confusão\n",
    "    print(cm)\n",
    "\n",
    "    # Plot\n",
    "    plt.imshow(cm, interpolation = 'nearest', cmap = cmap)\n",
    "    plt.title(title)\n",
    "    plt.colorbar()\n",
    "    tick_marks = np.arange(len(classes))\n",
    "    plt.xticks(tick_marks, classes, rotation = 45)\n",
    "    plt.yticks(tick_marks, classes)\n",
    "    fmt = '.2f' if normalize else 'd'\n",
    "    thresh = cm.max() / 2.\n",
    "    \n",
    "    # Plot do texto\n",
    "    for i, j in itertools.product(range(cm.shape[0]), range(cm.shape[1])):\n",
    "        plt.text(j, i, format(cm[i, j], fmt), \n",
    "                 horizontalalignment = \"center\",\n",
    "                 color = \"white\" if cm[i, j] > thresh else \"black\")\n",
    "\n",
    "    plt.ylabel('Label Verdadeiro')\n",
    "    plt.xlabel('Label Previsto')\n",
    "    plt.tight_layout()"
   ]
  },
  {
   "cell_type": "code",
   "execution_count": 97,
   "id": "cb3dd12a",
   "metadata": {},
   "outputs": [],
   "source": [
    "# A função argmax() retorna o índice do valor máximo em uma linha\n",
    "matriz_conf = confusion_matrix(labels_teste, previsoes.argmax(axis = 1))"
   ]
  },
  {
   "cell_type": "code",
   "execution_count": 98,
   "id": "4ca3195b",
   "metadata": {},
   "outputs": [
    {
     "data": {
      "text/plain": [
       "{'Normal': 0, 'Tuberculose': 1}"
      ]
     },
     "execution_count": 98,
     "metadata": {},
     "output_type": "execute_result"
    }
   ],
   "source": [
    "# Labels dos dados de teste\n",
    "gen_teste.class_indices"
   ]
  },
  {
   "cell_type": "code",
   "execution_count": 99,
   "id": "fa220270",
   "metadata": {},
   "outputs": [],
   "source": [
    "# Definimos os rótulos dos labels da classe. Eles precisam corresponder a ordem mostrada acima.\n",
    "matriz_conf_plot_labels = ['Normal', 'Tuberculose']"
   ]
  },
  {
   "cell_type": "code",
   "execution_count": 100,
   "id": "3db47c39",
   "metadata": {},
   "outputs": [
    {
     "name": "stdout",
     "output_type": "stream",
     "text": [
      "Matriz de Confusão Sem Normalização\n",
      "[[44 17]\n",
      " [11 48]]\n"
     ]
    },
    {
     "data": {
      "image/png": "[encoded data removed]",
      "text/plain": [
       "<Figure size 640x480 with 2 Axes>"
      ]
     },
     "metadata": {},
     "output_type": "display_data"
    }
   ],
   "source": [
    "# E então criamos o plot\n",
    "plot_confusion_matrix(matriz_conf, matriz_conf_plot_labels, title = 'Matriz de Confusão')"
   ]
  },
  {
   "cell_type": "code",
   "execution_count": 101,
   "id": "11dc2378",
   "metadata": {},
   "outputs": [],
   "source": [
    "# Geramos a sequência na qual o gerador processou as imagens de teste\n",
    "imagens_teste = gen_teste.filenames"
   ]
  },
  {
   "cell_type": "code",
   "execution_count": 102,
   "id": "cc614212",
   "metadata": {},
   "outputs": [],
   "source": [
    "# Obtemos os rótulos verdadeiros\n",
    "y_true = gen_teste.classes"
   ]
  },
  {
   "cell_type": "code",
   "execution_count": 103,
   "id": "b09687ba",
   "metadata": {},
   "outputs": [],
   "source": [
    "# Obtemos os rótulos previstos\n",
    "y_pred = previsoes.argmax(axis=1)"
   ]
  },
  {
   "cell_type": "code",
   "execution_count": 104,
   "id": "ce267ed7",
   "metadata": {},
   "outputs": [],
   "source": [
    "from sklearn.metrics import classification_report"
   ]
  },
  {
   "cell_type": "code",
   "execution_count": 105,
   "id": "6e975999",
   "metadata": {},
   "outputs": [
    {
     "name": "stdout",
     "output_type": "stream",
     "text": [
      "              precision    recall  f1-score   support\n",
      "\n",
      "      Normal       0.80      0.72      0.76        61\n",
      " Tuberculose       0.74      0.81      0.77        59\n",
      "\n",
      "    accuracy                           0.77       120\n",
      "   macro avg       0.77      0.77      0.77       120\n",
      "weighted avg       0.77      0.77      0.77       120\n",
      "\n"
     ]
    }
   ],
   "source": [
    "# Gera o relatório de classificação\n",
    "report = classification_report(y_true, y_pred, target_names = matriz_conf_plot_labels)\n",
    "print(report)"
   ]
  },
  {
   "cell_type": "markdown",
   "id": "1e03f5f5",
   "metadata": {},
   "source": [
    "- Recall = Dada uma classe, o classificador será capaz de detectá-la?\n",
    "\n",
    "- Precision = Dada uma previsão de classe, qual a probabilidade de estar correta?\n",
    "\n",
    "- F1 Score = A média harmônica de Recall e Precision. Essencialmente, ele pune valores extremos.\n",
    "\n",
    "F1 Score é maior que 0.8 para a classe Normal, indicando que o modelo tende a prever melhor essa categoria, que a categoria Tuberculose. Podemos voltar e tentar ajustar alguns hiperparâmetros. Vou deixar isso com você.\n",
    "\n",
    "Mas no geral, modelo apresenta um bom equilíbrio, embora ainda tenhamos espaço para melhorias. Leia o manual em pdf na sequência com o passo a passo para deploy do modelo."
   ]
  }
 ],
 "metadata": {
  "kernelspec": {
   "display_name": "Python 3 (ipykernel)",
   "language": "python",
   "name": "python3"
  },
  "language_info": {
   "codemirror_mode": {
    "name": "ipython",
    "version": 3
   },
   "file_extension": ".py",
   "mimetype": "text/x-python",
   "name": "python",
   "nbconvert_exporter": "python",
   "pygments_lexer": "ipython3",
   "version": "3.9.13"
  }
 },
 "nbformat": 4,
 "nbformat_minor": 5
}
