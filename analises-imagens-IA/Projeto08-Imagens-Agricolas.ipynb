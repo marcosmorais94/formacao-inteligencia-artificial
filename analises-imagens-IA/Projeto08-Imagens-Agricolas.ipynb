{
 "cells": [
  {
   "cell_type": "markdown",
   "id": "e519c2c9",
   "metadata": {},
   "source": [
    "# Projeto 8 - Detecção de Pragas com Imagens Agrícolas usando Inteligência Artificial"
   ]
  },
  {
   "cell_type": "markdown",
   "id": "ea856bd9",
   "metadata": {},
   "source": [
    "A  ferrugem  da  folha  do  trigo  é  a  doença  mais  comum  desta cultura.  As  perdas  em rendimento de grãos podem chegar a 50%.Essa doença  manifesta-se desde o surgimento das  primeiras folhas até a maturação da planta.  \n",
    "\n",
    "Inicialmente,  surgem  pequenos  nódulos  arredondados,  amarelo-alaranjados,  dispostos sem  ordenação  (parecendo  ferrugem  mesmo),  normalmente  localizados  na  face  superior  das folhas, estendendo-se ao caule. Estas frutificações ficam sempre recobertas pela epiderme até o final do ciclo da planta.\n",
    "\n",
    "O patógeno sobrevive no verão-outono parasitando plantas de trigo que se constituem na principal fonte de problemas em plantações de trigo em países mais quentes, como o Brasil. As condições ambientais para o desenvolvimento da doença são temperatura média de 20ºC e mais de 6 horas de molhamento foliar contínuo.\n",
    "\n",
    "O  objetivo  deste  Projeto  é  construir  um  modelo  de  Deep  Learning  para  classificar corretamente se uma planta (trigo) é saudável, possui ferrugem no caule ou ferrugem na folha.\n",
    "\n",
    "Fonte dos dados: https://zindi.africa/competitions/iclr-workshop-challenge-1-cgiar-computer-vision-for-crop-disease/data"
   ]
  },
  {
   "cell_type": "markdown",
   "id": "3c22c9ef",
   "metadata": {},
   "source": [
    "## 1. Instalando e carregando os pacotes"
   ]
  },
  {
   "cell_type": "code",
   "execution_count": 1,
   "id": "7d335fd5",
   "metadata": {},
   "outputs": [
    {
     "name": "stdout",
     "output_type": "stream",
     "text": [
      "Versão da Linguagem Python Usada Neste Jupyter Notebook: 3.9.13\n"
     ]
    }
   ],
   "source": [
    "# Versão da Linguagem Python\n",
    "from platform import python_version\n",
    "print('Versão da Linguagem Python Usada Neste Jupyter Notebook:', python_version())"
   ]
  },
  {
   "cell_type": "code",
   "execution_count": 2,
   "id": "d6f22929",
   "metadata": {},
   "outputs": [],
   "source": [
    "# Pacote de utilitários\n",
    "!pip install -q imutils"
   ]
  },
  {
   "cell_type": "code",
   "execution_count": 3,
   "id": "0ad456d8",
   "metadata": {},
   "outputs": [
    {
     "name": "stdout",
     "output_type": "stream",
     "text": [
      "env: TF_CPP_MIN_LOG_LEVEL=3\n"
     ]
    }
   ],
   "source": [
    "# Comando para silenciar o Keras\n",
    "%env TF_CPP_MIN_LOG_LEVEL=3"
   ]
  },
  {
   "cell_type": "code",
   "execution_count": 4,
   "id": "449558c2",
   "metadata": {},
   "outputs": [],
   "source": [
    "# Imports\n",
    "\n",
    "# Pacotes para manipulação e visualização de dados\n",
    "import os\n",
    "import cv2\n",
    "import pickle\n",
    "import imutils\n",
    "import random\n",
    "import sklearn\n",
    "import matplotlib\n",
    "import numpy as np\n",
    "import matplotlib.pyplot as plt\n",
    "from imutils import paths\n",
    "from random import randint\n",
    "from collections import defaultdict\n",
    "\n",
    "# Pacotes para Deep Learning\n",
    "import tensorflow as tf\n",
    "import keras\n",
    "from keras import backend as K\n",
    "from keras.models import load_model, save_model\n",
    "from keras.callbacks import ModelCheckpoint, EarlyStopping\n",
    "from keras.preprocessing.image import ImageDataGenerator\n",
    "from tensorflow.keras.utils import img_to_array, load_img\n",
    "from tensorflow.keras.optimizers import Adam \n",
    "\n",
    "# Pacotes para processamento de dados e avaliação do modelo\n",
    "from sklearn.preprocessing import LabelBinarizer\n",
    "from sklearn.model_selection import train_test_split\n",
    "\n",
    "# Define a área de plotagem das imagens\n",
    "from IPython.display import clear_output\n",
    "plt.rcParams['figure.figsize'] = (15, 9)\n",
    "%matplotlib inline"
   ]
  },
  {
   "cell_type": "code",
   "execution_count": 5,
   "id": "ea8f705d",
   "metadata": {},
   "outputs": [
    {
     "name": "stdout",
     "output_type": "stream",
     "text": [
      "Author: Projeto 08 - Detecção de Pragas com Imagens Agrícolas\n",
      "\n",
      "cv2       : 4.7.0\n",
      "sklearn   : 1.0.2\n",
      "keras     : 2.11.0\n",
      "matplotlib: 3.5.2\n",
      "numpy     : 1.21.5\n",
      "tensorflow: 2.11.0\n",
      "imutils   : 0.5.4\n",
      "\n"
     ]
    }
   ],
   "source": [
    "# Versões dos pacotes usados neste jupyter notebook\n",
    "%reload_ext watermark\n",
    "%watermark -a \"Projeto 08 - Detecção de Pragas com Imagens Agrícolas\" --iversions"
   ]
  },
  {
   "cell_type": "markdown",
   "id": "80adad5e",
   "metadata": {},
   "source": [
    "## 2. Carga das imagens de treino"
   ]
  },
  {
   "cell_type": "code",
   "execution_count": 9,
   "id": "d55ee97f",
   "metadata": {},
   "outputs": [],
   "source": [
    "# Imagens de treino\n",
    "imagens_treino = \"dados/train\"\n",
    "\n",
    "# Imagens de teste\n",
    "imagens_teste = \"dados/test\""
   ]
  },
  {
   "cell_type": "code",
   "execution_count": 10,
   "id": "120a204e",
   "metadata": {},
   "outputs": [],
   "source": [
    "# Caminho das imagens\n",
    "caminho_imagens_treino = sorted(list(paths.list_images(imagens_treino)))"
   ]
  },
  {
   "cell_type": "code",
   "execution_count": 11,
   "id": "e5c66dd6",
   "metadata": {},
   "outputs": [],
   "source": [
    "# Suffle das imagens\n",
    "random.shuffle(caminho_imagens_treino)"
   ]
  },
  {
   "cell_type": "code",
   "execution_count": 14,
   "id": "a2e2a3ea",
   "metadata": {},
   "outputs": [],
   "source": [
    "# Lista para armazenar as imagens\n",
    "dados = []\n",
    "\n",
    "# Lista para armazenar os labels\n",
    "labels = []\n",
    "\n",
    "# Dimensões das imagens\n",
    "image_dims = (224, 224, 3)"
   ]
  },
  {
   "cell_type": "code",
   "execution_count": 15,
   "id": "8d2242d2",
   "metadata": {},
   "outputs": [
    {
     "name": "stdout",
     "output_type": "stream",
     "text": [
      "\n",
      "Iniciando o processamento das imagens de treino. Aguarde.\n",
      "\n",
      "Processamento Concluído. Total de imagens processadas: 562\n"
     ]
    }
   ],
   "source": [
    "# Loop pelos caminhos das imagens de treino\n",
    "\n",
    "print(\"\\nIniciando o processamento das imagens de treino. Aguarde.\")\n",
    "\n",
    "count = 0\n",
    "\n",
    "for caminho in caminho_imagens_treino:\n",
    "    \n",
    "    # Leitura da imagem\n",
    "    image = cv2.imread(caminho)\n",
    "    \n",
    "    # Redimensionamento\n",
    "    # Argumento cv2.INTER_AREA é para realizar a interpolação das imagens\n",
    "    # Isso é necessário porque nem todas as imagens podem ficar com 224 x 224\n",
    "    image = cv2.resize(image, (image_dims[1], image_dims[0]), cv2.INTER_AREA)\n",
    "    \n",
    "    # Converte a imagem para array numpy\n",
    "    image = img_to_array(image)\n",
    "    \n",
    "    # Adiciona o array da imagem à lista de arrays\n",
    "    dados.append(image)\n",
    "\n",
    "    # Extrai o label das classes\n",
    "    label = caminho.split(os.path.sep)[-2]\n",
    "\n",
    "    # Adiciona o label à lista de labels\n",
    "    labels.append(label)\n",
    "    \n",
    "    # Atualiza o contador\n",
    "    count += 1\n",
    "\n",
    "print(\"\\nProcessamento Concluído. Total de imagens processadas:\", count)"
   ]
  },
  {
   "cell_type": "code",
   "execution_count": 16,
   "id": "4e8167ec",
   "metadata": {},
   "outputs": [],
   "source": [
    "# Padroniza a intensidade dos pixels para o range [0,1]\n",
    "dados = np.array(dados, dtype = 'float') / 255.0"
   ]
  },
  {
   "cell_type": "code",
   "execution_count": 17,
   "id": "6ece8364",
   "metadata": {},
   "outputs": [],
   "source": [
    "# Convertemos os labels para o formato de array numpy\n",
    "labels = np.array(labels)"
   ]
  },
  {
   "cell_type": "code",
   "execution_count": 18,
   "id": "bd6cb423",
   "metadata": {},
   "outputs": [
    {
     "data": {
      "text/plain": [
       "array(['stem_rust', 'stem_rust', 'stem_rust', 'stem_rust',\n",
       "       'healthy_wheat', 'stem_rust', 'stem_rust', 'leaf_rust',\n",
       "       'stem_rust'], dtype='<U13')"
      ]
     },
     "execution_count": 18,
     "metadata": {},
     "output_type": "execute_result"
    }
   ],
   "source": [
    "# Conversão dos labels em binário\n",
    "# Amostra dos labels\n",
    "labels[1:10]"
   ]
  },
  {
   "cell_type": "code",
   "execution_count": 19,
   "id": "262f2a82",
   "metadata": {},
   "outputs": [],
   "source": [
    "# Cria o binarizador\n",
    "binarizador = LabelBinarizer()"
   ]
  },
  {
   "cell_type": "code",
   "execution_count": 20,
   "id": "4399a5e6",
   "metadata": {},
   "outputs": [],
   "source": [
    "# Aplica o binarizador aos labels\n",
    "labels = binarizador.fit_transform(labels)"
   ]
  },
  {
   "cell_type": "code",
   "execution_count": 21,
   "id": "f4da835b",
   "metadata": {},
   "outputs": [
    {
     "data": {
      "text/plain": [
       "array([[0, 0, 1],\n",
       "       [0, 0, 1],\n",
       "       [0, 0, 1],\n",
       "       [0, 0, 1],\n",
       "       [1, 0, 0],\n",
       "       [0, 0, 1],\n",
       "       [0, 0, 1],\n",
       "       [0, 1, 0],\n",
       "       [0, 0, 1]])"
      ]
     },
     "execution_count": 21,
     "metadata": {},
     "output_type": "execute_result"
    }
   ],
   "source": [
    "# Visualiza os labels\n",
    "labels[1:10]"
   ]
  },
  {
   "cell_type": "code",
   "execution_count": 22,
   "id": "c349d34b",
   "metadata": {},
   "outputs": [],
   "source": [
    "# Salva o binarizador, para usar nos dados de teste\n",
    "obj_binarizador = open(\"modelos/binarizador.pickle\", \"wb\")\n",
    "obj_binarizador.write(pickle.dumps(binarizador))\n",
    "obj_binarizador.close()"
   ]
  },
  {
   "cell_type": "code",
   "execution_count": 23,
   "id": "bdd343ce",
   "metadata": {},
   "outputs": [],
   "source": [
    "# Divisão dos dados em treino e teste\n",
    "(X_treino, X_teste, y_treino, y_teste) = train_test_split(dados, labels, test_size = 0.2)"
   ]
  },
  {
   "cell_type": "code",
   "execution_count": 24,
   "id": "76de93d2",
   "metadata": {},
   "outputs": [
    {
     "name": "stdout",
     "output_type": "stream",
     "text": [
      "Shape de X_treino: (449, 224, 224, 3)\n",
      "Shape de y_treino: (449, 3)\n",
      "Shape de X_teste: (113, 224, 224, 3)\n",
      "Shape de y_teste: (113, 3)\n"
     ]
    }
   ],
   "source": [
    "# Shape dos dados de treino e teste\n",
    "print(\"Shape de X_treino:\", X_treino.shape)\n",
    "print(\"Shape de y_treino:\", y_treino.shape)\n",
    "print(\"Shape de X_teste:\", X_teste.shape)\n",
    "print(\"Shape de y_teste:\", y_teste.shape)"
   ]
  },
  {
   "cell_type": "markdown",
   "id": "60f667d7",
   "metadata": {},
   "source": [
    "## 3. Construção do modelo"
   ]
  },
  {
   "cell_type": "code",
   "execution_count": null,
   "id": "8cba771b",
   "metadata": {},
   "outputs": [],
   "source": []
  },
  {
   "cell_type": "code",
   "execution_count": null,
   "id": "fe0dd7dc",
   "metadata": {},
   "outputs": [],
   "source": []
  },
  {
   "cell_type": "code",
   "execution_count": null,
   "id": "665e78ca",
   "metadata": {},
   "outputs": [],
   "source": []
  },
  {
   "cell_type": "code",
   "execution_count": null,
   "id": "62ff0ad2",
   "metadata": {},
   "outputs": [],
   "source": []
  },
  {
   "cell_type": "code",
   "execution_count": null,
   "id": "630f5beb",
   "metadata": {},
   "outputs": [],
   "source": []
  },
  {
   "cell_type": "code",
   "execution_count": null,
   "id": "7f141901",
   "metadata": {},
   "outputs": [],
   "source": []
  },
  {
   "cell_type": "code",
   "execution_count": null,
   "id": "a7d2e8c4",
   "metadata": {},
   "outputs": [],
   "source": []
  },
  {
   "cell_type": "code",
   "execution_count": null,
   "id": "25a56d15",
   "metadata": {},
   "outputs": [],
   "source": []
  },
  {
   "cell_type": "code",
   "execution_count": null,
   "id": "8ec47e2e",
   "metadata": {},
   "outputs": [],
   "source": []
  },
  {
   "cell_type": "code",
   "execution_count": null,
   "id": "7e50ca3a",
   "metadata": {},
   "outputs": [],
   "source": []
  },
  {
   "cell_type": "code",
   "execution_count": null,
   "id": "81ed2f56",
   "metadata": {},
   "outputs": [],
   "source": []
  },
  {
   "cell_type": "code",
   "execution_count": null,
   "id": "43fa7d03",
   "metadata": {},
   "outputs": [],
   "source": []
  },
  {
   "cell_type": "code",
   "execution_count": null,
   "id": "b21730ab",
   "metadata": {},
   "outputs": [],
   "source": []
  }
 ],
 "metadata": {
  "kernelspec": {
   "display_name": "Python 3 (ipykernel)",
   "language": "python",
   "name": "python3"
  },
  "language_info": {
   "codemirror_mode": {
    "name": "ipython",
    "version": 3
   },
   "file_extension": ".py",
   "mimetype": "text/x-python",
   "name": "python",
   "nbconvert_exporter": "python",
   "pygments_lexer": "ipython3",
   "version": "3.9.13"
  }
 },
 "nbformat": 4,
 "nbformat_minor": 5
}
