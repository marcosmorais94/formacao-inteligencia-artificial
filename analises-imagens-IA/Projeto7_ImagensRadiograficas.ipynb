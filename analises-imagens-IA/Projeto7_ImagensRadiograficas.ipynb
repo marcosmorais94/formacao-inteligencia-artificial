{
 "cells": [
  {
   "cell_type": "markdown",
   "id": "37b08603",
   "metadata": {},
   "source": [
    "# Projeto IA - Análise de Imagens Radiográficas"
   ]
  },
  {
   "cell_type": "markdown",
   "id": "54334510",
   "metadata": {},
   "source": [
    "Os  algoritmos  de  Inteligência  Artificial  (IA), particularmente  o  aprendizado  profundo (Deep  Learning),  demonstraram  um  progresso  notável  nas  tarefas  de  reconhecimento  de imagens. Métodos que variam de redes neurais convolucionais a auto-codificadores variacionais encontraram  inúmeras  aplicações  no  campo  da  análise  de  imagens  médicas,  impulsionando  a pesquisa em um ritmo acelerado.Os métodos de IA são excelentes em reconhecer automaticamente padrões complexos nos dados de imagem e fornecer avaliações quantitativas, e não qualitativas, das características radiográficas e podem servir de suporte para os profissionais de saúde.\n",
    "\n",
    "O objetivo  deste projeto é criar  um  modelo  de  IA  capaz  de  detectar anormalidades em imagens de radiografias de membros do corpo humano.\n",
    "\n",
    "\n",
    "Fonte dos dados: https://stanfordmlgroup.github.io/competitions/mura/\n",
    "Fonte do Paper: https://arxiv.org/abs/1712.06957"
   ]
  },
  {
   "cell_type": "markdown",
   "id": "355d711c",
   "metadata": {},
   "source": [
    "## 1. Instalação e carga dos pacotes"
   ]
  },
  {
   "cell_type": "code",
   "execution_count": 1,
   "id": "b8a3a571",
   "metadata": {},
   "outputs": [
    {
     "name": "stdout",
     "output_type": "stream",
     "text": [
      "Versão da Linguagem Python Usada Neste Jupyter Notebook: 3.9.13\n"
     ]
    }
   ],
   "source": [
    "# Versão da Linguagem Python\n",
    "from platform import python_version\n",
    "print('Versão da Linguagem Python Usada Neste Jupyter Notebook:', python_version())"
   ]
  },
  {
   "cell_type": "code",
   "execution_count": 2,
   "id": "0dd6a206",
   "metadata": {},
   "outputs": [
    {
     "name": "stdout",
     "output_type": "stream",
     "text": [
      "env: TF_CPP_MIN_LOG_LEVEL=3\n"
     ]
    }
   ],
   "source": [
    "# Comando para silenciar o Keras\n",
    "%env TF_CPP_MIN_LOG_LEVEL=3"
   ]
  },
  {
   "cell_type": "code",
   "execution_count": 3,
   "id": "e1323376",
   "metadata": {},
   "outputs": [],
   "source": [
    "# Manipulação do SO\n",
    "import io\n",
    "import os\n",
    "import cv2\n",
    "\n",
    "# Manipulação de arquivos/pastas\n",
    "from glob import glob\n",
    "\n",
    "# Manipulação de dados\n",
    "import numpy as np\n",
    "import pandas as pd\n",
    "\n",
    "# Visualização dos dados\n",
    "import matplotlib\n",
    "import matplotlib.pyplot as plt\n",
    "import seaborn as sns\n",
    "\n",
    "# Keras e Tensorflow\n",
    "import keras\n",
    "import tensorflow\n",
    "import keras.backend as k\n",
    "from keras.models import Sequential\n",
    "from keras.layers import Conv2D, MaxPooling2D\n",
    "from keras.layers import Activation, Dropout, Flatten, Dense\n",
    "from keras.preprocessing.image import ImageDataGenerator\n",
    "import warnings\n",
    "warnings.filterwarnings('ignore')\n",
    "%matplotlib inline"
   ]
  },
  {
   "cell_type": "code",
   "execution_count": 4,
   "id": "d015a654",
   "metadata": {},
   "outputs": [
    {
     "name": "stdout",
     "output_type": "stream",
     "text": [
      "Author: Projeto IA - Análise de Imagens Radiográficas\n",
      "\n",
      "numpy     : 1.21.5\n",
      "seaborn   : 0.11.2\n",
      "matplotlib: 3.5.2\n",
      "cv2       : 4.7.0\n",
      "pandas    : 1.4.4\n",
      "keras     : 2.11.0\n",
      "tensorflow: 2.11.0\n",
      "\n"
     ]
    }
   ],
   "source": [
    "# Versões dos pacotes usados neste jupyter notebook\n",
    "%reload_ext watermark\n",
    "%watermark -a \"Projeto IA - Análise de Imagens Radiográficas\" --iversions"
   ]
  },
  {
   "cell_type": "markdown",
   "id": "6624d224",
   "metadata": {},
   "source": [
    "## 2. Carregando imagens e labels"
   ]
  },
  {
   "cell_type": "code",
   "execution_count": 5,
   "id": "13dd83ca",
   "metadata": {},
   "outputs": [],
   "source": [
    "# Caminho para os arquivos do dataset MURA\n",
    "caminho_dataset = 'dados/MURA-v1.1'"
   ]
  },
  {
   "cell_type": "code",
   "execution_count": 6,
   "id": "33b92699",
   "metadata": {},
   "outputs": [],
   "source": [
    "# Carregando a lista de imagens de treino\n",
    "df_imagens_treino = pd.read_csv(caminho_dataset + '/train_image_paths.csv',\n",
    "                                header = None,\n",
    "                                names = ['imagem'],\n",
    "                                dtype = str)"
   ]
  },
  {
   "cell_type": "code",
   "execution_count": 7,
   "id": "0a57b540",
   "metadata": {},
   "outputs": [
    {
     "data": {
      "text/html": [
       "<div>\n",
       "<style scoped>\n",
       "    .dataframe tbody tr th:only-of-type {\n",
       "        vertical-align: middle;\n",
       "    }\n",
       "\n",
       "    .dataframe tbody tr th {\n",
       "        vertical-align: top;\n",
       "    }\n",
       "\n",
       "    .dataframe thead th {\n",
       "        text-align: right;\n",
       "    }\n",
       "</style>\n",
       "<table border=\"1\" class=\"dataframe\">\n",
       "  <thead>\n",
       "    <tr style=\"text-align: right;\">\n",
       "      <th></th>\n",
       "      <th>imagem</th>\n",
       "    </tr>\n",
       "  </thead>\n",
       "  <tbody>\n",
       "    <tr>\n",
       "      <th>0</th>\n",
       "      <td>MURA-v1.1/train/XR_SHOULDER/patient00001/study...</td>\n",
       "    </tr>\n",
       "    <tr>\n",
       "      <th>1</th>\n",
       "      <td>MURA-v1.1/train/XR_SHOULDER/patient00001/study...</td>\n",
       "    </tr>\n",
       "    <tr>\n",
       "      <th>2</th>\n",
       "      <td>MURA-v1.1/train/XR_SHOULDER/patient00001/study...</td>\n",
       "    </tr>\n",
       "    <tr>\n",
       "      <th>3</th>\n",
       "      <td>MURA-v1.1/train/XR_SHOULDER/patient00002/study...</td>\n",
       "    </tr>\n",
       "    <tr>\n",
       "      <th>4</th>\n",
       "      <td>MURA-v1.1/train/XR_SHOULDER/patient00002/study...</td>\n",
       "    </tr>\n",
       "  </tbody>\n",
       "</table>\n",
       "</div>"
      ],
      "text/plain": [
       "                                              imagem\n",
       "0  MURA-v1.1/train/XR_SHOULDER/patient00001/study...\n",
       "1  MURA-v1.1/train/XR_SHOULDER/patient00001/study...\n",
       "2  MURA-v1.1/train/XR_SHOULDER/patient00001/study...\n",
       "3  MURA-v1.1/train/XR_SHOULDER/patient00002/study...\n",
       "4  MURA-v1.1/train/XR_SHOULDER/patient00002/study..."
      ]
     },
     "execution_count": 7,
     "metadata": {},
     "output_type": "execute_result"
    }
   ],
   "source": [
    "# Visualiza os dados\n",
    "df_imagens_treino.head()"
   ]
  },
  {
   "cell_type": "code",
   "execution_count": 8,
   "id": "2bf8ccca",
   "metadata": {},
   "outputs": [],
   "source": [
    "# Variável para ajuste do caminho para as imagens\n",
    "caminho_mura = 'dados/'"
   ]
  },
  {
   "cell_type": "code",
   "execution_count": 9,
   "id": "c62ee49a",
   "metadata": {},
   "outputs": [],
   "source": [
    "# Ajustando o caminho para as imagens\n",
    "df_imagens_treino['imagem'] = caminho_mura + df_imagens_treino['imagem']"
   ]
  },
  {
   "cell_type": "code",
   "execution_count": 10,
   "id": "96837505",
   "metadata": {},
   "outputs": [
    {
     "data": {
      "text/html": [
       "<div>\n",
       "<style scoped>\n",
       "    .dataframe tbody tr th:only-of-type {\n",
       "        vertical-align: middle;\n",
       "    }\n",
       "\n",
       "    .dataframe tbody tr th {\n",
       "        vertical-align: top;\n",
       "    }\n",
       "\n",
       "    .dataframe thead th {\n",
       "        text-align: right;\n",
       "    }\n",
       "</style>\n",
       "<table border=\"1\" class=\"dataframe\">\n",
       "  <thead>\n",
       "    <tr style=\"text-align: right;\">\n",
       "      <th></th>\n",
       "      <th>imagem</th>\n",
       "    </tr>\n",
       "  </thead>\n",
       "  <tbody>\n",
       "    <tr>\n",
       "      <th>0</th>\n",
       "      <td>dados/MURA-v1.1/train/XR_SHOULDER/patient00001...</td>\n",
       "    </tr>\n",
       "    <tr>\n",
       "      <th>1</th>\n",
       "      <td>dados/MURA-v1.1/train/XR_SHOULDER/patient00001...</td>\n",
       "    </tr>\n",
       "    <tr>\n",
       "      <th>2</th>\n",
       "      <td>dados/MURA-v1.1/train/XR_SHOULDER/patient00001...</td>\n",
       "    </tr>\n",
       "    <tr>\n",
       "      <th>3</th>\n",
       "      <td>dados/MURA-v1.1/train/XR_SHOULDER/patient00002...</td>\n",
       "    </tr>\n",
       "    <tr>\n",
       "      <th>4</th>\n",
       "      <td>dados/MURA-v1.1/train/XR_SHOULDER/patient00002...</td>\n",
       "    </tr>\n",
       "  </tbody>\n",
       "</table>\n",
       "</div>"
      ],
      "text/plain": [
       "                                              imagem\n",
       "0  dados/MURA-v1.1/train/XR_SHOULDER/patient00001...\n",
       "1  dados/MURA-v1.1/train/XR_SHOULDER/patient00001...\n",
       "2  dados/MURA-v1.1/train/XR_SHOULDER/patient00001...\n",
       "3  dados/MURA-v1.1/train/XR_SHOULDER/patient00002...\n",
       "4  dados/MURA-v1.1/train/XR_SHOULDER/patient00002..."
      ]
     },
     "execution_count": 10,
     "metadata": {},
     "output_type": "execute_result"
    }
   ],
   "source": [
    "# Visualiza o caminho ajustado\n",
    "df_imagens_treino.head()"
   ]
  },
  {
   "cell_type": "code",
   "execution_count": 11,
   "id": "fbae1c8f",
   "metadata": {},
   "outputs": [],
   "source": [
    "# Carregando os labels e caminho das imagens de treino\n",
    "df_img_labels_treino = pd.read_csv(caminho_dataset + '/train_labeled_studies.csv',\n",
    "                                   header = None,\n",
    "                                   names = ['caminho_imagem', 'label'],\n",
    "                                   dtype = str)"
   ]
  },
  {
   "cell_type": "code",
   "execution_count": 12,
   "id": "1e921bd3",
   "metadata": {},
   "outputs": [],
   "source": [
    "# Ajustando o caminho para as imagens\n",
    "df_img_labels_treino['caminho_imagem'] = caminho_mura + df_img_labels_treino['caminho_imagem']"
   ]
  },
  {
   "cell_type": "code",
   "execution_count": 13,
   "id": "704687e1",
   "metadata": {},
   "outputs": [
    {
     "data": {
      "text/html": [
       "<div>\n",
       "<style scoped>\n",
       "    .dataframe tbody tr th:only-of-type {\n",
       "        vertical-align: middle;\n",
       "    }\n",
       "\n",
       "    .dataframe tbody tr th {\n",
       "        vertical-align: top;\n",
       "    }\n",
       "\n",
       "    .dataframe thead th {\n",
       "        text-align: right;\n",
       "    }\n",
       "</style>\n",
       "<table border=\"1\" class=\"dataframe\">\n",
       "  <thead>\n",
       "    <tr style=\"text-align: right;\">\n",
       "      <th></th>\n",
       "      <th>caminho_imagem</th>\n",
       "      <th>label</th>\n",
       "    </tr>\n",
       "  </thead>\n",
       "  <tbody>\n",
       "    <tr>\n",
       "      <th>0</th>\n",
       "      <td>dados/MURA-v1.1/train/XR_SHOULDER/patient00001...</td>\n",
       "      <td>1</td>\n",
       "    </tr>\n",
       "    <tr>\n",
       "      <th>1</th>\n",
       "      <td>dados/MURA-v1.1/train/XR_SHOULDER/patient00002...</td>\n",
       "      <td>1</td>\n",
       "    </tr>\n",
       "    <tr>\n",
       "      <th>2</th>\n",
       "      <td>dados/MURA-v1.1/train/XR_SHOULDER/patient00003...</td>\n",
       "      <td>1</td>\n",
       "    </tr>\n",
       "    <tr>\n",
       "      <th>3</th>\n",
       "      <td>dados/MURA-v1.1/train/XR_SHOULDER/patient00004...</td>\n",
       "      <td>1</td>\n",
       "    </tr>\n",
       "    <tr>\n",
       "      <th>4</th>\n",
       "      <td>dados/MURA-v1.1/train/XR_SHOULDER/patient00005...</td>\n",
       "      <td>1</td>\n",
       "    </tr>\n",
       "  </tbody>\n",
       "</table>\n",
       "</div>"
      ],
      "text/plain": [
       "                                      caminho_imagem label\n",
       "0  dados/MURA-v1.1/train/XR_SHOULDER/patient00001...     1\n",
       "1  dados/MURA-v1.1/train/XR_SHOULDER/patient00002...     1\n",
       "2  dados/MURA-v1.1/train/XR_SHOULDER/patient00003...     1\n",
       "3  dados/MURA-v1.1/train/XR_SHOULDER/patient00004...     1\n",
       "4  dados/MURA-v1.1/train/XR_SHOULDER/patient00005...     1"
      ]
     },
     "execution_count": 13,
     "metadata": {},
     "output_type": "execute_result"
    }
   ],
   "source": [
    "# Visualiza os dados\n",
    "df_img_labels_treino.head()"
   ]
  },
  {
   "cell_type": "code",
   "execution_count": 14,
   "id": "efbe3fbc",
   "metadata": {},
   "outputs": [],
   "source": [
    "# Carregando a lista de imagens de teste\n",
    "df_imagens_teste = pd.read_csv(caminho_dataset + '/valid_image_paths.csv',\n",
    "                               header = None,\n",
    "                               names = ['imagem'],\n",
    "                               dtype = str)"
   ]
  },
  {
   "cell_type": "code",
   "execution_count": 15,
   "id": "523db311",
   "metadata": {},
   "outputs": [],
   "source": [
    "# Ajustando o caminho para as imagens\n",
    "df_imagens_teste['imagem'] = caminho_mura + df_imagens_teste['imagem']"
   ]
  },
  {
   "cell_type": "code",
   "execution_count": 16,
   "id": "ce13c8f5",
   "metadata": {},
   "outputs": [],
   "source": [
    "# Carregando os labels e caminho das imagens de teste\n",
    "df_img_labels_teste = pd.read_csv(caminho_dataset + '/valid_labeled_studies.csv',\n",
    "                                  header = None,\n",
    "                                  names = ['caminho_imagem', 'label'],\n",
    "                                  dtype = str)"
   ]
  },
  {
   "cell_type": "code",
   "execution_count": 17,
   "id": "7e4028f3",
   "metadata": {},
   "outputs": [],
   "source": [
    "# Ajustando o caminho para as imagens\n",
    "df_img_labels_teste['caminho_imagem'] = caminho_mura + df_img_labels_teste['caminho_imagem'] "
   ]
  },
  {
   "cell_type": "code",
   "execution_count": 18,
   "id": "188325f0",
   "metadata": {},
   "outputs": [
    {
     "data": {
      "text/html": [
       "<div>\n",
       "<style scoped>\n",
       "    .dataframe tbody tr th:only-of-type {\n",
       "        vertical-align: middle;\n",
       "    }\n",
       "\n",
       "    .dataframe tbody tr th {\n",
       "        vertical-align: top;\n",
       "    }\n",
       "\n",
       "    .dataframe thead th {\n",
       "        text-align: right;\n",
       "    }\n",
       "</style>\n",
       "<table border=\"1\" class=\"dataframe\">\n",
       "  <thead>\n",
       "    <tr style=\"text-align: right;\">\n",
       "      <th></th>\n",
       "      <th>caminho_imagem</th>\n",
       "      <th>label</th>\n",
       "    </tr>\n",
       "  </thead>\n",
       "  <tbody>\n",
       "    <tr>\n",
       "      <th>0</th>\n",
       "      <td>dados/MURA-v1.1/valid/XR_WRIST/patient11185/st...</td>\n",
       "      <td>1</td>\n",
       "    </tr>\n",
       "    <tr>\n",
       "      <th>1</th>\n",
       "      <td>dados/MURA-v1.1/valid/XR_WRIST/patient11186/st...</td>\n",
       "      <td>1</td>\n",
       "    </tr>\n",
       "    <tr>\n",
       "      <th>2</th>\n",
       "      <td>dados/MURA-v1.1/valid/XR_WRIST/patient11186/st...</td>\n",
       "      <td>1</td>\n",
       "    </tr>\n",
       "    <tr>\n",
       "      <th>3</th>\n",
       "      <td>dados/MURA-v1.1/valid/XR_WRIST/patient11186/st...</td>\n",
       "      <td>1</td>\n",
       "    </tr>\n",
       "    <tr>\n",
       "      <th>4</th>\n",
       "      <td>dados/MURA-v1.1/valid/XR_WRIST/patient11187/st...</td>\n",
       "      <td>1</td>\n",
       "    </tr>\n",
       "  </tbody>\n",
       "</table>\n",
       "</div>"
      ],
      "text/plain": [
       "                                      caminho_imagem label\n",
       "0  dados/MURA-v1.1/valid/XR_WRIST/patient11185/st...     1\n",
       "1  dados/MURA-v1.1/valid/XR_WRIST/patient11186/st...     1\n",
       "2  dados/MURA-v1.1/valid/XR_WRIST/patient11186/st...     1\n",
       "3  dados/MURA-v1.1/valid/XR_WRIST/patient11186/st...     1\n",
       "4  dados/MURA-v1.1/valid/XR_WRIST/patient11187/st...     1"
      ]
     },
     "execution_count": 18,
     "metadata": {},
     "output_type": "execute_result"
    }
   ],
   "source": [
    "# Visualiza\n",
    "df_img_labels_teste.head()"
   ]
  },
  {
   "cell_type": "markdown",
   "id": "99cc6892",
   "metadata": {},
   "source": [
    "## 3. Analisando os dados e Engenharia de Atributos"
   ]
  },
  {
   "cell_type": "code",
   "execution_count": 19,
   "id": "4802ed6c",
   "metadata": {},
   "outputs": [
    {
     "data": {
      "text/plain": [
       "(36808, 1)"
      ]
     },
     "execution_count": 19,
     "metadata": {},
     "output_type": "execute_result"
    }
   ],
   "source": [
    "# Shape das imagens de treino\n",
    "df_imagens_treino.shape"
   ]
  },
  {
   "cell_type": "code",
   "execution_count": 20,
   "id": "fb695bd1",
   "metadata": {},
   "outputs": [
    {
     "data": {
      "text/plain": [
       "(13457, 2)"
      ]
     },
     "execution_count": 20,
     "metadata": {},
     "output_type": "execute_result"
    }
   ],
   "source": [
    "# Shape labels de treino\n",
    "df_img_labels_treino.shape"
   ]
  },
  {
   "cell_type": "code",
   "execution_count": 21,
   "id": "a6bd0227",
   "metadata": {},
   "outputs": [
    {
     "data": {
      "text/plain": [
       "0    8280\n",
       "1    5177\n",
       "Name: label, dtype: int64"
      ]
     },
     "execution_count": 21,
     "metadata": {},
     "output_type": "execute_result"
    }
   ],
   "source": [
    "# Proporção de labels por classe\n",
    "df_img_labels_treino['label'].value_counts()"
   ]
  },
  {
   "cell_type": "code",
   "execution_count": 22,
   "id": "5d956bd0",
   "metadata": {},
   "outputs": [
    {
     "data": {
      "text/plain": [
       "(3197, 1)"
      ]
     },
     "execution_count": 22,
     "metadata": {},
     "output_type": "execute_result"
    }
   ],
   "source": [
    "# Shape imagens de teste\n",
    "df_imagens_teste.shape"
   ]
  },
  {
   "cell_type": "code",
   "execution_count": 23,
   "id": "79b88154",
   "metadata": {},
   "outputs": [
    {
     "data": {
      "text/plain": [
       "(1199, 2)"
      ]
     },
     "execution_count": 23,
     "metadata": {},
     "output_type": "execute_result"
    }
   ],
   "source": [
    "# Shape labels de teste\n",
    "df_img_labels_teste.shape"
   ]
  },
  {
   "cell_type": "code",
   "execution_count": 24,
   "id": "6450f148",
   "metadata": {},
   "outputs": [
    {
     "data": {
      "text/plain": [
       "'dados/MURA-v1.1/train/XR_SHOULDER/patient00001/study1_positive/'"
      ]
     },
     "execution_count": 24,
     "metadata": {},
     "output_type": "execute_result"
    }
   ],
   "source": [
    "# Verifica o caminho completo de uma imagem de exemplo\n",
    "df_img_labels_treino['caminho_imagem'][0]"
   ]
  },
  {
   "cell_type": "code",
   "execution_count": 25,
   "id": "b86db594",
   "metadata": {},
   "outputs": [],
   "source": [
    "# Ajustando as colunas dos dados de treino com o membro do corpo\n",
    "df_img_labels_treino['membro'] = df_img_labels_treino['caminho_imagem'].apply(lambda x: str(x.split('/')[3])[3:])"
   ]
  },
  {
   "cell_type": "code",
   "execution_count": 26,
   "id": "3205e456",
   "metadata": {},
   "outputs": [
    {
     "data": {
      "text/html": [
       "<div>\n",
       "<style scoped>\n",
       "    .dataframe tbody tr th:only-of-type {\n",
       "        vertical-align: middle;\n",
       "    }\n",
       "\n",
       "    .dataframe tbody tr th {\n",
       "        vertical-align: top;\n",
       "    }\n",
       "\n",
       "    .dataframe thead th {\n",
       "        text-align: right;\n",
       "    }\n",
       "</style>\n",
       "<table border=\"1\" class=\"dataframe\">\n",
       "  <thead>\n",
       "    <tr style=\"text-align: right;\">\n",
       "      <th></th>\n",
       "      <th>caminho_imagem</th>\n",
       "      <th>label</th>\n",
       "      <th>membro</th>\n",
       "    </tr>\n",
       "  </thead>\n",
       "  <tbody>\n",
       "    <tr>\n",
       "      <th>0</th>\n",
       "      <td>dados/MURA-v1.1/train/XR_SHOULDER/patient00001...</td>\n",
       "      <td>1</td>\n",
       "      <td>SHOULDER</td>\n",
       "    </tr>\n",
       "    <tr>\n",
       "      <th>1</th>\n",
       "      <td>dados/MURA-v1.1/train/XR_SHOULDER/patient00002...</td>\n",
       "      <td>1</td>\n",
       "      <td>SHOULDER</td>\n",
       "    </tr>\n",
       "    <tr>\n",
       "      <th>2</th>\n",
       "      <td>dados/MURA-v1.1/train/XR_SHOULDER/patient00003...</td>\n",
       "      <td>1</td>\n",
       "      <td>SHOULDER</td>\n",
       "    </tr>\n",
       "    <tr>\n",
       "      <th>3</th>\n",
       "      <td>dados/MURA-v1.1/train/XR_SHOULDER/patient00004...</td>\n",
       "      <td>1</td>\n",
       "      <td>SHOULDER</td>\n",
       "    </tr>\n",
       "    <tr>\n",
       "      <th>4</th>\n",
       "      <td>dados/MURA-v1.1/train/XR_SHOULDER/patient00005...</td>\n",
       "      <td>1</td>\n",
       "      <td>SHOULDER</td>\n",
       "    </tr>\n",
       "  </tbody>\n",
       "</table>\n",
       "</div>"
      ],
      "text/plain": [
       "                                      caminho_imagem label    membro\n",
       "0  dados/MURA-v1.1/train/XR_SHOULDER/patient00001...     1  SHOULDER\n",
       "1  dados/MURA-v1.1/train/XR_SHOULDER/patient00002...     1  SHOULDER\n",
       "2  dados/MURA-v1.1/train/XR_SHOULDER/patient00003...     1  SHOULDER\n",
       "3  dados/MURA-v1.1/train/XR_SHOULDER/patient00004...     1  SHOULDER\n",
       "4  dados/MURA-v1.1/train/XR_SHOULDER/patient00005...     1  SHOULDER"
      ]
     },
     "execution_count": 26,
     "metadata": {},
     "output_type": "execute_result"
    }
   ],
   "source": [
    "# Visualiza o resultado\n",
    "df_img_labels_treino.head()"
   ]
  },
  {
   "cell_type": "code",
   "execution_count": 27,
   "id": "2da4df11",
   "metadata": {},
   "outputs": [],
   "source": [
    "# Ajustando as colunas de dados de treino com o número do paciente\n",
    "df_img_labels_treino['num_paciente'] = df_img_labels_treino['caminho_imagem'].apply(lambda x: str(x.split('/')[4]))"
   ]
  },
  {
   "cell_type": "code",
   "execution_count": 28,
   "id": "ebe4bf70",
   "metadata": {},
   "outputs": [
    {
     "data": {
      "text/html": [
       "<div>\n",
       "<style scoped>\n",
       "    .dataframe tbody tr th:only-of-type {\n",
       "        vertical-align: middle;\n",
       "    }\n",
       "\n",
       "    .dataframe tbody tr th {\n",
       "        vertical-align: top;\n",
       "    }\n",
       "\n",
       "    .dataframe thead th {\n",
       "        text-align: right;\n",
       "    }\n",
       "</style>\n",
       "<table border=\"1\" class=\"dataframe\">\n",
       "  <thead>\n",
       "    <tr style=\"text-align: right;\">\n",
       "      <th></th>\n",
       "      <th>caminho_imagem</th>\n",
       "      <th>label</th>\n",
       "      <th>membro</th>\n",
       "      <th>num_paciente</th>\n",
       "    </tr>\n",
       "  </thead>\n",
       "  <tbody>\n",
       "    <tr>\n",
       "      <th>0</th>\n",
       "      <td>dados/MURA-v1.1/train/XR_SHOULDER/patient00001...</td>\n",
       "      <td>1</td>\n",
       "      <td>SHOULDER</td>\n",
       "      <td>patient00001</td>\n",
       "    </tr>\n",
       "    <tr>\n",
       "      <th>1</th>\n",
       "      <td>dados/MURA-v1.1/train/XR_SHOULDER/patient00002...</td>\n",
       "      <td>1</td>\n",
       "      <td>SHOULDER</td>\n",
       "      <td>patient00002</td>\n",
       "    </tr>\n",
       "    <tr>\n",
       "      <th>2</th>\n",
       "      <td>dados/MURA-v1.1/train/XR_SHOULDER/patient00003...</td>\n",
       "      <td>1</td>\n",
       "      <td>SHOULDER</td>\n",
       "      <td>patient00003</td>\n",
       "    </tr>\n",
       "    <tr>\n",
       "      <th>3</th>\n",
       "      <td>dados/MURA-v1.1/train/XR_SHOULDER/patient00004...</td>\n",
       "      <td>1</td>\n",
       "      <td>SHOULDER</td>\n",
       "      <td>patient00004</td>\n",
       "    </tr>\n",
       "    <tr>\n",
       "      <th>4</th>\n",
       "      <td>dados/MURA-v1.1/train/XR_SHOULDER/patient00005...</td>\n",
       "      <td>1</td>\n",
       "      <td>SHOULDER</td>\n",
       "      <td>patient00005</td>\n",
       "    </tr>\n",
       "  </tbody>\n",
       "</table>\n",
       "</div>"
      ],
      "text/plain": [
       "                                      caminho_imagem label    membro  \\\n",
       "0  dados/MURA-v1.1/train/XR_SHOULDER/patient00001...     1  SHOULDER   \n",
       "1  dados/MURA-v1.1/train/XR_SHOULDER/patient00002...     1  SHOULDER   \n",
       "2  dados/MURA-v1.1/train/XR_SHOULDER/patient00003...     1  SHOULDER   \n",
       "3  dados/MURA-v1.1/train/XR_SHOULDER/patient00004...     1  SHOULDER   \n",
       "4  dados/MURA-v1.1/train/XR_SHOULDER/patient00005...     1  SHOULDER   \n",
       "\n",
       "   num_paciente  \n",
       "0  patient00001  \n",
       "1  patient00002  \n",
       "2  patient00003  \n",
       "3  patient00004  \n",
       "4  patient00005  "
      ]
     },
     "execution_count": 28,
     "metadata": {},
     "output_type": "execute_result"
    }
   ],
   "source": [
    "# Visualiza o resultado\n",
    "df_img_labels_treino.head()"
   ]
  },
  {
   "cell_type": "code",
   "execution_count": 29,
   "id": "fb8adb16",
   "metadata": {},
   "outputs": [],
   "source": [
    "# Ajustando as colunas de dados de treino com o número do estudo\n",
    "df_img_labels_treino['num_estudo'] = df_img_labels_treino['caminho_imagem'].apply(lambda x: str(x.split('/')[5])[:6])"
   ]
  },
  {
   "cell_type": "code",
   "execution_count": 30,
   "id": "dc0fcd0f",
   "metadata": {},
   "outputs": [
    {
     "data": {
      "text/html": [
       "<div>\n",
       "<style scoped>\n",
       "    .dataframe tbody tr th:only-of-type {\n",
       "        vertical-align: middle;\n",
       "    }\n",
       "\n",
       "    .dataframe tbody tr th {\n",
       "        vertical-align: top;\n",
       "    }\n",
       "\n",
       "    .dataframe thead th {\n",
       "        text-align: right;\n",
       "    }\n",
       "</style>\n",
       "<table border=\"1\" class=\"dataframe\">\n",
       "  <thead>\n",
       "    <tr style=\"text-align: right;\">\n",
       "      <th></th>\n",
       "      <th>caminho_imagem</th>\n",
       "      <th>label</th>\n",
       "      <th>membro</th>\n",
       "      <th>num_paciente</th>\n",
       "      <th>num_estudo</th>\n",
       "    </tr>\n",
       "  </thead>\n",
       "  <tbody>\n",
       "    <tr>\n",
       "      <th>0</th>\n",
       "      <td>dados/MURA-v1.1/train/XR_SHOULDER/patient00001...</td>\n",
       "      <td>1</td>\n",
       "      <td>SHOULDER</td>\n",
       "      <td>patient00001</td>\n",
       "      <td>study1</td>\n",
       "    </tr>\n",
       "    <tr>\n",
       "      <th>1</th>\n",
       "      <td>dados/MURA-v1.1/train/XR_SHOULDER/patient00002...</td>\n",
       "      <td>1</td>\n",
       "      <td>SHOULDER</td>\n",
       "      <td>patient00002</td>\n",
       "      <td>study1</td>\n",
       "    </tr>\n",
       "    <tr>\n",
       "      <th>2</th>\n",
       "      <td>dados/MURA-v1.1/train/XR_SHOULDER/patient00003...</td>\n",
       "      <td>1</td>\n",
       "      <td>SHOULDER</td>\n",
       "      <td>patient00003</td>\n",
       "      <td>study1</td>\n",
       "    </tr>\n",
       "    <tr>\n",
       "      <th>3</th>\n",
       "      <td>dados/MURA-v1.1/train/XR_SHOULDER/patient00004...</td>\n",
       "      <td>1</td>\n",
       "      <td>SHOULDER</td>\n",
       "      <td>patient00004</td>\n",
       "      <td>study1</td>\n",
       "    </tr>\n",
       "    <tr>\n",
       "      <th>4</th>\n",
       "      <td>dados/MURA-v1.1/train/XR_SHOULDER/patient00005...</td>\n",
       "      <td>1</td>\n",
       "      <td>SHOULDER</td>\n",
       "      <td>patient00005</td>\n",
       "      <td>study1</td>\n",
       "    </tr>\n",
       "  </tbody>\n",
       "</table>\n",
       "</div>"
      ],
      "text/plain": [
       "                                      caminho_imagem label    membro  \\\n",
       "0  dados/MURA-v1.1/train/XR_SHOULDER/patient00001...     1  SHOULDER   \n",
       "1  dados/MURA-v1.1/train/XR_SHOULDER/patient00002...     1  SHOULDER   \n",
       "2  dados/MURA-v1.1/train/XR_SHOULDER/patient00003...     1  SHOULDER   \n",
       "3  dados/MURA-v1.1/train/XR_SHOULDER/patient00004...     1  SHOULDER   \n",
       "4  dados/MURA-v1.1/train/XR_SHOULDER/patient00005...     1  SHOULDER   \n",
       "\n",
       "   num_paciente num_estudo  \n",
       "0  patient00001     study1  \n",
       "1  patient00002     study1  \n",
       "2  patient00003     study1  \n",
       "3  patient00004     study1  \n",
       "4  patient00005     study1  "
      ]
     },
     "execution_count": 30,
     "metadata": {},
     "output_type": "execute_result"
    }
   ],
   "source": [
    "# Visualiza o resultado\n",
    "df_img_labels_treino.head()"
   ]
  },
  {
   "cell_type": "code",
   "execution_count": 31,
   "id": "613c7c30",
   "metadata": {},
   "outputs": [],
   "source": [
    "# Mesmo o processo nos dados de teste\n",
    "df_img_labels_teste['membro'] = df_img_labels_teste['caminho_imagem'].apply(lambda x: str(x.split('/')[3])[3:])\n",
    "df_img_labels_teste['num_paciente'] = df_img_labels_teste['caminho_imagem'].apply(lambda x: str(x.split('/')[4]))\n",
    "df_img_labels_teste['num_estudo'] = df_img_labels_teste['caminho_imagem'].apply(lambda x: str(x.split('/')[5])[:6])\n",
    "df_img_labels_teste['num_caso'] = df_img_labels_teste[['num_paciente', 'num_estudo']].apply(lambda x: ''.join(x), \n",
    "                                                                                            axis = 1)"
   ]
  },
  {
   "cell_type": "code",
   "execution_count": 32,
   "id": "bbfb42c7",
   "metadata": {},
   "outputs": [
    {
     "data": {
      "text/html": [
       "<div>\n",
       "<style scoped>\n",
       "    .dataframe tbody tr th:only-of-type {\n",
       "        vertical-align: middle;\n",
       "    }\n",
       "\n",
       "    .dataframe tbody tr th {\n",
       "        vertical-align: top;\n",
       "    }\n",
       "\n",
       "    .dataframe thead th {\n",
       "        text-align: right;\n",
       "    }\n",
       "</style>\n",
       "<table border=\"1\" class=\"dataframe\">\n",
       "  <thead>\n",
       "    <tr style=\"text-align: right;\">\n",
       "      <th></th>\n",
       "      <th>caminho_imagem</th>\n",
       "      <th>label</th>\n",
       "      <th>membro</th>\n",
       "      <th>num_paciente</th>\n",
       "      <th>num_estudo</th>\n",
       "      <th>num_caso</th>\n",
       "    </tr>\n",
       "  </thead>\n",
       "  <tbody>\n",
       "    <tr>\n",
       "      <th>0</th>\n",
       "      <td>dados/MURA-v1.1/valid/XR_WRIST/patient11185/st...</td>\n",
       "      <td>1</td>\n",
       "      <td>WRIST</td>\n",
       "      <td>patient11185</td>\n",
       "      <td>study1</td>\n",
       "      <td>patient11185study1</td>\n",
       "    </tr>\n",
       "    <tr>\n",
       "      <th>1</th>\n",
       "      <td>dados/MURA-v1.1/valid/XR_WRIST/patient11186/st...</td>\n",
       "      <td>1</td>\n",
       "      <td>WRIST</td>\n",
       "      <td>patient11186</td>\n",
       "      <td>study1</td>\n",
       "      <td>patient11186study1</td>\n",
       "    </tr>\n",
       "    <tr>\n",
       "      <th>2</th>\n",
       "      <td>dados/MURA-v1.1/valid/XR_WRIST/patient11186/st...</td>\n",
       "      <td>1</td>\n",
       "      <td>WRIST</td>\n",
       "      <td>patient11186</td>\n",
       "      <td>study2</td>\n",
       "      <td>patient11186study2</td>\n",
       "    </tr>\n",
       "    <tr>\n",
       "      <th>3</th>\n",
       "      <td>dados/MURA-v1.1/valid/XR_WRIST/patient11186/st...</td>\n",
       "      <td>1</td>\n",
       "      <td>WRIST</td>\n",
       "      <td>patient11186</td>\n",
       "      <td>study3</td>\n",
       "      <td>patient11186study3</td>\n",
       "    </tr>\n",
       "    <tr>\n",
       "      <th>4</th>\n",
       "      <td>dados/MURA-v1.1/valid/XR_WRIST/patient11187/st...</td>\n",
       "      <td>1</td>\n",
       "      <td>WRIST</td>\n",
       "      <td>patient11187</td>\n",
       "      <td>study1</td>\n",
       "      <td>patient11187study1</td>\n",
       "    </tr>\n",
       "  </tbody>\n",
       "</table>\n",
       "</div>"
      ],
      "text/plain": [
       "                                      caminho_imagem label membro  \\\n",
       "0  dados/MURA-v1.1/valid/XR_WRIST/patient11185/st...     1  WRIST   \n",
       "1  dados/MURA-v1.1/valid/XR_WRIST/patient11186/st...     1  WRIST   \n",
       "2  dados/MURA-v1.1/valid/XR_WRIST/patient11186/st...     1  WRIST   \n",
       "3  dados/MURA-v1.1/valid/XR_WRIST/patient11186/st...     1  WRIST   \n",
       "4  dados/MURA-v1.1/valid/XR_WRIST/patient11187/st...     1  WRIST   \n",
       "\n",
       "   num_paciente num_estudo            num_caso  \n",
       "0  patient11185     study1  patient11185study1  \n",
       "1  patient11186     study1  patient11186study1  \n",
       "2  patient11186     study2  patient11186study2  \n",
       "3  patient11186     study3  patient11186study3  \n",
       "4  patient11187     study1  patient11187study1  "
      ]
     },
     "execution_count": 32,
     "metadata": {},
     "output_type": "execute_result"
    }
   ],
   "source": [
    "# Visualiza o resultado\n",
    "df_img_labels_teste.head()"
   ]
  },
  {
   "cell_type": "markdown",
   "id": "0d403993",
   "metadata": {},
   "source": [
    "## 4. Análise Exploratória"
   ]
  },
  {
   "cell_type": "markdown",
   "id": "c06025a2",
   "metadata": {},
   "source": [
    "### 1) Qual o número de pacientes únicos?"
   ]
  },
  {
   "cell_type": "code",
   "execution_count": 33,
   "id": "6fd3bf37",
   "metadata": {},
   "outputs": [
    {
     "data": {
      "text/plain": [
       "11184"
      ]
     },
     "execution_count": 33,
     "metadata": {},
     "output_type": "execute_result"
    }
   ],
   "source": [
    "# Número único de pacientes em treino\n",
    "len(df_img_labels_treino['num_paciente'].unique())"
   ]
  },
  {
   "cell_type": "code",
   "execution_count": 34,
   "id": "23f0d9e0",
   "metadata": {},
   "outputs": [
    {
     "data": {
      "text/plain": [
       "783"
      ]
     },
     "execution_count": 34,
     "metadata": {},
     "output_type": "execute_result"
    }
   ],
   "source": [
    "# Número único de pacientes em teste\n",
    "len(df_img_labels_teste['num_paciente'].unique())"
   ]
  },
  {
   "cell_type": "markdown",
   "id": "3df2460f",
   "metadata": {},
   "source": [
    "### 2) Qual a proporção de registros por classe?"
   ]
  },
  {
   "cell_type": "code",
   "execution_count": 35,
   "id": "6c1db1a5",
   "metadata": {},
   "outputs": [
    {
     "data": {
      "text/plain": [
       "<AxesSubplot:title={'center':'Balanceamento de Classe em Treino'}, xlabel='label', ylabel='count'>"
      ]
     },
     "execution_count": 35,
     "metadata": {},
     "output_type": "execute_result"
    },
    {
     "data": {
      "image/png": "[encoded data removed]",
      "text/plain": [
       "<Figure size 1000x600 with 1 Axes>"
      ]
     },
     "metadata": {},
     "output_type": "display_data"
    }
   ],
   "source": [
    "# Plot do Balanceamento de Classe em Treino\n",
    "plt.figure(figsize = (10,6))\n",
    "sns.set(style = \"darkgrid\")\n",
    "plt.title('Balanceamento de Classe em Treino')\n",
    "sns.countplot(x = df_img_labels_treino['label'], palette = \"Set1\")"
   ]
  },
  {
   "cell_type": "code",
   "execution_count": 36,
   "id": "fa293d75",
   "metadata": {},
   "outputs": [
    {
     "data": {
      "text/plain": [
       "<AxesSubplot:title={'center':'Balanceamento de Classe em Teste'}, xlabel='label', ylabel='count'>"
      ]
     },
     "execution_count": 36,
     "metadata": {},
     "output_type": "execute_result"
    },
    {
     "data": {
      "image/png": "[encoded data removed]",
      "text/plain": [
       "<Figure size 1000x600 with 1 Axes>"
      ]
     },
     "metadata": {},
     "output_type": "display_data"
    }
   ],
   "source": [
    "# Plot do Balanceamento de Classe em Teste\n",
    "plt.figure(figsize = (10,6))\n",
    "sns.set(style = \"darkgrid\")\n",
    "plt.title('Balanceamento de Classe em Teste')\n",
    "sns.countplot(x = df_img_labels_teste['label'], palette = \"Set2\")"
   ]
  },
  {
   "cell_type": "markdown",
   "id": "52bfbd2d",
   "metadata": {},
   "source": [
    "### 3) Qual a proporção de registros por classe e por membro do corpo humano?"
   ]
  },
  {
   "cell_type": "code",
   "execution_count": 37,
   "id": "5a7bf2a1",
   "metadata": {},
   "outputs": [
    {
     "data": {
      "text/plain": [
       "<AxesSubplot:title={'center':'Balanceamento de Classe Por Membro do Corpo em Treino'}, xlabel='membro', ylabel='count'>"
      ]
     },
     "execution_count": 37,
     "metadata": {},
     "output_type": "execute_result"
    },
    {
     "data": {
      "image/png": "[encoded data removed]",
      "text/plain": [
       "<Figure size 1400x800 with 1 Axes>"
      ]
     },
     "metadata": {},
     "output_type": "display_data"
    }
   ],
   "source": [
    "# Plot do Balanceamento de Classe Por Membro do Corpo em Treino\n",
    "plt.figure(figsize = (14,8))\n",
    "sns.set_style(\"whitegrid\")\n",
    "plt.title('Balanceamento de Classe Por Membro do Corpo em Treino')\n",
    "sns.countplot(data = df_img_labels_treino, x = 'membro', hue = 'label', palette = \"Set1\")"
   ]
  },
  {
   "cell_type": "code",
   "execution_count": 38,
   "id": "af57b48c",
   "metadata": {},
   "outputs": [
    {
     "data": {
      "text/plain": [
       "<AxesSubplot:title={'center':'Balanceamento de Classe Por Membro do Corpo em Teste'}, xlabel='membro', ylabel='count'>"
      ]
     },
     "execution_count": 38,
     "metadata": {},
     "output_type": "execute_result"
    },
    {
     "data": {
      "image/png": "[encoded data removed]",
      "text/plain": [
       "<Figure size 1400x800 with 1 Axes>"
      ]
     },
     "metadata": {},
     "output_type": "display_data"
    }
   ],
   "source": [
    "# Plot do Balanceamento de Classe Por Membro do Corpo em Teste\n",
    "plt.figure(figsize = (14,8))\n",
    "sns.set_style(\"whitegrid\")\n",
    "plt.title('Balanceamento de Classe Por Membro do Corpo em Teste')\n",
    "sns.countplot(data = df_img_labels_teste, x = 'membro', hue = 'label', palette = \"Set2\")"
   ]
  },
  {
   "cell_type": "markdown",
   "id": "105ea8a3",
   "metadata": {},
   "source": [
    "### 4) Qual a proporação de registros por estudo?"
   ]
  },
  {
   "cell_type": "code",
   "execution_count": 39,
   "id": "90926d16",
   "metadata": {},
   "outputs": [
    {
     "data": {
      "text/plain": [
       "<AxesSubplot:title={'center':'Balanceamento de Classe Por Estudo em Treino'}, xlabel='num_estudo', ylabel='count'>"
      ]
     },
     "execution_count": 39,
     "metadata": {},
     "output_type": "execute_result"
    },
    {
     "data": {
      "image/png": "[encoded data removed]",
      "text/plain": [
       "<Figure size 1400x800 with 1 Axes>"
      ]
     },
     "metadata": {},
     "output_type": "display_data"
    }
   ],
   "source": [
    "# Plot do Balanceamento de Classe Por Estudo em Treino\n",
    "plt.figure(figsize = (14,8))\n",
    "sns.set_style(\"ticks\")\n",
    "plt.title('Balanceamento de Classe Por Estudo em Treino')\n",
    "sns.countplot(data = df_img_labels_treino, x = 'num_estudo', hue = 'label', palette = 'RdBu')"
   ]
  },
  {
   "cell_type": "code",
   "execution_count": 40,
   "id": "807a7117",
   "metadata": {},
   "outputs": [
    {
     "data": {
      "text/plain": [
       "<AxesSubplot:title={'center':'Balanceamento de Classe Por Estudo em Teste'}, xlabel='num_estudo', ylabel='count'>"
      ]
     },
     "execution_count": 40,
     "metadata": {},
     "output_type": "execute_result"
    },
    {
     "data": {
      "image/png": "[encoded data removed]",
      "text/plain": [
       "<Figure size 1400x800 with 1 Axes>"
      ]
     },
     "metadata": {},
     "output_type": "display_data"
    }
   ],
   "source": [
    "# Plot do Balanceamento de Classe Por Estudo em Teste\n",
    "plt.figure(figsize = (14,8))\n",
    "sns.set_style(\"ticks\")\n",
    "plt.title('Balanceamento de Classe Por Estudo em Teste')\n",
    "sns.countplot(data = df_img_labels_teste, x = 'num_estudo', hue = 'label', palette = 'vlag')"
   ]
  },
  {
   "cell_type": "markdown",
   "id": "53203695",
   "metadata": {},
   "source": [
    "### 5) Qual o número de imagens de cada membro do corpo humano?"
   ]
  },
  {
   "cell_type": "code",
   "execution_count": 41,
   "id": "7987efaa",
   "metadata": {},
   "outputs": [],
   "source": [
    "# Engenharia de atributos no dataset de imagens\n",
    "df_imagens_treino['membro'] = df_imagens_treino['imagem'].apply(lambda x: str(x.split('/')[3])[3:])\n",
    "df_imagens_treino['num_paciente'] = df_imagens_treino['imagem'].apply(lambda x: str(x.split('/')[4]))\n",
    "df_imagens_treino['num_estudo'] = df_imagens_treino['imagem'].apply(lambda x: str(x.split('/')[5])[:6])\n",
    "df_imagens_treino['num_caso'] = df_imagens_treino[['num_paciente', 'num_estudo']].apply(lambda x: ''.join(x), axis = 1)"
   ]
  },
  {
   "cell_type": "code",
   "execution_count": 42,
   "id": "c241ae8a",
   "metadata": {},
   "outputs": [
    {
     "data": {
      "text/plain": [
       "WRIST       9752\n",
       "SHOULDER    8379\n",
       "HAND        5543\n",
       "FINGER      5106\n",
       "ELBOW       4931\n",
       "FOREARM     1825\n",
       "HUMERUS     1272\n",
       "Name: membro, dtype: int64"
      ]
     },
     "execution_count": 42,
     "metadata": {},
     "output_type": "execute_result"
    }
   ],
   "source": [
    "df_imagens_treino['membro'].value_counts()"
   ]
  },
  {
   "cell_type": "code",
   "execution_count": 43,
   "id": "fc942b06",
   "metadata": {},
   "outputs": [
    {
     "data": {
      "text/plain": [
       "<AxesSubplot:title={'center':'Número de Imagens de Cada Membro do Corpo nos Dados de Treino'}, xlabel='membro', ylabel='count'>"
      ]
     },
     "execution_count": 43,
     "metadata": {},
     "output_type": "execute_result"
    },
    {
     "data": {
      "image/png": "[encoded data removed]",
      "text/plain": [
       "<Figure size 1000x800 with 1 Axes>"
      ]
     },
     "metadata": {},
     "output_type": "display_data"
    }
   ],
   "source": [
    "# Plot - Resposta da pergunta 5 de forma visual\n",
    "plt.figure(figsize = (10,8))\n",
    "plt.title('Número de Imagens de Cada Membro do Corpo nos Dados de Treino')\n",
    "sns.countplot(data = df_imagens_treino, x = 'membro', palette = \"deep\")"
   ]
  },
  {
   "cell_type": "code",
   "execution_count": 44,
   "id": "cb4899a9",
   "metadata": {},
   "outputs": [],
   "source": [
    "# Aplicando o mesmo processo aos dados de teste\n",
    "df_imagens_teste['membro'] = df_imagens_teste['imagem'].apply(lambda x: str(x.split('/')[3])[3:])\n",
    "df_imagens_teste['num_paciente'] = df_imagens_teste['imagem'].apply(lambda x: str(x.split('/')[4]))\n",
    "df_imagens_teste['num_estudo'] = df_imagens_teste['imagem'].apply(lambda x: str(x.split('/')[5])[:6])\n",
    "df_imagens_teste['num_caso'] = df_imagens_teste[['num_paciente', 'num_estudo']].apply(lambda x: ''.join(x), axis = 1)"
   ]
  },
  {
   "cell_type": "code",
   "execution_count": 45,
   "id": "62aa2b70",
   "metadata": {},
   "outputs": [
    {
     "data": {
      "text/html": [
       "<div>\n",
       "<style scoped>\n",
       "    .dataframe tbody tr th:only-of-type {\n",
       "        vertical-align: middle;\n",
       "    }\n",
       "\n",
       "    .dataframe tbody tr th {\n",
       "        vertical-align: top;\n",
       "    }\n",
       "\n",
       "    .dataframe thead th {\n",
       "        text-align: right;\n",
       "    }\n",
       "</style>\n",
       "<table border=\"1\" class=\"dataframe\">\n",
       "  <thead>\n",
       "    <tr style=\"text-align: right;\">\n",
       "      <th></th>\n",
       "      <th>imagem</th>\n",
       "      <th>membro</th>\n",
       "      <th>num_paciente</th>\n",
       "      <th>num_estudo</th>\n",
       "      <th>num_caso</th>\n",
       "    </tr>\n",
       "  </thead>\n",
       "  <tbody>\n",
       "    <tr>\n",
       "      <th>0</th>\n",
       "      <td>dados/MURA-v1.1/valid/XR_WRIST/patient11185/st...</td>\n",
       "      <td>WRIST</td>\n",
       "      <td>patient11185</td>\n",
       "      <td>study1</td>\n",
       "      <td>patient11185study1</td>\n",
       "    </tr>\n",
       "    <tr>\n",
       "      <th>1</th>\n",
       "      <td>dados/MURA-v1.1/valid/XR_WRIST/patient11185/st...</td>\n",
       "      <td>WRIST</td>\n",
       "      <td>patient11185</td>\n",
       "      <td>study1</td>\n",
       "      <td>patient11185study1</td>\n",
       "    </tr>\n",
       "    <tr>\n",
       "      <th>2</th>\n",
       "      <td>dados/MURA-v1.1/valid/XR_WRIST/patient11185/st...</td>\n",
       "      <td>WRIST</td>\n",
       "      <td>patient11185</td>\n",
       "      <td>study1</td>\n",
       "      <td>patient11185study1</td>\n",
       "    </tr>\n",
       "    <tr>\n",
       "      <th>3</th>\n",
       "      <td>dados/MURA-v1.1/valid/XR_WRIST/patient11185/st...</td>\n",
       "      <td>WRIST</td>\n",
       "      <td>patient11185</td>\n",
       "      <td>study1</td>\n",
       "      <td>patient11185study1</td>\n",
       "    </tr>\n",
       "    <tr>\n",
       "      <th>4</th>\n",
       "      <td>dados/MURA-v1.1/valid/XR_WRIST/patient11186/st...</td>\n",
       "      <td>WRIST</td>\n",
       "      <td>patient11186</td>\n",
       "      <td>study1</td>\n",
       "      <td>patient11186study1</td>\n",
       "    </tr>\n",
       "  </tbody>\n",
       "</table>\n",
       "</div>"
      ],
      "text/plain": [
       "                                              imagem membro  num_paciente  \\\n",
       "0  dados/MURA-v1.1/valid/XR_WRIST/patient11185/st...  WRIST  patient11185   \n",
       "1  dados/MURA-v1.1/valid/XR_WRIST/patient11185/st...  WRIST  patient11185   \n",
       "2  dados/MURA-v1.1/valid/XR_WRIST/patient11185/st...  WRIST  patient11185   \n",
       "3  dados/MURA-v1.1/valid/XR_WRIST/patient11185/st...  WRIST  patient11185   \n",
       "4  dados/MURA-v1.1/valid/XR_WRIST/patient11186/st...  WRIST  patient11186   \n",
       "\n",
       "  num_estudo            num_caso  \n",
       "0     study1  patient11185study1  \n",
       "1     study1  patient11185study1  \n",
       "2     study1  patient11185study1  \n",
       "3     study1  patient11185study1  \n",
       "4     study1  patient11186study1  "
      ]
     },
     "execution_count": 45,
     "metadata": {},
     "output_type": "execute_result"
    }
   ],
   "source": [
    "# Visualiza\n",
    "df_imagens_teste.head()"
   ]
  },
  {
   "cell_type": "code",
   "execution_count": 46,
   "id": "4ec7a5f4",
   "metadata": {},
   "outputs": [
    {
     "data": {
      "text/plain": [
       "WRIST       659\n",
       "SHOULDER    563\n",
       "ELBOW       465\n",
       "FINGER      461\n",
       "HAND        460\n",
       "FOREARM     301\n",
       "HUMERUS     288\n",
       "Name: membro, dtype: int64"
      ]
     },
     "execution_count": 46,
     "metadata": {},
     "output_type": "execute_result"
    }
   ],
   "source": [
    "# Resposta da pergunta 5\n",
    "df_imagens_teste['membro'].value_counts()"
   ]
  },
  {
   "cell_type": "code",
   "execution_count": 47,
   "id": "e05e8154",
   "metadata": {},
   "outputs": [
    {
     "data": {
      "text/plain": [
       "<AxesSubplot:title={'center':'Número de Imagens de Cada Membro do Corpo nos Dados de Teste'}, xlabel='membro', ylabel='count'>"
      ]
     },
     "execution_count": 47,
     "metadata": {},
     "output_type": "execute_result"
    },
    {
     "data": {
      "image/png": "[encoded data removed]",
      "text/plain": [
       "<Figure size 1000x800 with 1 Axes>"
      ]
     },
     "metadata": {},
     "output_type": "display_data"
    }
   ],
   "source": [
    "# Plot - Resposta da pergunta 5 de forma visual\n",
    "plt.figure(figsize = (10,8))\n",
    "plt.title('Número de Imagens de Cada Membro do Corpo nos Dados de Teste')\n",
    "sns.countplot(data = df_imagens_teste, x = 'membro', palette = \"rocket\")"
   ]
  },
  {
   "cell_type": "markdown",
   "id": "613a201d",
   "metadata": {},
   "source": [
    "## 5. Pré-Processamento dos Dados"
   ]
  },
  {
   "cell_type": "markdown",
   "id": "dbe92a57",
   "metadata": {},
   "source": [
    "Vamos trabalhar somente com as imagens do pulso (WRIST), pois esse membro é o que apresenta o maior volume de dados. Isso é opcional e você pode criar um único modelo para as imagens de todos os membros ou criar modelos diferentes para cada membro."
   ]
  },
  {
   "cell_type": "markdown",
   "id": "40d63b80",
   "metadata": {},
   "source": [
    "Tarefas:\n",
    "\n",
    "    1. Redimensionamento das imagens com a mesma resolução (usaremos 1 canal).\n",
    "    2. Normalização das imagens.\n",
    "    3. Associação dos rótulos a cada imagem."
   ]
  },
  {
   "cell_type": "code",
   "execution_count": 49,
   "id": "43fb4f19",
   "metadata": {},
   "outputs": [],
   "source": [
    "# Extração dos registros para WRIST em treino\n",
    "df_treino_img_WRIST = df_imagens_treino[df_imagens_treino['membro'] == 'WRIST']\n",
    "df_treino_label_WRIST = df_img_labels_treino[df_img_labels_treino['membro'] == 'WRIST']"
   ]
  },
  {
   "cell_type": "code",
   "execution_count": 50,
   "id": "03422784",
   "metadata": {},
   "outputs": [],
   "source": [
    "# Extração dos registros para WRIST em teste\n",
    "df_teste_img_WRIST = df_imagens_teste[df_imagens_teste['membro'] == 'WRIST']\n",
    "df_teste_label_WRIST = df_img_labels_teste[df_img_labels_teste['membro'] == 'WRIST']"
   ]
  },
  {
   "cell_type": "code",
   "execution_count": 51,
   "id": "0a51358b",
   "metadata": {},
   "outputs": [],
   "source": [
    "# Função para redimensionar e normalizar as imagens\n",
    "def resize_img(Path):\n",
    "    \n",
    "    # Leitura da imagem\n",
    "    img = cv2.imread(Path)\n",
    "    \n",
    "    # Usaremos dimensões 150x150\n",
    "    img = cv2.resize(img,(150,150))\n",
    "    \n",
    "    # Converte para array Numpy\n",
    "    img = np.array(img)\n",
    "    \n",
    "    return img"
   ]
  },
  {
   "cell_type": "code",
   "execution_count": 52,
   "id": "fc9afe8c",
   "metadata": {},
   "outputs": [],
   "source": [
    "# Dicionário de treino\n",
    "dict_treino = {}"
   ]
  },
  {
   "cell_type": "code",
   "execution_count": 54,
   "id": "77aecfbf",
   "metadata": {},
   "outputs": [],
   "source": [
    "# Loop\n",
    "for i in df_treino_label_WRIST.index:\n",
    "    \n",
    "    # Obtém caminho da imagem e label\n",
    "    folder = df_treino_label_WRIST['caminho_imagem'].loc[i]\n",
    "    labels = df_treino_label_WRIST['label'].loc[i]\n",
    "    \n",
    "    # Arquivos com extensão .png\n",
    "    pic = glob(folder + '*.png')\n",
    "    \n",
    "    # Para cada imagem, aplica o resize e grava o resultado\n",
    "    for filename in pic:\n",
    "        dict_treino[filename] = labels\n",
    "        im = resize_img(filename)\n",
    "        cv2.imwrite(filename, im)"
   ]
  },
  {
   "cell_type": "code",
   "execution_count": 55,
   "id": "2e1e3962",
   "metadata": {},
   "outputs": [
    {
     "data": {
      "text/plain": [
       "{'dados/MURA-v1.1/train/XR_WRIST/patient06359/study1_positive\\\\image1.png': '1',\n",
       " 'dados/MURA-v1.1/train/XR_WRIST/patient06359/study1_positive\\\\image2.png': '1',\n",
       " 'dados/MURA-v1.1/train/XR_WRIST/patient06360/study1_positive\\\\image1.png': '1',\n",
       " 'dados/MURA-v1.1/train/XR_WRIST/patient06360/study1_positive\\\\image2.png': '1',\n",
       " 'dados/MURA-v1.1/train/XR_WRIST/patient06360/study1_positive\\\\image3.png': '1',\n",
       " 'dados/MURA-v1.1/train/XR_WRIST/patient06360/study1_positive\\\\image4.png': '1',\n",
       " 'dados/MURA-v1.1/train/XR_WRIST/patient06361/study1_positive\\\\image1.png': '1',\n",
       " 'dados/MURA-v1.1/train/XR_WRIST/patient06361/study1_positive\\\\image2.png': '1',\n",
       " 'dados/MURA-v1.1/train/XR_WRIST/patient06361/study1_positive\\\\image3.png': '1',\n",
       " 'dados/MURA-v1.1/train/XR_WRIST/patient06362/study1_positive\\\\image1.png': '1',\n",
       " 'dados/MURA-v1.1/train/XR_WRIST/patient06362/study1_positive\\\\image2.png': '1',\n",
       " 'dados/MURA-v1.1/train/XR_WRIST/patient06362/study1_positive\\\\image3.png': '1',\n",
       " 'dados/MURA-v1.1/train/XR_WRIST/patient06362/study1_positive\\\\image4.png': '1',\n",
       " 'dados/MURA-v1.1/train/XR_WRIST/patient06332/study1_positive\\\\image1.png': '1',\n",
       " 'dados/MURA-v1.1/train/XR_WRIST/patient06332/study1_positive\\\\image2.png': '1',\n",
       " 'dados/MURA-v1.1/train/XR_WRIST/patient06332/study1_positive\\\\image3.png': '1',\n",
       " 'dados/MURA-v1.1/train/XR_WRIST/patient06363/study1_positive\\\\image1.png': '1',\n",
       " 'dados/MURA-v1.1/train/XR_WRIST/patient06363/study1_positive\\\\image2.png': '1',\n",
       " 'dados/MURA-v1.1/train/XR_WRIST/patient06363/study1_positive\\\\image3.png': '1',\n",
       " 'dados/MURA-v1.1/train/XR_WRIST/patient06364/study1_positive\\\\image1.png': '1',\n",
       " 'dados/MURA-v1.1/train/XR_WRIST/patient06364/study1_positive\\\\image2.png': '1',\n",
       " 'dados/MURA-v1.1/train/XR_WRIST/patient06364/study1_positive\\\\image3.png': '1',\n",
       " 'dados/MURA-v1.1/train/XR_WRIST/patient06364/study1_positive\\\\image4.png': '1',\n",
       " 'dados/MURA-v1.1/train/XR_WRIST/patient06364/study2_positive\\\\image1.png': '1',\n",
       " 'dados/MURA-v1.1/train/XR_WRIST/patient06364/study2_positive\\\\image2.png': '1',\n",
       " 'dados/MURA-v1.1/train/XR_WRIST/patient06365/study1_positive\\\\image1.png': '1',\n",
       " 'dados/MURA-v1.1/train/XR_WRIST/patient06365/study1_positive\\\\image2.png': '1',\n",
       " 'dados/MURA-v1.1/train/XR_WRIST/patient06365/study1_positive\\\\image3.png': '1',\n",
       " 'dados/MURA-v1.1/train/XR_WRIST/patient06366/study1_positive\\\\image1.png': '1',\n",
       " 'dados/MURA-v1.1/train/XR_WRIST/patient06366/study1_positive\\\\image2.png': '1',\n",
       " 'dados/MURA-v1.1/train/XR_WRIST/patient06366/study1_positive\\\\image3.png': '1',\n",
       " 'dados/MURA-v1.1/train/XR_WRIST/patient06367/study1_positive\\\\image1.png': '1',\n",
       " 'dados/MURA-v1.1/train/XR_WRIST/patient06367/study1_positive\\\\image2.png': '1',\n",
       " 'dados/MURA-v1.1/train/XR_WRIST/patient06367/study1_positive\\\\image3.png': '1',\n",
       " 'dados/MURA-v1.1/train/XR_WRIST/patient06367/study1_positive\\\\image4.png': '1',\n",
       " 'dados/MURA-v1.1/train/XR_WRIST/patient06368/study1_positive\\\\image1.png': '1',\n",
       " 'dados/MURA-v1.1/train/XR_WRIST/patient06368/study1_positive\\\\image2.png': '1',\n",
       " 'dados/MURA-v1.1/train/XR_WRIST/patient06368/study1_positive\\\\image3.png': '1',\n",
       " 'dados/MURA-v1.1/train/XR_WRIST/patient06368/study1_positive\\\\image4.png': '1',\n",
       " 'dados/MURA-v1.1/train/XR_WRIST/patient06368/study2_positive\\\\image1.png': '1',\n",
       " 'dados/MURA-v1.1/train/XR_WRIST/patient06368/study2_positive\\\\image2.png': '1',\n",
       " 'dados/MURA-v1.1/train/XR_WRIST/patient06368/study2_positive\\\\image3.png': '1',\n",
       " 'dados/MURA-v1.1/train/XR_WRIST/patient06369/study1_positive\\\\image1.png': '1',\n",
       " 'dados/MURA-v1.1/train/XR_WRIST/patient06370/study1_positive\\\\image1.png': '1',\n",
       " 'dados/MURA-v1.1/train/XR_WRIST/patient06370/study1_positive\\\\image2.png': '1',\n",
       " 'dados/MURA-v1.1/train/XR_WRIST/patient06370/study1_positive\\\\image3.png': '1',\n",
       " 'dados/MURA-v1.1/train/XR_WRIST/patient06371/study1_positive\\\\image1.png': '1',\n",
       " 'dados/MURA-v1.1/train/XR_WRIST/patient06371/study1_positive\\\\image2.png': '1',\n",
       " 'dados/MURA-v1.1/train/XR_WRIST/patient06372/study1_positive\\\\image1.png': '1',\n",
       " 'dados/MURA-v1.1/train/XR_WRIST/patient06372/study1_positive\\\\image2.png': '1',\n",
       " 'dados/MURA-v1.1/train/XR_WRIST/patient06372/study1_positive\\\\image3.png': '1',\n",
       " 'dados/MURA-v1.1/train/XR_WRIST/patient06372/study1_positive\\\\image4.png': '1',\n",
       " 'dados/MURA-v1.1/train/XR_WRIST/patient06373/study1_positive\\\\image1.png': '1',\n",
       " 'dados/MURA-v1.1/train/XR_WRIST/patient06373/study1_positive\\\\image2.png': '1',\n",
       " 'dados/MURA-v1.1/train/XR_WRIST/patient06374/study1_positive\\\\image1.png': '1',\n",
       " 'dados/MURA-v1.1/train/XR_WRIST/patient06374/study1_positive\\\\image2.png': '1',\n",
       " 'dados/MURA-v1.1/train/XR_WRIST/patient01856/study1_positive\\\\image1.png': '1',\n",
       " 'dados/MURA-v1.1/train/XR_WRIST/patient01856/study1_positive\\\\image2.png': '1',\n",
       " 'dados/MURA-v1.1/train/XR_WRIST/patient01856/study1_positive\\\\image3.png': '1',\n",
       " 'dados/MURA-v1.1/train/XR_WRIST/patient06375/study1_positive\\\\image1.png': '1',\n",
       " 'dados/MURA-v1.1/train/XR_WRIST/patient06375/study1_positive\\\\image2.png': '1',\n",
       " 'dados/MURA-v1.1/train/XR_WRIST/patient06376/study1_positive\\\\image1.png': '1',\n",
       " 'dados/MURA-v1.1/train/XR_WRIST/patient06376/study1_positive\\\\image2.png': '1',\n",
       " 'dados/MURA-v1.1/train/XR_WRIST/patient06376/study1_positive\\\\image3.png': '1',\n",
       " 'dados/MURA-v1.1/train/XR_WRIST/patient06377/study1_positive\\\\image1.png': '1',\n",
       " 'dados/MURA-v1.1/train/XR_WRIST/patient06377/study1_positive\\\\image2.png': '1',\n",
       " 'dados/MURA-v1.1/train/XR_WRIST/patient06377/study1_positive\\\\image3.png': '1',\n",
       " 'dados/MURA-v1.1/train/XR_WRIST/patient06377/study1_positive\\\\image4.png': '1',\n",
       " 'dados/MURA-v1.1/train/XR_WRIST/patient06378/study1_positive\\\\image1.png': '1',\n",
       " 'dados/MURA-v1.1/train/XR_WRIST/patient06378/study1_positive\\\\image2.png': '1',\n",
       " 'dados/MURA-v1.1/train/XR_WRIST/patient06378/study1_positive\\\\image3.png': '1',\n",
       " 'dados/MURA-v1.1/train/XR_WRIST/patient06378/study1_positive\\\\image4.png': '1',\n",
       " 'dados/MURA-v1.1/train/XR_WRIST/patient04748/study1_positive\\\\image1.png': '1',\n",
       " 'dados/MURA-v1.1/train/XR_WRIST/patient04748/study1_positive\\\\image2.png': '1',\n",
       " 'dados/MURA-v1.1/train/XR_WRIST/patient04748/study1_positive\\\\image3.png': '1',\n",
       " 'dados/MURA-v1.1/train/XR_WRIST/patient00707/study1_positive\\\\image1.png': '1',\n",
       " 'dados/MURA-v1.1/train/XR_WRIST/patient00707/study1_positive\\\\image2.png': '1',\n",
       " 'dados/MURA-v1.1/train/XR_WRIST/patient00707/study1_positive\\\\image3.png': '1',\n",
       " 'dados/MURA-v1.1/train/XR_WRIST/patient02804/study1_positive\\\\image1.png': '1',\n",
       " 'dados/MURA-v1.1/train/XR_WRIST/patient02804/study1_positive\\\\image2.png': '1',\n",
       " 'dados/MURA-v1.1/train/XR_WRIST/patient02804/study1_positive\\\\image3.png': '1',\n",
       " 'dados/MURA-v1.1/train/XR_WRIST/patient06379/study1_positive\\\\image1.png': '1',\n",
       " 'dados/MURA-v1.1/train/XR_WRIST/patient06379/study1_positive\\\\image2.png': '1',\n",
       " 'dados/MURA-v1.1/train/XR_WRIST/patient06380/study1_positive\\\\image1.png': '1',\n",
       " 'dados/MURA-v1.1/train/XR_WRIST/patient06380/study1_positive\\\\image2.png': '1',\n",
       " 'dados/MURA-v1.1/train/XR_WRIST/patient06380/study1_positive\\\\image3.png': '1',\n",
       " 'dados/MURA-v1.1/train/XR_WRIST/patient06380/study1_positive\\\\image4.png': '1',\n",
       " 'dados/MURA-v1.1/train/XR_WRIST/patient06381/study1_positive\\\\image1.png': '1',\n",
       " 'dados/MURA-v1.1/train/XR_WRIST/patient06381/study1_positive\\\\image2.png': '1',\n",
       " 'dados/MURA-v1.1/train/XR_WRIST/patient06381/study1_positive\\\\image3.png': '1',\n",
       " 'dados/MURA-v1.1/train/XR_WRIST/patient00532/study1_positive\\\\image1.png': '1',\n",
       " 'dados/MURA-v1.1/train/XR_WRIST/patient00532/study1_positive\\\\image2.png': '1',\n",
       " 'dados/MURA-v1.1/train/XR_WRIST/patient05976/study1_positive\\\\image1.png': '1',\n",
       " 'dados/MURA-v1.1/train/XR_WRIST/patient05976/study1_positive\\\\image2.png': '1',\n",
       " 'dados/MURA-v1.1/train/XR_WRIST/patient05976/study1_positive\\\\image3.png': '1',\n",
       " 'dados/MURA-v1.1/train/XR_WRIST/patient05976/study2_negative\\\\image1.png': '0',\n",
       " 'dados/MURA-v1.1/train/XR_WRIST/patient05976/study2_negative\\\\image2.png': '0',\n",
       " 'dados/MURA-v1.1/train/XR_WRIST/patient06382/study1_positive\\\\image1.png': '1',\n",
       " 'dados/MURA-v1.1/train/XR_WRIST/patient06382/study1_positive\\\\image2.png': '1',\n",
       " 'dados/MURA-v1.1/train/XR_WRIST/patient06383/study1_positive\\\\image1.png': '1',\n",
       " 'dados/MURA-v1.1/train/XR_WRIST/patient06384/study1_positive\\\\image1.png': '1',\n",
       " 'dados/MURA-v1.1/train/XR_WRIST/patient06384/study1_positive\\\\image2.png': '1',\n",
       " 'dados/MURA-v1.1/train/XR_WRIST/patient06385/study1_positive\\\\image1.png': '1',\n",
       " 'dados/MURA-v1.1/train/XR_WRIST/patient06385/study1_positive\\\\image2.png': '1',\n",
       " 'dados/MURA-v1.1/train/XR_WRIST/patient06385/study1_positive\\\\image3.png': '1',\n",
       " 'dados/MURA-v1.1/train/XR_WRIST/patient06385/study1_positive\\\\image4.png': '1',\n",
       " 'dados/MURA-v1.1/train/XR_WRIST/patient02538/study1_positive\\\\image1.png': '1',\n",
       " 'dados/MURA-v1.1/train/XR_WRIST/patient02538/study1_positive\\\\image2.png': '1',\n",
       " 'dados/MURA-v1.1/train/XR_WRIST/patient02538/study1_positive\\\\image3.png': '1',\n",
       " 'dados/MURA-v1.1/train/XR_WRIST/patient02538/study1_positive\\\\image4.png': '1',\n",
       " 'dados/MURA-v1.1/train/XR_WRIST/patient06386/study1_positive\\\\image1.png': '1',\n",
       " 'dados/MURA-v1.1/train/XR_WRIST/patient06386/study1_positive\\\\image2.png': '1',\n",
       " 'dados/MURA-v1.1/train/XR_WRIST/patient06386/study1_positive\\\\image3.png': '1',\n",
       " 'dados/MURA-v1.1/train/XR_WRIST/patient06386/study2_negative\\\\image1.png': '0',\n",
       " 'dados/MURA-v1.1/train/XR_WRIST/patient06386/study2_negative\\\\image2.png': '0',\n",
       " 'dados/MURA-v1.1/train/XR_WRIST/patient06386/study2_negative\\\\image3.png': '0',\n",
       " 'dados/MURA-v1.1/train/XR_WRIST/patient06387/study1_positive\\\\image1.png': '1',\n",
       " 'dados/MURA-v1.1/train/XR_WRIST/patient06387/study1_positive\\\\image2.png': '1',\n",
       " 'dados/MURA-v1.1/train/XR_WRIST/patient06388/study1_positive\\\\image1.png': '1',\n",
       " 'dados/MURA-v1.1/train/XR_WRIST/patient06388/study1_positive\\\\image2.png': '1',\n",
       " 'dados/MURA-v1.1/train/XR_WRIST/patient06388/study1_positive\\\\image3.png': '1',\n",
       " 'dados/MURA-v1.1/train/XR_WRIST/patient06389/study1_positive\\\\image1.png': '1',\n",
       " 'dados/MURA-v1.1/train/XR_WRIST/patient06389/study1_positive\\\\image2.png': '1',\n",
       " 'dados/MURA-v1.1/train/XR_WRIST/patient06389/study1_positive\\\\image3.png': '1',\n",
       " 'dados/MURA-v1.1/train/XR_WRIST/patient06390/study1_positive\\\\image1.png': '1',\n",
       " 'dados/MURA-v1.1/train/XR_WRIST/patient06390/study1_positive\\\\image2.png': '1',\n",
       " 'dados/MURA-v1.1/train/XR_WRIST/patient06390/study1_positive\\\\image3.png': '1',\n",
       " 'dados/MURA-v1.1/train/XR_WRIST/patient06391/study1_positive\\\\image1.png': '1',\n",
       " 'dados/MURA-v1.1/train/XR_WRIST/patient06391/study1_positive\\\\image2.png': '1',\n",
       " 'dados/MURA-v1.1/train/XR_WRIST/patient06391/study1_positive\\\\image3.png': '1',\n",
       " 'dados/MURA-v1.1/train/XR_WRIST/patient06391/study1_positive\\\\image4.png': '1',\n",
       " 'dados/MURA-v1.1/train/XR_WRIST/patient06392/study1_positive\\\\image1.png': '1',\n",
       " 'dados/MURA-v1.1/train/XR_WRIST/patient06392/study1_positive\\\\image2.png': '1',\n",
       " 'dados/MURA-v1.1/train/XR_WRIST/patient06392/study1_positive\\\\image3.png': '1',\n",
       " 'dados/MURA-v1.1/train/XR_WRIST/patient04825/study1_positive\\\\image1.png': '1',\n",
       " 'dados/MURA-v1.1/train/XR_WRIST/patient04825/study1_positive\\\\image2.png': '1',\n",
       " 'dados/MURA-v1.1/train/XR_WRIST/patient04825/study1_positive\\\\image3.png': '1',\n",
       " 'dados/MURA-v1.1/train/XR_WRIST/patient06393/study1_positive\\\\image1.png': '1',\n",
       " 'dados/MURA-v1.1/train/XR_WRIST/patient06393/study1_positive\\\\image2.png': '1',\n",
       " 'dados/MURA-v1.1/train/XR_WRIST/patient06393/study1_positive\\\\image3.png': '1',\n",
       " 'dados/MURA-v1.1/train/XR_WRIST/patient06393/study1_positive\\\\image4.png': '1',\n",
       " 'dados/MURA-v1.1/train/XR_WRIST/patient04471/study1_positive\\\\image1.png': '1',\n",
       " 'dados/MURA-v1.1/train/XR_WRIST/patient04471/study1_positive\\\\image2.png': '1',\n",
       " 'dados/MURA-v1.1/train/XR_WRIST/patient04471/study1_positive\\\\image3.png': '1',\n",
       " 'dados/MURA-v1.1/train/XR_WRIST/patient04471/study1_positive\\\\image4.png': '1',\n",
       " 'dados/MURA-v1.1/train/XR_WRIST/patient04471/study2_negative\\\\image1.png': '0',\n",
       " 'dados/MURA-v1.1/train/XR_WRIST/patient04471/study2_negative\\\\image2.png': '0',\n",
       " 'dados/MURA-v1.1/train/XR_WRIST/patient04471/study2_negative\\\\image3.png': '0',\n",
       " 'dados/MURA-v1.1/train/XR_WRIST/patient04471/study3_negative\\\\image1.png': '0',\n",
       " 'dados/MURA-v1.1/train/XR_WRIST/patient04471/study3_negative\\\\image2.png': '0',\n",
       " 'dados/MURA-v1.1/train/XR_WRIST/patient04471/study3_negative\\\\image3.png': '0',\n",
       " 'dados/MURA-v1.1/train/XR_WRIST/patient06394/study1_positive\\\\image1.png': '1',\n",
       " 'dados/MURA-v1.1/train/XR_WRIST/patient06394/study1_positive\\\\image2.png': '1',\n",
       " 'dados/MURA-v1.1/train/XR_WRIST/patient06394/study1_positive\\\\image3.png': '1',\n",
       " 'dados/MURA-v1.1/train/XR_WRIST/patient06394/study2_negative\\\\image1.png': '0',\n",
       " 'dados/MURA-v1.1/train/XR_WRIST/patient06394/study2_negative\\\\image2.png': '0',\n",
       " 'dados/MURA-v1.1/train/XR_WRIST/patient06394/study2_negative\\\\image3.png': '0',\n",
       " 'dados/MURA-v1.1/train/XR_WRIST/patient06395/study1_positive\\\\image1.png': '1',\n",
       " 'dados/MURA-v1.1/train/XR_WRIST/patient06395/study1_positive\\\\image2.png': '1',\n",
       " 'dados/MURA-v1.1/train/XR_WRIST/patient06395/study1_positive\\\\image3.png': '1',\n",
       " 'dados/MURA-v1.1/train/XR_WRIST/patient06395/study1_positive\\\\image4.png': '1',\n",
       " 'dados/MURA-v1.1/train/XR_WRIST/patient05445/study1_positive\\\\image1.png': '1',\n",
       " 'dados/MURA-v1.1/train/XR_WRIST/patient05445/study1_positive\\\\image2.png': '1',\n",
       " 'dados/MURA-v1.1/train/XR_WRIST/patient05445/study1_positive\\\\image3.png': '1',\n",
       " 'dados/MURA-v1.1/train/XR_WRIST/patient05445/study1_positive\\\\image4.png': '1',\n",
       " 'dados/MURA-v1.1/train/XR_WRIST/patient06396/study1_positive\\\\image1.png': '1',\n",
       " 'dados/MURA-v1.1/train/XR_WRIST/patient06396/study1_positive\\\\image2.png': '1',\n",
       " 'dados/MURA-v1.1/train/XR_WRIST/patient06396/study2_negative\\\\image1.png': '0',\n",
       " 'dados/MURA-v1.1/train/XR_WRIST/patient06396/study3_negative\\\\image1.png': '0',\n",
       " 'dados/MURA-v1.1/train/XR_WRIST/patient06396/study3_negative\\\\image2.png': '0',\n",
       " 'dados/MURA-v1.1/train/XR_WRIST/patient06396/study3_negative\\\\image3.png': '0',\n",
       " 'dados/MURA-v1.1/train/XR_WRIST/patient06397/study1_positive\\\\image1.png': '1',\n",
       " 'dados/MURA-v1.1/train/XR_WRIST/patient06397/study1_positive\\\\image2.png': '1',\n",
       " 'dados/MURA-v1.1/train/XR_WRIST/patient06398/study1_positive\\\\image1.png': '1',\n",
       " 'dados/MURA-v1.1/train/XR_WRIST/patient06398/study1_positive\\\\image2.png': '1',\n",
       " 'dados/MURA-v1.1/train/XR_WRIST/patient06398/study1_positive\\\\image3.png': '1',\n",
       " 'dados/MURA-v1.1/train/XR_WRIST/patient06399/study1_positive\\\\image1.png': '1',\n",
       " 'dados/MURA-v1.1/train/XR_WRIST/patient06399/study1_positive\\\\image2.png': '1',\n",
       " 'dados/MURA-v1.1/train/XR_WRIST/patient06399/study1_positive\\\\image3.png': '1',\n",
       " 'dados/MURA-v1.1/train/XR_WRIST/patient01072/study1_positive\\\\image1.png': '1',\n",
       " 'dados/MURA-v1.1/train/XR_WRIST/patient01072/study1_positive\\\\image2.png': '1',\n",
       " 'dados/MURA-v1.1/train/XR_WRIST/patient01072/study1_positive\\\\image3.png': '1',\n",
       " 'dados/MURA-v1.1/train/XR_WRIST/patient06400/study1_positive\\\\image1.png': '1',\n",
       " 'dados/MURA-v1.1/train/XR_WRIST/patient06400/study1_positive\\\\image2.png': '1',\n",
       " 'dados/MURA-v1.1/train/XR_WRIST/patient06400/study1_positive\\\\image3.png': '1',\n",
       " 'dados/MURA-v1.1/train/XR_WRIST/patient06401/study1_positive\\\\image1.png': '1',\n",
       " 'dados/MURA-v1.1/train/XR_WRIST/patient06401/study1_positive\\\\image2.png': '1',\n",
       " 'dados/MURA-v1.1/train/XR_WRIST/patient06402/study1_positive\\\\image1.png': '1',\n",
       " 'dados/MURA-v1.1/train/XR_WRIST/patient06402/study1_positive\\\\image2.png': '1',\n",
       " 'dados/MURA-v1.1/train/XR_WRIST/patient06402/study1_positive\\\\image3.png': '1',\n",
       " 'dados/MURA-v1.1/train/XR_WRIST/patient06402/study2_negative\\\\image1.png': '0',\n",
       " 'dados/MURA-v1.1/train/XR_WRIST/patient06402/study2_negative\\\\image2.png': '0',\n",
       " 'dados/MURA-v1.1/train/XR_WRIST/patient06402/study2_negative\\\\image3.png': '0',\n",
       " 'dados/MURA-v1.1/train/XR_WRIST/patient06402/study2_negative\\\\image4.png': '0',\n",
       " 'dados/MURA-v1.1/train/XR_WRIST/patient06402/study2_negative\\\\image5.png': '0',\n",
       " 'dados/MURA-v1.1/train/XR_WRIST/patient06403/study1_positive\\\\image1.png': '1',\n",
       " 'dados/MURA-v1.1/train/XR_WRIST/patient06403/study1_positive\\\\image2.png': '1',\n",
       " 'dados/MURA-v1.1/train/XR_WRIST/patient06403/study1_positive\\\\image3.png': '1',\n",
       " 'dados/MURA-v1.1/train/XR_WRIST/patient06404/study1_positive\\\\image1.png': '1',\n",
       " 'dados/MURA-v1.1/train/XR_WRIST/patient06404/study1_positive\\\\image2.png': '1',\n",
       " 'dados/MURA-v1.1/train/XR_WRIST/patient06404/study1_positive\\\\image3.png': '1',\n",
       " 'dados/MURA-v1.1/train/XR_WRIST/patient06404/study1_positive\\\\image4.png': '1',\n",
       " 'dados/MURA-v1.1/train/XR_WRIST/patient06405/study1_positive\\\\image1.png': '1',\n",
       " 'dados/MURA-v1.1/train/XR_WRIST/patient06405/study1_positive\\\\image2.png': '1',\n",
       " 'dados/MURA-v1.1/train/XR_WRIST/patient06405/study1_positive\\\\image3.png': '1',\n",
       " 'dados/MURA-v1.1/train/XR_WRIST/patient06406/study1_positive\\\\image1.png': '1',\n",
       " 'dados/MURA-v1.1/train/XR_WRIST/patient06406/study1_positive\\\\image2.png': '1',\n",
       " 'dados/MURA-v1.1/train/XR_WRIST/patient06406/study1_positive\\\\image3.png': '1',\n",
       " 'dados/MURA-v1.1/train/XR_WRIST/patient06407/study1_positive\\\\image1.png': '1',\n",
       " 'dados/MURA-v1.1/train/XR_WRIST/patient06407/study1_positive\\\\image2.png': '1',\n",
       " 'dados/MURA-v1.1/train/XR_WRIST/patient06407/study1_positive\\\\image3.png': '1',\n",
       " 'dados/MURA-v1.1/train/XR_WRIST/patient06408/study1_positive\\\\image1.png': '1',\n",
       " 'dados/MURA-v1.1/train/XR_WRIST/patient06408/study1_positive\\\\image2.png': '1',\n",
       " 'dados/MURA-v1.1/train/XR_WRIST/patient06409/study1_positive\\\\image1.png': '1',\n",
       " 'dados/MURA-v1.1/train/XR_WRIST/patient06409/study1_positive\\\\image2.png': '1',\n",
       " 'dados/MURA-v1.1/train/XR_WRIST/patient06410/study1_positive\\\\image1.png': '1',\n",
       " 'dados/MURA-v1.1/train/XR_WRIST/patient06410/study1_positive\\\\image2.png': '1',\n",
       " 'dados/MURA-v1.1/train/XR_WRIST/patient06410/study1_positive\\\\image3.png': '1',\n",
       " 'dados/MURA-v1.1/train/XR_WRIST/patient06411/study1_positive\\\\image1.png': '1',\n",
       " 'dados/MURA-v1.1/train/XR_WRIST/patient06411/study1_positive\\\\image2.png': '1',\n",
       " 'dados/MURA-v1.1/train/XR_WRIST/patient06411/study1_positive\\\\image3.png': '1',\n",
       " 'dados/MURA-v1.1/train/XR_WRIST/patient06412/study1_positive\\\\image1.png': '1',\n",
       " 'dados/MURA-v1.1/train/XR_WRIST/patient06412/study1_positive\\\\image2.png': '1',\n",
       " 'dados/MURA-v1.1/train/XR_WRIST/patient06412/study1_positive\\\\image3.png': '1',\n",
       " 'dados/MURA-v1.1/train/XR_WRIST/patient06412/study1_positive\\\\image4.png': '1',\n",
       " 'dados/MURA-v1.1/train/XR_WRIST/patient06413/study1_positive\\\\image1.png': '1',\n",
       " 'dados/MURA-v1.1/train/XR_WRIST/patient06413/study1_positive\\\\image2.png': '1',\n",
       " 'dados/MURA-v1.1/train/XR_WRIST/patient06414/study1_positive\\\\image1.png': '1',\n",
       " 'dados/MURA-v1.1/train/XR_WRIST/patient06414/study1_positive\\\\image2.png': '1',\n",
       " 'dados/MURA-v1.1/train/XR_WRIST/patient06414/study1_positive\\\\image3.png': '1',\n",
       " 'dados/MURA-v1.1/train/XR_WRIST/patient06414/study1_positive\\\\image4.png': '1',\n",
       " 'dados/MURA-v1.1/train/XR_WRIST/patient06415/study1_positive\\\\image1.png': '1',\n",
       " 'dados/MURA-v1.1/train/XR_WRIST/patient06415/study1_positive\\\\image2.png': '1',\n",
       " 'dados/MURA-v1.1/train/XR_WRIST/patient06415/study1_positive\\\\image3.png': '1',\n",
       " 'dados/MURA-v1.1/train/XR_WRIST/patient06416/study1_positive\\\\image1.png': '1',\n",
       " 'dados/MURA-v1.1/train/XR_WRIST/patient06416/study1_positive\\\\image2.png': '1',\n",
       " 'dados/MURA-v1.1/train/XR_WRIST/patient06416/study1_positive\\\\image3.png': '1',\n",
       " 'dados/MURA-v1.1/train/XR_WRIST/patient06416/study2_positive\\\\image1.png': '1',\n",
       " 'dados/MURA-v1.1/train/XR_WRIST/patient06416/study2_positive\\\\image2.png': '1',\n",
       " 'dados/MURA-v1.1/train/XR_WRIST/patient06416/study2_positive\\\\image3.png': '1',\n",
       " 'dados/MURA-v1.1/train/XR_WRIST/patient06417/study1_positive\\\\image1.png': '1',\n",
       " 'dados/MURA-v1.1/train/XR_WRIST/patient06417/study1_positive\\\\image2.png': '1',\n",
       " 'dados/MURA-v1.1/train/XR_WRIST/patient06417/study1_positive\\\\image3.png': '1',\n",
       " 'dados/MURA-v1.1/train/XR_WRIST/patient01093/study1_positive\\\\image1.png': '1',\n",
       " 'dados/MURA-v1.1/train/XR_WRIST/patient01093/study1_positive\\\\image2.png': '1',\n",
       " 'dados/MURA-v1.1/train/XR_WRIST/patient01093/study1_positive\\\\image3.png': '1',\n",
       " 'dados/MURA-v1.1/train/XR_WRIST/patient06418/study1_positive\\\\image1.png': '1',\n",
       " 'dados/MURA-v1.1/train/XR_WRIST/patient06418/study1_positive\\\\image2.png': '1',\n",
       " 'dados/MURA-v1.1/train/XR_WRIST/patient06418/study1_positive\\\\image3.png': '1',\n",
       " 'dados/MURA-v1.1/train/XR_WRIST/patient06418/study1_positive\\\\image4.png': '1',\n",
       " 'dados/MURA-v1.1/train/XR_WRIST/patient05739/study1_positive\\\\image1.png': '1',\n",
       " 'dados/MURA-v1.1/train/XR_WRIST/patient05739/study1_positive\\\\image2.png': '1',\n",
       " 'dados/MURA-v1.1/train/XR_WRIST/patient05739/study1_positive\\\\image3.png': '1',\n",
       " 'dados/MURA-v1.1/train/XR_WRIST/patient05739/study2_negative\\\\image1.png': '0',\n",
       " 'dados/MURA-v1.1/train/XR_WRIST/patient05739/study2_negative\\\\image2.png': '0',\n",
       " 'dados/MURA-v1.1/train/XR_WRIST/patient05739/study2_negative\\\\image3.png': '0',\n",
       " 'dados/MURA-v1.1/train/XR_WRIST/patient06419/study1_positive\\\\image1.png': '1',\n",
       " 'dados/MURA-v1.1/train/XR_WRIST/patient06419/study1_positive\\\\image2.png': '1',\n",
       " 'dados/MURA-v1.1/train/XR_WRIST/patient06419/study1_positive\\\\image3.png': '1',\n",
       " 'dados/MURA-v1.1/train/XR_WRIST/patient06420/study1_positive\\\\image1.png': '1',\n",
       " 'dados/MURA-v1.1/train/XR_WRIST/patient06420/study1_positive\\\\image2.png': '1',\n",
       " 'dados/MURA-v1.1/train/XR_WRIST/patient06420/study1_positive\\\\image3.png': '1',\n",
       " 'dados/MURA-v1.1/train/XR_WRIST/patient06421/study1_positive\\\\image1.png': '1',\n",
       " 'dados/MURA-v1.1/train/XR_WRIST/patient06421/study1_positive\\\\image2.png': '1',\n",
       " 'dados/MURA-v1.1/train/XR_WRIST/patient06421/study1_positive\\\\image3.png': '1',\n",
       " 'dados/MURA-v1.1/train/XR_WRIST/patient06422/study1_positive\\\\image1.png': '1',\n",
       " 'dados/MURA-v1.1/train/XR_WRIST/patient06422/study1_positive\\\\image2.png': '1',\n",
       " 'dados/MURA-v1.1/train/XR_WRIST/patient06422/study1_positive\\\\image3.png': '1',\n",
       " 'dados/MURA-v1.1/train/XR_WRIST/patient06422/study1_positive\\\\image4.png': '1',\n",
       " 'dados/MURA-v1.1/train/XR_WRIST/patient06423/study1_positive\\\\image1.png': '1',\n",
       " 'dados/MURA-v1.1/train/XR_WRIST/patient06423/study1_positive\\\\image2.png': '1',\n",
       " 'dados/MURA-v1.1/train/XR_WRIST/patient06424/study1_positive\\\\image1.png': '1',\n",
       " 'dados/MURA-v1.1/train/XR_WRIST/patient06424/study1_positive\\\\image2.png': '1',\n",
       " 'dados/MURA-v1.1/train/XR_WRIST/patient06424/study1_positive\\\\image3.png': '1',\n",
       " 'dados/MURA-v1.1/train/XR_WRIST/patient06425/study1_positive\\\\image1.png': '1',\n",
       " 'dados/MURA-v1.1/train/XR_WRIST/patient06425/study1_positive\\\\image2.png': '1',\n",
       " 'dados/MURA-v1.1/train/XR_WRIST/patient06425/study1_positive\\\\image3.png': '1',\n",
       " 'dados/MURA-v1.1/train/XR_WRIST/patient06425/study1_positive\\\\image4.png': '1',\n",
       " 'dados/MURA-v1.1/train/XR_WRIST/patient06426/study1_positive\\\\image1.png': '1',\n",
       " 'dados/MURA-v1.1/train/XR_WRIST/patient06426/study1_positive\\\\image2.png': '1',\n",
       " 'dados/MURA-v1.1/train/XR_WRIST/patient06426/study1_positive\\\\image3.png': '1',\n",
       " 'dados/MURA-v1.1/train/XR_WRIST/patient06426/study1_positive\\\\image4.png': '1',\n",
       " 'dados/MURA-v1.1/train/XR_WRIST/patient06427/study1_positive\\\\image1.png': '1',\n",
       " 'dados/MURA-v1.1/train/XR_WRIST/patient06427/study1_positive\\\\image2.png': '1',\n",
       " 'dados/MURA-v1.1/train/XR_WRIST/patient06427/study1_positive\\\\image3.png': '1',\n",
       " 'dados/MURA-v1.1/train/XR_WRIST/patient05551/study1_positive\\\\image1.png': '1',\n",
       " 'dados/MURA-v1.1/train/XR_WRIST/patient05551/study1_positive\\\\image2.png': '1',\n",
       " 'dados/MURA-v1.1/train/XR_WRIST/patient05551/study1_positive\\\\image3.png': '1',\n",
       " 'dados/MURA-v1.1/train/XR_WRIST/patient06428/study1_positive\\\\image1.png': '1',\n",
       " 'dados/MURA-v1.1/train/XR_WRIST/patient06428/study1_positive\\\\image2.png': '1',\n",
       " 'dados/MURA-v1.1/train/XR_WRIST/patient06428/study1_positive\\\\image3.png': '1',\n",
       " 'dados/MURA-v1.1/train/XR_WRIST/patient06429/study1_positive\\\\image1.png': '1',\n",
       " 'dados/MURA-v1.1/train/XR_WRIST/patient06429/study1_positive\\\\image2.png': '1',\n",
       " 'dados/MURA-v1.1/train/XR_WRIST/patient06429/study1_positive\\\\image3.png': '1',\n",
       " 'dados/MURA-v1.1/train/XR_WRIST/patient06430/study1_positive\\\\image1.png': '1',\n",
       " 'dados/MURA-v1.1/train/XR_WRIST/patient06430/study1_positive\\\\image2.png': '1',\n",
       " 'dados/MURA-v1.1/train/XR_WRIST/patient06431/study1_positive\\\\image1.png': '1',\n",
       " 'dados/MURA-v1.1/train/XR_WRIST/patient06431/study1_positive\\\\image2.png': '1',\n",
       " 'dados/MURA-v1.1/train/XR_WRIST/patient06431/study1_positive\\\\image3.png': '1',\n",
       " 'dados/MURA-v1.1/train/XR_WRIST/patient06432/study1_positive\\\\image1.png': '1',\n",
       " 'dados/MURA-v1.1/train/XR_WRIST/patient06432/study1_positive\\\\image2.png': '1',\n",
       " 'dados/MURA-v1.1/train/XR_WRIST/patient06432/study1_positive\\\\image3.png': '1',\n",
       " 'dados/MURA-v1.1/train/XR_WRIST/patient06433/study1_positive\\\\image1.png': '1',\n",
       " 'dados/MURA-v1.1/train/XR_WRIST/patient06433/study1_positive\\\\image2.png': '1',\n",
       " 'dados/MURA-v1.1/train/XR_WRIST/patient06433/study1_positive\\\\image3.png': '1',\n",
       " 'dados/MURA-v1.1/train/XR_WRIST/patient06434/study1_positive\\\\image1.png': '1',\n",
       " 'dados/MURA-v1.1/train/XR_WRIST/patient06434/study1_positive\\\\image2.png': '1',\n",
       " 'dados/MURA-v1.1/train/XR_WRIST/patient06434/study1_positive\\\\image3.png': '1',\n",
       " 'dados/MURA-v1.1/train/XR_WRIST/patient06434/study1_positive\\\\image4.png': '1',\n",
       " 'dados/MURA-v1.1/train/XR_WRIST/patient06435/study1_positive\\\\image1.png': '1',\n",
       " 'dados/MURA-v1.1/train/XR_WRIST/patient06435/study1_positive\\\\image2.png': '1',\n",
       " 'dados/MURA-v1.1/train/XR_WRIST/patient06435/study1_positive\\\\image3.png': '1',\n",
       " 'dados/MURA-v1.1/train/XR_WRIST/patient06436/study1_positive\\\\image1.png': '1',\n",
       " 'dados/MURA-v1.1/train/XR_WRIST/patient06436/study1_positive\\\\image2.png': '1',\n",
       " 'dados/MURA-v1.1/train/XR_WRIST/patient06436/study1_positive\\\\image3.png': '1',\n",
       " 'dados/MURA-v1.1/train/XR_WRIST/patient06437/study1_positive\\\\image1.png': '1',\n",
       " 'dados/MURA-v1.1/train/XR_WRIST/patient06437/study1_positive\\\\image2.png': '1',\n",
       " 'dados/MURA-v1.1/train/XR_WRIST/patient06437/study1_positive\\\\image3.png': '1',\n",
       " 'dados/MURA-v1.1/train/XR_WRIST/patient06437/study1_positive\\\\image4.png': '1',\n",
       " 'dados/MURA-v1.1/train/XR_WRIST/patient02100/study1_positive\\\\image1.png': '1',\n",
       " 'dados/MURA-v1.1/train/XR_WRIST/patient02100/study1_positive\\\\image2.png': '1',\n",
       " 'dados/MURA-v1.1/train/XR_WRIST/patient02100/study1_positive\\\\image3.png': '1',\n",
       " 'dados/MURA-v1.1/train/XR_WRIST/patient06438/study1_positive\\\\image1.png': '1',\n",
       " 'dados/MURA-v1.1/train/XR_WRIST/patient06438/study1_positive\\\\image2.png': '1',\n",
       " 'dados/MURA-v1.1/train/XR_WRIST/patient06438/study1_positive\\\\image3.png': '1',\n",
       " 'dados/MURA-v1.1/train/XR_WRIST/patient06439/study1_positive\\\\image1.png': '1',\n",
       " 'dados/MURA-v1.1/train/XR_WRIST/patient06439/study1_positive\\\\image2.png': '1',\n",
       " 'dados/MURA-v1.1/train/XR_WRIST/patient06439/study1_positive\\\\image3.png': '1',\n",
       " 'dados/MURA-v1.1/train/XR_WRIST/patient06440/study1_positive\\\\image1.png': '1',\n",
       " 'dados/MURA-v1.1/train/XR_WRIST/patient06440/study1_positive\\\\image2.png': '1',\n",
       " 'dados/MURA-v1.1/train/XR_WRIST/patient06440/study1_positive\\\\image3.png': '1',\n",
       " 'dados/MURA-v1.1/train/XR_WRIST/patient06441/study1_positive\\\\image1.png': '1',\n",
       " 'dados/MURA-v1.1/train/XR_WRIST/patient06441/study1_positive\\\\image2.png': '1',\n",
       " 'dados/MURA-v1.1/train/XR_WRIST/patient06441/study1_positive\\\\image3.png': '1',\n",
       " 'dados/MURA-v1.1/train/XR_WRIST/patient06441/study1_positive\\\\image4.png': '1',\n",
       " 'dados/MURA-v1.1/train/XR_WRIST/patient06442/study1_positive\\\\image1.png': '1',\n",
       " 'dados/MURA-v1.1/train/XR_WRIST/patient06442/study1_positive\\\\image2.png': '1',\n",
       " 'dados/MURA-v1.1/train/XR_WRIST/patient06442/study1_positive\\\\image3.png': '1',\n",
       " 'dados/MURA-v1.1/train/XR_WRIST/patient06443/study1_positive\\\\image1.png': '1',\n",
       " 'dados/MURA-v1.1/train/XR_WRIST/patient06443/study1_positive\\\\image2.png': '1',\n",
       " 'dados/MURA-v1.1/train/XR_WRIST/patient06443/study1_positive\\\\image3.png': '1',\n",
       " 'dados/MURA-v1.1/train/XR_WRIST/patient06444/study1_positive\\\\image1.png': '1',\n",
       " 'dados/MURA-v1.1/train/XR_WRIST/patient06444/study1_positive\\\\image2.png': '1',\n",
       " 'dados/MURA-v1.1/train/XR_WRIST/patient06444/study1_positive\\\\image3.png': '1',\n",
       " 'dados/MURA-v1.1/train/XR_WRIST/patient06445/study1_positive\\\\image1.png': '1',\n",
       " 'dados/MURA-v1.1/train/XR_WRIST/patient06445/study1_positive\\\\image2.png': '1',\n",
       " 'dados/MURA-v1.1/train/XR_WRIST/patient06445/study1_positive\\\\image3.png': '1',\n",
       " 'dados/MURA-v1.1/train/XR_WRIST/patient03968/study1_positive\\\\image1.png': '1',\n",
       " 'dados/MURA-v1.1/train/XR_WRIST/patient03968/study1_positive\\\\image2.png': '1',\n",
       " 'dados/MURA-v1.1/train/XR_WRIST/patient06446/study1_positive\\\\image1.png': '1',\n",
       " 'dados/MURA-v1.1/train/XR_WRIST/patient06446/study1_positive\\\\image2.png': '1',\n",
       " 'dados/MURA-v1.1/train/XR_WRIST/patient06446/study1_positive\\\\image3.png': '1',\n",
       " 'dados/MURA-v1.1/train/XR_WRIST/patient06446/study1_positive\\\\image4.png': '1',\n",
       " 'dados/MURA-v1.1/train/XR_WRIST/patient06447/study1_positive\\\\image1.png': '1',\n",
       " 'dados/MURA-v1.1/train/XR_WRIST/patient06447/study1_positive\\\\image2.png': '1',\n",
       " 'dados/MURA-v1.1/train/XR_WRIST/patient06447/study1_positive\\\\image3.png': '1',\n",
       " 'dados/MURA-v1.1/train/XR_WRIST/patient06448/study1_positive\\\\image1.png': '1',\n",
       " 'dados/MURA-v1.1/train/XR_WRIST/patient06448/study1_positive\\\\image2.png': '1',\n",
       " 'dados/MURA-v1.1/train/XR_WRIST/patient00214/study1_positive\\\\image1.png': '1',\n",
       " 'dados/MURA-v1.1/train/XR_WRIST/patient00214/study1_positive\\\\image2.png': '1',\n",
       " 'dados/MURA-v1.1/train/XR_WRIST/patient00214/study1_positive\\\\image3.png': '1',\n",
       " 'dados/MURA-v1.1/train/XR_WRIST/patient06449/study1_positive\\\\image1.png': '1',\n",
       " 'dados/MURA-v1.1/train/XR_WRIST/patient06449/study1_positive\\\\image2.png': '1',\n",
       " 'dados/MURA-v1.1/train/XR_WRIST/patient06449/study1_positive\\\\image3.png': '1',\n",
       " 'dados/MURA-v1.1/train/XR_WRIST/patient06450/study1_positive\\\\image1.png': '1',\n",
       " 'dados/MURA-v1.1/train/XR_WRIST/patient06450/study1_positive\\\\image2.png': '1',\n",
       " 'dados/MURA-v1.1/train/XR_WRIST/patient06450/study1_positive\\\\image3.png': '1',\n",
       " 'dados/MURA-v1.1/train/XR_WRIST/patient06451/study1_positive\\\\image1.png': '1',\n",
       " 'dados/MURA-v1.1/train/XR_WRIST/patient06451/study1_positive\\\\image2.png': '1',\n",
       " 'dados/MURA-v1.1/train/XR_WRIST/patient06451/study1_positive\\\\image3.png': '1',\n",
       " 'dados/MURA-v1.1/train/XR_WRIST/patient06452/study1_positive\\\\image1.png': '1',\n",
       " 'dados/MURA-v1.1/train/XR_WRIST/patient06452/study1_positive\\\\image2.png': '1',\n",
       " 'dados/MURA-v1.1/train/XR_WRIST/patient06452/study1_positive\\\\image3.png': '1',\n",
       " 'dados/MURA-v1.1/train/XR_WRIST/patient06453/study1_positive\\\\image1.png': '1',\n",
       " 'dados/MURA-v1.1/train/XR_WRIST/patient06453/study1_positive\\\\image2.png': '1',\n",
       " 'dados/MURA-v1.1/train/XR_WRIST/patient06453/study1_positive\\\\image3.png': '1',\n",
       " 'dados/MURA-v1.1/train/XR_WRIST/patient06454/study1_positive\\\\image1.png': '1',\n",
       " 'dados/MURA-v1.1/train/XR_WRIST/patient06454/study1_positive\\\\image2.png': '1',\n",
       " 'dados/MURA-v1.1/train/XR_WRIST/patient06454/study1_positive\\\\image3.png': '1',\n",
       " 'dados/MURA-v1.1/train/XR_WRIST/patient06455/study1_positive\\\\image1.png': '1',\n",
       " 'dados/MURA-v1.1/train/XR_WRIST/patient06455/study1_positive\\\\image2.png': '1',\n",
       " 'dados/MURA-v1.1/train/XR_WRIST/patient06455/study1_positive\\\\image3.png': '1',\n",
       " 'dados/MURA-v1.1/train/XR_WRIST/patient06456/study1_positive\\\\image1.png': '1',\n",
       " 'dados/MURA-v1.1/train/XR_WRIST/patient06456/study1_positive\\\\image2.png': '1',\n",
       " 'dados/MURA-v1.1/train/XR_WRIST/patient06457/study1_positive\\\\image1.png': '1',\n",
       " 'dados/MURA-v1.1/train/XR_WRIST/patient06457/study1_positive\\\\image2.png': '1',\n",
       " 'dados/MURA-v1.1/train/XR_WRIST/patient06458/study1_positive\\\\image1.png': '1',\n",
       " 'dados/MURA-v1.1/train/XR_WRIST/patient06458/study1_positive\\\\image2.png': '1',\n",
       " 'dados/MURA-v1.1/train/XR_WRIST/patient06458/study1_positive\\\\image3.png': '1',\n",
       " 'dados/MURA-v1.1/train/XR_WRIST/patient06459/study1_positive\\\\image1.png': '1',\n",
       " 'dados/MURA-v1.1/train/XR_WRIST/patient06459/study1_positive\\\\image2.png': '1',\n",
       " 'dados/MURA-v1.1/train/XR_WRIST/patient06459/study1_positive\\\\image3.png': '1',\n",
       " 'dados/MURA-v1.1/train/XR_WRIST/patient06459/study1_positive\\\\image4.png': '1',\n",
       " 'dados/MURA-v1.1/train/XR_WRIST/patient06460/study1_positive\\\\image1.png': '1',\n",
       " 'dados/MURA-v1.1/train/XR_WRIST/patient06460/study1_positive\\\\image2.png': '1',\n",
       " 'dados/MURA-v1.1/train/XR_WRIST/patient06460/study1_positive\\\\image3.png': '1',\n",
       " 'dados/MURA-v1.1/train/XR_WRIST/patient06461/study1_positive\\\\image1.png': '1',\n",
       " 'dados/MURA-v1.1/train/XR_WRIST/patient06461/study1_positive\\\\image2.png': '1',\n",
       " 'dados/MURA-v1.1/train/XR_WRIST/patient06461/study1_positive\\\\image3.png': '1',\n",
       " 'dados/MURA-v1.1/train/XR_WRIST/patient06462/study1_positive\\\\image1.png': '1',\n",
       " 'dados/MURA-v1.1/train/XR_WRIST/patient06462/study1_positive\\\\image2.png': '1',\n",
       " 'dados/MURA-v1.1/train/XR_WRIST/patient06462/study1_positive\\\\image3.png': '1',\n",
       " 'dados/MURA-v1.1/train/XR_WRIST/patient06463/study1_positive\\\\image1.png': '1',\n",
       " 'dados/MURA-v1.1/train/XR_WRIST/patient06463/study1_positive\\\\image2.png': '1',\n",
       " 'dados/MURA-v1.1/train/XR_WRIST/patient06463/study1_positive\\\\image3.png': '1',\n",
       " 'dados/MURA-v1.1/train/XR_WRIST/patient06464/study1_positive\\\\image1.png': '1',\n",
       " 'dados/MURA-v1.1/train/XR_WRIST/patient06464/study1_positive\\\\image2.png': '1',\n",
       " 'dados/MURA-v1.1/train/XR_WRIST/patient06464/study1_positive\\\\image3.png': '1',\n",
       " 'dados/MURA-v1.1/train/XR_WRIST/patient06465/study1_positive\\\\image1.png': '1',\n",
       " 'dados/MURA-v1.1/train/XR_WRIST/patient06465/study1_positive\\\\image2.png': '1',\n",
       " 'dados/MURA-v1.1/train/XR_WRIST/patient06465/study1_positive\\\\image3.png': '1',\n",
       " 'dados/MURA-v1.1/train/XR_WRIST/patient06466/study1_positive\\\\image1.png': '1',\n",
       " 'dados/MURA-v1.1/train/XR_WRIST/patient06466/study1_positive\\\\image2.png': '1',\n",
       " 'dados/MURA-v1.1/train/XR_WRIST/patient06466/study1_positive\\\\image3.png': '1',\n",
       " 'dados/MURA-v1.1/train/XR_WRIST/patient03005/study1_positive\\\\image1.png': '1',\n",
       " 'dados/MURA-v1.1/train/XR_WRIST/patient03005/study1_positive\\\\image2.png': '1',\n",
       " 'dados/MURA-v1.1/train/XR_WRIST/patient03005/study1_positive\\\\image3.png': '1',\n",
       " 'dados/MURA-v1.1/train/XR_WRIST/patient06467/study1_positive\\\\image1.png': '1',\n",
       " 'dados/MURA-v1.1/train/XR_WRIST/patient06467/study1_positive\\\\image2.png': '1',\n",
       " 'dados/MURA-v1.1/train/XR_WRIST/patient06467/study1_positive\\\\image3.png': '1',\n",
       " 'dados/MURA-v1.1/train/XR_WRIST/patient06468/study1_positive\\\\image1.png': '1',\n",
       " 'dados/MURA-v1.1/train/XR_WRIST/patient06468/study1_positive\\\\image2.png': '1',\n",
       " 'dados/MURA-v1.1/train/XR_WRIST/patient06468/study1_positive\\\\image3.png': '1',\n",
       " 'dados/MURA-v1.1/train/XR_WRIST/patient06469/study1_positive\\\\image1.png': '1',\n",
       " 'dados/MURA-v1.1/train/XR_WRIST/patient06469/study1_positive\\\\image2.png': '1',\n",
       " 'dados/MURA-v1.1/train/XR_WRIST/patient06469/study1_positive\\\\image3.png': '1',\n",
       " 'dados/MURA-v1.1/train/XR_WRIST/patient06469/study1_positive\\\\image4.png': '1',\n",
       " 'dados/MURA-v1.1/train/XR_WRIST/patient06470/study1_positive\\\\image1.png': '1',\n",
       " 'dados/MURA-v1.1/train/XR_WRIST/patient06470/study1_positive\\\\image2.png': '1',\n",
       " 'dados/MURA-v1.1/train/XR_WRIST/patient06470/study1_positive\\\\image3.png': '1',\n",
       " 'dados/MURA-v1.1/train/XR_WRIST/patient00006/study1_positive\\\\image1.png': '1',\n",
       " 'dados/MURA-v1.1/train/XR_WRIST/patient00006/study1_positive\\\\image2.png': '1',\n",
       " 'dados/MURA-v1.1/train/XR_WRIST/patient00006/study1_positive\\\\image3.png': '1',\n",
       " 'dados/MURA-v1.1/train/XR_WRIST/patient06471/study1_positive\\\\image1.png': '1',\n",
       " 'dados/MURA-v1.1/train/XR_WRIST/patient06471/study1_positive\\\\image2.png': '1',\n",
       " 'dados/MURA-v1.1/train/XR_WRIST/patient06472/study1_positive\\\\image1.png': '1',\n",
       " 'dados/MURA-v1.1/train/XR_WRIST/patient06472/study1_positive\\\\image2.png': '1',\n",
       " 'dados/MURA-v1.1/train/XR_WRIST/patient06472/study1_positive\\\\image3.png': '1',\n",
       " 'dados/MURA-v1.1/train/XR_WRIST/patient06473/study1_positive\\\\image1.png': '1',\n",
       " 'dados/MURA-v1.1/train/XR_WRIST/patient06473/study1_positive\\\\image2.png': '1',\n",
       " 'dados/MURA-v1.1/train/XR_WRIST/patient06473/study1_positive\\\\image3.png': '1',\n",
       " 'dados/MURA-v1.1/train/XR_WRIST/patient06473/study2_negative\\\\image1.png': '0',\n",
       " 'dados/MURA-v1.1/train/XR_WRIST/patient06473/study2_negative\\\\image2.png': '0',\n",
       " 'dados/MURA-v1.1/train/XR_WRIST/patient06473/study2_negative\\\\image3.png': '0',\n",
       " 'dados/MURA-v1.1/train/XR_WRIST/patient06473/study3_negative\\\\image1.png': '0',\n",
       " 'dados/MURA-v1.1/train/XR_WRIST/patient06473/study3_negative\\\\image2.png': '0',\n",
       " 'dados/MURA-v1.1/train/XR_WRIST/patient06473/study3_negative\\\\image3.png': '0',\n",
       " 'dados/MURA-v1.1/train/XR_WRIST/patient06474/study1_positive\\\\image1.png': '1',\n",
       " 'dados/MURA-v1.1/train/XR_WRIST/patient06474/study1_positive\\\\image2.png': '1',\n",
       " 'dados/MURA-v1.1/train/XR_WRIST/patient06474/study1_positive\\\\image3.png': '1',\n",
       " 'dados/MURA-v1.1/train/XR_WRIST/patient06475/study1_positive\\\\image1.png': '1',\n",
       " 'dados/MURA-v1.1/train/XR_WRIST/patient06475/study1_positive\\\\image2.png': '1',\n",
       " 'dados/MURA-v1.1/train/XR_WRIST/patient06475/study1_positive\\\\image3.png': '1',\n",
       " 'dados/MURA-v1.1/train/XR_WRIST/patient06476/study1_positive\\\\image1.png': '1',\n",
       " 'dados/MURA-v1.1/train/XR_WRIST/patient06476/study1_positive\\\\image2.png': '1',\n",
       " 'dados/MURA-v1.1/train/XR_WRIST/patient06476/study1_positive\\\\image3.png': '1',\n",
       " 'dados/MURA-v1.1/train/XR_WRIST/patient06477/study1_positive\\\\image1.png': '1',\n",
       " 'dados/MURA-v1.1/train/XR_WRIST/patient06477/study1_positive\\\\image2.png': '1',\n",
       " 'dados/MURA-v1.1/train/XR_WRIST/patient06477/study1_positive\\\\image3.png': '1',\n",
       " 'dados/MURA-v1.1/train/XR_WRIST/patient06477/study1_positive\\\\image4.png': '1',\n",
       " 'dados/MURA-v1.1/train/XR_WRIST/patient06477/study2_negative\\\\image1.png': '0',\n",
       " 'dados/MURA-v1.1/train/XR_WRIST/patient06477/study2_negative\\\\image2.png': '0',\n",
       " 'dados/MURA-v1.1/train/XR_WRIST/patient06478/study1_positive\\\\image1.png': '1',\n",
       " 'dados/MURA-v1.1/train/XR_WRIST/patient06478/study1_positive\\\\image2.png': '1',\n",
       " 'dados/MURA-v1.1/train/XR_WRIST/patient06478/study1_positive\\\\image3.png': '1',\n",
       " 'dados/MURA-v1.1/train/XR_WRIST/patient06478/study1_positive\\\\image4.png': '1',\n",
       " 'dados/MURA-v1.1/train/XR_WRIST/patient06478/study1_positive\\\\image5.png': '1',\n",
       " 'dados/MURA-v1.1/train/XR_WRIST/patient06479/study1_positive\\\\image1.png': '1',\n",
       " 'dados/MURA-v1.1/train/XR_WRIST/patient06479/study1_positive\\\\image2.png': '1',\n",
       " 'dados/MURA-v1.1/train/XR_WRIST/patient06479/study1_positive\\\\image3.png': '1',\n",
       " 'dados/MURA-v1.1/train/XR_WRIST/patient06480/study1_positive\\\\image1.png': '1',\n",
       " 'dados/MURA-v1.1/train/XR_WRIST/patient06480/study1_positive\\\\image2.png': '1',\n",
       " 'dados/MURA-v1.1/train/XR_WRIST/patient06480/study1_positive\\\\image3.png': '1',\n",
       " 'dados/MURA-v1.1/train/XR_WRIST/patient06481/study1_positive\\\\image1.png': '1',\n",
       " 'dados/MURA-v1.1/train/XR_WRIST/patient06481/study1_positive\\\\image2.png': '1',\n",
       " 'dados/MURA-v1.1/train/XR_WRIST/patient06481/study1_positive\\\\image3.png': '1',\n",
       " 'dados/MURA-v1.1/train/XR_WRIST/patient06482/study1_positive\\\\image1.png': '1',\n",
       " 'dados/MURA-v1.1/train/XR_WRIST/patient06482/study1_positive\\\\image2.png': '1',\n",
       " 'dados/MURA-v1.1/train/XR_WRIST/patient06482/study1_positive\\\\image3.png': '1',\n",
       " 'dados/MURA-v1.1/train/XR_WRIST/patient06482/study2_negative\\\\image1.png': '0',\n",
       " 'dados/MURA-v1.1/train/XR_WRIST/patient06482/study2_negative\\\\image2.png': '0',\n",
       " 'dados/MURA-v1.1/train/XR_WRIST/patient06482/study2_negative\\\\image3.png': '0',\n",
       " 'dados/MURA-v1.1/train/XR_WRIST/patient06483/study1_positive\\\\image1.png': '1',\n",
       " 'dados/MURA-v1.1/train/XR_WRIST/patient06483/study1_positive\\\\image2.png': '1',\n",
       " 'dados/MURA-v1.1/train/XR_WRIST/patient06483/study1_positive\\\\image3.png': '1',\n",
       " 'dados/MURA-v1.1/train/XR_WRIST/patient06484/study1_positive\\\\image1.png': '1',\n",
       " 'dados/MURA-v1.1/train/XR_WRIST/patient06484/study1_positive\\\\image2.png': '1',\n",
       " 'dados/MURA-v1.1/train/XR_WRIST/patient06484/study1_positive\\\\image3.png': '1',\n",
       " 'dados/MURA-v1.1/train/XR_WRIST/patient06485/study1_positive\\\\image1.png': '1',\n",
       " 'dados/MURA-v1.1/train/XR_WRIST/patient06485/study1_positive\\\\image2.png': '1',\n",
       " 'dados/MURA-v1.1/train/XR_WRIST/patient06485/study1_positive\\\\image3.png': '1',\n",
       " 'dados/MURA-v1.1/train/XR_WRIST/patient06485/study1_positive\\\\image4.png': '1',\n",
       " 'dados/MURA-v1.1/train/XR_WRIST/patient06486/study1_positive\\\\image1.png': '1',\n",
       " 'dados/MURA-v1.1/train/XR_WRIST/patient06486/study1_positive\\\\image2.png': '1',\n",
       " 'dados/MURA-v1.1/train/XR_WRIST/patient06486/study1_positive\\\\image3.png': '1',\n",
       " 'dados/MURA-v1.1/train/XR_WRIST/patient06487/study1_positive\\\\image1.png': '1',\n",
       " 'dados/MURA-v1.1/train/XR_WRIST/patient06487/study1_positive\\\\image2.png': '1',\n",
       " 'dados/MURA-v1.1/train/XR_WRIST/patient06487/study1_positive\\\\image3.png': '1',\n",
       " 'dados/MURA-v1.1/train/XR_WRIST/patient06488/study1_positive\\\\image1.png': '1',\n",
       " 'dados/MURA-v1.1/train/XR_WRIST/patient06488/study1_positive\\\\image2.png': '1',\n",
       " 'dados/MURA-v1.1/train/XR_WRIST/patient06488/study1_positive\\\\image3.png': '1',\n",
       " 'dados/MURA-v1.1/train/XR_WRIST/patient06488/study1_positive\\\\image4.png': '1',\n",
       " 'dados/MURA-v1.1/train/XR_WRIST/patient06489/study1_positive\\\\image1.png': '1',\n",
       " 'dados/MURA-v1.1/train/XR_WRIST/patient06489/study1_positive\\\\image2.png': '1',\n",
       " 'dados/MURA-v1.1/train/XR_WRIST/patient06489/study1_positive\\\\image3.png': '1',\n",
       " 'dados/MURA-v1.1/train/XR_WRIST/patient06490/study1_positive\\\\image1.png': '1',\n",
       " 'dados/MURA-v1.1/train/XR_WRIST/patient06490/study1_positive\\\\image2.png': '1',\n",
       " 'dados/MURA-v1.1/train/XR_WRIST/patient06490/study1_positive\\\\image3.png': '1',\n",
       " 'dados/MURA-v1.1/train/XR_WRIST/patient06490/study1_positive\\\\image4.png': '1',\n",
       " 'dados/MURA-v1.1/train/XR_WRIST/patient02983/study1_positive\\\\image1.png': '1',\n",
       " 'dados/MURA-v1.1/train/XR_WRIST/patient02983/study1_positive\\\\image2.png': '1',\n",
       " 'dados/MURA-v1.1/train/XR_WRIST/patient02983/study1_positive\\\\image3.png': '1',\n",
       " 'dados/MURA-v1.1/train/XR_WRIST/patient06491/study1_positive\\\\image1.png': '1',\n",
       " 'dados/MURA-v1.1/train/XR_WRIST/patient06491/study1_positive\\\\image2.png': '1',\n",
       " 'dados/MURA-v1.1/train/XR_WRIST/patient06491/study1_positive\\\\image3.png': '1',\n",
       " 'dados/MURA-v1.1/train/XR_WRIST/patient06492/study1_positive\\\\image1.png': '1',\n",
       " 'dados/MURA-v1.1/train/XR_WRIST/patient06492/study1_positive\\\\image2.png': '1',\n",
       " 'dados/MURA-v1.1/train/XR_WRIST/patient06492/study1_positive\\\\image3.png': '1',\n",
       " 'dados/MURA-v1.1/train/XR_WRIST/patient06492/study2_negative\\\\image1.png': '0',\n",
       " 'dados/MURA-v1.1/train/XR_WRIST/patient06492/study2_negative\\\\image2.png': '0',\n",
       " 'dados/MURA-v1.1/train/XR_WRIST/patient06492/study2_negative\\\\image3.png': '0',\n",
       " 'dados/MURA-v1.1/train/XR_WRIST/patient06493/study1_positive\\\\image1.png': '1',\n",
       " 'dados/MURA-v1.1/train/XR_WRIST/patient06493/study1_positive\\\\image2.png': '1',\n",
       " 'dados/MURA-v1.1/train/XR_WRIST/patient06493/study1_positive\\\\image3.png': '1',\n",
       " 'dados/MURA-v1.1/train/XR_WRIST/patient06494/study1_positive\\\\image1.png': '1',\n",
       " 'dados/MURA-v1.1/train/XR_WRIST/patient06494/study1_positive\\\\image2.png': '1',\n",
       " 'dados/MURA-v1.1/train/XR_WRIST/patient06494/study1_positive\\\\image3.png': '1',\n",
       " 'dados/MURA-v1.1/train/XR_WRIST/patient06495/study1_positive\\\\image1.png': '1',\n",
       " 'dados/MURA-v1.1/train/XR_WRIST/patient06495/study1_positive\\\\image2.png': '1',\n",
       " 'dados/MURA-v1.1/train/XR_WRIST/patient06495/study1_positive\\\\image3.png': '1',\n",
       " 'dados/MURA-v1.1/train/XR_WRIST/patient06496/study1_positive\\\\image1.png': '1',\n",
       " 'dados/MURA-v1.1/train/XR_WRIST/patient06496/study1_positive\\\\image2.png': '1',\n",
       " 'dados/MURA-v1.1/train/XR_WRIST/patient06496/study1_positive\\\\image3.png': '1',\n",
       " 'dados/MURA-v1.1/train/XR_WRIST/patient06497/study1_positive\\\\image1.png': '1',\n",
       " 'dados/MURA-v1.1/train/XR_WRIST/patient06497/study1_positive\\\\image2.png': '1',\n",
       " 'dados/MURA-v1.1/train/XR_WRIST/patient06497/study1_positive\\\\image3.png': '1',\n",
       " 'dados/MURA-v1.1/train/XR_WRIST/patient06498/study1_positive\\\\image1.png': '1',\n",
       " 'dados/MURA-v1.1/train/XR_WRIST/patient06498/study1_positive\\\\image2.png': '1',\n",
       " 'dados/MURA-v1.1/train/XR_WRIST/patient06498/study1_positive\\\\image3.png': '1',\n",
       " 'dados/MURA-v1.1/train/XR_WRIST/patient06499/study1_positive\\\\image1.png': '1',\n",
       " 'dados/MURA-v1.1/train/XR_WRIST/patient06499/study1_positive\\\\image2.png': '1',\n",
       " 'dados/MURA-v1.1/train/XR_WRIST/patient06499/study1_positive\\\\image3.png': '1',\n",
       " 'dados/MURA-v1.1/train/XR_WRIST/patient06500/study1_positive\\\\image1.png': '1',\n",
       " 'dados/MURA-v1.1/train/XR_WRIST/patient06500/study1_positive\\\\image2.png': '1',\n",
       " 'dados/MURA-v1.1/train/XR_WRIST/patient06501/study1_positive\\\\image1.png': '1',\n",
       " 'dados/MURA-v1.1/train/XR_WRIST/patient06501/study1_positive\\\\image2.png': '1',\n",
       " 'dados/MURA-v1.1/train/XR_WRIST/patient06501/study1_positive\\\\image3.png': '1',\n",
       " 'dados/MURA-v1.1/train/XR_WRIST/patient01158/study1_positive\\\\image1.png': '1',\n",
       " 'dados/MURA-v1.1/train/XR_WRIST/patient01158/study1_positive\\\\image2.png': '1',\n",
       " 'dados/MURA-v1.1/train/XR_WRIST/patient01158/study1_positive\\\\image3.png': '1',\n",
       " 'dados/MURA-v1.1/train/XR_WRIST/patient06502/study1_positive\\\\image1.png': '1',\n",
       " 'dados/MURA-v1.1/train/XR_WRIST/patient06502/study1_positive\\\\image2.png': '1',\n",
       " 'dados/MURA-v1.1/train/XR_WRIST/patient06502/study1_positive\\\\image3.png': '1',\n",
       " 'dados/MURA-v1.1/train/XR_WRIST/patient06503/study1_positive\\\\image1.png': '1',\n",
       " 'dados/MURA-v1.1/train/XR_WRIST/patient06503/study1_positive\\\\image2.png': '1',\n",
       " 'dados/MURA-v1.1/train/XR_WRIST/patient06503/study1_positive\\\\image3.png': '1',\n",
       " 'dados/MURA-v1.1/train/XR_WRIST/patient06504/study1_positive\\\\image1.png': '1',\n",
       " 'dados/MURA-v1.1/train/XR_WRIST/patient06504/study1_positive\\\\image2.png': '1',\n",
       " 'dados/MURA-v1.1/train/XR_WRIST/patient06504/study1_positive\\\\image3.png': '1',\n",
       " 'dados/MURA-v1.1/train/XR_WRIST/patient06505/study1_positive\\\\image1.png': '1',\n",
       " 'dados/MURA-v1.1/train/XR_WRIST/patient06505/study1_positive\\\\image2.png': '1',\n",
       " 'dados/MURA-v1.1/train/XR_WRIST/patient06505/study1_positive\\\\image3.png': '1',\n",
       " 'dados/MURA-v1.1/train/XR_WRIST/patient06506/study1_positive\\\\image1.png': '1',\n",
       " 'dados/MURA-v1.1/train/XR_WRIST/patient06506/study1_positive\\\\image2.png': '1',\n",
       " 'dados/MURA-v1.1/train/XR_WRIST/patient06506/study1_positive\\\\image3.png': '1',\n",
       " 'dados/MURA-v1.1/train/XR_WRIST/patient06507/study1_positive\\\\image1.png': '1',\n",
       " 'dados/MURA-v1.1/train/XR_WRIST/patient06507/study1_positive\\\\image2.png': '1',\n",
       " 'dados/MURA-v1.1/train/XR_WRIST/patient06507/study1_positive\\\\image3.png': '1',\n",
       " 'dados/MURA-v1.1/train/XR_WRIST/patient06508/study1_positive\\\\image1.png': '1',\n",
       " 'dados/MURA-v1.1/train/XR_WRIST/patient06508/study1_positive\\\\image2.png': '1',\n",
       " 'dados/MURA-v1.1/train/XR_WRIST/patient06508/study1_positive\\\\image3.png': '1',\n",
       " 'dados/MURA-v1.1/train/XR_WRIST/patient06509/study1_positive\\\\image1.png': '1',\n",
       " 'dados/MURA-v1.1/train/XR_WRIST/patient06509/study1_positive\\\\image2.png': '1',\n",
       " 'dados/MURA-v1.1/train/XR_WRIST/patient06509/study1_positive\\\\image3.png': '1',\n",
       " 'dados/MURA-v1.1/train/XR_WRIST/patient06510/study1_positive\\\\image1.png': '1',\n",
       " 'dados/MURA-v1.1/train/XR_WRIST/patient06510/study1_positive\\\\image2.png': '1',\n",
       " 'dados/MURA-v1.1/train/XR_WRIST/patient06510/study1_positive\\\\image3.png': '1',\n",
       " 'dados/MURA-v1.1/train/XR_WRIST/patient06511/study1_positive\\\\image1.png': '1',\n",
       " 'dados/MURA-v1.1/train/XR_WRIST/patient06511/study1_positive\\\\image2.png': '1',\n",
       " 'dados/MURA-v1.1/train/XR_WRIST/patient06511/study1_positive\\\\image3.png': '1',\n",
       " 'dados/MURA-v1.1/train/XR_WRIST/patient06511/study2_positive\\\\image1.png': '1',\n",
       " 'dados/MURA-v1.1/train/XR_WRIST/patient06511/study2_positive\\\\image2.png': '1',\n",
       " 'dados/MURA-v1.1/train/XR_WRIST/patient06511/study2_positive\\\\image3.png': '1',\n",
       " 'dados/MURA-v1.1/train/XR_WRIST/patient06512/study1_positive\\\\image1.png': '1',\n",
       " 'dados/MURA-v1.1/train/XR_WRIST/patient06512/study1_positive\\\\image2.png': '1',\n",
       " 'dados/MURA-v1.1/train/XR_WRIST/patient01338/study1_positive\\\\image1.png': '1',\n",
       " 'dados/MURA-v1.1/train/XR_WRIST/patient01338/study1_positive\\\\image2.png': '1',\n",
       " 'dados/MURA-v1.1/train/XR_WRIST/patient06513/study1_positive\\\\image1.png': '1',\n",
       " 'dados/MURA-v1.1/train/XR_WRIST/patient06513/study1_positive\\\\image2.png': '1',\n",
       " 'dados/MURA-v1.1/train/XR_WRIST/patient06513/study1_positive\\\\image3.png': '1',\n",
       " 'dados/MURA-v1.1/train/XR_WRIST/patient06513/study2_positive\\\\image1.png': '1',\n",
       " 'dados/MURA-v1.1/train/XR_WRIST/patient06513/study2_positive\\\\image2.png': '1',\n",
       " 'dados/MURA-v1.1/train/XR_WRIST/patient06513/study2_positive\\\\image3.png': '1',\n",
       " 'dados/MURA-v1.1/train/XR_WRIST/patient06513/study3_negative\\\\image1.png': '0',\n",
       " 'dados/MURA-v1.1/train/XR_WRIST/patient06513/study3_negative\\\\image2.png': '0',\n",
       " 'dados/MURA-v1.1/train/XR_WRIST/patient06513/study3_negative\\\\image3.png': '0',\n",
       " 'dados/MURA-v1.1/train/XR_WRIST/patient06514/study1_positive\\\\image1.png': '1',\n",
       " 'dados/MURA-v1.1/train/XR_WRIST/patient06514/study1_positive\\\\image2.png': '1',\n",
       " 'dados/MURA-v1.1/train/XR_WRIST/patient06514/study1_positive\\\\image3.png': '1',\n",
       " 'dados/MURA-v1.1/train/XR_WRIST/patient06515/study1_positive\\\\image1.png': '1',\n",
       " 'dados/MURA-v1.1/train/XR_WRIST/patient06515/study1_positive\\\\image2.png': '1',\n",
       " 'dados/MURA-v1.1/train/XR_WRIST/patient06515/study1_positive\\\\image3.png': '1',\n",
       " 'dados/MURA-v1.1/train/XR_WRIST/patient06516/study1_positive\\\\image1.png': '1',\n",
       " 'dados/MURA-v1.1/train/XR_WRIST/patient06516/study1_positive\\\\image2.png': '1',\n",
       " 'dados/MURA-v1.1/train/XR_WRIST/patient06517/study1_positive\\\\image1.png': '1',\n",
       " 'dados/MURA-v1.1/train/XR_WRIST/patient06517/study1_positive\\\\image2.png': '1',\n",
       " 'dados/MURA-v1.1/train/XR_WRIST/patient06517/study1_positive\\\\image3.png': '1',\n",
       " 'dados/MURA-v1.1/train/XR_WRIST/patient06518/study1_positive\\\\image1.png': '1',\n",
       " 'dados/MURA-v1.1/train/XR_WRIST/patient06518/study1_positive\\\\image2.png': '1',\n",
       " 'dados/MURA-v1.1/train/XR_WRIST/patient06518/study1_positive\\\\image3.png': '1',\n",
       " 'dados/MURA-v1.1/train/XR_WRIST/patient01497/study1_positive\\\\image1.png': '1',\n",
       " 'dados/MURA-v1.1/train/XR_WRIST/patient01497/study1_positive\\\\image2.png': '1',\n",
       " 'dados/MURA-v1.1/train/XR_WRIST/patient01497/study1_positive\\\\image3.png': '1',\n",
       " 'dados/MURA-v1.1/train/XR_WRIST/patient01497/study2_negative\\\\image1.png': '0',\n",
       " 'dados/MURA-v1.1/train/XR_WRIST/patient01497/study2_negative\\\\image2.png': '0',\n",
       " 'dados/MURA-v1.1/train/XR_WRIST/patient01497/study2_negative\\\\image3.png': '0',\n",
       " 'dados/MURA-v1.1/train/XR_WRIST/patient06519/study1_positive\\\\image1.png': '1',\n",
       " 'dados/MURA-v1.1/train/XR_WRIST/patient06519/study1_positive\\\\image2.png': '1',\n",
       " 'dados/MURA-v1.1/train/XR_WRIST/patient06520/study1_positive\\\\image1.png': '1',\n",
       " 'dados/MURA-v1.1/train/XR_WRIST/patient06521/study1_positive\\\\image1.png': '1',\n",
       " 'dados/MURA-v1.1/train/XR_WRIST/patient06521/study1_positive\\\\image2.png': '1',\n",
       " 'dados/MURA-v1.1/train/XR_WRIST/patient06521/study1_positive\\\\image3.png': '1',\n",
       " 'dados/MURA-v1.1/train/XR_WRIST/patient05513/study1_positive\\\\image1.png': '1',\n",
       " 'dados/MURA-v1.1/train/XR_WRIST/patient05513/study1_positive\\\\image2.png': '1',\n",
       " 'dados/MURA-v1.1/train/XR_WRIST/patient05513/study1_positive\\\\image3.png': '1',\n",
       " 'dados/MURA-v1.1/train/XR_WRIST/patient06522/study1_positive\\\\image1.png': '1',\n",
       " 'dados/MURA-v1.1/train/XR_WRIST/patient06522/study1_positive\\\\image2.png': '1',\n",
       " 'dados/MURA-v1.1/train/XR_WRIST/patient06523/study1_positive\\\\image1.png': '1',\n",
       " 'dados/MURA-v1.1/train/XR_WRIST/patient06523/study1_positive\\\\image2.png': '1',\n",
       " 'dados/MURA-v1.1/train/XR_WRIST/patient06523/study1_positive\\\\image3.png': '1',\n",
       " 'dados/MURA-v1.1/train/XR_WRIST/patient06524/study1_positive\\\\image1.png': '1',\n",
       " 'dados/MURA-v1.1/train/XR_WRIST/patient06524/study1_positive\\\\image2.png': '1',\n",
       " 'dados/MURA-v1.1/train/XR_WRIST/patient06524/study1_positive\\\\image3.png': '1',\n",
       " 'dados/MURA-v1.1/train/XR_WRIST/patient04045/study1_positive\\\\image1.png': '1',\n",
       " 'dados/MURA-v1.1/train/XR_WRIST/patient04045/study1_positive\\\\image2.png': '1',\n",
       " 'dados/MURA-v1.1/train/XR_WRIST/patient06525/study1_positive\\\\image1.png': '1',\n",
       " 'dados/MURA-v1.1/train/XR_WRIST/patient06525/study1_positive\\\\image2.png': '1',\n",
       " 'dados/MURA-v1.1/train/XR_WRIST/patient06525/study1_positive\\\\image3.png': '1',\n",
       " 'dados/MURA-v1.1/train/XR_WRIST/patient06526/study1_positive\\\\image1.png': '1',\n",
       " 'dados/MURA-v1.1/train/XR_WRIST/patient06526/study1_positive\\\\image2.png': '1',\n",
       " 'dados/MURA-v1.1/train/XR_WRIST/patient06526/study1_positive\\\\image3.png': '1',\n",
       " 'dados/MURA-v1.1/train/XR_WRIST/patient06527/study1_positive\\\\image1.png': '1',\n",
       " 'dados/MURA-v1.1/train/XR_WRIST/patient06527/study1_positive\\\\image2.png': '1',\n",
       " 'dados/MURA-v1.1/train/XR_WRIST/patient06527/study1_positive\\\\image3.png': '1',\n",
       " 'dados/MURA-v1.1/train/XR_WRIST/patient06528/study1_positive\\\\image1.png': '1',\n",
       " 'dados/MURA-v1.1/train/XR_WRIST/patient06528/study1_positive\\\\image2.png': '1',\n",
       " 'dados/MURA-v1.1/train/XR_WRIST/patient06528/study1_positive\\\\image3.png': '1',\n",
       " 'dados/MURA-v1.1/train/XR_WRIST/patient06529/study1_positive\\\\image1.png': '1',\n",
       " 'dados/MURA-v1.1/train/XR_WRIST/patient06529/study1_positive\\\\image2.png': '1',\n",
       " 'dados/MURA-v1.1/train/XR_WRIST/patient06529/study1_positive\\\\image3.png': '1',\n",
       " 'dados/MURA-v1.1/train/XR_WRIST/patient06530/study1_positive\\\\image1.png': '1',\n",
       " 'dados/MURA-v1.1/train/XR_WRIST/patient06530/study1_positive\\\\image2.png': '1',\n",
       " 'dados/MURA-v1.1/train/XR_WRIST/patient06530/study1_positive\\\\image3.png': '1',\n",
       " 'dados/MURA-v1.1/train/XR_WRIST/patient06530/study2_negative\\\\image1.png': '0',\n",
       " 'dados/MURA-v1.1/train/XR_WRIST/patient06530/study2_negative\\\\image2.png': '0',\n",
       " 'dados/MURA-v1.1/train/XR_WRIST/patient06530/study2_negative\\\\image3.png': '0',\n",
       " 'dados/MURA-v1.1/train/XR_WRIST/patient06531/study1_positive\\\\image1.png': '1',\n",
       " 'dados/MURA-v1.1/train/XR_WRIST/patient06531/study1_positive\\\\image2.png': '1',\n",
       " 'dados/MURA-v1.1/train/XR_WRIST/patient06531/study1_positive\\\\image3.png': '1',\n",
       " 'dados/MURA-v1.1/train/XR_WRIST/patient06531/study1_positive\\\\image4.png': '1',\n",
       " 'dados/MURA-v1.1/train/XR_WRIST/patient06532/study1_positive\\\\image1.png': '1',\n",
       " 'dados/MURA-v1.1/train/XR_WRIST/patient06532/study1_positive\\\\image2.png': '1',\n",
       " 'dados/MURA-v1.1/train/XR_WRIST/patient06532/study1_positive\\\\image3.png': '1',\n",
       " 'dados/MURA-v1.1/train/XR_WRIST/patient06532/study1_positive\\\\image4.png': '1',\n",
       " 'dados/MURA-v1.1/train/XR_WRIST/patient06533/study1_positive\\\\image1.png': '1',\n",
       " 'dados/MURA-v1.1/train/XR_WRIST/patient06533/study1_positive\\\\image2.png': '1',\n",
       " 'dados/MURA-v1.1/train/XR_WRIST/patient06534/study1_positive\\\\image1.png': '1',\n",
       " 'dados/MURA-v1.1/train/XR_WRIST/patient06534/study1_positive\\\\image2.png': '1',\n",
       " 'dados/MURA-v1.1/train/XR_WRIST/patient06534/study1_positive\\\\image3.png': '1',\n",
       " 'dados/MURA-v1.1/train/XR_WRIST/patient06535/study1_positive\\\\image1.png': '1',\n",
       " 'dados/MURA-v1.1/train/XR_WRIST/patient06535/study1_positive\\\\image2.png': '1',\n",
       " 'dados/MURA-v1.1/train/XR_WRIST/patient06535/study1_positive\\\\image3.png': '1',\n",
       " 'dados/MURA-v1.1/train/XR_WRIST/patient06535/study2_negative\\\\image1.png': '0',\n",
       " 'dados/MURA-v1.1/train/XR_WRIST/patient06535/study2_negative\\\\image2.png': '0',\n",
       " 'dados/MURA-v1.1/train/XR_WRIST/patient06536/study1_positive\\\\image1.png': '1',\n",
       " 'dados/MURA-v1.1/train/XR_WRIST/patient06536/study1_positive\\\\image2.png': '1',\n",
       " 'dados/MURA-v1.1/train/XR_WRIST/patient06536/study1_positive\\\\image3.png': '1',\n",
       " 'dados/MURA-v1.1/train/XR_WRIST/patient06536/study1_positive\\\\image4.png': '1',\n",
       " 'dados/MURA-v1.1/train/XR_WRIST/patient06537/study1_positive\\\\image1.png': '1',\n",
       " 'dados/MURA-v1.1/train/XR_WRIST/patient06537/study1_positive\\\\image2.png': '1',\n",
       " 'dados/MURA-v1.1/train/XR_WRIST/patient06537/study1_positive\\\\image3.png': '1',\n",
       " 'dados/MURA-v1.1/train/XR_WRIST/patient06538/study1_positive\\\\image1.png': '1',\n",
       " 'dados/MURA-v1.1/train/XR_WRIST/patient06538/study1_positive\\\\image2.png': '1',\n",
       " 'dados/MURA-v1.1/train/XR_WRIST/patient06538/study1_positive\\\\image3.png': '1',\n",
       " 'dados/MURA-v1.1/train/XR_WRIST/patient06539/study1_positive\\\\image1.png': '1',\n",
       " 'dados/MURA-v1.1/train/XR_WRIST/patient06539/study1_positive\\\\image2.png': '1',\n",
       " 'dados/MURA-v1.1/train/XR_WRIST/patient06539/study1_positive\\\\image3.png': '1',\n",
       " 'dados/MURA-v1.1/train/XR_WRIST/patient06540/study1_positive\\\\image1.png': '1',\n",
       " 'dados/MURA-v1.1/train/XR_WRIST/patient06540/study1_positive\\\\image2.png': '1',\n",
       " 'dados/MURA-v1.1/train/XR_WRIST/patient06540/study1_positive\\\\image3.png': '1',\n",
       " 'dados/MURA-v1.1/train/XR_WRIST/patient06540/study2_negative\\\\image1.png': '0',\n",
       " 'dados/MURA-v1.1/train/XR_WRIST/patient06540/study2_negative\\\\image2.png': '0',\n",
       " 'dados/MURA-v1.1/train/XR_WRIST/patient06540/study2_negative\\\\image3.png': '0',\n",
       " 'dados/MURA-v1.1/train/XR_WRIST/patient06541/study1_positive\\\\image1.png': '1',\n",
       " 'dados/MURA-v1.1/train/XR_WRIST/patient06541/study1_positive\\\\image2.png': '1',\n",
       " 'dados/MURA-v1.1/train/XR_WRIST/patient06541/study1_positive\\\\image3.png': '1',\n",
       " 'dados/MURA-v1.1/train/XR_WRIST/patient06541/study1_positive\\\\image4.png': '1',\n",
       " 'dados/MURA-v1.1/train/XR_WRIST/patient06542/study1_positive\\\\image1.png': '1',\n",
       " 'dados/MURA-v1.1/train/XR_WRIST/patient06542/study1_positive\\\\image2.png': '1',\n",
       " 'dados/MURA-v1.1/train/XR_WRIST/patient06542/study1_positive\\\\image3.png': '1',\n",
       " 'dados/MURA-v1.1/train/XR_WRIST/patient06543/study1_positive\\\\image1.png': '1',\n",
       " 'dados/MURA-v1.1/train/XR_WRIST/patient06543/study1_positive\\\\image2.png': '1',\n",
       " 'dados/MURA-v1.1/train/XR_WRIST/patient06543/study1_positive\\\\image3.png': '1',\n",
       " 'dados/MURA-v1.1/train/XR_WRIST/patient06544/study1_positive\\\\image1.png': '1',\n",
       " 'dados/MURA-v1.1/train/XR_WRIST/patient06544/study1_positive\\\\image2.png': '1',\n",
       " 'dados/MURA-v1.1/train/XR_WRIST/patient06544/study1_positive\\\\image3.png': '1',\n",
       " 'dados/MURA-v1.1/train/XR_WRIST/patient06544/study1_positive\\\\image4.png': '1',\n",
       " 'dados/MURA-v1.1/train/XR_WRIST/patient06544/study2_negative\\\\image1.png': '0',\n",
       " 'dados/MURA-v1.1/train/XR_WRIST/patient06544/study2_negative\\\\image2.png': '0',\n",
       " 'dados/MURA-v1.1/train/XR_WRIST/patient06544/study2_negative\\\\image3.png': '0',\n",
       " 'dados/MURA-v1.1/train/XR_WRIST/patient06544/study2_negative\\\\image4.png': '0',\n",
       " 'dados/MURA-v1.1/train/XR_WRIST/patient06545/study1_positive\\\\image1.png': '1',\n",
       " 'dados/MURA-v1.1/train/XR_WRIST/patient06545/study1_positive\\\\image2.png': '1',\n",
       " 'dados/MURA-v1.1/train/XR_WRIST/patient06545/study1_positive\\\\image3.png': '1',\n",
       " 'dados/MURA-v1.1/train/XR_WRIST/patient06545/study2_positive\\\\image1.png': '1',\n",
       " 'dados/MURA-v1.1/train/XR_WRIST/patient06545/study2_positive\\\\image2.png': '1',\n",
       " 'dados/MURA-v1.1/train/XR_WRIST/patient02212/study1_positive\\\\image1.png': '1',\n",
       " 'dados/MURA-v1.1/train/XR_WRIST/patient02212/study1_positive\\\\image2.png': '1',\n",
       " 'dados/MURA-v1.1/train/XR_WRIST/patient02212/study1_positive\\\\image3.png': '1',\n",
       " 'dados/MURA-v1.1/train/XR_WRIST/patient06546/study1_positive\\\\image1.png': '1',\n",
       " 'dados/MURA-v1.1/train/XR_WRIST/patient06546/study1_positive\\\\image2.png': '1',\n",
       " 'dados/MURA-v1.1/train/XR_WRIST/patient06547/study1_positive\\\\image1.png': '1',\n",
       " 'dados/MURA-v1.1/train/XR_WRIST/patient06547/study1_positive\\\\image2.png': '1',\n",
       " 'dados/MURA-v1.1/train/XR_WRIST/patient06547/study1_positive\\\\image3.png': '1',\n",
       " 'dados/MURA-v1.1/train/XR_WRIST/patient06548/study1_positive\\\\image1.png': '1',\n",
       " 'dados/MURA-v1.1/train/XR_WRIST/patient06548/study1_positive\\\\image2.png': '1',\n",
       " 'dados/MURA-v1.1/train/XR_WRIST/patient06549/study1_positive\\\\image1.png': '1',\n",
       " 'dados/MURA-v1.1/train/XR_WRIST/patient06549/study1_positive\\\\image2.png': '1',\n",
       " 'dados/MURA-v1.1/train/XR_WRIST/patient06549/study1_positive\\\\image3.png': '1',\n",
       " 'dados/MURA-v1.1/train/XR_WRIST/patient06550/study1_positive\\\\image1.png': '1',\n",
       " 'dados/MURA-v1.1/train/XR_WRIST/patient06550/study1_positive\\\\image2.png': '1',\n",
       " 'dados/MURA-v1.1/train/XR_WRIST/patient06550/study1_positive\\\\image3.png': '1',\n",
       " 'dados/MURA-v1.1/train/XR_WRIST/patient06551/study1_positive\\\\image1.png': '1',\n",
       " 'dados/MURA-v1.1/train/XR_WRIST/patient06551/study1_positive\\\\image2.png': '1',\n",
       " 'dados/MURA-v1.1/train/XR_WRIST/patient06552/study1_positive\\\\image1.png': '1',\n",
       " 'dados/MURA-v1.1/train/XR_WRIST/patient06552/study1_positive\\\\image2.png': '1',\n",
       " 'dados/MURA-v1.1/train/XR_WRIST/patient06552/study1_positive\\\\image3.png': '1',\n",
       " 'dados/MURA-v1.1/train/XR_WRIST/patient06552/study1_positive\\\\image4.png': '1',\n",
       " 'dados/MURA-v1.1/train/XR_WRIST/patient06553/study1_positive\\\\image1.png': '1',\n",
       " 'dados/MURA-v1.1/train/XR_WRIST/patient06553/study1_positive\\\\image2.png': '1',\n",
       " 'dados/MURA-v1.1/train/XR_WRIST/patient06553/study1_positive\\\\image3.png': '1',\n",
       " 'dados/MURA-v1.1/train/XR_WRIST/patient06554/study1_positive\\\\image1.png': '1',\n",
       " 'dados/MURA-v1.1/train/XR_WRIST/patient06554/study1_positive\\\\image2.png': '1',\n",
       " 'dados/MURA-v1.1/train/XR_WRIST/patient06554/study1_positive\\\\image3.png': '1',\n",
       " 'dados/MURA-v1.1/train/XR_WRIST/patient06555/study1_positive\\\\image1.png': '1',\n",
       " 'dados/MURA-v1.1/train/XR_WRIST/patient06555/study1_positive\\\\image2.png': '1',\n",
       " 'dados/MURA-v1.1/train/XR_WRIST/patient06555/study1_positive\\\\image3.png': '1',\n",
       " 'dados/MURA-v1.1/train/XR_WRIST/patient06556/study1_positive\\\\image1.png': '1',\n",
       " 'dados/MURA-v1.1/train/XR_WRIST/patient06556/study1_positive\\\\image2.png': '1',\n",
       " 'dados/MURA-v1.1/train/XR_WRIST/patient06556/study1_positive\\\\image3.png': '1',\n",
       " 'dados/MURA-v1.1/train/XR_WRIST/patient06557/study1_positive\\\\image1.png': '1',\n",
       " 'dados/MURA-v1.1/train/XR_WRIST/patient06557/study1_positive\\\\image2.png': '1',\n",
       " 'dados/MURA-v1.1/train/XR_WRIST/patient06557/study1_positive\\\\image3.png': '1',\n",
       " 'dados/MURA-v1.1/train/XR_WRIST/patient06558/study1_positive\\\\image1.png': '1',\n",
       " 'dados/MURA-v1.1/train/XR_WRIST/patient06558/study1_positive\\\\image2.png': '1',\n",
       " 'dados/MURA-v1.1/train/XR_WRIST/patient06558/study1_positive\\\\image3.png': '1',\n",
       " 'dados/MURA-v1.1/train/XR_WRIST/patient06132/study1_positive\\\\image1.png': '1',\n",
       " 'dados/MURA-v1.1/train/XR_WRIST/patient06132/study1_positive\\\\image2.png': '1',\n",
       " 'dados/MURA-v1.1/train/XR_WRIST/patient06132/study1_positive\\\\image3.png': '1',\n",
       " 'dados/MURA-v1.1/train/XR_WRIST/patient06559/study1_positive\\\\image1.png': '1',\n",
       " 'dados/MURA-v1.1/train/XR_WRIST/patient06559/study1_positive\\\\image2.png': '1',\n",
       " 'dados/MURA-v1.1/train/XR_WRIST/patient06559/study1_positive\\\\image3.png': '1',\n",
       " 'dados/MURA-v1.1/train/XR_WRIST/patient06560/study1_positive\\\\image1.png': '1',\n",
       " 'dados/MURA-v1.1/train/XR_WRIST/patient06560/study1_positive\\\\image2.png': '1',\n",
       " 'dados/MURA-v1.1/train/XR_WRIST/patient06560/study1_positive\\\\image3.png': '1',\n",
       " 'dados/MURA-v1.1/train/XR_WRIST/patient06560/study1_positive\\\\image4.png': '1',\n",
       " 'dados/MURA-v1.1/train/XR_WRIST/patient03323/study1_positive\\\\image1.png': '1',\n",
       " 'dados/MURA-v1.1/train/XR_WRIST/patient03323/study1_positive\\\\image2.png': '1',\n",
       " 'dados/MURA-v1.1/train/XR_WRIST/patient03323/study1_positive\\\\image3.png': '1',\n",
       " 'dados/MURA-v1.1/train/XR_WRIST/patient06561/study1_positive\\\\image1.png': '1',\n",
       " 'dados/MURA-v1.1/train/XR_WRIST/patient06561/study1_positive\\\\image2.png': '1',\n",
       " 'dados/MURA-v1.1/train/XR_WRIST/patient06561/study1_positive\\\\image3.png': '1',\n",
       " 'dados/MURA-v1.1/train/XR_WRIST/patient06561/study1_positive\\\\image4.png': '1',\n",
       " 'dados/MURA-v1.1/train/XR_WRIST/patient06562/study1_positive\\\\image1.png': '1',\n",
       " 'dados/MURA-v1.1/train/XR_WRIST/patient06562/study1_positive\\\\image2.png': '1',\n",
       " 'dados/MURA-v1.1/train/XR_WRIST/patient06562/study1_positive\\\\image3.png': '1',\n",
       " 'dados/MURA-v1.1/train/XR_WRIST/patient06563/study1_positive\\\\image1.png': '1',\n",
       " 'dados/MURA-v1.1/train/XR_WRIST/patient06563/study1_positive\\\\image2.png': '1',\n",
       " 'dados/MURA-v1.1/train/XR_WRIST/patient06563/study1_positive\\\\image3.png': '1',\n",
       " 'dados/MURA-v1.1/train/XR_WRIST/patient06564/study1_positive\\\\image1.png': '1',\n",
       " 'dados/MURA-v1.1/train/XR_WRIST/patient06564/study1_positive\\\\image2.png': '1',\n",
       " 'dados/MURA-v1.1/train/XR_WRIST/patient06565/study1_positive\\\\image1.png': '1',\n",
       " 'dados/MURA-v1.1/train/XR_WRIST/patient06565/study1_positive\\\\image2.png': '1',\n",
       " 'dados/MURA-v1.1/train/XR_WRIST/patient06565/study1_positive\\\\image3.png': '1',\n",
       " 'dados/MURA-v1.1/train/XR_WRIST/patient06566/study1_positive\\\\image1.png': '1',\n",
       " 'dados/MURA-v1.1/train/XR_WRIST/patient06566/study1_positive\\\\image2.png': '1',\n",
       " 'dados/MURA-v1.1/train/XR_WRIST/patient06566/study1_positive\\\\image3.png': '1',\n",
       " 'dados/MURA-v1.1/train/XR_WRIST/patient06567/study1_positive\\\\image1.png': '1',\n",
       " 'dados/MURA-v1.1/train/XR_WRIST/patient06567/study1_positive\\\\image2.png': '1',\n",
       " 'dados/MURA-v1.1/train/XR_WRIST/patient06567/study1_positive\\\\image3.png': '1',\n",
       " 'dados/MURA-v1.1/train/XR_WRIST/patient06568/study1_positive\\\\image1.png': '1',\n",
       " 'dados/MURA-v1.1/train/XR_WRIST/patient06568/study1_positive\\\\image2.png': '1',\n",
       " 'dados/MURA-v1.1/train/XR_WRIST/patient06568/study1_positive\\\\image3.png': '1',\n",
       " 'dados/MURA-v1.1/train/XR_WRIST/patient06569/study1_positive\\\\image1.png': '1',\n",
       " 'dados/MURA-v1.1/train/XR_WRIST/patient06569/study1_positive\\\\image2.png': '1',\n",
       " 'dados/MURA-v1.1/train/XR_WRIST/patient06569/study1_positive\\\\image3.png': '1',\n",
       " 'dados/MURA-v1.1/train/XR_WRIST/patient06570/study1_positive\\\\image1.png': '1',\n",
       " 'dados/MURA-v1.1/train/XR_WRIST/patient06570/study1_positive\\\\image2.png': '1',\n",
       " 'dados/MURA-v1.1/train/XR_WRIST/patient06570/study2_positive\\\\image1.png': '1',\n",
       " 'dados/MURA-v1.1/train/XR_WRIST/patient06570/study2_positive\\\\image2.png': '1',\n",
       " 'dados/MURA-v1.1/train/XR_WRIST/patient06570/study2_positive\\\\image3.png': '1',\n",
       " 'dados/MURA-v1.1/train/XR_WRIST/patient06571/study1_positive\\\\image1.png': '1',\n",
       " 'dados/MURA-v1.1/train/XR_WRIST/patient06571/study1_positive\\\\image2.png': '1',\n",
       " 'dados/MURA-v1.1/train/XR_WRIST/patient06571/study1_positive\\\\image3.png': '1',\n",
       " 'dados/MURA-v1.1/train/XR_WRIST/patient06572/study1_positive\\\\image1.png': '1',\n",
       " 'dados/MURA-v1.1/train/XR_WRIST/patient06572/study1_positive\\\\image2.png': '1',\n",
       " 'dados/MURA-v1.1/train/XR_WRIST/patient06572/study1_positive\\\\image3.png': '1',\n",
       " 'dados/MURA-v1.1/train/XR_WRIST/patient02133/study1_positive\\\\image1.png': '1',\n",
       " 'dados/MURA-v1.1/train/XR_WRIST/patient02133/study1_positive\\\\image2.png': '1',\n",
       " 'dados/MURA-v1.1/train/XR_WRIST/patient02133/study2_negative\\\\image1.png': '0',\n",
       " 'dados/MURA-v1.1/train/XR_WRIST/patient02133/study2_negative\\\\image2.png': '0',\n",
       " 'dados/MURA-v1.1/train/XR_WRIST/patient06573/study1_positive\\\\image1.png': '1',\n",
       " 'dados/MURA-v1.1/train/XR_WRIST/patient06573/study1_positive\\\\image2.png': '1',\n",
       " 'dados/MURA-v1.1/train/XR_WRIST/patient06573/study1_positive\\\\image3.png': '1',\n",
       " 'dados/MURA-v1.1/train/XR_WRIST/patient06574/study1_positive\\\\image1.png': '1',\n",
       " 'dados/MURA-v1.1/train/XR_WRIST/patient06574/study1_positive\\\\image2.png': '1',\n",
       " 'dados/MURA-v1.1/train/XR_WRIST/patient06574/study1_positive\\\\image3.png': '1',\n",
       " 'dados/MURA-v1.1/train/XR_WRIST/patient06575/study1_positive\\\\image1.png': '1',\n",
       " 'dados/MURA-v1.1/train/XR_WRIST/patient06575/study1_positive\\\\image2.png': '1',\n",
       " 'dados/MURA-v1.1/train/XR_WRIST/patient06575/study1_positive\\\\image3.png': '1',\n",
       " 'dados/MURA-v1.1/train/XR_WRIST/patient06576/study1_positive\\\\image1.png': '1',\n",
       " 'dados/MURA-v1.1/train/XR_WRIST/patient06576/study1_positive\\\\image2.png': '1',\n",
       " 'dados/MURA-v1.1/train/XR_WRIST/patient06577/study1_positive\\\\image1.png': '1',\n",
       " 'dados/MURA-v1.1/train/XR_WRIST/patient06577/study1_positive\\\\image2.png': '1',\n",
       " 'dados/MURA-v1.1/train/XR_WRIST/patient02919/study1_positive\\\\image1.png': '1',\n",
       " 'dados/MURA-v1.1/train/XR_WRIST/patient02919/study1_positive\\\\image2.png': '1',\n",
       " 'dados/MURA-v1.1/train/XR_WRIST/patient02919/study1_positive\\\\image3.png': '1',\n",
       " 'dados/MURA-v1.1/train/XR_WRIST/patient02919/study2_negative\\\\image1.png': '0',\n",
       " 'dados/MURA-v1.1/train/XR_WRIST/patient02919/study2_negative\\\\image2.png': '0',\n",
       " 'dados/MURA-v1.1/train/XR_WRIST/patient02919/study2_negative\\\\image3.png': '0',\n",
       " 'dados/MURA-v1.1/train/XR_WRIST/patient02919/study3_negative\\\\image1.png': '0',\n",
       " 'dados/MURA-v1.1/train/XR_WRIST/patient02919/study3_negative\\\\image2.png': '0',\n",
       " 'dados/MURA-v1.1/train/XR_WRIST/patient02919/study3_negative\\\\image3.png': '0',\n",
       " 'dados/MURA-v1.1/train/XR_WRIST/patient06578/study1_positive\\\\image1.png': '1',\n",
       " 'dados/MURA-v1.1/train/XR_WRIST/patient06578/study1_positive\\\\image2.png': '1',\n",
       " 'dados/MURA-v1.1/train/XR_WRIST/patient06578/study1_positive\\\\image3.png': '1',\n",
       " 'dados/MURA-v1.1/train/XR_WRIST/patient06579/study1_positive\\\\image1.png': '1',\n",
       " 'dados/MURA-v1.1/train/XR_WRIST/patient06579/study1_positive\\\\image2.png': '1',\n",
       " 'dados/MURA-v1.1/train/XR_WRIST/patient06579/study1_positive\\\\image3.png': '1',\n",
       " 'dados/MURA-v1.1/train/XR_WRIST/patient06580/study1_positive\\\\image1.png': '1',\n",
       " 'dados/MURA-v1.1/train/XR_WRIST/patient06580/study1_positive\\\\image2.png': '1',\n",
       " 'dados/MURA-v1.1/train/XR_WRIST/patient06580/study1_positive\\\\image3.png': '1',\n",
       " 'dados/MURA-v1.1/train/XR_WRIST/patient06580/study1_positive\\\\image4.png': '1',\n",
       " 'dados/MURA-v1.1/train/XR_WRIST/patient05095/study1_positive\\\\image1.png': '1',\n",
       " 'dados/MURA-v1.1/train/XR_WRIST/patient05095/study1_positive\\\\image2.png': '1',\n",
       " 'dados/MURA-v1.1/train/XR_WRIST/patient05095/study1_positive\\\\image3.png': '1',\n",
       " 'dados/MURA-v1.1/train/XR_WRIST/patient06581/study1_positive\\\\image1.png': '1',\n",
       " 'dados/MURA-v1.1/train/XR_WRIST/patient06581/study1_positive\\\\image2.png': '1',\n",
       " 'dados/MURA-v1.1/train/XR_WRIST/patient06581/study1_positive\\\\image3.png': '1',\n",
       " 'dados/MURA-v1.1/train/XR_WRIST/patient06581/study1_positive\\\\image4.png': '1',\n",
       " 'dados/MURA-v1.1/train/XR_WRIST/patient06582/study1_positive\\\\image1.png': '1',\n",
       " 'dados/MURA-v1.1/train/XR_WRIST/patient06582/study1_positive\\\\image2.png': '1',\n",
       " 'dados/MURA-v1.1/train/XR_WRIST/patient06582/study1_positive\\\\image3.png': '1',\n",
       " 'dados/MURA-v1.1/train/XR_WRIST/patient06582/study1_positive\\\\image4.png': '1',\n",
       " 'dados/MURA-v1.1/train/XR_WRIST/patient00147/study1_positive\\\\image1.png': '1',\n",
       " 'dados/MURA-v1.1/train/XR_WRIST/patient00147/study1_positive\\\\image2.png': '1',\n",
       " 'dados/MURA-v1.1/train/XR_WRIST/patient00147/study1_positive\\\\image3.png': '1',\n",
       " 'dados/MURA-v1.1/train/XR_WRIST/patient00147/study1_positive\\\\image4.png': '1',\n",
       " 'dados/MURA-v1.1/train/XR_WRIST/patient00147/study2_negative\\\\image1.png': '0',\n",
       " 'dados/MURA-v1.1/train/XR_WRIST/patient00147/study2_negative\\\\image2.png': '0',\n",
       " 'dados/MURA-v1.1/train/XR_WRIST/patient06583/study1_positive\\\\image1.png': '1',\n",
       " 'dados/MURA-v1.1/train/XR_WRIST/patient06583/study1_positive\\\\image2.png': '1',\n",
       " 'dados/MURA-v1.1/train/XR_WRIST/patient06583/study1_positive\\\\image3.png': '1',\n",
       " 'dados/MURA-v1.1/train/XR_WRIST/patient06584/study1_positive\\\\image1.png': '1',\n",
       " 'dados/MURA-v1.1/train/XR_WRIST/patient06584/study1_positive\\\\image2.png': '1',\n",
       " 'dados/MURA-v1.1/train/XR_WRIST/patient06584/study1_positive\\\\image3.png': '1',\n",
       " 'dados/MURA-v1.1/train/XR_WRIST/patient06585/study1_positive\\\\image1.png': '1',\n",
       " 'dados/MURA-v1.1/train/XR_WRIST/patient06585/study1_positive\\\\image2.png': '1',\n",
       " 'dados/MURA-v1.1/train/XR_WRIST/patient06586/study1_positive\\\\image1.png': '1',\n",
       " 'dados/MURA-v1.1/train/XR_WRIST/patient06586/study1_positive\\\\image2.png': '1',\n",
       " 'dados/MURA-v1.1/train/XR_WRIST/patient06586/study1_positive\\\\image3.png': '1',\n",
       " 'dados/MURA-v1.1/train/XR_WRIST/patient06587/study1_positive\\\\image1.png': '1',\n",
       " 'dados/MURA-v1.1/train/XR_WRIST/patient06587/study1_positive\\\\image2.png': '1',\n",
       " 'dados/MURA-v1.1/train/XR_WRIST/patient06587/study1_positive\\\\image3.png': '1',\n",
       " 'dados/MURA-v1.1/train/XR_WRIST/patient06587/study1_positive\\\\image4.png': '1',\n",
       " 'dados/MURA-v1.1/train/XR_WRIST/patient06588/study1_positive\\\\image1.png': '1',\n",
       " 'dados/MURA-v1.1/train/XR_WRIST/patient06588/study1_positive\\\\image2.png': '1',\n",
       " 'dados/MURA-v1.1/train/XR_WRIST/patient03076/study1_positive\\\\image1.png': '1',\n",
       " 'dados/MURA-v1.1/train/XR_WRIST/patient03076/study1_positive\\\\image2.png': '1',\n",
       " 'dados/MURA-v1.1/train/XR_WRIST/patient03076/study1_positive\\\\image3.png': '1',\n",
       " 'dados/MURA-v1.1/train/XR_WRIST/patient06589/study1_positive\\\\image1.png': '1',\n",
       " 'dados/MURA-v1.1/train/XR_WRIST/patient06589/study1_positive\\\\image2.png': '1',\n",
       " 'dados/MURA-v1.1/train/XR_WRIST/patient06589/study1_positive\\\\image3.png': '1',\n",
       " 'dados/MURA-v1.1/train/XR_WRIST/patient06589/study1_positive\\\\image4.png': '1',\n",
       " 'dados/MURA-v1.1/train/XR_WRIST/patient06590/study1_positive\\\\image1.png': '1',\n",
       " 'dados/MURA-v1.1/train/XR_WRIST/patient06590/study1_positive\\\\image2.png': '1',\n",
       " 'dados/MURA-v1.1/train/XR_WRIST/patient06590/study1_positive\\\\image3.png': '1',\n",
       " 'dados/MURA-v1.1/train/XR_WRIST/patient06591/study1_positive\\\\image1.png': '1',\n",
       " 'dados/MURA-v1.1/train/XR_WRIST/patient06591/study1_positive\\\\image2.png': '1',\n",
       " 'dados/MURA-v1.1/train/XR_WRIST/patient06591/study1_positive\\\\image3.png': '1',\n",
       " 'dados/MURA-v1.1/train/XR_WRIST/patient06592/study1_positive\\\\image1.png': '1',\n",
       " 'dados/MURA-v1.1/train/XR_WRIST/patient06592/study1_positive\\\\image2.png': '1',\n",
       " 'dados/MURA-v1.1/train/XR_WRIST/patient06592/study1_positive\\\\image3.png': '1',\n",
       " 'dados/MURA-v1.1/train/XR_WRIST/patient06592/study2_negative\\\\image1.png': '0',\n",
       " 'dados/MURA-v1.1/train/XR_WRIST/patient06592/study2_negative\\\\image2.png': '0',\n",
       " 'dados/MURA-v1.1/train/XR_WRIST/patient06592/study2_negative\\\\image3.png': '0',\n",
       " 'dados/MURA-v1.1/train/XR_WRIST/patient06593/study1_positive\\\\image1.png': '1',\n",
       " 'dados/MURA-v1.1/train/XR_WRIST/patient06593/study1_positive\\\\image2.png': '1',\n",
       " 'dados/MURA-v1.1/train/XR_WRIST/patient06593/study1_positive\\\\image3.png': '1',\n",
       " 'dados/MURA-v1.1/train/XR_WRIST/patient06594/study1_positive\\\\image1.png': '1',\n",
       " 'dados/MURA-v1.1/train/XR_WRIST/patient06594/study1_positive\\\\image2.png': '1',\n",
       " 'dados/MURA-v1.1/train/XR_WRIST/patient06594/study1_positive\\\\image3.png': '1',\n",
       " 'dados/MURA-v1.1/train/XR_WRIST/patient06594/study1_positive\\\\image4.png': '1',\n",
       " 'dados/MURA-v1.1/train/XR_WRIST/patient06595/study1_positive\\\\image1.png': '1',\n",
       " 'dados/MURA-v1.1/train/XR_WRIST/patient06595/study1_positive\\\\image2.png': '1',\n",
       " 'dados/MURA-v1.1/train/XR_WRIST/patient06596/study1_positive\\\\image1.png': '1',\n",
       " 'dados/MURA-v1.1/train/XR_WRIST/patient06596/study1_positive\\\\image2.png': '1',\n",
       " 'dados/MURA-v1.1/train/XR_WRIST/patient06596/study1_positive\\\\image3.png': '1',\n",
       " 'dados/MURA-v1.1/train/XR_WRIST/patient06596/study2_negative\\\\image1.png': '0',\n",
       " 'dados/MURA-v1.1/train/XR_WRIST/patient06596/study2_negative\\\\image2.png': '0',\n",
       " 'dados/MURA-v1.1/train/XR_WRIST/patient06596/study2_negative\\\\image3.png': '0',\n",
       " 'dados/MURA-v1.1/train/XR_WRIST/patient06597/study1_positive\\\\image1.png': '1',\n",
       " 'dados/MURA-v1.1/train/XR_WRIST/patient06597/study1_positive\\\\image2.png': '1',\n",
       " 'dados/MURA-v1.1/train/XR_WRIST/patient06597/study1_positive\\\\image3.png': '1',\n",
       " 'dados/MURA-v1.1/train/XR_WRIST/patient06598/study1_positive\\\\image1.png': '1',\n",
       " 'dados/MURA-v1.1/train/XR_WRIST/patient06598/study1_positive\\\\image2.png': '1',\n",
       " 'dados/MURA-v1.1/train/XR_WRIST/patient06599/study1_positive\\\\image1.png': '1',\n",
       " 'dados/MURA-v1.1/train/XR_WRIST/patient06599/study1_positive\\\\image2.png': '1',\n",
       " 'dados/MURA-v1.1/train/XR_WRIST/patient06600/study1_positive\\\\image1.png': '1',\n",
       " 'dados/MURA-v1.1/train/XR_WRIST/patient06600/study1_positive\\\\image2.png': '1',\n",
       " 'dados/MURA-v1.1/train/XR_WRIST/patient06600/study1_positive\\\\image3.png': '1',\n",
       " 'dados/MURA-v1.1/train/XR_WRIST/patient06601/study1_positive\\\\image1.png': '1',\n",
       " 'dados/MURA-v1.1/train/XR_WRIST/patient06601/study1_positive\\\\image2.png': '1',\n",
       " 'dados/MURA-v1.1/train/XR_WRIST/patient06601/study1_positive\\\\image3.png': '1',\n",
       " 'dados/MURA-v1.1/train/XR_WRIST/patient04750/study1_positive\\\\image1.png': '1',\n",
       " 'dados/MURA-v1.1/train/XR_WRIST/patient04750/study1_positive\\\\image2.png': '1',\n",
       " 'dados/MURA-v1.1/train/XR_WRIST/patient04750/study1_positive\\\\image3.png': '1',\n",
       " 'dados/MURA-v1.1/train/XR_WRIST/patient04750/study1_positive\\\\image4.png': '1',\n",
       " 'dados/MURA-v1.1/train/XR_WRIST/patient06602/study1_positive\\\\image1.png': '1',\n",
       " 'dados/MURA-v1.1/train/XR_WRIST/patient06602/study1_positive\\\\image2.png': '1',\n",
       " 'dados/MURA-v1.1/train/XR_WRIST/patient06602/study1_positive\\\\image3.png': '1',\n",
       " 'dados/MURA-v1.1/train/XR_WRIST/patient06603/study1_positive\\\\image1.png': '1',\n",
       " 'dados/MURA-v1.1/train/XR_WRIST/patient06603/study1_positive\\\\image2.png': '1',\n",
       " 'dados/MURA-v1.1/train/XR_WRIST/patient06603/study1_positive\\\\image3.png': '1',\n",
       " 'dados/MURA-v1.1/train/XR_WRIST/patient06604/study1_positive\\\\image1.png': '1',\n",
       " 'dados/MURA-v1.1/train/XR_WRIST/patient06604/study1_positive\\\\image2.png': '1',\n",
       " 'dados/MURA-v1.1/train/XR_WRIST/patient06605/study1_positive\\\\image1.png': '1',\n",
       " 'dados/MURA-v1.1/train/XR_WRIST/patient06605/study1_positive\\\\image2.png': '1',\n",
       " 'dados/MURA-v1.1/train/XR_WRIST/patient06605/study1_positive\\\\image3.png': '1',\n",
       " 'dados/MURA-v1.1/train/XR_WRIST/patient06606/study1_positive\\\\image1.png': '1',\n",
       " 'dados/MURA-v1.1/train/XR_WRIST/patient06606/study1_positive\\\\image2.png': '1',\n",
       " 'dados/MURA-v1.1/train/XR_WRIST/patient06606/study1_positive\\\\image3.png': '1',\n",
       " 'dados/MURA-v1.1/train/XR_WRIST/patient06606/study1_positive\\\\image4.png': '1',\n",
       " 'dados/MURA-v1.1/train/XR_WRIST/patient06606/study1_positive\\\\image5.png': '1',\n",
       " 'dados/MURA-v1.1/train/XR_WRIST/patient06606/study1_positive\\\\image6.png': '1',\n",
       " 'dados/MURA-v1.1/train/XR_WRIST/patient06606/study1_positive\\\\image7.png': '1',\n",
       " 'dados/MURA-v1.1/train/XR_WRIST/patient06607/study1_positive\\\\image1.png': '1',\n",
       " 'dados/MURA-v1.1/train/XR_WRIST/patient06607/study1_positive\\\\image2.png': '1',\n",
       " 'dados/MURA-v1.1/train/XR_WRIST/patient06607/study1_positive\\\\image3.png': '1',\n",
       " 'dados/MURA-v1.1/train/XR_WRIST/patient06607/study2_positive\\\\image1.png': '1',\n",
       " 'dados/MURA-v1.1/train/XR_WRIST/patient06607/study2_positive\\\\image2.png': '1',\n",
       " 'dados/MURA-v1.1/train/XR_WRIST/patient06607/study2_positive\\\\image3.png': '1',\n",
       " 'dados/MURA-v1.1/train/XR_WRIST/patient06608/study1_positive\\\\image1.png': '1',\n",
       " 'dados/MURA-v1.1/train/XR_WRIST/patient06608/study1_positive\\\\image2.png': '1',\n",
       " 'dados/MURA-v1.1/train/XR_WRIST/patient06608/study1_positive\\\\image3.png': '1',\n",
       " 'dados/MURA-v1.1/train/XR_WRIST/patient04568/study1_positive\\\\image1.png': '1',\n",
       " 'dados/MURA-v1.1/train/XR_WRIST/patient04568/study1_positive\\\\image2.png': '1',\n",
       " 'dados/MURA-v1.1/train/XR_WRIST/patient04568/study1_positive\\\\image3.png': '1',\n",
       " 'dados/MURA-v1.1/train/XR_WRIST/patient04568/study2_negative\\\\image1.png': '0',\n",
       " 'dados/MURA-v1.1/train/XR_WRIST/patient04568/study2_negative\\\\image2.png': '0',\n",
       " 'dados/MURA-v1.1/train/XR_WRIST/patient04568/study2_negative\\\\image3.png': '0',\n",
       " 'dados/MURA-v1.1/train/XR_WRIST/patient04568/study3_negative\\\\image1.png': '0',\n",
       " 'dados/MURA-v1.1/train/XR_WRIST/patient04568/study3_negative\\\\image2.png': '0',\n",
       " 'dados/MURA-v1.1/train/XR_WRIST/patient04568/study3_negative\\\\image3.png': '0',\n",
       " 'dados/MURA-v1.1/train/XR_WRIST/patient04568/study3_negative\\\\image4.png': '0',\n",
       " 'dados/MURA-v1.1/train/XR_WRIST/patient06609/study1_positive\\\\image1.png': '1',\n",
       " 'dados/MURA-v1.1/train/XR_WRIST/patient06609/study1_positive\\\\image2.png': '1',\n",
       " 'dados/MURA-v1.1/train/XR_WRIST/patient06609/study1_positive\\\\image3.png': '1',\n",
       " 'dados/MURA-v1.1/train/XR_WRIST/patient06610/study1_positive\\\\image1.png': '1',\n",
       " 'dados/MURA-v1.1/train/XR_WRIST/patient06610/study1_positive\\\\image2.png': '1',\n",
       " 'dados/MURA-v1.1/train/XR_WRIST/patient06610/study1_positive\\\\image3.png': '1',\n",
       " 'dados/MURA-v1.1/train/XR_WRIST/patient06610/study1_positive\\\\image4.png': '1',\n",
       " 'dados/MURA-v1.1/train/XR_WRIST/patient06611/study1_positive\\\\image1.png': '1',\n",
       " 'dados/MURA-v1.1/train/XR_WRIST/patient06611/study1_positive\\\\image2.png': '1',\n",
       " 'dados/MURA-v1.1/train/XR_WRIST/patient06611/study1_positive\\\\image3.png': '1',\n",
       " 'dados/MURA-v1.1/train/XR_WRIST/patient06612/study1_positive\\\\image1.png': '1',\n",
       " 'dados/MURA-v1.1/train/XR_WRIST/patient06612/study1_positive\\\\image2.png': '1',\n",
       " 'dados/MURA-v1.1/train/XR_WRIST/patient06612/study1_positive\\\\image3.png': '1',\n",
       " 'dados/MURA-v1.1/train/XR_WRIST/patient06613/study1_positive\\\\image1.png': '1',\n",
       " 'dados/MURA-v1.1/train/XR_WRIST/patient06613/study1_positive\\\\image2.png': '1',\n",
       " 'dados/MURA-v1.1/train/XR_WRIST/patient06613/study1_positive\\\\image3.png': '1',\n",
       " 'dados/MURA-v1.1/train/XR_WRIST/patient06614/study1_positive\\\\image1.png': '1',\n",
       " 'dados/MURA-v1.1/train/XR_WRIST/patient06614/study1_positive\\\\image2.png': '1',\n",
       " 'dados/MURA-v1.1/train/XR_WRIST/patient06614/study1_positive\\\\image3.png': '1',\n",
       " 'dados/MURA-v1.1/train/XR_WRIST/patient06615/study1_positive\\\\image1.png': '1',\n",
       " 'dados/MURA-v1.1/train/XR_WRIST/patient06616/study1_positive\\\\image1.png': '1',\n",
       " 'dados/MURA-v1.1/train/XR_WRIST/patient06616/study1_positive\\\\image2.png': '1',\n",
       " 'dados/MURA-v1.1/train/XR_WRIST/patient06616/study1_positive\\\\image3.png': '1',\n",
       " 'dados/MURA-v1.1/train/XR_WRIST/patient06616/study1_positive\\\\image4.png': '1',\n",
       " 'dados/MURA-v1.1/train/XR_WRIST/patient06617/study1_positive\\\\image1.png': '1',\n",
       " 'dados/MURA-v1.1/train/XR_WRIST/patient06617/study1_positive\\\\image2.png': '1',\n",
       " 'dados/MURA-v1.1/train/XR_WRIST/patient06617/study1_positive\\\\image3.png': '1',\n",
       " 'dados/MURA-v1.1/train/XR_WRIST/patient06618/study1_positive\\\\image1.png': '1',\n",
       " 'dados/MURA-v1.1/train/XR_WRIST/patient06619/study1_positive\\\\image1.png': '1',\n",
       " 'dados/MURA-v1.1/train/XR_WRIST/patient06619/study1_positive\\\\image2.png': '1',\n",
       " 'dados/MURA-v1.1/train/XR_WRIST/patient06619/study1_positive\\\\image3.png': '1',\n",
       " 'dados/MURA-v1.1/train/XR_WRIST/patient06619/study1_positive\\\\image4.png': '1',\n",
       " 'dados/MURA-v1.1/train/XR_WRIST/patient06620/study1_positive\\\\image1.png': '1',\n",
       " 'dados/MURA-v1.1/train/XR_WRIST/patient06620/study1_positive\\\\image2.png': '1',\n",
       " 'dados/MURA-v1.1/train/XR_WRIST/patient06621/study1_positive\\\\image1.png': '1',\n",
       " ...}"
      ]
     },
     "execution_count": 55,
     "metadata": {},
     "output_type": "execute_result"
    }
   ],
   "source": [
    "# Verifica o resultado\n",
    "dict_treino"
   ]
  },
  {
   "cell_type": "code",
   "execution_count": 56,
   "id": "4d71f9f2",
   "metadata": {},
   "outputs": [],
   "source": [
    "# Converte o dicionário em um dataframe\n",
    "df_treino_WRIST = pd.DataFrame()\n",
    "df_treino_WRIST['imagem'] = dict_treino.keys()\n",
    "df_treino_WRIST['label'] = dict_treino.values()"
   ]
  },
  {
   "cell_type": "code",
   "execution_count": 57,
   "id": "56461b0a",
   "metadata": {},
   "outputs": [
    {
     "data": {
      "text/plain": [
       "imagem    9752\n",
       "label     9752\n",
       "dtype: int64"
      ]
     },
     "execution_count": 57,
     "metadata": {},
     "output_type": "execute_result"
    }
   ],
   "source": [
    "# Total de registros\n",
    "df_treino_WRIST.count()"
   ]
  },
  {
   "cell_type": "code",
   "execution_count": 58,
   "id": "7c0b7353",
   "metadata": {},
   "outputs": [
    {
     "data": {
      "text/html": [
       "<div>\n",
       "<style scoped>\n",
       "    .dataframe tbody tr th:only-of-type {\n",
       "        vertical-align: middle;\n",
       "    }\n",
       "\n",
       "    .dataframe tbody tr th {\n",
       "        vertical-align: top;\n",
       "    }\n",
       "\n",
       "    .dataframe thead th {\n",
       "        text-align: right;\n",
       "    }\n",
       "</style>\n",
       "<table border=\"1\" class=\"dataframe\">\n",
       "  <thead>\n",
       "    <tr style=\"text-align: right;\">\n",
       "      <th></th>\n",
       "      <th>imagem</th>\n",
       "      <th>label</th>\n",
       "    </tr>\n",
       "  </thead>\n",
       "  <tbody>\n",
       "    <tr>\n",
       "      <th>0</th>\n",
       "      <td>dados/MURA-v1.1/train/XR_WRIST/patient06359/st...</td>\n",
       "      <td>1</td>\n",
       "    </tr>\n",
       "    <tr>\n",
       "      <th>1</th>\n",
       "      <td>dados/MURA-v1.1/train/XR_WRIST/patient06359/st...</td>\n",
       "      <td>1</td>\n",
       "    </tr>\n",
       "    <tr>\n",
       "      <th>2</th>\n",
       "      <td>dados/MURA-v1.1/train/XR_WRIST/patient06360/st...</td>\n",
       "      <td>1</td>\n",
       "    </tr>\n",
       "    <tr>\n",
       "      <th>3</th>\n",
       "      <td>dados/MURA-v1.1/train/XR_WRIST/patient06360/st...</td>\n",
       "      <td>1</td>\n",
       "    </tr>\n",
       "    <tr>\n",
       "      <th>4</th>\n",
       "      <td>dados/MURA-v1.1/train/XR_WRIST/patient06360/st...</td>\n",
       "      <td>1</td>\n",
       "    </tr>\n",
       "  </tbody>\n",
       "</table>\n",
       "</div>"
      ],
      "text/plain": [
       "                                              imagem label\n",
       "0  dados/MURA-v1.1/train/XR_WRIST/patient06359/st...     1\n",
       "1  dados/MURA-v1.1/train/XR_WRIST/patient06359/st...     1\n",
       "2  dados/MURA-v1.1/train/XR_WRIST/patient06360/st...     1\n",
       "3  dados/MURA-v1.1/train/XR_WRIST/patient06360/st...     1\n",
       "4  dados/MURA-v1.1/train/XR_WRIST/patient06360/st...     1"
      ]
     },
     "execution_count": 58,
     "metadata": {},
     "output_type": "execute_result"
    }
   ],
   "source": [
    "# Visualiza\n",
    "df_treino_WRIST.head()"
   ]
  },
  {
   "cell_type": "code",
   "execution_count": 59,
   "id": "c1109293",
   "metadata": {},
   "outputs": [],
   "source": [
    "# Repetimos a operação para os dados de teste\n",
    "\n",
    "# Dicionário\n",
    "dict_teste = {}\n",
    "\n",
    "# Loop\n",
    "for i in df_teste_label_WRIST.index:\n",
    "    folder = df_teste_label_WRIST['caminho_imagem'].loc[i]\n",
    "    labels = df_teste_label_WRIST['label'].loc[i]\n",
    "    pic = glob(folder + '*.png')\n",
    "    for filename in pic:\n",
    "        dict_teste[filename] = labels\n",
    "        im = resize_img(filename)       \n",
    "        cv2.imwrite(filename, im)  "
   ]
  },
  {
   "cell_type": "code",
   "execution_count": 61,
   "id": "239fc7dc",
   "metadata": {},
   "outputs": [],
   "source": [
    "# Convertemos o dicionário para dataframe\n",
    "df_teste_WRIST = pd.DataFrame()\n",
    "df_teste_WRIST['caminho_imagem'] = dict_teste.keys()\n",
    "df_teste_WRIST['label'] = dict_teste.values()"
   ]
  },
  {
   "cell_type": "code",
   "execution_count": 62,
   "id": "7cbe82b0",
   "metadata": {},
   "outputs": [
    {
     "data": {
      "text/plain": [
       "caminho_imagem    659\n",
       "label             659\n",
       "dtype: int64"
      ]
     },
     "execution_count": 62,
     "metadata": {},
     "output_type": "execute_result"
    }
   ],
   "source": [
    "# Resultado\n",
    "df_teste_WRIST.count()"
   ]
  },
  {
   "cell_type": "markdown",
   "id": "5608659d",
   "metadata": {},
   "source": [
    "## 6. Arquitetura do modelo"
   ]
  },
  {
   "cell_type": "markdown",
   "id": "3232d159",
   "metadata": {},
   "source": [
    "LeNet é uma das primeiras redes neurais convolucionais (CNN) e tem sido fundamental para o desenvolvimento de Deep Learning. Foi proposta por Yann LeCun para reconhecimento de dígitos manuscritos. A arquitetura LeNet-5, especificamente, é bastante conhecida e referenciada frequentemente.\n",
    "\n",
    "Aqui está uma descrição detalhada da arquitetura LeNet-5:\n",
    "\n",
    "**Camada de Entrada (Input Layer)**: Recebe as imagens de entrada.\n",
    "\n",
    "**Camada Convolucional 1**: Esta camada tem o kernel (filtro) de tamanho 3x3 ou 5x5, resultando em mapas de características (devido à convolução). Esta camada detecta diferentes características de baixo nível, como bordas, nas imagens de entrada.\n",
    "\n",
    "**Camada de Subamostragem/Pooling 1**: Esta camada segue a camada convolucional e realiza a operação de pooling, especificamente o max pooling, sobre os mapas de características. O tamanho do kernel de pooling é 2x2 com um stride de 2, o que efetivamente reduz a dimensão dos mapas de características pela metade..\n",
    "\n",
    "**Camada Convolucional 2**: Esta camada tem o kernel (filtro) de tamanho 3x3 ou 5x5, resultando em mapas de características. O kernel aqui é capaz de detectar um número maior de características de alto nível.\n",
    "\n",
    "**Camada de Subamostragem/Pooling 2**: Esta camada realiza a operação de max pooling nos mapas de características, reduzindo a dimensão da matriz de dados.\n",
    "\n",
    "**Camada Convolucional 3**: Nesta etapa, em vez de produzir um mapa de características, cada kernel produz um único valor através da convolução com a região 3x3 na entrada. Isso resulta em valores, que podem ser tratados como um vetor de características para classificação. Esta camada pode ou não ser seguida de outra camada de Pooling.\n",
    "\n",
    "**Camada Totalmente Conectada**: Essa camada lineariza o vetor de características da camada anterior antes da classificação final.\n",
    "\n",
    "**Camada de Saída (Output Layer)**: Esta é uma camada que classifica a imagem de entrada nas classes correspondentes. Normalmente aplica função softmax ou sigmóide.\n",
    "\n",
    "A rede LeNet é um exemplo clássico de uma rede neural convolucional. A arquitetura básica de convolução seguida por subamostragem é um padrão que é ainda amplamente usado em redes neurais mais modernas e complexas."
   ]
  },
  {
   "cell_type": "markdown",
   "id": "3fc3c5d6",
   "metadata": {},
   "source": [
    "### 61. Construção do modelo"
   ]
  },
  {
   "cell_type": "code",
   "execution_count": 63,
   "id": "e94a57a8",
   "metadata": {},
   "outputs": [],
   "source": [
    "# Define o input_shape\n",
    "input_shape = (150,150,3)"
   ]
  },
  {
   "cell_type": "code",
   "execution_count": 64,
   "id": "fa19cef9",
   "metadata": {},
   "outputs": [],
   "source": [
    "# Define o kernel de convolução\n",
    "kernel = (3,3)"
   ]
  },
  {
   "cell_type": "code",
   "execution_count": 68,
   "id": "fd52c949",
   "metadata": {},
   "outputs": [],
   "source": [
    "# Construção do modelo com Keras\n",
    "\n",
    "# Sequência de camadas\n",
    "modelo_v1 = Sequential()\n",
    "\n",
    "# Primeira camada convolucional\n",
    "modelo_v1.add(Conv2D(32, kernel, input_shape = input_shape))\n",
    "modelo_v1.add(Activation('relu'))\n",
    "modelo_v1.add(MaxPooling2D(pool_size = (2,2)))\n",
    "\n",
    "# Segunda camada convolucional\n",
    "modelo_v1.add(Conv2D(32, kernel))\n",
    "modelo_v1.add(Activation('relu'))\n",
    "modelo_v1.add(MaxPooling2D(pool_size = (2,2)))\n",
    "\n",
    "# Terceira camada convolucional\n",
    "modelo_v1.add(Conv2D(64, kernel))\n",
    "modelo_v1.add(Activation('relu'))\n",
    "modelo_v1.add(MaxPooling2D(pool_size = (2,2)))\n",
    "\n",
    "# Camada totalmente conectada\n",
    "modelo_v1.add(Flatten())\n",
    "modelo_v1.add(Dense(64))\n",
    "modelo_v1.add(Activation('relu'))\n",
    "modelo_v1.add(Dropout(0.5))\n",
    "\n",
    "# Camada de saída\n",
    "modelo_v1.add(Dense(1, activation = 'sigmoid'))"
   ]
  },
  {
   "cell_type": "code",
   "execution_count": 69,
   "id": "0777af31",
   "metadata": {},
   "outputs": [],
   "source": [
    "# Compilação do modelo\n",
    "modelo_v1.compile(loss = 'binary_crossentropy', optimizer = 'adam', metrics = ['acc', 'mse'])"
   ]
  },
  {
   "cell_type": "code",
   "execution_count": 70,
   "id": "9f49774c",
   "metadata": {},
   "outputs": [
    {
     "name": "stdout",
     "output_type": "stream",
     "text": [
      "Model: \"sequential_2\"\n",
      "_________________________________________________________________\n",
      " Layer (type)                Output Shape              Param #   \n",
      "=================================================================\n",
      " conv2d_6 (Conv2D)           (None, 148, 148, 32)      896       \n",
      "                                                                 \n",
      " activation_6 (Activation)   (None, 148, 148, 32)      0         \n",
      "                                                                 \n",
      " max_pooling2d_5 (MaxPooling  (None, 74, 74, 32)       0         \n",
      " 2D)                                                             \n",
      "                                                                 \n",
      " conv2d_7 (Conv2D)           (None, 72, 72, 32)        9248      \n",
      "                                                                 \n",
      " activation_7 (Activation)   (None, 72, 72, 32)        0         \n",
      "                                                                 \n",
      " max_pooling2d_6 (MaxPooling  (None, 36, 36, 32)       0         \n",
      " 2D)                                                             \n",
      "                                                                 \n",
      " conv2d_8 (Conv2D)           (None, 34, 34, 64)        18496     \n",
      "                                                                 \n",
      " activation_8 (Activation)   (None, 34, 34, 64)        0         \n",
      "                                                                 \n",
      " max_pooling2d_7 (MaxPooling  (None, 17, 17, 64)       0         \n",
      " 2D)                                                             \n",
      "                                                                 \n",
      " flatten_1 (Flatten)         (None, 18496)             0         \n",
      "                                                                 \n",
      " dense_1 (Dense)             (None, 64)                1183808   \n",
      "                                                                 \n",
      " activation_9 (Activation)   (None, 64)                0         \n",
      "                                                                 \n",
      " dropout (Dropout)           (None, 64)                0         \n",
      "                                                                 \n",
      " dense_2 (Dense)             (None, 1)                 65        \n",
      "                                                                 \n",
      "=================================================================\n",
      "Total params: 1,212,513\n",
      "Trainable params: 1,212,513\n",
      "Non-trainable params: 0\n",
      "_________________________________________________________________\n"
     ]
    }
   ],
   "source": [
    "# Sumário do modelo\n",
    "modelo_v1.summary()"
   ]
  },
  {
   "cell_type": "markdown",
   "id": "a2ea395d",
   "metadata": {},
   "source": [
    "### 6.2 Dataset augmentation"
   ]
  },
  {
   "cell_type": "code",
   "execution_count": 71,
   "id": "ab092a14",
   "metadata": {},
   "outputs": [],
   "source": [
    "# Gerador de imagens sintéticas - Usamos em dados de treino\n",
    "datagen = ImageDataGenerator(horizontal_flip = True,\n",
    "                             vertical_flip = True,\n",
    "                             rescale = 1./255,\n",
    "                             rotation_range = 25,\n",
    "                             fill_mode = 'nearest',)"
   ]
  },
  {
   "cell_type": "code",
   "execution_count": 72,
   "id": "d8a4ac0a",
   "metadata": {},
   "outputs": [],
   "source": [
    "# Normalização de imagens - Usamos em dados de teste\n",
    "datagen1 = ImageDataGenerator(rescale = 1./255,)"
   ]
  },
  {
   "cell_type": "code",
   "execution_count": 73,
   "id": "abbeacbf",
   "metadata": {},
   "outputs": [],
   "source": [
    "# Hiperparâmetros\n",
    "image_size = (150, 150)\n",
    "batch_size = 32\n",
    "epochs = 50"
   ]
  },
  {
   "cell_type": "code",
   "execution_count": 74,
   "id": "79c6078b",
   "metadata": {},
   "outputs": [
    {
     "name": "stdout",
     "output_type": "stream",
     "text": [
      "Found 9752 validated image filenames belonging to 2 classes.\n"
     ]
    }
   ],
   "source": [
    "# Gera os dados de treino\n",
    "train_generator = datagen.flow_from_dataframe(df_treino_WRIST,\n",
    "                                              x_col = 'imagem',\n",
    "                                              y_col = 'label',\n",
    "                                              target_size = image_size,\n",
    "                                              class_mode = 'binary',\n",
    "                                              batch_size = batch_size)"
   ]
  },
  {
   "cell_type": "code",
   "execution_count": 75,
   "id": "207224b3",
   "metadata": {},
   "outputs": [
    {
     "name": "stdout",
     "output_type": "stream",
     "text": [
      "Found 659 validated image filenames belonging to 2 classes.\n"
     ]
    }
   ],
   "source": [
    "# Gera os dados de teste\n",
    "test_generator = datagen1.flow_from_dataframe(df_teste_WRIST,\n",
    "                                              x_col = 'caminho_imagem',\n",
    "                                              y_col = 'label',\n",
    "                                              target_size = image_size,\n",
    "                                              class_mode = 'binary',\n",
    "                                              batch_size = batch_size)"
   ]
  },
  {
   "cell_type": "code",
   "execution_count": 76,
   "id": "a482565a",
   "metadata": {},
   "outputs": [],
   "source": [
    "# Define o tamanho das amostras\n",
    "sample_size_treino = df_treino_WRIST['label'].count()\n",
    "sample_size_teste = df_teste_WRIST['label'].count()"
   ]
  },
  {
   "cell_type": "markdown",
   "id": "53ff0def",
   "metadata": {},
   "source": [
    "## 7. Treino do modelo"
   ]
  },
  {
   "cell_type": "code",
   "execution_count": 77,
   "id": "83fea09e",
   "metadata": {},
   "outputs": [
    {
     "name": "stdout",
     "output_type": "stream",
     "text": [
      "Epoch 1/50\n",
      "304/304 [==============================] - 157s 514ms/step - loss: 0.6526 - acc: 0.6075 - mse: 0.2307 - val_loss: 0.6603 - val_acc: 0.5922 - val_mse: 0.2341\n",
      "Epoch 2/50\n",
      "304/304 [==============================] - 94s 310ms/step - loss: 0.6323 - acc: 0.6361 - mse: 0.2209 - val_loss: 0.6539 - val_acc: 0.6156 - val_mse: 0.2313\n",
      "Epoch 3/50\n",
      "304/304 [==============================] - 95s 312ms/step - loss: 0.6248 - acc: 0.6472 - mse: 0.2177 - val_loss: 0.6478 - val_acc: 0.6078 - val_mse: 0.2288\n",
      "Epoch 4/50\n",
      "304/304 [==============================] - 113s 371ms/step - loss: 0.6182 - acc: 0.6537 - mse: 0.2153 - val_loss: 0.6356 - val_acc: 0.6062 - val_mse: 0.2236\n",
      "Epoch 5/50\n",
      "304/304 [==============================] - 114s 374ms/step - loss: 0.6152 - acc: 0.6549 - mse: 0.2136 - val_loss: 0.6434 - val_acc: 0.6266 - val_mse: 0.2255\n",
      "Epoch 6/50\n",
      "304/304 [==============================] - 103s 339ms/step - loss: 0.6128 - acc: 0.6622 - mse: 0.2125 - val_loss: 0.6323 - val_acc: 0.6297 - val_mse: 0.2215\n",
      "Epoch 7/50\n",
      "304/304 [==============================] - 104s 342ms/step - loss: 0.6104 - acc: 0.6657 - mse: 0.2116 - val_loss: 0.6183 - val_acc: 0.6328 - val_mse: 0.2147\n",
      "Epoch 8/50\n",
      "304/304 [==============================] - 130s 429ms/step - loss: 0.6058 - acc: 0.6676 - mse: 0.2094 - val_loss: 0.6428 - val_acc: 0.6469 - val_mse: 0.2227\n",
      "Epoch 9/50\n",
      "304/304 [==============================] - 130s 427ms/step - loss: 0.6034 - acc: 0.6673 - mse: 0.2087 - val_loss: 0.6267 - val_acc: 0.6391 - val_mse: 0.2182\n",
      "Epoch 10/50\n",
      "304/304 [==============================] - 122s 401ms/step - loss: 0.5993 - acc: 0.6687 - mse: 0.2068 - val_loss: 0.6072 - val_acc: 0.6500 - val_mse: 0.2103\n",
      "Epoch 11/50\n",
      "304/304 [==============================] - 120s 394ms/step - loss: 0.5932 - acc: 0.6777 - mse: 0.2038 - val_loss: 0.6062 - val_acc: 0.6562 - val_mse: 0.2082\n",
      "Epoch 12/50\n",
      "304/304 [==============================] - 109s 359ms/step - loss: 0.5860 - acc: 0.6845 - mse: 0.2009 - val_loss: 0.6141 - val_acc: 0.6641 - val_mse: 0.2084\n",
      "Epoch 13/50\n",
      "304/304 [==============================] - 109s 358ms/step - loss: 0.5781 - acc: 0.6859 - mse: 0.1978 - val_loss: 0.5947 - val_acc: 0.6750 - val_mse: 0.2022\n",
      "Epoch 14/50\n",
      "304/304 [==============================] - 110s 362ms/step - loss: 0.5724 - acc: 0.6942 - mse: 0.1952 - val_loss: 0.5903 - val_acc: 0.6672 - val_mse: 0.1995\n",
      "Epoch 15/50\n",
      "304/304 [==============================] - 110s 360ms/step - loss: 0.5642 - acc: 0.7056 - mse: 0.1915 - val_loss: 0.5957 - val_acc: 0.6922 - val_mse: 0.1972\n",
      "Epoch 16/50\n",
      "304/304 [==============================] - 109s 356ms/step - loss: 0.5537 - acc: 0.7163 - mse: 0.1871 - val_loss: 0.5788 - val_acc: 0.6953 - val_mse: 0.1956\n",
      "Epoch 17/50\n",
      "304/304 [==============================] - 108s 355ms/step - loss: 0.5486 - acc: 0.7127 - mse: 0.1856 - val_loss: 0.5717 - val_acc: 0.6984 - val_mse: 0.1941\n",
      "Epoch 18/50\n",
      "304/304 [==============================] - 107s 351ms/step - loss: 0.5449 - acc: 0.7222 - mse: 0.1831 - val_loss: 0.5941 - val_acc: 0.6687 - val_mse: 0.1998\n",
      "Epoch 19/50\n",
      "304/304 [==============================] - 109s 356ms/step - loss: 0.5394 - acc: 0.7250 - mse: 0.1813 - val_loss: 0.5885 - val_acc: 0.6750 - val_mse: 0.1983\n",
      "Epoch 20/50\n",
      "304/304 [==============================] - 107s 351ms/step - loss: 0.5330 - acc: 0.7282 - mse: 0.1785 - val_loss: 0.5918 - val_acc: 0.6984 - val_mse: 0.1948\n",
      "Epoch 21/50\n",
      "304/304 [==============================] - 108s 356ms/step - loss: 0.5349 - acc: 0.7311 - mse: 0.1794 - val_loss: 0.5639 - val_acc: 0.7125 - val_mse: 0.1874\n",
      "Epoch 22/50\n",
      "304/304 [==============================] - 107s 351ms/step - loss: 0.5280 - acc: 0.7380 - mse: 0.1760 - val_loss: 0.5821 - val_acc: 0.6859 - val_mse: 0.1974\n",
      "Epoch 23/50\n",
      "304/304 [==============================] - 106s 349ms/step - loss: 0.5315 - acc: 0.7280 - mse: 0.1779 - val_loss: 0.5573 - val_acc: 0.7109 - val_mse: 0.1866\n",
      "Epoch 24/50\n",
      "304/304 [==============================] - 109s 358ms/step - loss: 0.5242 - acc: 0.7333 - mse: 0.1746 - val_loss: 0.5441 - val_acc: 0.7047 - val_mse: 0.1836\n",
      "Epoch 25/50\n",
      "304/304 [==============================] - 108s 354ms/step - loss: 0.5215 - acc: 0.7423 - mse: 0.1731 - val_loss: 0.5793 - val_acc: 0.7047 - val_mse: 0.1925\n",
      "Epoch 26/50\n",
      "304/304 [==============================] - 106s 348ms/step - loss: 0.5199 - acc: 0.7399 - mse: 0.1736 - val_loss: 0.5572 - val_acc: 0.7094 - val_mse: 0.1857\n",
      "Epoch 27/50\n",
      "304/304 [==============================] - 109s 359ms/step - loss: 0.5174 - acc: 0.7431 - mse: 0.1720 - val_loss: 0.5628 - val_acc: 0.7297 - val_mse: 0.1851\n",
      "Epoch 28/50\n",
      "304/304 [==============================] - 107s 352ms/step - loss: 0.5148 - acc: 0.7478 - mse: 0.1701 - val_loss: 0.5686 - val_acc: 0.7078 - val_mse: 0.1898\n",
      "Epoch 29/50\n",
      "304/304 [==============================] - 108s 354ms/step - loss: 0.5144 - acc: 0.7472 - mse: 0.1707 - val_loss: 0.5434 - val_acc: 0.7156 - val_mse: 0.1829\n",
      "Epoch 30/50\n",
      "304/304 [==============================] - 105s 345ms/step - loss: 0.5151 - acc: 0.7451 - mse: 0.1704 - val_loss: 0.5630 - val_acc: 0.7266 - val_mse: 0.1841\n",
      "Epoch 31/50\n",
      "304/304 [==============================] - 108s 354ms/step - loss: 0.5136 - acc: 0.7491 - mse: 0.1693 - val_loss: 0.5377 - val_acc: 0.7031 - val_mse: 0.1806\n",
      "Epoch 32/50\n",
      "304/304 [==============================] - 107s 350ms/step - loss: 0.5097 - acc: 0.7452 - mse: 0.1691 - val_loss: 0.5255 - val_acc: 0.7391 - val_mse: 0.1761\n",
      "Epoch 33/50\n",
      "304/304 [==============================] - 105s 345ms/step - loss: 0.5065 - acc: 0.7495 - mse: 0.1672 - val_loss: 0.5187 - val_acc: 0.7281 - val_mse: 0.1736\n",
      "Epoch 34/50\n",
      "304/304 [==============================] - 107s 351ms/step - loss: 0.5032 - acc: 0.7560 - mse: 0.1663 - val_loss: 0.5278 - val_acc: 0.7328 - val_mse: 0.1762\n",
      "Epoch 35/50\n",
      "304/304 [==============================] - 106s 347ms/step - loss: 0.5005 - acc: 0.7521 - mse: 0.1655 - val_loss: 0.5303 - val_acc: 0.7375 - val_mse: 0.1751\n",
      "Epoch 36/50\n",
      "304/304 [==============================] - 105s 345ms/step - loss: 0.4985 - acc: 0.7555 - mse: 0.1643 - val_loss: 0.5290 - val_acc: 0.7422 - val_mse: 0.1764\n",
      "Epoch 37/50\n",
      "304/304 [==============================] - 104s 343ms/step - loss: 0.5028 - acc: 0.7531 - mse: 0.1660 - val_loss: 0.5187 - val_acc: 0.7344 - val_mse: 0.1744\n",
      "Epoch 38/50\n",
      "304/304 [==============================] - 105s 344ms/step - loss: 0.4941 - acc: 0.7578 - mse: 0.1633 - val_loss: 0.5349 - val_acc: 0.7234 - val_mse: 0.1807\n",
      "Epoch 39/50\n",
      "304/304 [==============================] - 119s 390ms/step - loss: 0.4986 - acc: 0.7571 - mse: 0.1639 - val_loss: 0.5198 - val_acc: 0.7328 - val_mse: 0.1738\n",
      "Epoch 40/50\n",
      "304/304 [==============================] - 123s 404ms/step - loss: 0.4988 - acc: 0.7564 - mse: 0.1644 - val_loss: 0.5576 - val_acc: 0.7328 - val_mse: 0.1836\n",
      "Epoch 41/50\n",
      "304/304 [==============================] - 122s 399ms/step - loss: 0.4923 - acc: 0.7597 - mse: 0.1625 - val_loss: 0.5215 - val_acc: 0.7437 - val_mse: 0.1723\n",
      "Epoch 42/50\n",
      "304/304 [==============================] - 114s 375ms/step - loss: 0.4893 - acc: 0.7639 - mse: 0.1605 - val_loss: 0.5372 - val_acc: 0.7312 - val_mse: 0.1790\n",
      "Epoch 43/50\n",
      "304/304 [==============================] - 116s 380ms/step - loss: 0.4915 - acc: 0.7623 - mse: 0.1623 - val_loss: 0.5420 - val_acc: 0.7188 - val_mse: 0.1794\n",
      "Epoch 44/50\n",
      "304/304 [==============================] - 114s 375ms/step - loss: 0.4869 - acc: 0.7644 - mse: 0.1602 - val_loss: 0.5146 - val_acc: 0.7359 - val_mse: 0.1713\n",
      "Epoch 45/50\n",
      "304/304 [==============================] - 117s 386ms/step - loss: 0.4852 - acc: 0.7628 - mse: 0.1591 - val_loss: 0.5310 - val_acc: 0.7328 - val_mse: 0.1755\n",
      "Epoch 46/50\n",
      "304/304 [==============================] - 120s 395ms/step - loss: 0.4819 - acc: 0.7698 - mse: 0.1581 - val_loss: 0.5350 - val_acc: 0.7203 - val_mse: 0.1784\n",
      "Epoch 47/50\n",
      "304/304 [==============================] - 122s 401ms/step - loss: 0.4821 - acc: 0.7693 - mse: 0.1572 - val_loss: 0.5226 - val_acc: 0.7391 - val_mse: 0.1730\n",
      "Epoch 48/50\n",
      "304/304 [==============================] - 121s 399ms/step - loss: 0.4867 - acc: 0.7646 - mse: 0.1601 - val_loss: 0.5427 - val_acc: 0.7172 - val_mse: 0.1841\n",
      "Epoch 49/50\n"
     ]
    },
    {
     "name": "stdout",
     "output_type": "stream",
     "text": [
      "304/304 [==============================] - 111s 365ms/step - loss: 0.4821 - acc: 0.7675 - mse: 0.1569 - val_loss: 0.5498 - val_acc: 0.7422 - val_mse: 0.1793\n",
      "Epoch 50/50\n",
      "304/304 [==============================] - 103s 337ms/step - loss: 0.4740 - acc: 0.7716 - mse: 0.1556 - val_loss: 0.5247 - val_acc: 0.7469 - val_mse: 0.1732\n",
      "Wall time: 1h 33min 8s\n"
     ]
    }
   ],
   "source": [
    "%%time\n",
    "modelo_v1_history = modelo_v1.fit_generator(train_generator, \n",
    "                                            steps_per_epoch = sample_size_treino // batch_size,    \n",
    "                                            epochs = epochs, \n",
    "                                            validation_data = test_generator, \n",
    "                                            validation_steps = sample_size_teste // batch_size )"
   ]
  },
  {
   "cell_type": "markdown",
   "id": "2e83697c",
   "metadata": {},
   "source": [
    "## 8. Avaliação do modelo"
   ]
  },
  {
   "cell_type": "code",
   "execution_count": 78,
   "id": "d69b59fa",
   "metadata": {},
   "outputs": [
    {
     "data": {
      "image/png": "[encoded data removed]",
      "text/plain": [
       "<Figure size 640x480 with 1 Axes>"
      ]
     },
     "metadata": {},
     "output_type": "display_data"
    }
   ],
   "source": [
    "# Plot da Acurácia \n",
    "plt.figure(0)\n",
    "plt.plot(modelo_v1_history.history['acc'],'r')\n",
    "plt.plot(modelo_v1_history.history['val_acc'],'g')\n",
    "plt.xticks(np.arange(0, 5, 1))\n",
    "plt.rcParams['figure.figsize'] = (10, 8)\n",
    "plt.xlabel(\"Número de Epochs\")\n",
    "plt.ylabel(\"Acurácia\")\n",
    "plt.title(\"Acurácia em Treino e Validação\")\n",
    "plt.legend(['Treino', 'Validação'])\n",
    "plt.show()"
   ]
  },
  {
   "cell_type": "markdown",
   "id": "048c2775",
   "metadata": {},
   "source": [
    "A linha de acurácia em treino está com tendência de alta, o que é esperado do modelo. Porém, a linha do dataset de validação está instável, o que pode indicar que o número de passadas em cada rodada do treino precisa aumentar."
   ]
  },
  {
   "cell_type": "code",
   "execution_count": 79,
   "id": "9e20ec0b",
   "metadata": {},
   "outputs": [
    {
     "data": {
      "image/png": "[encoded data removed]",
      "text/plain": [
       "<Figure size 1000x800 with 1 Axes>"
      ]
     },
     "metadata": {},
     "output_type": "display_data"
    }
   ],
   "source": [
    "# Plot do Erro\n",
    "plt.figure(1)\n",
    "plt.plot(modelo_v1_history.history['loss'],'r')\n",
    "plt.plot(modelo_v1_history.history['val_loss'],'g')\n",
    "plt.xticks(np.arange(0, 5, 1))\n",
    "plt.rcParams['figure.figsize'] = (8, 6)\n",
    "plt.xlabel(\"Número de Epochs\")\n",
    "plt.ylabel(\"Erro\")\n",
    "plt.title(\"Erro em Treino e Validação\")\n",
    "plt.legend(['Treino', 'Validação'])\n",
    "plt.show()"
   ]
  },
  {
   "cell_type": "markdown",
   "id": "9208c2e4",
   "metadata": {},
   "source": [
    "A linha de acurácia em treino está com tendência de baixa, o que é esperado do modelo. Porém, a linha do dataset de validação está instável, o que pode indicar que o número de passadas em cada rodada do treino precisa aumentar."
   ]
  },
  {
   "cell_type": "code",
   "execution_count": 80,
   "id": "4b72cb5b",
   "metadata": {},
   "outputs": [],
   "source": [
    "# Salvando o modelo em disco\n",
    "from keras.models import load_model\n",
    "\n",
    "# Salva o modelo\n",
    "modelo_v1.save('modelos/modelo_v1.h5')  \n",
    "\n",
    "# Carrega o modelo\n",
    "modelo_v1 = load_model('modelos/modelo_v1.h5')"
   ]
  },
  {
   "cell_type": "code",
   "execution_count": 81,
   "id": "92564c87",
   "metadata": {},
   "outputs": [],
   "source": [
    "# Avaliação e Teste do modelo\n",
    "aval_v1 = modelo_v1.evaluate_generator(test_generator, \n",
    "                                       steps = (sample_size_teste // batch_size) + 1, \n",
    "                                       workers = 0,\n",
    "                                       use_multiprocessing = False)"
   ]
  },
  {
   "cell_type": "code",
   "execution_count": 82,
   "id": "85298685",
   "metadata": {},
   "outputs": [
    {
     "data": {
      "text/plain": [
       "0.7496206164360046"
      ]
     },
     "execution_count": 82,
     "metadata": {},
     "output_type": "execute_result"
    }
   ],
   "source": [
    "# Acurácia do modelo em dados de teste\n",
    "aval_v1[1]"
   ]
  },
  {
   "cell_type": "markdown",
   "id": "fef77073",
   "metadata": {},
   "source": [
    "A performance de 75% é ótima, levando em consideração que tivemos poucas épocas de treino e poucas passadas. \n",
    "Existe espaço para melhor ainda mais o modelo."
   ]
  }
 ],
 "metadata": {
  "kernelspec": {
   "display_name": "Python 3 (ipykernel)",
   "language": "python",
   "name": "python3"
  },
  "language_info": {
   "codemirror_mode": {
    "name": "ipython",
    "version": 3
   },
   "file_extension": ".py",
   "mimetype": "text/x-python",
   "name": "python",
   "nbconvert_exporter": "python",
   "pygments_lexer": "ipython3",
   "version": "3.9.13"
  }
 },
 "nbformat": 4,
 "nbformat_minor": 5
}
