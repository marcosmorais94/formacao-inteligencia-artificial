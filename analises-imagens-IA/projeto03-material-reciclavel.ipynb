{
 "cells": [
  {
   "cell_type": "markdown",
   "id": "581557c6",
   "metadata": {},
   "source": [
    "# PROJETO 3 - IDENTIFICAÇÃO E CLASSIFICAÇÃO DE MATERIAL RECICLÁVEL"
   ]
  },
  {
   "cell_type": "code",
   "execution_count": null,
   "id": "3f2d59af",
   "metadata": {},
   "outputs": [],
   "source": []
  },
  {
   "cell_type": "markdown",
   "id": "9dd5a3cb",
   "metadata": {},
   "source": [
    "## 1. Instalação dos pacotes"
   ]
  },
  {
   "cell_type": "code",
   "execution_count": 1,
   "id": "1ebdefca",
   "metadata": {},
   "outputs": [
    {
     "name": "stdout",
     "output_type": "stream",
     "text": [
      "A versão da linguagem Python utilizada neste Jupyter Notebook é:  3.9.13\n"
     ]
    }
   ],
   "source": [
    "# Versão da linguagem Python\n",
    "from platform import python_version\n",
    "print('A versão da linguagem Python utilizada neste Jupyter Notebook é: ', python_version())"
   ]
  },
  {
   "cell_type": "code",
   "execution_count": 2,
   "id": "19666b99",
   "metadata": {},
   "outputs": [],
   "source": [
    "# Instala o Pytorch\n",
    "!pip install -q torch==1.13.0"
   ]
  },
  {
   "cell_type": "code",
   "execution_count": 3,
   "id": "12a9e7bc",
   "metadata": {},
   "outputs": [],
   "source": [
    "# Instala o Torchvision\n",
    "!pip install -q torchvision==0.14.0"
   ]
  },
  {
   "cell_type": "code",
   "execution_count": 4,
   "id": "5101b01c",
   "metadata": {},
   "outputs": [],
   "source": [
    "# Carga dos pacotes\n",
    "\n",
    "# Pacotes para manipulação no SO\n",
    "import os\n",
    "import io\n",
    "\n",
    "# Pacotes para trabalhar com tempo\n",
    "import time\n",
    "\n",
    "# Manipulação e visualização dos dados\n",
    "import numpy as np\n",
    "import pandas as pd\n",
    "import matplotlib.pyplot as plt\n",
    "import seaborn as sns\n",
    "\n",
    "# Pytorch\n",
    "import torch\n",
    "from torch.utils.data import random_split\n",
    "from torch.utils.data.dataloader import DataLoader\n",
    "import torch.nn as nn\n",
    "import torch.nn.functional as F\n",
    "\n",
    "# Torchvision\n",
    "import torchvision\n",
    "from torchvision.utils import make_grid\n",
    "import torchvision.models as models\n",
    "from torchvision.datasets import ImageFolder\n",
    "import torchvision.transforms as T\n",
    "from torchvision.models import resnet18, ResNet18_Weights, resnet152, ResNet152_Weights\n",
    "\n",
    "# Salva modelo em disco\n",
    "import pickle\n",
    "\n",
    "# Importa direto de uma URL\n",
    "import urllib.request\n",
    "\n",
    "# Manipulação de dados random\n",
    "import random\n",
    "import gdown\n",
    "\n",
    "# Carrega e visualiza a imagem\n",
    "from PIL import Image\n",
    "from pathlib import Path\n",
    "\n",
    "%matplotlib inline"
   ]
  },
  {
   "cell_type": "code",
   "execution_count": 5,
   "id": "b4a488c8",
   "metadata": {},
   "outputs": [
    {
     "name": "stdout",
     "output_type": "stream",
     "text": [
      "Author: Projeto 3 - Análise de Imagens Reciclagem\n",
      "\n",
      "numpy      : 1.21.5\n",
      "seaborn    : 0.11.2\n",
      "torchvision: 0.14.0\n",
      "torch      : 1.13.0\n",
      "PIL        : 9.2.0\n",
      "gdown      : 4.7.1\n",
      "pandas     : 1.4.4\n",
      "matplotlib : 3.5.2\n",
      "\n"
     ]
    }
   ],
   "source": [
    "# Versões dos pacotes usados neste jupyter notebook\n",
    "%reload_ext watermark\n",
    "%watermark -a \"Projeto 3 - Análise de Imagens Reciclagem\" --iversions"
   ]
  },
  {
   "cell_type": "markdown",
   "id": "8a8f525c",
   "metadata": {},
   "source": [
    "## 2. Carga do conjunto de dados"
   ]
  },
  {
   "cell_type": "code",
   "execution_count": 6,
   "id": "2c0c9cff",
   "metadata": {},
   "outputs": [],
   "source": [
    "# Pasta com as imagens\n",
    "data_dir = Path('dados')"
   ]
  },
  {
   "cell_type": "code",
   "execution_count": 7,
   "id": "461f0736",
   "metadata": {},
   "outputs": [],
   "source": [
    "# Transformação das imagens em padrão 256 x 256 e no tipo tensor\n",
    "transformador = T.Compose([T.Resize((256, 256)), T.ToTensor()])"
   ]
  },
  {
   "cell_type": "code",
   "execution_count": 8,
   "id": "df8ad972",
   "metadata": {},
   "outputs": [],
   "source": [
    "# Carrega as imagens e aplica as transformações\n",
    "dataset = ImageFolder(data_dir, transform = transformador)"
   ]
  },
  {
   "cell_type": "code",
   "execution_count": 9,
   "id": "e21abe07",
   "metadata": {},
   "outputs": [
    {
     "data": {
      "text/plain": [
       "torchvision.datasets.folder.ImageFolder"
      ]
     },
     "execution_count": 9,
     "metadata": {},
     "output_type": "execute_result"
    }
   ],
   "source": [
    "# verificar o tipo\n",
    "type(dataset)"
   ]
  },
  {
   "cell_type": "code",
   "execution_count": 10,
   "id": "c17ef33a",
   "metadata": {},
   "outputs": [
    {
     "name": "stdout",
     "output_type": "stream",
     "text": [
      "['dados']\n"
     ]
    }
   ],
   "source": [
    "# Verifica a classe das imagens\n",
    "print(dataset.classes)"
   ]
  },
  {
   "cell_type": "markdown",
   "id": "30d1805e",
   "metadata": {},
   "source": [
    "## 3. Preparação das Imagens"
   ]
  },
  {
   "cell_type": "code",
   "execution_count": 15,
   "id": "54591f9b",
   "metadata": {},
   "outputs": [],
   "source": [
    "# Função de split (divisão 90/5/5)\n",
    "def split(length) -> tuple:\n",
    "    r = .05\n",
    "    test_val = int(round(length*r,0))\n",
    "    train = int(round(length-test_val*2,0))\n",
    "    return (train,test_val,test_val)"
   ]
  },
  {
   "cell_type": "code",
   "execution_count": 16,
   "id": "bbb5b995",
   "metadata": {},
   "outputs": [],
   "source": [
    "# Split randômico das imagens\n",
    "dados_treino, dados_teste, dados_valid = random_split(dataset, split(len(dataset)), \n",
    "                                                      generator = torch.Generator().manual_seed(42))"
   ]
  },
  {
   "cell_type": "code",
   "execution_count": 19,
   "id": "f95e832e",
   "metadata": {},
   "outputs": [
    {
     "name": "stdout",
     "output_type": "stream",
     "text": [
      "Splits: (2275, 126, 126)\n"
     ]
    }
   ],
   "source": [
    "# Verifica o número de itens\n",
    "print(f'Splits: {(len(dados_treino), len(dados_teste), len(dados_valid))}')"
   ]
  },
  {
   "cell_type": "code",
   "execution_count": 20,
   "id": "241bb8ba",
   "metadata": {},
   "outputs": [],
   "source": [
    "# Tamanho do batch de imagens\n",
    "batch_size = 16"
   ]
  },
  {
   "cell_type": "code",
   "execution_count": null,
   "id": "6fe33f25",
   "metadata": {},
   "outputs": [],
   "source": []
  },
  {
   "cell_type": "code",
   "execution_count": null,
   "id": "1f337548",
   "metadata": {},
   "outputs": [],
   "source": []
  },
  {
   "cell_type": "code",
   "execution_count": null,
   "id": "f0dd8089",
   "metadata": {},
   "outputs": [],
   "source": []
  },
  {
   "cell_type": "code",
   "execution_count": null,
   "id": "c175f41e",
   "metadata": {},
   "outputs": [],
   "source": []
  },
  {
   "cell_type": "code",
   "execution_count": null,
   "id": "f385f930",
   "metadata": {},
   "outputs": [],
   "source": []
  },
  {
   "cell_type": "code",
   "execution_count": null,
   "id": "c4816003",
   "metadata": {},
   "outputs": [],
   "source": []
  },
  {
   "cell_type": "code",
   "execution_count": null,
   "id": "f027c8f1",
   "metadata": {},
   "outputs": [],
   "source": []
  },
  {
   "cell_type": "code",
   "execution_count": null,
   "id": "fc830a25",
   "metadata": {},
   "outputs": [],
   "source": []
  },
  {
   "cell_type": "code",
   "execution_count": null,
   "id": "88ece031",
   "metadata": {},
   "outputs": [],
   "source": []
  },
  {
   "cell_type": "code",
   "execution_count": null,
   "id": "f68cda59",
   "metadata": {},
   "outputs": [],
   "source": []
  },
  {
   "cell_type": "code",
   "execution_count": null,
   "id": "cdb9832c",
   "metadata": {},
   "outputs": [],
   "source": []
  },
  {
   "cell_type": "code",
   "execution_count": null,
   "id": "3998b0e2",
   "metadata": {},
   "outputs": [],
   "source": []
  },
  {
   "cell_type": "code",
   "execution_count": null,
   "id": "59e2d689",
   "metadata": {},
   "outputs": [],
   "source": []
  },
  {
   "cell_type": "code",
   "execution_count": null,
   "id": "cd7fc65d",
   "metadata": {},
   "outputs": [],
   "source": []
  },
  {
   "cell_type": "code",
   "execution_count": null,
   "id": "86aef1f3",
   "metadata": {},
   "outputs": [],
   "source": []
  },
  {
   "cell_type": "code",
   "execution_count": null,
   "id": "c45b2aeb",
   "metadata": {},
   "outputs": [],
   "source": []
  },
  {
   "cell_type": "code",
   "execution_count": null,
   "id": "a7e560c3",
   "metadata": {},
   "outputs": [],
   "source": []
  },
  {
   "cell_type": "code",
   "execution_count": null,
   "id": "f1da2428",
   "metadata": {},
   "outputs": [],
   "source": []
  },
  {
   "cell_type": "code",
   "execution_count": null,
   "id": "9306ccb8",
   "metadata": {},
   "outputs": [],
   "source": []
  },
  {
   "cell_type": "code",
   "execution_count": null,
   "id": "de9f18fa",
   "metadata": {},
   "outputs": [],
   "source": []
  },
  {
   "cell_type": "code",
   "execution_count": null,
   "id": "90a9ad4b",
   "metadata": {},
   "outputs": [],
   "source": []
  },
  {
   "cell_type": "code",
   "execution_count": null,
   "id": "934b73d1",
   "metadata": {},
   "outputs": [],
   "source": []
  },
  {
   "cell_type": "code",
   "execution_count": null,
   "id": "3772b1bb",
   "metadata": {},
   "outputs": [],
   "source": []
  },
  {
   "cell_type": "code",
   "execution_count": null,
   "id": "373dc638",
   "metadata": {},
   "outputs": [],
   "source": []
  },
  {
   "cell_type": "code",
   "execution_count": null,
   "id": "944af184",
   "metadata": {},
   "outputs": [],
   "source": []
  },
  {
   "cell_type": "code",
   "execution_count": null,
   "id": "b81d838e",
   "metadata": {},
   "outputs": [],
   "source": []
  },
  {
   "cell_type": "code",
   "execution_count": null,
   "id": "dc53d115",
   "metadata": {},
   "outputs": [],
   "source": []
  },
  {
   "cell_type": "code",
   "execution_count": null,
   "id": "14b24f19",
   "metadata": {},
   "outputs": [],
   "source": []
  },
  {
   "cell_type": "code",
   "execution_count": null,
   "id": "002c102a",
   "metadata": {},
   "outputs": [],
   "source": []
  },
  {
   "cell_type": "code",
   "execution_count": null,
   "id": "81a7fdce",
   "metadata": {},
   "outputs": [],
   "source": []
  },
  {
   "cell_type": "code",
   "execution_count": null,
   "id": "e125baac",
   "metadata": {},
   "outputs": [],
   "source": []
  },
  {
   "cell_type": "code",
   "execution_count": null,
   "id": "785b8291",
   "metadata": {},
   "outputs": [],
   "source": []
  },
  {
   "cell_type": "code",
   "execution_count": null,
   "id": "2327de7b",
   "metadata": {},
   "outputs": [],
   "source": []
  },
  {
   "cell_type": "code",
   "execution_count": null,
   "id": "1be05081",
   "metadata": {},
   "outputs": [],
   "source": []
  }
 ],
 "metadata": {
  "kernelspec": {
   "display_name": "Python 3 (ipykernel)",
   "language": "python",
   "name": "python3"
  },
  "language_info": {
   "codemirror_mode": {
    "name": "ipython",
    "version": 3
   },
   "file_extension": ".py",
   "mimetype": "text/x-python",
   "name": "python",
   "nbconvert_exporter": "python",
   "pygments_lexer": "ipython3",
   "version": "3.9.13"
  }
 },
 "nbformat": 4,
 "nbformat_minor": 5
}
