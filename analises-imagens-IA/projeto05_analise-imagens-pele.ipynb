{
 "cells": [
  {
   "cell_type": "markdown",
   "id": "3bf74d55",
   "metadata": {},
   "source": [
    "# PROJETO 5 - ANÁLISE DE LESÕES NA PELE COM INTELIGÊNCIA ARTIFICIAL"
   ]
  },
  {
   "cell_type": "markdown",
   "id": "2d839076",
   "metadata": {},
   "source": [
    "Neste projeto será feito uma classificação multiclasses de diferentes tipos de lesões na pele humana. Para isso, será usando modelos de deep learning com arquitetura CNN e Densenet. \n",
    "\n",
    "Dicionário dos dados: https://dataverse.harvard.edu/dataset.xhtml?persistentId=doi:10.7910/DVN/DBW86T\n",
    "\n",
    "Fonte dos dados: https://www.kaggle.com/datasets/kmader/skin-cancer-mnist-ham10000"
   ]
  },
  {
   "cell_type": "markdown",
   "id": "49ee5e9a",
   "metadata": {},
   "source": [
    "## 1. Instalando e carregando pacotes"
   ]
  },
  {
   "cell_type": "code",
   "execution_count": 1,
   "id": "51a7276f",
   "metadata": {},
   "outputs": [
    {
     "name": "stdout",
     "output_type": "stream",
     "text": [
      "A versão da linguagem Python utilizada neste Jupyter Notebook é:  3.9.13\n"
     ]
    }
   ],
   "source": [
    "# Versão da linguagem Python\n",
    "from platform import python_version\n",
    "print('A versão da linguagem Python utilizada neste Jupyter Notebook é: ', python_version())"
   ]
  },
  {
   "cell_type": "code",
   "execution_count": 2,
   "id": "469e114b",
   "metadata": {},
   "outputs": [],
   "source": [
    "# Instala Pytorch\n",
    "!pip install -q torch==1.13.0"
   ]
  },
  {
   "cell_type": "code",
   "execution_count": 3,
   "id": "fb635159",
   "metadata": {},
   "outputs": [],
   "source": [
    "# Instala Torchvision\n",
    "!pip install -q torchvision==0.14.0"
   ]
  },
  {
   "cell_type": "code",
   "execution_count": 4,
   "id": "d2fab032",
   "metadata": {},
   "outputs": [],
   "source": [
    "# Instala Lightning\n",
    "!pip install -q pytorch-lightning==1.8.3"
   ]
  },
  {
   "cell_type": "code",
   "execution_count": 6,
   "id": "11575211",
   "metadata": {},
   "outputs": [],
   "source": [
    "# Importa os pacotes/funções\n",
    "\n",
    "# Manipulação das imagens\n",
    "import os # Manipula o Sistema Operacional\n",
    "import cv2 # Converte imagens em dados\n",
    "import itertools # Iteração dos dados\n",
    "from tqdm import tqdm # Barra de progressão\n",
    "from glob import glob # Manipulação de imagens\n",
    "from PIL import Image # Manipulação de imagens\n",
    "\n",
    "# Manipulação e visualização dos dados\n",
    "import numpy as np\n",
    "import pandas as pd\n",
    "import matplotlib.pyplot as plt\n",
    "import warnings\n",
    "warnings.filterwarnings('ignore')\n",
    "\n",
    "# Pytorch\n",
    "import torch\n",
    "from torch import nn, optim\n",
    "from torch.autograd import Variable\n",
    "from torch.utils.data import DataLoader, Dataset\n",
    "from torchvision import models, transforms\n",
    "\n",
    "# Scikit-learn\n",
    "from sklearn.model_selection import train_test_split\n",
    "from sklearn.metrics import confusion_matrix, classification_report\n",
    "\n",
    "# Pacotes para o relatório de hardware\n",
    "import gc\n",
    "import types\n",
    "import pkg_resources\n",
    "import pytorch_lightning as pl\n",
    "\n",
    "# Seend para reprodução dos resultados DSA\n",
    "np.random.seed(10)\n",
    "torch.manual_seed(10)\n",
    "torch.cuda.manual_seed(10)"
   ]
  },
  {
   "cell_type": "code",
   "execution_count": 7,
   "id": "be830fdf",
   "metadata": {},
   "outputs": [
    {
     "name": "stdout",
     "output_type": "stream",
     "text": [
      "Author: Projeto 5 - IA para Análise de Imagens na Pele\n",
      "\n",
      "torch            : 1.13.0\n",
      "cv2              : 4.7.0\n",
      "matplotlib       : 3.5.2\n",
      "numpy            : 1.21.5\n",
      "torchvision      : 0.14.0\n",
      "pytorch_lightning: 1.8.3\n",
      "PIL              : 9.2.0\n",
      "pandas           : 1.4.4\n",
      "\n"
     ]
    }
   ],
   "source": [
    "# Versões dos pacotes usados neste jupyter notebook\n",
    "%reload_ext watermark\n",
    "%watermark -a \"Projeto 5 - IA para Análise de Imagens na Pele\" --iversions"
   ]
  },
  {
   "cell_type": "markdown",
   "id": "1ab307ca",
   "metadata": {},
   "source": [
    "## 2. Verificando o Hardware"
   ]
  },
  {
   "cell_type": "code",
   "execution_count": 8,
   "id": "e57941d8",
   "metadata": {},
   "outputs": [
    {
     "name": "stdout",
     "output_type": "stream",
     "text": [
      "--------------------------------------Visão Geral do Ambiente---------------------------------------\n",
      "\n",
      "Device: cpu\n",
      "Pasta de Dados:  dados\n",
      "Versões dos Pacotes Requeridos:  [('Pillow', '9.2.0'), ('tqdm', '4.64.1'), ('matplotlib', '3.5.2'), ('numpy', '1.21.5'), ('torch', '1.13.0'), ('pandas', '1.4.4'), ('torchvision', '0.14.0')]\n",
      "Dispositivo Que Será Usado Para Treinar o Modelo:  cpu\n",
      "CUDA Está Disponível?  False\n",
      "Versão do PyTorch:  1.13.0+cpu\n",
      "Versão do Lightning:  1.8.3\n",
      "\n",
      "------------------Se NVIDIA-SMI não for encontrado, então CUDA não está disponível------------------\n",
      "\n",
      "\n",
      "Limpando a Memória da GPU (se disponível):  None\n",
      "\n",
      "Modelo da GPU:\n"
     ]
    },
    {
     "name": "stderr",
     "output_type": "stream",
     "text": [
      "'nvidia-smi' nÆo ‚ reconhecido como um comando interno\n",
      "ou externo, um programa oper vel ou um arquivo em lotes.\n"
     ]
    },
    {
     "name": "stdout",
     "output_type": "stream",
     "text": [
      "\n",
      "------------------------------------------Fim da Checagem-------------------------------------------\n"
     ]
    },
    {
     "name": "stderr",
     "output_type": "stream",
     "text": [
      "'nvidia-smi' nÆo ‚ reconhecido como um comando interno\n",
      "ou externo, um programa oper vel ou um arquivo em lotes.\n"
     ]
    }
   ],
   "source": [
    "# Relatório completo\n",
    "\n",
    "# Verificando o dispositivo\n",
    "processing_device = \"cuda\" if torch.cuda.is_available() else \"cpu\"\n",
    "\n",
    "# Verificando se GPU pode ser usada (isso depende da plataforma CUDA estar instalada)\n",
    "torch_aval = torch.cuda.is_available()\n",
    "\n",
    "# Labels para o relatório de verificação\n",
    "lable_1 = 'Visão Geral do Ambiente'\n",
    "lable_2 = 'Se NVIDIA-SMI não for encontrado, então CUDA não está disponível'\n",
    "lable_3 = 'Fim da Checagem'\n",
    "\n",
    "# Função para verificar o que está importado nesta sessão\n",
    "def get_imports():\n",
    "\n",
    "    for name, val in globals().items():\n",
    "        if isinstance(val, types.ModuleType):\n",
    "            name = val.__name__.split(\".\")[0]\n",
    "\n",
    "        elif isinstance(val, type):            \n",
    "            name = val.__module__.split(\".\")[0]\n",
    "\n",
    "        poorly_named_packages = {\"PIL\": \"Pillow\", \"sklearn\": \"scikit-learn\"}\n",
    "\n",
    "        if name in poorly_named_packages.keys():\n",
    "            name = poorly_named_packages[name]\n",
    "\n",
    "        yield name\n",
    "\n",
    "# Imports nesta sessão\n",
    "imports = list(set(get_imports()))\n",
    "\n",
    "# Loop para verificar os requerimentos\n",
    "requirements = []\n",
    "for m in pkg_resources.working_set:\n",
    "    if m.project_name in imports and m.project_name!=\"pip\":\n",
    "        requirements.append((m.project_name, m.version))\n",
    "        \n",
    "# Pasta com os dados (quando necessário)\n",
    "pasta_dados = r'dados'\n",
    "\n",
    "print(f'{lable_1:-^100}')\n",
    "print()\n",
    "print(f\"Device:\", processing_device)\n",
    "print(f\"Pasta de Dados: \", pasta_dados)\n",
    "print(f\"Versões dos Pacotes Requeridos: \", requirements)\n",
    "print(f\"Dispositivo Que Será Usado Para Treinar o Modelo: \", processing_device)\n",
    "print(f\"CUDA Está Disponível? \", torch_aval)\n",
    "print(\"Versão do PyTorch: \", torch.__version__)\n",
    "print(\"Versão do Lightning: \", pl.__version__)\n",
    "print()\n",
    "print(f'{lable_2:-^100}\\n')\n",
    "!nvidia-smi\n",
    "gc.collect()\n",
    "print()\n",
    "print(f\"Limpando a Memória da GPU (se disponível): \", torch.cuda.empty_cache())\n",
    "print(\"\\nModelo da GPU:\")\n",
    "# Modelo da GPU usada\n",
    "!nvidia-smi --query-gpu=name --format=csv,noheader\n",
    "print(f'\\n{lable_3:-^100}')"
   ]
  },
  {
   "cell_type": "markdown",
   "id": "f470f578",
   "metadata": {},
   "source": [
    "## 3. Interpretação dos metadados"
   ]
  },
  {
   "cell_type": "code",
   "execution_count": 12,
   "id": "cf4c5c3e",
   "metadata": {},
   "outputs": [
    {
     "data": {
      "text/html": [
       "<div>\n",
       "<style scoped>\n",
       "    .dataframe tbody tr th:only-of-type {\n",
       "        vertical-align: middle;\n",
       "    }\n",
       "\n",
       "    .dataframe tbody tr th {\n",
       "        vertical-align: top;\n",
       "    }\n",
       "\n",
       "    .dataframe thead th {\n",
       "        text-align: right;\n",
       "    }\n",
       "</style>\n",
       "<table border=\"1\" class=\"dataframe\">\n",
       "  <thead>\n",
       "    <tr style=\"text-align: right;\">\n",
       "      <th></th>\n",
       "      <th>lesion_id</th>\n",
       "      <th>image_id</th>\n",
       "      <th>dx</th>\n",
       "      <th>dx_type</th>\n",
       "      <th>age</th>\n",
       "      <th>sex</th>\n",
       "      <th>localization</th>\n",
       "    </tr>\n",
       "  </thead>\n",
       "  <tbody>\n",
       "    <tr>\n",
       "      <th>0</th>\n",
       "      <td>HAM_0000118</td>\n",
       "      <td>ISIC_0027419</td>\n",
       "      <td>bkl</td>\n",
       "      <td>histo</td>\n",
       "      <td>80.0</td>\n",
       "      <td>male</td>\n",
       "      <td>scalp</td>\n",
       "    </tr>\n",
       "    <tr>\n",
       "      <th>1</th>\n",
       "      <td>HAM_0000118</td>\n",
       "      <td>ISIC_0025030</td>\n",
       "      <td>bkl</td>\n",
       "      <td>histo</td>\n",
       "      <td>80.0</td>\n",
       "      <td>male</td>\n",
       "      <td>scalp</td>\n",
       "    </tr>\n",
       "    <tr>\n",
       "      <th>2</th>\n",
       "      <td>HAM_0002730</td>\n",
       "      <td>ISIC_0026769</td>\n",
       "      <td>bkl</td>\n",
       "      <td>histo</td>\n",
       "      <td>80.0</td>\n",
       "      <td>male</td>\n",
       "      <td>scalp</td>\n",
       "    </tr>\n",
       "    <tr>\n",
       "      <th>3</th>\n",
       "      <td>HAM_0002730</td>\n",
       "      <td>ISIC_0025661</td>\n",
       "      <td>bkl</td>\n",
       "      <td>histo</td>\n",
       "      <td>80.0</td>\n",
       "      <td>male</td>\n",
       "      <td>scalp</td>\n",
       "    </tr>\n",
       "    <tr>\n",
       "      <th>4</th>\n",
       "      <td>HAM_0001466</td>\n",
       "      <td>ISIC_0031633</td>\n",
       "      <td>bkl</td>\n",
       "      <td>histo</td>\n",
       "      <td>75.0</td>\n",
       "      <td>male</td>\n",
       "      <td>ear</td>\n",
       "    </tr>\n",
       "  </tbody>\n",
       "</table>\n",
       "</div>"
      ],
      "text/plain": [
       "     lesion_id      image_id   dx dx_type   age   sex localization\n",
       "0  HAM_0000118  ISIC_0027419  bkl   histo  80.0  male        scalp\n",
       "1  HAM_0000118  ISIC_0025030  bkl   histo  80.0  male        scalp\n",
       "2  HAM_0002730  ISIC_0026769  bkl   histo  80.0  male        scalp\n",
       "3  HAM_0002730  ISIC_0025661  bkl   histo  80.0  male        scalp\n",
       "4  HAM_0001466  ISIC_0031633  bkl   histo  75.0  male          ear"
      ]
     },
     "execution_count": 12,
     "metadata": {},
     "output_type": "execute_result"
    }
   ],
   "source": [
    "# Leitura do arquivo de metadados\n",
    "df_inicial = pd.read_csv(os.path.join('dados', 'HAM10000_metadata.csv'))\n",
    "\n",
    "# Visualiza o registro\n",
    "df_inicial.head()"
   ]
  },
  {
   "cell_type": "code",
   "execution_count": 13,
   "id": "d56ef502",
   "metadata": {},
   "outputs": [],
   "source": [
    "# Caminho para as imagens\n",
    "caminho_imagens = glob(os.path.join('dados','*','*.jpg'))"
   ]
  },
  {
   "cell_type": "code",
   "execution_count": 15,
   "id": "413d4b6d",
   "metadata": {},
   "outputs": [],
   "source": [
    "# Cria um dicionário com id da imagem e caminho do arquivo no disco\n",
    "dict_imagens = {os.path.splitext(os.path.basename(x))[0]: x for x in caminho_imagens}"
   ]
  },
  {
   "cell_type": "code",
   "execution_count": 17,
   "id": "8c2a2a09",
   "metadata": {},
   "outputs": [
    {
     "data": {
      "text/plain": [
       "{'ISIC_0024306': 'dados\\\\HAM10000_images_part_1\\\\ISIC_0024306.jpg',\n",
       " 'ISIC_0024307': 'dados\\\\HAM10000_images_part_1\\\\ISIC_0024307.jpg',\n",
       " 'ISIC_0024308': 'dados\\\\HAM10000_images_part_1\\\\ISIC_0024308.jpg',\n",
       " 'ISIC_0024309': 'dados\\\\HAM10000_images_part_1\\\\ISIC_0024309.jpg',\n",
       " 'ISIC_0024310': 'dados\\\\HAM10000_images_part_1\\\\ISIC_0024310.jpg'}"
      ]
     },
     "execution_count": 17,
     "metadata": {},
     "output_type": "execute_result"
    }
   ],
   "source": [
    "# Imprimindo 5 registros do dicionário\n",
    "dict(itertools.islice(dict_imagens.items(), 5))"
   ]
  },
  {
   "cell_type": "code",
   "execution_count": 18,
   "id": "eb1da766",
   "metadata": {},
   "outputs": [],
   "source": [
    "# Adiciona o path ao df_inicial\n",
    "df_inicial['path'] = df_inicial['image_id'].map(dict_imagens.get)"
   ]
  },
  {
   "cell_type": "code",
   "execution_count": 19,
   "id": "95f60a94",
   "metadata": {},
   "outputs": [
    {
     "data": {
      "text/html": [
       "<div>\n",
       "<style scoped>\n",
       "    .dataframe tbody tr th:only-of-type {\n",
       "        vertical-align: middle;\n",
       "    }\n",
       "\n",
       "    .dataframe tbody tr th {\n",
       "        vertical-align: top;\n",
       "    }\n",
       "\n",
       "    .dataframe thead th {\n",
       "        text-align: right;\n",
       "    }\n",
       "</style>\n",
       "<table border=\"1\" class=\"dataframe\">\n",
       "  <thead>\n",
       "    <tr style=\"text-align: right;\">\n",
       "      <th></th>\n",
       "      <th>lesion_id</th>\n",
       "      <th>image_id</th>\n",
       "      <th>dx</th>\n",
       "      <th>dx_type</th>\n",
       "      <th>age</th>\n",
       "      <th>sex</th>\n",
       "      <th>localization</th>\n",
       "      <th>path</th>\n",
       "    </tr>\n",
       "  </thead>\n",
       "  <tbody>\n",
       "    <tr>\n",
       "      <th>0</th>\n",
       "      <td>HAM_0000118</td>\n",
       "      <td>ISIC_0027419</td>\n",
       "      <td>bkl</td>\n",
       "      <td>histo</td>\n",
       "      <td>80.0</td>\n",
       "      <td>male</td>\n",
       "      <td>scalp</td>\n",
       "      <td>dados\\HAM10000_images_part_1\\ISIC_0027419.jpg</td>\n",
       "    </tr>\n",
       "    <tr>\n",
       "      <th>1</th>\n",
       "      <td>HAM_0000118</td>\n",
       "      <td>ISIC_0025030</td>\n",
       "      <td>bkl</td>\n",
       "      <td>histo</td>\n",
       "      <td>80.0</td>\n",
       "      <td>male</td>\n",
       "      <td>scalp</td>\n",
       "      <td>dados\\HAM10000_images_part_1\\ISIC_0025030.jpg</td>\n",
       "    </tr>\n",
       "    <tr>\n",
       "      <th>2</th>\n",
       "      <td>HAM_0002730</td>\n",
       "      <td>ISIC_0026769</td>\n",
       "      <td>bkl</td>\n",
       "      <td>histo</td>\n",
       "      <td>80.0</td>\n",
       "      <td>male</td>\n",
       "      <td>scalp</td>\n",
       "      <td>dados\\HAM10000_images_part_1\\ISIC_0026769.jpg</td>\n",
       "    </tr>\n",
       "    <tr>\n",
       "      <th>3</th>\n",
       "      <td>HAM_0002730</td>\n",
       "      <td>ISIC_0025661</td>\n",
       "      <td>bkl</td>\n",
       "      <td>histo</td>\n",
       "      <td>80.0</td>\n",
       "      <td>male</td>\n",
       "      <td>scalp</td>\n",
       "      <td>dados\\HAM10000_images_part_1\\ISIC_0025661.jpg</td>\n",
       "    </tr>\n",
       "    <tr>\n",
       "      <th>4</th>\n",
       "      <td>HAM_0001466</td>\n",
       "      <td>ISIC_0031633</td>\n",
       "      <td>bkl</td>\n",
       "      <td>histo</td>\n",
       "      <td>75.0</td>\n",
       "      <td>male</td>\n",
       "      <td>ear</td>\n",
       "      <td>dados\\HAM10000_images_part_2\\ISIC_0031633.jpg</td>\n",
       "    </tr>\n",
       "  </tbody>\n",
       "</table>\n",
       "</div>"
      ],
      "text/plain": [
       "     lesion_id      image_id   dx dx_type   age   sex localization  \\\n",
       "0  HAM_0000118  ISIC_0027419  bkl   histo  80.0  male        scalp   \n",
       "1  HAM_0000118  ISIC_0025030  bkl   histo  80.0  male        scalp   \n",
       "2  HAM_0002730  ISIC_0026769  bkl   histo  80.0  male        scalp   \n",
       "3  HAM_0002730  ISIC_0025661  bkl   histo  80.0  male        scalp   \n",
       "4  HAM_0001466  ISIC_0031633  bkl   histo  75.0  male          ear   \n",
       "\n",
       "                                            path  \n",
       "0  dados\\HAM10000_images_part_1\\ISIC_0027419.jpg  \n",
       "1  dados\\HAM10000_images_part_1\\ISIC_0025030.jpg  \n",
       "2  dados\\HAM10000_images_part_1\\ISIC_0026769.jpg  \n",
       "3  dados\\HAM10000_images_part_1\\ISIC_0025661.jpg  \n",
       "4  dados\\HAM10000_images_part_2\\ISIC_0031633.jpg  "
      ]
     },
     "execution_count": 19,
     "metadata": {},
     "output_type": "execute_result"
    }
   ],
   "source": [
    "# Visualiza o dataset\n",
    "df_inicial.head()"
   ]
  },
  {
   "cell_type": "code",
   "execution_count": 20,
   "id": "84c96872",
   "metadata": {},
   "outputs": [],
   "source": [
    "# Tipos de lesões que serão analisadas de acordo com o dicionário de dados\n",
    "tipo_lesao_dict = {'nv': 'Melanocytic nevi',\n",
    "                   'mel': 'dermatofibroma',\n",
    "                   'bkl': 'Benign keratosis-like',\n",
    "                   'bcc': 'Basal cell carcinoma',\n",
    "                   'akiec': 'Actinic keratoses',\n",
    "                   'vasc': 'Vascular lesions',\n",
    "                   'df': 'Dermatofibroma'}"
   ]
  },
  {
   "cell_type": "code",
   "execution_count": 21,
   "id": "ebf33a9d",
   "metadata": {},
   "outputs": [],
   "source": [
    "# Extrair o tipo de lesão\n",
    "df_inicial['tipo_lesao'] = df_inicial['dx'].map(tipo_lesao_dict.get)"
   ]
  },
  {
   "cell_type": "code",
   "execution_count": 22,
   "id": "6ce2b882",
   "metadata": {},
   "outputs": [
    {
     "data": {
      "text/html": [
       "<div>\n",
       "<style scoped>\n",
       "    .dataframe tbody tr th:only-of-type {\n",
       "        vertical-align: middle;\n",
       "    }\n",
       "\n",
       "    .dataframe tbody tr th {\n",
       "        vertical-align: top;\n",
       "    }\n",
       "\n",
       "    .dataframe thead th {\n",
       "        text-align: right;\n",
       "    }\n",
       "</style>\n",
       "<table border=\"1\" class=\"dataframe\">\n",
       "  <thead>\n",
       "    <tr style=\"text-align: right;\">\n",
       "      <th></th>\n",
       "      <th>lesion_id</th>\n",
       "      <th>image_id</th>\n",
       "      <th>dx</th>\n",
       "      <th>dx_type</th>\n",
       "      <th>age</th>\n",
       "      <th>sex</th>\n",
       "      <th>localization</th>\n",
       "      <th>path</th>\n",
       "      <th>tipo_lesao</th>\n",
       "    </tr>\n",
       "  </thead>\n",
       "  <tbody>\n",
       "    <tr>\n",
       "      <th>0</th>\n",
       "      <td>HAM_0000118</td>\n",
       "      <td>ISIC_0027419</td>\n",
       "      <td>bkl</td>\n",
       "      <td>histo</td>\n",
       "      <td>80.0</td>\n",
       "      <td>male</td>\n",
       "      <td>scalp</td>\n",
       "      <td>dados\\HAM10000_images_part_1\\ISIC_0027419.jpg</td>\n",
       "      <td>Benign keratosis-like</td>\n",
       "    </tr>\n",
       "    <tr>\n",
       "      <th>1</th>\n",
       "      <td>HAM_0000118</td>\n",
       "      <td>ISIC_0025030</td>\n",
       "      <td>bkl</td>\n",
       "      <td>histo</td>\n",
       "      <td>80.0</td>\n",
       "      <td>male</td>\n",
       "      <td>scalp</td>\n",
       "      <td>dados\\HAM10000_images_part_1\\ISIC_0025030.jpg</td>\n",
       "      <td>Benign keratosis-like</td>\n",
       "    </tr>\n",
       "    <tr>\n",
       "      <th>2</th>\n",
       "      <td>HAM_0002730</td>\n",
       "      <td>ISIC_0026769</td>\n",
       "      <td>bkl</td>\n",
       "      <td>histo</td>\n",
       "      <td>80.0</td>\n",
       "      <td>male</td>\n",
       "      <td>scalp</td>\n",
       "      <td>dados\\HAM10000_images_part_1\\ISIC_0026769.jpg</td>\n",
       "      <td>Benign keratosis-like</td>\n",
       "    </tr>\n",
       "    <tr>\n",
       "      <th>3</th>\n",
       "      <td>HAM_0002730</td>\n",
       "      <td>ISIC_0025661</td>\n",
       "      <td>bkl</td>\n",
       "      <td>histo</td>\n",
       "      <td>80.0</td>\n",
       "      <td>male</td>\n",
       "      <td>scalp</td>\n",
       "      <td>dados\\HAM10000_images_part_1\\ISIC_0025661.jpg</td>\n",
       "      <td>Benign keratosis-like</td>\n",
       "    </tr>\n",
       "    <tr>\n",
       "      <th>4</th>\n",
       "      <td>HAM_0001466</td>\n",
       "      <td>ISIC_0031633</td>\n",
       "      <td>bkl</td>\n",
       "      <td>histo</td>\n",
       "      <td>75.0</td>\n",
       "      <td>male</td>\n",
       "      <td>ear</td>\n",
       "      <td>dados\\HAM10000_images_part_2\\ISIC_0031633.jpg</td>\n",
       "      <td>Benign keratosis-like</td>\n",
       "    </tr>\n",
       "  </tbody>\n",
       "</table>\n",
       "</div>"
      ],
      "text/plain": [
       "     lesion_id      image_id   dx dx_type   age   sex localization  \\\n",
       "0  HAM_0000118  ISIC_0027419  bkl   histo  80.0  male        scalp   \n",
       "1  HAM_0000118  ISIC_0025030  bkl   histo  80.0  male        scalp   \n",
       "2  HAM_0002730  ISIC_0026769  bkl   histo  80.0  male        scalp   \n",
       "3  HAM_0002730  ISIC_0025661  bkl   histo  80.0  male        scalp   \n",
       "4  HAM_0001466  ISIC_0031633  bkl   histo  75.0  male          ear   \n",
       "\n",
       "                                            path             tipo_lesao  \n",
       "0  dados\\HAM10000_images_part_1\\ISIC_0027419.jpg  Benign keratosis-like  \n",
       "1  dados\\HAM10000_images_part_1\\ISIC_0025030.jpg  Benign keratosis-like  \n",
       "2  dados\\HAM10000_images_part_1\\ISIC_0026769.jpg  Benign keratosis-like  \n",
       "3  dados\\HAM10000_images_part_1\\ISIC_0025661.jpg  Benign keratosis-like  \n",
       "4  dados\\HAM10000_images_part_2\\ISIC_0031633.jpg  Benign keratosis-like  "
      ]
     },
     "execution_count": 22,
     "metadata": {},
     "output_type": "execute_result"
    }
   ],
   "source": [
    "# Visualiza o dataset\n",
    "df_inicial.head()"
   ]
  },
  {
   "cell_type": "code",
   "execution_count": 23,
   "id": "ce11a6d5",
   "metadata": {},
   "outputs": [],
   "source": [
    "# Converte a variável categórica em sua representação numérica\n",
    "df_inicial['tipo_lesao_idx'] = pd.Categorical(df_inicial['tipo_lesao']).codes"
   ]
  },
  {
   "cell_type": "code",
   "execution_count": 24,
   "id": "b97c3fbd",
   "metadata": {},
   "outputs": [
    {
     "data": {
      "text/html": [
       "<div>\n",
       "<style scoped>\n",
       "    .dataframe tbody tr th:only-of-type {\n",
       "        vertical-align: middle;\n",
       "    }\n",
       "\n",
       "    .dataframe tbody tr th {\n",
       "        vertical-align: top;\n",
       "    }\n",
       "\n",
       "    .dataframe thead th {\n",
       "        text-align: right;\n",
       "    }\n",
       "</style>\n",
       "<table border=\"1\" class=\"dataframe\">\n",
       "  <thead>\n",
       "    <tr style=\"text-align: right;\">\n",
       "      <th></th>\n",
       "      <th>lesion_id</th>\n",
       "      <th>image_id</th>\n",
       "      <th>dx</th>\n",
       "      <th>dx_type</th>\n",
       "      <th>age</th>\n",
       "      <th>sex</th>\n",
       "      <th>localization</th>\n",
       "      <th>path</th>\n",
       "      <th>tipo_lesao</th>\n",
       "      <th>tipo_lesao_idx</th>\n",
       "    </tr>\n",
       "  </thead>\n",
       "  <tbody>\n",
       "    <tr>\n",
       "      <th>0</th>\n",
       "      <td>HAM_0000118</td>\n",
       "      <td>ISIC_0027419</td>\n",
       "      <td>bkl</td>\n",
       "      <td>histo</td>\n",
       "      <td>80.0</td>\n",
       "      <td>male</td>\n",
       "      <td>scalp</td>\n",
       "      <td>dados\\HAM10000_images_part_1\\ISIC_0027419.jpg</td>\n",
       "      <td>Benign keratosis-like</td>\n",
       "      <td>2</td>\n",
       "    </tr>\n",
       "    <tr>\n",
       "      <th>1</th>\n",
       "      <td>HAM_0000118</td>\n",
       "      <td>ISIC_0025030</td>\n",
       "      <td>bkl</td>\n",
       "      <td>histo</td>\n",
       "      <td>80.0</td>\n",
       "      <td>male</td>\n",
       "      <td>scalp</td>\n",
       "      <td>dados\\HAM10000_images_part_1\\ISIC_0025030.jpg</td>\n",
       "      <td>Benign keratosis-like</td>\n",
       "      <td>2</td>\n",
       "    </tr>\n",
       "    <tr>\n",
       "      <th>2</th>\n",
       "      <td>HAM_0002730</td>\n",
       "      <td>ISIC_0026769</td>\n",
       "      <td>bkl</td>\n",
       "      <td>histo</td>\n",
       "      <td>80.0</td>\n",
       "      <td>male</td>\n",
       "      <td>scalp</td>\n",
       "      <td>dados\\HAM10000_images_part_1\\ISIC_0026769.jpg</td>\n",
       "      <td>Benign keratosis-like</td>\n",
       "      <td>2</td>\n",
       "    </tr>\n",
       "    <tr>\n",
       "      <th>3</th>\n",
       "      <td>HAM_0002730</td>\n",
       "      <td>ISIC_0025661</td>\n",
       "      <td>bkl</td>\n",
       "      <td>histo</td>\n",
       "      <td>80.0</td>\n",
       "      <td>male</td>\n",
       "      <td>scalp</td>\n",
       "      <td>dados\\HAM10000_images_part_1\\ISIC_0025661.jpg</td>\n",
       "      <td>Benign keratosis-like</td>\n",
       "      <td>2</td>\n",
       "    </tr>\n",
       "    <tr>\n",
       "      <th>4</th>\n",
       "      <td>HAM_0001466</td>\n",
       "      <td>ISIC_0031633</td>\n",
       "      <td>bkl</td>\n",
       "      <td>histo</td>\n",
       "      <td>75.0</td>\n",
       "      <td>male</td>\n",
       "      <td>ear</td>\n",
       "      <td>dados\\HAM10000_images_part_2\\ISIC_0031633.jpg</td>\n",
       "      <td>Benign keratosis-like</td>\n",
       "      <td>2</td>\n",
       "    </tr>\n",
       "  </tbody>\n",
       "</table>\n",
       "</div>"
      ],
      "text/plain": [
       "     lesion_id      image_id   dx dx_type   age   sex localization  \\\n",
       "0  HAM_0000118  ISIC_0027419  bkl   histo  80.0  male        scalp   \n",
       "1  HAM_0000118  ISIC_0025030  bkl   histo  80.0  male        scalp   \n",
       "2  HAM_0002730  ISIC_0026769  bkl   histo  80.0  male        scalp   \n",
       "3  HAM_0002730  ISIC_0025661  bkl   histo  80.0  male        scalp   \n",
       "4  HAM_0001466  ISIC_0031633  bkl   histo  75.0  male          ear   \n",
       "\n",
       "                                            path             tipo_lesao  \\\n",
       "0  dados\\HAM10000_images_part_1\\ISIC_0027419.jpg  Benign keratosis-like   \n",
       "1  dados\\HAM10000_images_part_1\\ISIC_0025030.jpg  Benign keratosis-like   \n",
       "2  dados\\HAM10000_images_part_1\\ISIC_0026769.jpg  Benign keratosis-like   \n",
       "3  dados\\HAM10000_images_part_1\\ISIC_0025661.jpg  Benign keratosis-like   \n",
       "4  dados\\HAM10000_images_part_2\\ISIC_0031633.jpg  Benign keratosis-like   \n",
       "\n",
       "   tipo_lesao_idx  \n",
       "0               2  \n",
       "1               2  \n",
       "2               2  \n",
       "3               2  \n",
       "4               2  "
      ]
     },
     "execution_count": 24,
     "metadata": {},
     "output_type": "execute_result"
    }
   ],
   "source": [
    "# Visualiza o dataset\n",
    "df_inicial.head()"
   ]
  },
  {
   "cell_type": "markdown",
   "id": "aa34f973",
   "metadata": {},
   "source": [
    "## 4. Pré-Processamento dos dados  "
   ]
  },
  {
   "cell_type": "markdown",
   "id": "b9104e53",
   "metadata": {},
   "source": [
    "### 4.1 Extração da média e desvio padrão"
   ]
  },
  {
   "cell_type": "code",
   "execution_count": 27,
   "id": "cdecd337",
   "metadata": {},
   "outputs": [],
   "source": [
    "# Função para cálculo de média e desvio\n",
    "def func_calcula_img_mean_std(image_paths):\n",
    "\n",
    "    # Define altura e largura que usaremos nas imagens\n",
    "    # Densenet espera as imagens nesta dimensão\n",
    "    img_h, img_w = 224, 224\n",
    "    \n",
    "    # Listas de controle\n",
    "    imgs = []\n",
    "    means, stdevs = [], []\n",
    "\n",
    "    # Loop de leitura e resize das imagens\n",
    "    for i in tqdm(range(len(image_paths))):\n",
    "        img = cv2.imread(image_paths[i])\n",
    "        img = cv2.resize(img, (img_h, img_w))\n",
    "        imgs.append(img)\n",
    "\n",
    "    # Stack de imagens\n",
    "    imgs = np.stack(imgs, axis=3)\n",
    "    print(imgs.shape)\n",
    "\n",
    "    # Normalização\n",
    "    imgs = imgs.astype(np.float32) / 255.\n",
    "\n",
    "    # Loop de cálculo da média e desvio\n",
    "    for i in range(3):\n",
    "        pixels = imgs[:, :, i, :].ravel()  \n",
    "        means.append(np.mean(pixels))\n",
    "        stdevs.append(np.std(pixels))\n",
    "\n",
    "    # BGR --> RGB\n",
    "    means.reverse()  \n",
    "    stdevs.reverse()\n",
    "\n",
    "    print(\"normMean = {}\".format(means))\n",
    "    print(\"normStd = {}\".format(stdevs))\n",
    "    \n",
    "    return means, stdevs"
   ]
  },
  {
   "cell_type": "code",
   "execution_count": 28,
   "id": "a1768d9c",
   "metadata": {},
   "outputs": [
    {
     "name": "stderr",
     "output_type": "stream",
     "text": [
      "100%|████████████████████████████████████████████████████████████████████████████████████████████████████████████████| 10015/10015 [02:48<00:00, 59.37it/s]\n"
     ]
    },
    {
     "name": "stdout",
     "output_type": "stream",
     "text": [
      "(224, 224, 3, 10015)\n",
      "normMean = [0.7630331, 0.5456457, 0.5700467]\n",
      "normStd = [0.1409281, 0.15261227, 0.16997086]\n"
     ]
    }
   ],
   "source": [
    "# Retorna a média e o desvio padrão de cada canal RGB\n",
    "norm_mean, norm_std = func_calcula_img_mean_std(caminho_imagens)"
   ]
  },
  {
   "cell_type": "markdown",
   "id": "2f676d66",
   "metadata": {},
   "source": [
    "### 4.2 Preparação para o dataset de validação"
   ]
  },
  {
   "cell_type": "code",
   "execution_count": 30,
   "id": "6555cc85",
   "metadata": {},
   "outputs": [
    {
     "data": {
      "text/html": [
       "<div>\n",
       "<style scoped>\n",
       "    .dataframe tbody tr th:only-of-type {\n",
       "        vertical-align: middle;\n",
       "    }\n",
       "\n",
       "    .dataframe tbody tr th {\n",
       "        vertical-align: top;\n",
       "    }\n",
       "\n",
       "    .dataframe thead th {\n",
       "        text-align: right;\n",
       "    }\n",
       "</style>\n",
       "<table border=\"1\" class=\"dataframe\">\n",
       "  <thead>\n",
       "    <tr style=\"text-align: right;\">\n",
       "      <th></th>\n",
       "      <th>image_id</th>\n",
       "      <th>dx</th>\n",
       "      <th>dx_type</th>\n",
       "      <th>age</th>\n",
       "      <th>sex</th>\n",
       "      <th>localization</th>\n",
       "      <th>path</th>\n",
       "      <th>tipo_lesao</th>\n",
       "      <th>tipo_lesao_idx</th>\n",
       "    </tr>\n",
       "    <tr>\n",
       "      <th>lesion_id</th>\n",
       "      <th></th>\n",
       "      <th></th>\n",
       "      <th></th>\n",
       "      <th></th>\n",
       "      <th></th>\n",
       "      <th></th>\n",
       "      <th></th>\n",
       "      <th></th>\n",
       "      <th></th>\n",
       "    </tr>\n",
       "  </thead>\n",
       "  <tbody>\n",
       "    <tr>\n",
       "      <th>HAM_0000000</th>\n",
       "      <td>2</td>\n",
       "      <td>2</td>\n",
       "      <td>2</td>\n",
       "      <td>2</td>\n",
       "      <td>2</td>\n",
       "      <td>2</td>\n",
       "      <td>2</td>\n",
       "      <td>2</td>\n",
       "      <td>2</td>\n",
       "    </tr>\n",
       "    <tr>\n",
       "      <th>HAM_0000001</th>\n",
       "      <td>1</td>\n",
       "      <td>1</td>\n",
       "      <td>1</td>\n",
       "      <td>1</td>\n",
       "      <td>1</td>\n",
       "      <td>1</td>\n",
       "      <td>1</td>\n",
       "      <td>1</td>\n",
       "      <td>1</td>\n",
       "    </tr>\n",
       "    <tr>\n",
       "      <th>HAM_0000002</th>\n",
       "      <td>3</td>\n",
       "      <td>3</td>\n",
       "      <td>3</td>\n",
       "      <td>3</td>\n",
       "      <td>3</td>\n",
       "      <td>3</td>\n",
       "      <td>3</td>\n",
       "      <td>3</td>\n",
       "      <td>3</td>\n",
       "    </tr>\n",
       "    <tr>\n",
       "      <th>HAM_0000003</th>\n",
       "      <td>1</td>\n",
       "      <td>1</td>\n",
       "      <td>1</td>\n",
       "      <td>1</td>\n",
       "      <td>1</td>\n",
       "      <td>1</td>\n",
       "      <td>1</td>\n",
       "      <td>1</td>\n",
       "      <td>1</td>\n",
       "    </tr>\n",
       "    <tr>\n",
       "      <th>HAM_0000004</th>\n",
       "      <td>1</td>\n",
       "      <td>1</td>\n",
       "      <td>1</td>\n",
       "      <td>1</td>\n",
       "      <td>1</td>\n",
       "      <td>1</td>\n",
       "      <td>1</td>\n",
       "      <td>1</td>\n",
       "      <td>1</td>\n",
       "    </tr>\n",
       "  </tbody>\n",
       "</table>\n",
       "</div>"
      ],
      "text/plain": [
       "             image_id  dx  dx_type  age  sex  localization  path  tipo_lesao  \\\n",
       "lesion_id                                                                      \n",
       "HAM_0000000         2   2        2    2    2             2     2           2   \n",
       "HAM_0000001         1   1        1    1    1             1     1           1   \n",
       "HAM_0000002         3   3        3    3    3             3     3           3   \n",
       "HAM_0000003         1   1        1    1    1             1     1           1   \n",
       "HAM_0000004         1   1        1    1    1             1     1           1   \n",
       "\n",
       "             tipo_lesao_idx  \n",
       "lesion_id                    \n",
       "HAM_0000000               2  \n",
       "HAM_0000001               1  \n",
       "HAM_0000002               3  \n",
       "HAM_0000003               1  \n",
       "HAM_0000004               1  "
      ]
     },
     "execution_count": 30,
     "metadata": {},
     "output_type": "execute_result"
    }
   ],
   "source": [
    "# Verifica o número de imagens associadas ao lesion_id\n",
    "df_temp = df_inicial.groupby('lesion_id').count()\n",
    "\n",
    "# Visualiza o dataset\n",
    "df_temp.head()"
   ]
  },
  {
   "cell_type": "code",
   "execution_count": 32,
   "id": "b07db018",
   "metadata": {},
   "outputs": [],
   "source": [
    "# Agora filtramos lesion_ids que possuem apenas uma imagem associada\n",
    "df_temp = df_temp[df_temp['image_id'] == 1]"
   ]
  },
  {
   "cell_type": "code",
   "execution_count": 33,
   "id": "5be0b892",
   "metadata": {},
   "outputs": [],
   "source": [
    "# Reset do índice\n",
    "df_temp.reset_index(inplace = True)"
   ]
  },
  {
   "cell_type": "code",
   "execution_count": 34,
   "id": "9582ab1e",
   "metadata": {},
   "outputs": [
    {
     "data": {
      "text/html": [
       "<div>\n",
       "<style scoped>\n",
       "    .dataframe tbody tr th:only-of-type {\n",
       "        vertical-align: middle;\n",
       "    }\n",
       "\n",
       "    .dataframe tbody tr th {\n",
       "        vertical-align: top;\n",
       "    }\n",
       "\n",
       "    .dataframe thead th {\n",
       "        text-align: right;\n",
       "    }\n",
       "</style>\n",
       "<table border=\"1\" class=\"dataframe\">\n",
       "  <thead>\n",
       "    <tr style=\"text-align: right;\">\n",
       "      <th></th>\n",
       "      <th>lesion_id</th>\n",
       "      <th>image_id</th>\n",
       "      <th>dx</th>\n",
       "      <th>dx_type</th>\n",
       "      <th>age</th>\n",
       "      <th>sex</th>\n",
       "      <th>localization</th>\n",
       "      <th>path</th>\n",
       "      <th>tipo_lesao</th>\n",
       "      <th>tipo_lesao_idx</th>\n",
       "    </tr>\n",
       "  </thead>\n",
       "  <tbody>\n",
       "    <tr>\n",
       "      <th>0</th>\n",
       "      <td>HAM_0000001</td>\n",
       "      <td>1</td>\n",
       "      <td>1</td>\n",
       "      <td>1</td>\n",
       "      <td>1</td>\n",
       "      <td>1</td>\n",
       "      <td>1</td>\n",
       "      <td>1</td>\n",
       "      <td>1</td>\n",
       "      <td>1</td>\n",
       "    </tr>\n",
       "    <tr>\n",
       "      <th>1</th>\n",
       "      <td>HAM_0000003</td>\n",
       "      <td>1</td>\n",
       "      <td>1</td>\n",
       "      <td>1</td>\n",
       "      <td>1</td>\n",
       "      <td>1</td>\n",
       "      <td>1</td>\n",
       "      <td>1</td>\n",
       "      <td>1</td>\n",
       "      <td>1</td>\n",
       "    </tr>\n",
       "    <tr>\n",
       "      <th>2</th>\n",
       "      <td>HAM_0000004</td>\n",
       "      <td>1</td>\n",
       "      <td>1</td>\n",
       "      <td>1</td>\n",
       "      <td>1</td>\n",
       "      <td>1</td>\n",
       "      <td>1</td>\n",
       "      <td>1</td>\n",
       "      <td>1</td>\n",
       "      <td>1</td>\n",
       "    </tr>\n",
       "    <tr>\n",
       "      <th>3</th>\n",
       "      <td>HAM_0000007</td>\n",
       "      <td>1</td>\n",
       "      <td>1</td>\n",
       "      <td>1</td>\n",
       "      <td>1</td>\n",
       "      <td>1</td>\n",
       "      <td>1</td>\n",
       "      <td>1</td>\n",
       "      <td>1</td>\n",
       "      <td>1</td>\n",
       "    </tr>\n",
       "    <tr>\n",
       "      <th>4</th>\n",
       "      <td>HAM_0000008</td>\n",
       "      <td>1</td>\n",
       "      <td>1</td>\n",
       "      <td>1</td>\n",
       "      <td>1</td>\n",
       "      <td>1</td>\n",
       "      <td>1</td>\n",
       "      <td>1</td>\n",
       "      <td>1</td>\n",
       "      <td>1</td>\n",
       "    </tr>\n",
       "  </tbody>\n",
       "</table>\n",
       "</div>"
      ],
      "text/plain": [
       "     lesion_id  image_id  dx  dx_type  age  sex  localization  path  \\\n",
       "0  HAM_0000001         1   1        1    1    1             1     1   \n",
       "1  HAM_0000003         1   1        1    1    1             1     1   \n",
       "2  HAM_0000004         1   1        1    1    1             1     1   \n",
       "3  HAM_0000007         1   1        1    1    1             1     1   \n",
       "4  HAM_0000008         1   1        1    1    1             1     1   \n",
       "\n",
       "   tipo_lesao  tipo_lesao_idx  \n",
       "0           1               1  \n",
       "1           1               1  \n",
       "2           1               1  \n",
       "3           1               1  \n",
       "4           1               1  "
      ]
     },
     "execution_count": 34,
     "metadata": {},
     "output_type": "execute_result"
    }
   ],
   "source": [
    "# Visualiza o dataset\n",
    "df_temp.head()"
   ]
  },
  {
   "cell_type": "code",
   "execution_count": 35,
   "id": "db325bdb",
   "metadata": {},
   "outputs": [],
   "source": [
    "# Função para identificar lesion_ids que possuem imagens duplicadas e aqueles que possuem apenas uma imagem\n",
    "def get_duplicates(x):\n",
    "    unique_list = list(df_temp['lesion_id'])\n",
    "    if x in unique_list:\n",
    "        return 'unduplicated'\n",
    "    else:\n",
    "        return 'duplicated'"
   ]
  },
  {
   "cell_type": "code",
   "execution_count": 36,
   "id": "ce42756c",
   "metadata": {},
   "outputs": [],
   "source": [
    "# Cria uma nova coluna que seja uma cópia da coluna lesion_id\n",
    "df_inicial['duplicates'] = df_inicial['lesion_id']"
   ]
  },
  {
   "cell_type": "code",
   "execution_count": 38,
   "id": "ea097f64",
   "metadata": {},
   "outputs": [],
   "source": [
    "# Aplica a função a esta nova coluna\n",
    "df_inicial['duplicates'] = df_inicial['duplicates'].apply(get_duplicates)"
   ]
  },
  {
   "cell_type": "code",
   "execution_count": 39,
   "id": "08cdfc98",
   "metadata": {},
   "outputs": [
    {
     "data": {
      "text/plain": [
       "unduplicated    5514\n",
       "duplicated      4501\n",
       "Name: duplicates, dtype: int64"
      ]
     },
     "execution_count": 39,
     "metadata": {},
     "output_type": "execute_result"
    }
   ],
   "source": [
    "# Contagem dos valores duplicados\n",
    "df_inicial['duplicates'].value_counts()"
   ]
  },
  {
   "cell_type": "code",
   "execution_count": 40,
   "id": "ad94eaca",
   "metadata": {},
   "outputs": [],
   "source": [
    "# Filtro das imagens que não têm duplicatas\n",
    "df_temp = df_inicial[df_inicial['duplicates'] == 'unduplicated']"
   ]
  },
  {
   "cell_type": "code",
   "execution_count": 41,
   "id": "137ed755",
   "metadata": {},
   "outputs": [],
   "source": [
    "# Define y\n",
    "y = df_temp['tipo_lesao_idx']"
   ]
  },
  {
   "cell_type": "code",
   "execution_count": 42,
   "id": "501b727d",
   "metadata": {},
   "outputs": [],
   "source": [
    "# Cria dataset de validação sem duplicatas\n",
    "_, df_val = train_test_split(df_temp, test_size = 0.2, random_state = 101, stratify = y)"
   ]
  },
  {
   "cell_type": "code",
   "execution_count": 43,
   "id": "3fbcdad7",
   "metadata": {},
   "outputs": [
    {
     "data": {
      "text/plain": [
       "(1103, 11)"
      ]
     },
     "execution_count": 43,
     "metadata": {},
     "output_type": "execute_result"
    }
   ],
   "source": [
    "# Visualiza o shape do dataset\n",
    "df_val.shape"
   ]
  },
  {
   "cell_type": "code",
   "execution_count": 44,
   "id": "271f6e37",
   "metadata": {},
   "outputs": [
    {
     "data": {
      "text/plain": [
       "4    883\n",
       "2     88\n",
       "6     46\n",
       "1     35\n",
       "0     30\n",
       "5     13\n",
       "3      8\n",
       "Name: tipo_lesao_idx, dtype: int64"
      ]
     },
     "execution_count": 44,
     "metadata": {},
     "output_type": "execute_result"
    }
   ],
   "source": [
    "# Verifica a contagem dos itens\n",
    "df_val['tipo_lesao_idx'].value_counts()"
   ]
  },
  {
   "cell_type": "markdown",
   "id": "416000ef",
   "metadata": {},
   "source": [
    "### 4.3 Separação das amostras de treino e validação"
   ]
  },
  {
   "cell_type": "code",
   "execution_count": 45,
   "id": "febe587f",
   "metadata": {},
   "outputs": [],
   "source": [
    "# Esta função identifica se uma imagem faz parte do conjunto train ou val\n",
    "def get_val_rows(x):\n",
    "    val_list = list(df_val['image_id'])\n",
    "    if str(x) in val_list:\n",
    "        return 'val'\n",
    "    else:\n",
    "        return 'train'"
   ]
  },
  {
   "cell_type": "code",
   "execution_count": 47,
   "id": "cb3c64b6",
   "metadata": {},
   "outputs": [],
   "source": [
    "# Identifica treino ou validação\n",
    "df_inicial['train_or_val'] = df_inicial['image_id']"
   ]
  },
  {
   "cell_type": "code",
   "execution_count": 48,
   "id": "b59d7c90",
   "metadata": {},
   "outputs": [],
   "source": [
    "# Aplica a função a esta nova coluna\n",
    "df_inicial['train_or_val'] = df_inicial['train_or_val'].apply(get_val_rows)"
   ]
  },
  {
   "cell_type": "code",
   "execution_count": 49,
   "id": "b2eb9b12",
   "metadata": {},
   "outputs": [],
   "source": [
    "# Filtra as linhas de treino\n",
    "df_treino = df_inicial[df_inicial['train_or_val'] == 'train']"
   ]
  },
  {
   "cell_type": "code",
   "execution_count": 50,
   "id": "c872b71f",
   "metadata": {},
   "outputs": [
    {
     "name": "stdout",
     "output_type": "stream",
     "text": [
      "Dataset de treino:  8912\n",
      "Dataset de validação:  1103\n"
     ]
    }
   ],
   "source": [
    "# Verifica o número de registros\n",
    "print('Dataset de treino: ', len(df_treino))\n",
    "print('Dataset de validação: ', len(df_val))"
   ]
  },
  {
   "cell_type": "code",
   "execution_count": 51,
   "id": "bcbad55a",
   "metadata": {},
   "outputs": [
    {
     "data": {
      "text/plain": [
       "4    5822\n",
       "6    1067\n",
       "2    1011\n",
       "1     479\n",
       "0     297\n",
       "5     129\n",
       "3     107\n",
       "Name: tipo_lesao_idx, dtype: int64"
      ]
     },
     "execution_count": 51,
     "metadata": {},
     "output_type": "execute_result"
    }
   ],
   "source": [
    "# Total de itens por classe\n",
    "# Dataset desbalanceado\n",
    "df_treino['tipo_lesao_idx'].value_counts()"
   ]
  },
  {
   "cell_type": "code",
   "execution_count": 52,
   "id": "7640f50f",
   "metadata": {},
   "outputs": [
    {
     "data": {
      "text/plain": [
       "Melanocytic nevi         883\n",
       "Benign keratosis-like     88\n",
       "dermatofibroma            46\n",
       "Basal cell carcinoma      35\n",
       "Actinic keratoses         30\n",
       "Vascular lesions          13\n",
       "Dermatofibroma             8\n",
       "Name: tipo_lesao, dtype: int64"
      ]
     },
     "execution_count": 52,
     "metadata": {},
     "output_type": "execute_result"
    }
   ],
   "source": [
    "# Total de itens por classe\n",
    "df_val['tipo_lesao'].value_counts()"
   ]
  },
  {
   "cell_type": "markdown",
   "id": "954cf50c",
   "metadata": {},
   "source": [
    "### 4.4 Dataset Augmentation"
   ]
  },
  {
   "cell_type": "code",
   "execution_count": 53,
   "id": "a4547947",
   "metadata": {},
   "outputs": [],
   "source": [
    "# Taxa de dataset augmentation a ser usada em cada classe\n",
    "# É determinada de forma manual testando o balancemento no final\n",
    "data_aug_rate = [15,10,5,50,0,40,5]"
   ]
  },
  {
   "cell_type": "code",
   "execution_count": 54,
   "id": "d51d79aa",
   "metadata": {},
   "outputs": [],
   "source": [
    "# Loop para o dataset augmentation\n",
    "for i in range(7):\n",
    "    \n",
    "    if data_aug_rate[i]:\n",
    "        \n",
    "        # Equaliza a proporção de imagens por classe nos dados de treino\n",
    "        # Geramos novas imagens multiplicando as imagens existentes pela taxa definida na lista de taxas\n",
    "        df_treino = df_treino.append([df_treino.loc[df_treino['tipo_lesao_idx'] == i,:]] * (data_aug_rate[i] - 1), \n",
    "                                     ignore_index = True)"
   ]
  },
  {
   "cell_type": "code",
   "execution_count": 55,
   "id": "cef7c091",
   "metadata": {},
   "outputs": [
    {
     "data": {
      "text/plain": [
       "Melanocytic nevi         5822\n",
       "Dermatofibroma           5350\n",
       "dermatofibroma           5335\n",
       "Vascular lesions         5160\n",
       "Benign keratosis-like    5055\n",
       "Basal cell carcinoma     4790\n",
       "Actinic keratoses        4455\n",
       "Name: tipo_lesao, dtype: int64"
      ]
     },
     "execution_count": 55,
     "metadata": {},
     "output_type": "execute_result"
    }
   ],
   "source": [
    "# Visualiza o dataset de treino\n",
    "df_treino['tipo_lesao'].value_counts()"
   ]
  },
  {
   "cell_type": "code",
   "execution_count": 60,
   "id": "97477983",
   "metadata": {},
   "outputs": [],
   "source": [
    "# Reset do índice\n",
    "df_treino = df_treino.reset_index()"
   ]
  },
  {
   "cell_type": "code",
   "execution_count": 61,
   "id": "7e3065e4",
   "metadata": {},
   "outputs": [
    {
     "data": {
      "text/plain": [
       "(35967, 13)"
      ]
     },
     "execution_count": 61,
     "metadata": {},
     "output_type": "execute_result"
    }
   ],
   "source": [
    "# Shape do dataset de treino\n",
    "df_treino.shape"
   ]
  }
 ],
 "metadata": {
  "kernelspec": {
   "display_name": "Python 3 (ipykernel)",
   "language": "python",
   "name": "python3"
  },
  "language_info": {
   "codemirror_mode": {
    "name": "ipython",
    "version": 3
   },
   "file_extension": ".py",
   "mimetype": "text/x-python",
   "name": "python",
   "nbconvert_exporter": "python",
   "pygments_lexer": "ipython3",
   "version": "3.9.13"
  }
 },
 "nbformat": 4,
 "nbformat_minor": 5
}
