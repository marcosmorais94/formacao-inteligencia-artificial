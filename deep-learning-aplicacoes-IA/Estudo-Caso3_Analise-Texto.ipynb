{
 "cells": [
  {
   "cell_type": "markdown",
   "id": "011f5178",
   "metadata": {},
   "source": [
    "# Estudo de Caso 3 - Identificação de Anomalias em Texto com Pytorch\n",
    "\n",
    "O objetivo deste Jupyter Notebook é utilizar um modelo de machine learning com inteligência artificial para identificar frases que contém ou não fake news. Para isso, será utilizado liguagem Python e o Pytorch. "
   ]
  },
  {
   "cell_type": "markdown",
   "id": "37af563f",
   "metadata": {},
   "source": [
    "## 1. Instalação dos Pacotes"
   ]
  },
  {
   "cell_type": "code",
   "execution_count": 1,
   "id": "a03f9711",
   "metadata": {},
   "outputs": [
    {
     "name": "stdout",
     "output_type": "stream",
     "text": [
      "A versão da linguagem Python utilizada neste Jupyter Notebook é:  3.9.13\n"
     ]
    }
   ],
   "source": [
    "# Versão da linguagem Python\n",
    "from platform import python_version\n",
    "print('A versão da linguagem Python utilizada neste Jupyter Notebook é: ', python_version())"
   ]
  },
  {
   "cell_type": "code",
   "execution_count": 2,
   "id": "9cd0831e",
   "metadata": {},
   "outputs": [],
   "source": [
    "# Instala versão do Pytorch\n",
    "!pip install -q torch==2.0.0"
   ]
  },
  {
   "cell_type": "code",
   "execution_count": 3,
   "id": "5d601949",
   "metadata": {},
   "outputs": [],
   "source": [
    "# Instala versão do Transformers\n",
    "!pip install -q transformers==4.28.1"
   ]
  },
  {
   "cell_type": "code",
   "execution_count": 4,
   "id": "5fcc6e89",
   "metadata": {},
   "outputs": [],
   "source": [
    "# Carga dos pacotes\n",
    "import torch\n",
    "import sklearn\n",
    "import numpy as np\n",
    "from transformers import BertTokenizer, BertForSequenceClassification\n",
    "from torch.utils.data import DataLoader, Dataset\n",
    "from sklearn.model_selection import train_test_split"
   ]
  },
  {
   "cell_type": "code",
   "execution_count": 5,
   "id": "e5afd577",
   "metadata": {},
   "outputs": [],
   "source": [
    "# Mostra somente mensagens de erro\n",
    "from transformers import logging\n",
    "logging.set_verbosity_error()"
   ]
  },
  {
   "cell_type": "code",
   "execution_count": 6,
   "id": "649fd0cb",
   "metadata": {},
   "outputs": [
    {
     "name": "stdout",
     "output_type": "stream",
     "text": [
      "Author: Estudo de Caso 3 - Análise de Texto\n",
      "\n",
      "torch       : 2.0.0\n",
      "transformers: 4.28.1\n",
      "numpy       : 1.21.5\n",
      "sklearn     : 1.0.2\n",
      "\n"
     ]
    }
   ],
   "source": [
    "# Versões dos pacotes usados neste jupyter notebook\n",
    "%reload_ext watermark\n",
    "%watermark -a \"Estudo de Caso 3 - Análise de Texto\" --iversions"
   ]
  },
  {
   "cell_type": "markdown",
   "id": "4d7cdfb9",
   "metadata": {},
   "source": [
    "## 2. Construção da Classe de Tokenização dos Dados"
   ]
  },
  {
   "cell_type": "code",
   "execution_count": 7,
   "id": "5b9a54e6",
   "metadata": {},
   "outputs": [],
   "source": [
    "# Classe para tokenização dos dados\n",
    "class TokenizaDados(Dataset):\n",
    "    \n",
    "    # Método construtor\n",
    "    def __init__(self, texts, labels, tokenizer, max_length):\n",
    "        self.texts = texts\n",
    "        self.labels = labels\n",
    "        self.tokenizer = tokenizer\n",
    "        self.max_length = max_length\n",
    "\n",
    "    # Método para calcular o comprimento do texto (cada sentença)\n",
    "    def __len__(self):\n",
    "        return len(self.texts)\n",
    "\n",
    "    # Método para obter um item tokenizado\n",
    "    def __getitem__(self, idx):\n",
    "        \n",
    "        # Obtém o índice do texto e do label\n",
    "        text = self.texts[idx]\n",
    "        label = self.labels[idx]\n",
    "        \n",
    "        # Aplica a tokenização\n",
    "        inputs = self.tokenizer.encode_plus(text,\n",
    "                                            add_special_tokens = True,\n",
    "                                            max_length = self.max_length,\n",
    "                                            padding = 'max_length',\n",
    "                                            truncation = True,\n",
    "                                            return_tensors = 'pt')\n",
    "\n",
    "        return {\n",
    "            'input_ids': inputs['input_ids'].squeeze(0),\n",
    "            'attention_mask': inputs['attention_mask'].squeeze(0),\n",
    "            'label': torch.tensor(label)\n",
    "        }"
   ]
  },
  {
   "cell_type": "markdown",
   "id": "4a34991d",
   "metadata": {},
   "source": [
    "## 3. Funções para Loop de Treino e Avaliação"
   ]
  },
  {
   "cell_type": "code",
   "execution_count": 8,
   "id": "81bf5c2c",
   "metadata": {},
   "outputs": [],
   "source": [
    "# Método do loop de treino\n",
    "def treina_modelo(model, data_loader, criterion, optimizer, device):\n",
    "    \n",
    "    # Coloca o modelo em modo de treino\n",
    "    model.train()\n",
    "    \n",
    "    # Inicializa o erro com zero\n",
    "    total_loss = 0\n",
    "\n",
    "    # Loop pelo data loader\n",
    "    for batch in data_loader:\n",
    "        \n",
    "        # Extrai os ids do batch de dados e coloca no device\n",
    "        input_ids = batch['input_ids'].to(device)\n",
    "        \n",
    "        # Extrai a máscara e coloca no device\n",
    "        attention_mask = batch['attention_mask'].to(device)\n",
    "        \n",
    "        # Extrai os labels e coloca no device\n",
    "        labels = batch['label'].to(device)\n",
    "\n",
    "        # Zera os gradientes\n",
    "        optimizer.zero_grad()\n",
    "        \n",
    "        # Faz as previsões\n",
    "        outputs = model(input_ids, attention_mask = attention_mask, labels = labels)\n",
    "        \n",
    "        # Extrai o erro do modelo\n",
    "        loss = outputs.loss\n",
    "        \n",
    "        # Aplica a otimização com backpropagation\n",
    "        loss.backward()\n",
    "        optimizer.step()\n",
    "\n",
    "        # Acumula o erro\n",
    "        total_loss += loss.item()\n",
    "\n",
    "    return total_loss / len(data_loader)"
   ]
  },
  {
   "cell_type": "code",
   "execution_count": 9,
   "id": "73548cf3",
   "metadata": {},
   "outputs": [],
   "source": [
    "# Método do loop de avaliação\n",
    "def avalia_modelo(model, data_loader, criterion, device):\n",
    "    \n",
    "    model.eval()\n",
    "    \n",
    "    total_loss = 0\n",
    "\n",
    "    with torch.no_grad():\n",
    "    \n",
    "        for batch in data_loader:\n",
    "            \n",
    "            input_ids = batch['input_ids'].to(device)\n",
    "            \n",
    "            attention_mask = batch['attention_mask'].to(device)\n",
    "            \n",
    "            labels = batch['label'].to(device)\n",
    "\n",
    "            outputs = model(input_ids, attention_mask = attention_mask, labels = labels)\n",
    "            \n",
    "            loss = outputs.loss\n",
    "            \n",
    "            total_loss += loss.item()\n",
    "\n",
    "    return total_loss / len(data_loader)"
   ]
  },
  {
   "cell_type": "code",
   "execution_count": 10,
   "id": "feb12793",
   "metadata": {},
   "outputs": [],
   "source": [
    "# Método do loop de previsão\n",
    "def predict(model, data_loader, device):\n",
    "    \n",
    "    model.eval()\n",
    "    \n",
    "    predictions = []\n",
    "\n",
    "    with torch.no_grad():\n",
    "        \n",
    "        for batch in data_loader:\n",
    "            \n",
    "            input_ids = batch['input_ids'].to(device)\n",
    "            \n",
    "            attention_mask = batch['attention_mask'].to(device)\n",
    "\n",
    "            outputs = model(input_ids, attention_mask = attention_mask)\n",
    "            \n",
    "            _, preds = torch.max(outputs.logits, dim = 1)\n",
    "            \n",
    "            predictions.extend(preds.tolist())\n",
    "\n",
    "    return predictions"
   ]
  },
  {
   "cell_type": "markdown",
   "id": "b2912ff2",
   "metadata": {},
   "source": [
    "## 4. Definição dos Dados"
   ]
  },
  {
   "cell_type": "code",
   "execution_count": 11,
   "id": "d8f2e09d",
   "metadata": {},
   "outputs": [],
   "source": [
    "# Hiperparâmetros\n",
    "EPOCHS = 10\n",
    "BATCH_SIZE = 16\n",
    "MAX_LENGTH = 64\n",
    "LEARNING_RATE = 2e-5\n",
    "RANDOM_SEED = 42"
   ]
  },
  {
   "cell_type": "code",
   "execution_count": 12,
   "id": "2e8007c6",
   "metadata": {},
   "outputs": [],
   "source": [
    "# Conjunto de dados de exemplo\n",
    "texts = [\n",
    "    'A velocidade da luz é aproximadamente 300.000 km/s.',\n",
    "    'A Terra é plana e os répteis controlam o mundo.',\n",
    "    'A fotossíntese é um processo importante para as plantas.',\n",
    "    'As vacas podem voar e atravessar paredes de concreto.',\n",
    "    'O oxigênio é essencial para a respiração dos seres vivos.',\n",
    "    'Os cavalos podem falar como seres humanos.',\n",
    "    'As crianças aprendem a partir dos exemplos dos pais.',\n",
    "    'As palavras verdadeiras não são agradáveis e as agradáveis não são verdadeiras.',\n",
    "    'Leopardos trabalham de terno e gravata em frente ao computador.',\n",
    "    'Carros voadores estão por toda parte.'\n",
    "]"
   ]
  },
  {
   "cell_type": "code",
   "execution_count": 13,
   "id": "7a0a8597",
   "metadata": {},
   "outputs": [],
   "source": [
    "labels = [0, 1, 0, 1, 0, 1, 0, 0, 1, 1]  # 0: normal, 1: anômala"
   ]
  },
  {
   "cell_type": "code",
   "execution_count": 14,
   "id": "bb641039",
   "metadata": {},
   "outputs": [],
   "source": [
    "# Divisão dos dados em treino e teste\n",
    "train_texts, test_texts, train_labels, test_labels = train_test_split(texts, \n",
    "                                                                      labels, \n",
    "                                                                      test_size = 0.2, \n",
    "                                                                      random_state = RANDOM_SEED)"
   ]
  },
  {
   "cell_type": "markdown",
   "id": "26892400",
   "metadata": {},
   "source": [
    "## 5. Tokenização dos Dados e Criação dos DataLoaders"
   ]
  },
  {
   "cell_type": "code",
   "execution_count": 15,
   "id": "2612e417",
   "metadata": {},
   "outputs": [],
   "source": [
    "# Nome do modelo pré-treinado com 110M de parâmetros\n",
    "PRETRAINED_MODEL = 'bert-base-uncased'"
   ]
  },
  {
   "cell_type": "markdown",
   "id": "5586a37e",
   "metadata": {},
   "source": [
    "Maiores informações do modelo podem ser acessadas em:\n",
    "https://huggingface.co/bert-base-uncased"
   ]
  },
  {
   "cell_type": "code",
   "execution_count": 16,
   "id": "c78539b1",
   "metadata": {},
   "outputs": [],
   "source": [
    "# Inicializa o tokenizador\n",
    "tokenizer = BertTokenizer.from_pretrained(PRETRAINED_MODEL)"
   ]
  },
  {
   "cell_type": "code",
   "execution_count": 17,
   "id": "ca1471c2",
   "metadata": {},
   "outputs": [],
   "source": [
    "# Tokenização dos dados\n",
    "train_dataset = TokenizaDados(train_texts, train_labels, tokenizer, MAX_LENGTH)\n",
    "test_dataset = TokenizaDados(test_texts, test_labels, tokenizer, MAX_LENGTH) "
   ]
  },
  {
   "cell_type": "code",
   "execution_count": 18,
   "id": "210f6adf",
   "metadata": {},
   "outputs": [],
   "source": [
    "# Data Loaders\n",
    "train_loader = DataLoader(train_dataset, batch_size = BATCH_SIZE, shuffle = True)\n",
    "test_loader = DataLoader(test_dataset, batch_size = BATCH_SIZE)"
   ]
  },
  {
   "cell_type": "code",
   "execution_count": 19,
   "id": "ee2f7b2b",
   "metadata": {},
   "outputs": [],
   "source": [
    "# Configuração do dispositivo\n",
    "device = torch.device('cuda' if torch.cuda.is_available() else 'cpu')"
   ]
  },
  {
   "cell_type": "markdown",
   "id": "1b902b93",
   "metadata": {},
   "source": [
    "## 6. Construção, Treinamento e Avaliação do Modelo"
   ]
  },
  {
   "cell_type": "code",
   "execution_count": 20,
   "id": "c1476d7b",
   "metadata": {},
   "outputs": [],
   "source": [
    "# Importa o modelo pré-treinado\n",
    "modelo = BertForSequenceClassification.from_pretrained(PRETRAINED_MODEL, num_labels = 2)"
   ]
  },
  {
   "cell_type": "code",
   "execution_count": 21,
   "id": "27bc6d3c",
   "metadata": {},
   "outputs": [
    {
     "data": {
      "text/plain": [
       "BertForSequenceClassification(\n",
       "  (bert): BertModel(\n",
       "    (embeddings): BertEmbeddings(\n",
       "      (word_embeddings): Embedding(30522, 768, padding_idx=0)\n",
       "      (position_embeddings): Embedding(512, 768)\n",
       "      (token_type_embeddings): Embedding(2, 768)\n",
       "      (LayerNorm): LayerNorm((768,), eps=1e-12, elementwise_affine=True)\n",
       "      (dropout): Dropout(p=0.1, inplace=False)\n",
       "    )\n",
       "    (encoder): BertEncoder(\n",
       "      (layer): ModuleList(\n",
       "        (0-11): 12 x BertLayer(\n",
       "          (attention): BertAttention(\n",
       "            (self): BertSelfAttention(\n",
       "              (query): Linear(in_features=768, out_features=768, bias=True)\n",
       "              (key): Linear(in_features=768, out_features=768, bias=True)\n",
       "              (value): Linear(in_features=768, out_features=768, bias=True)\n",
       "              (dropout): Dropout(p=0.1, inplace=False)\n",
       "            )\n",
       "            (output): BertSelfOutput(\n",
       "              (dense): Linear(in_features=768, out_features=768, bias=True)\n",
       "              (LayerNorm): LayerNorm((768,), eps=1e-12, elementwise_affine=True)\n",
       "              (dropout): Dropout(p=0.1, inplace=False)\n",
       "            )\n",
       "          )\n",
       "          (intermediate): BertIntermediate(\n",
       "            (dense): Linear(in_features=768, out_features=3072, bias=True)\n",
       "            (intermediate_act_fn): GELUActivation()\n",
       "          )\n",
       "          (output): BertOutput(\n",
       "            (dense): Linear(in_features=3072, out_features=768, bias=True)\n",
       "            (LayerNorm): LayerNorm((768,), eps=1e-12, elementwise_affine=True)\n",
       "            (dropout): Dropout(p=0.1, inplace=False)\n",
       "          )\n",
       "        )\n",
       "      )\n",
       "    )\n",
       "    (pooler): BertPooler(\n",
       "      (dense): Linear(in_features=768, out_features=768, bias=True)\n",
       "      (activation): Tanh()\n",
       "    )\n",
       "  )\n",
       "  (dropout): Dropout(p=0.1, inplace=False)\n",
       "  (classifier): Linear(in_features=768, out_features=2, bias=True)\n",
       ")"
      ]
     },
     "execution_count": 21,
     "metadata": {},
     "output_type": "execute_result"
    }
   ],
   "source": [
    "# Coloca o modelo na memória do device\n",
    "modelo.to(device)"
   ]
  },
  {
   "cell_type": "code",
   "execution_count": 22,
   "id": "1e9fee9c",
   "metadata": {},
   "outputs": [],
   "source": [
    "# Configuração do otimizador e critério de perda\n",
    "optimizer = torch.optim.AdamW(modelo.parameters(), lr = LEARNING_RATE)\n",
    "criterion = torch.nn.CrossEntropyLoss()"
   ]
  },
  {
   "cell_type": "code",
   "execution_count": 23,
   "id": "ad2a80fa",
   "metadata": {},
   "outputs": [
    {
     "name": "stdout",
     "output_type": "stream",
     "text": [
      "Epoch 1/10, Train Loss: 0.6740316152572632, Test Loss: 1.1876635551452637\n",
      "Epoch 2/10, Train Loss: 0.6730251312255859, Test Loss: 1.0781298875808716\n",
      "Epoch 3/10, Train Loss: 0.5299704074859619, Test Loss: 1.0337677001953125\n",
      "Epoch 4/10, Train Loss: 0.33613672852516174, Test Loss: 1.1865148544311523\n",
      "Epoch 5/10, Train Loss: 0.2950790524482727, Test Loss: 0.9976953864097595\n",
      "Epoch 6/10, Train Loss: 0.3000965416431427, Test Loss: 0.5799145698547363\n",
      "Epoch 7/10, Train Loss: 0.23467014729976654, Test Loss: 0.26405900716781616\n",
      "Epoch 8/10, Train Loss: 0.22346428036689758, Test Loss: 0.2626678943634033\n",
      "Epoch 9/10, Train Loss: 0.2167423516511917, Test Loss: 0.2882377803325653\n",
      "Epoch 10/10, Train Loss: 0.20056995749473572, Test Loss: 0.4970722794532776\n"
     ]
    }
   ],
   "source": [
    "# Treinamento e Avaliação do Modelo\n",
    "for epoch in range(EPOCHS):\n",
    "    \n",
    "    train_loss = treina_modelo(modelo, train_loader, criterion, optimizer, device)\n",
    "    \n",
    "    test_loss = avalia_modelo(modelo, test_loader, criterion, device)\n",
    "    \n",
    "    print(f'Epoch {epoch+1}/{EPOCHS}, Train Loss: {train_loss}, Test Loss: {test_loss}')"
   ]
  },
  {
   "cell_type": "code",
   "execution_count": 24,
   "id": "ab317160",
   "metadata": {},
   "outputs": [],
   "source": [
    "## 7. Deploy e Uso do Modelo Treinado\n"
   ]
  },
  {
   "cell_type": "code",
   "execution_count": 25,
   "id": "5e246130",
   "metadata": {},
   "outputs": [],
   "source": [
    "# Teste de detecção de anomalias\n",
    "novos_dados = ['A gravidade mantém os planetas em órbita ao redor do Sol.',\n",
    "               'Os carros podem nadar no oceano como peixes.']"
   ]
  },
  {
   "cell_type": "code",
   "execution_count": 26,
   "id": "334b7826",
   "metadata": {},
   "outputs": [],
   "source": [
    "# Tokeniza a amostra de dados\n",
    "novo_dataset = TokenizaDados(novos_dados, [0] * len(novos_dados), tokenizer, MAX_LENGTH)"
   ]
  },
  {
   "cell_type": "code",
   "execution_count": 27,
   "id": "030cf686",
   "metadata": {},
   "outputs": [],
   "source": [
    "# Cria o dataloader\n",
    "novo_loader = DataLoader(novo_dataset, batch_size = BATCH_SIZE)"
   ]
  },
  {
   "cell_type": "code",
   "execution_count": 28,
   "id": "10066a9d",
   "metadata": {},
   "outputs": [],
   "source": [
    "# Faz as previsões com o modelo\n",
    "previsoes = predict(modelo, novo_loader, device)"
   ]
  },
  {
   "cell_type": "code",
   "execution_count": 29,
   "id": "78ad2312",
   "metadata": {},
   "outputs": [
    {
     "name": "stdout",
     "output_type": "stream",
     "text": [
      "Sentença: A gravidade mantém os planetas em órbita ao redor do Sol. | Previsão: normal\n",
      "Sentença: Os carros podem nadar no oceano como peixes. | Previsão: anômala\n"
     ]
    }
   ],
   "source": [
    "for text, prediction in zip(novos_dados, previsoes):\n",
    "    print(f'Sentença: {text} | Previsão: {\"anômala\" if prediction else \"normal\"}')"
   ]
  }
 ],
 "metadata": {
  "kernelspec": {
   "display_name": "Python 3 (ipykernel)",
   "language": "python",
   "name": "python3"
  },
  "language_info": {
   "codemirror_mode": {
    "name": "ipython",
    "version": 3
   },
   "file_extension": ".py",
   "mimetype": "text/x-python",
   "name": "python",
   "nbconvert_exporter": "python",
   "pygments_lexer": "ipython3",
   "version": "3.9.13"
  }
 },
 "nbformat": 4,
 "nbformat_minor": 5
}
