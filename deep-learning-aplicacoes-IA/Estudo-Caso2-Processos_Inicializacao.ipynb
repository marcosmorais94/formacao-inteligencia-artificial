{
 "cells": [
  {
   "cell_type": "markdown",
   "id": "3d9d13b4",
   "metadata": {},
   "source": [
    "# Estudo de Caso 2 - Processo de Inicialização e Otimização\n",
    "\n",
    "Este Jupyter Notebook tem como objetivo a demonstração prática dos efeitos dos diferentes processos de inicialização e otimização para modelos com redes neurais. \n",
    "\n",
    "O processo de otimização em Deep Learning é o processo de encontrar os melhores pesos para a rede neural, de modo que ela possa realizar bem em tarefas específicas, como classificação ou regressão. Alguns exemplos são o SGD, Momentum e Adagrad.\n",
    "\n",
    "O processo de inicialização em Deep Learning é o processo de definir os valores iniciais dos pesos das camadas da rede neural antes do treinamento começar. Alguns exemplos são inicialização aleatória, inicialização com zero e com pequenos valores próximo a zero."
   ]
  },
  {
   "cell_type": "markdown",
   "id": "c96ebf93",
   "metadata": {},
   "source": [
    "## 1. Carga e instalação dos pacotes"
   ]
  },
  {
   "cell_type": "code",
   "execution_count": 1,
   "id": "0a02f84f",
   "metadata": {},
   "outputs": [
    {
     "name": "stdout",
     "output_type": "stream",
     "text": [
      "A versão da linguagem python neste Jupyter Notebook é:  3.9.13\n"
     ]
    }
   ],
   "source": [
    "# Versão da linguagem Python\n",
    "from platform import python_version\n",
    "print('A versão da linguagem python neste Jupyter Notebook é: ', python_version())"
   ]
  },
  {
   "cell_type": "code",
   "execution_count": 2,
   "id": "d9377cde",
   "metadata": {},
   "outputs": [],
   "source": [
    "# Instalação versão do torch\n",
    "#!pip install -q torch==1.13.0"
   ]
  },
  {
   "cell_type": "code",
   "execution_count": 3,
   "id": "990c800a",
   "metadata": {},
   "outputs": [],
   "source": [
    "# Instalação versão do Pytorch\n",
    "#!pip install -q torchvision==0.14.0"
   ]
  },
  {
   "cell_type": "code",
   "execution_count": 4,
   "id": "ebb3c16d",
   "metadata": {},
   "outputs": [],
   "source": [
    "# Carga dos pacotes/funções\n",
    "\n",
    "# Pacote para trabalhar no SO\n",
    "import os\n",
    "\n",
    "# Pacotes de visualização e Processamento de dados\n",
    "import numpy as np\n",
    "import matplotlib\n",
    "import matplotlib.pyplot as plt\n",
    "import shutil\n",
    "\n",
    "# Pacote Torch\n",
    "import torch\n",
    "from torch.utils.data import Dataset, DataLoader, random_split\n",
    "import torch.nn as nn\n",
    "import torch.nn.functional as F\n",
    "from torch.utils.data.sampler import SubsetRandomSampler\n",
    "\n",
    "# Pacote Torchvison\n",
    "import torchvision\n",
    "import torchvision.datasets as datasets\n",
    "import torchvision.transforms as transforms\n",
    "from torchvision.datasets import ImageFolder\n",
    "from torchvision.utils import make_grid\n",
    "from torchvision import models\n",
    "\n",
    "# Relatório do ambiente de desenvolvimento\n",
    "import gc\n",
    "import types\n",
    "import pkg_resources\n",
    "import pytorch_lightning as pl\n",
    "%matplotlib inline"
   ]
  },
  {
   "cell_type": "code",
   "execution_count": 5,
   "id": "406a0ada",
   "metadata": {},
   "outputs": [
    {
     "name": "stdout",
     "output_type": "stream",
     "text": [
      "Author: Estudo de Caso 2 - Processos de Otimização/Inicialização\n",
      "\n",
      "matplotlib       : 3.5.2\n",
      "pytorch_lightning: 1.8.3\n",
      "torchvision      : 0.14.0\n",
      "torch            : 1.13.0\n",
      "numpy            : 1.21.5\n",
      "\n"
     ]
    }
   ],
   "source": [
    "# Versões dos pacotes usados neste jupyter notebook\n",
    "%reload_ext watermark\n",
    "%watermark -a \"Estudo de Caso 2 - Processos de Otimização/Inicialização\" --iversions"
   ]
  },
  {
   "cell_type": "markdown",
   "id": "1b239db4",
   "metadata": {},
   "source": [
    "## 2. Preparação dos Dados"
   ]
  },
  {
   "cell_type": "markdown",
   "id": "fdfdb096",
   "metadata": {},
   "source": [
    "### 2.1 Criação das pastas no diretório"
   ]
  },
  {
   "cell_type": "code",
   "execution_count": 6,
   "id": "750471ab",
   "metadata": {},
   "outputs": [],
   "source": [
    "pasta_dados_originais = 'data'"
   ]
  },
  {
   "cell_type": "code",
   "execution_count": 7,
   "id": "39df445c",
   "metadata": {},
   "outputs": [],
   "source": [
    "nomes_classes = ['cloudy', 'desert', 'green_area', 'water']"
   ]
  },
  {
   "cell_type": "code",
   "execution_count": 8,
   "id": "1a639f3f",
   "metadata": {},
   "outputs": [],
   "source": [
    "# Loop para criar as pastas\n",
    "for i in range(len(nomes_classes)):\n",
    "    \n",
    "    # Extrai o nome de cada classe\n",
    "    class1 = '/' + nomes_classes[i]\n",
    "    \n",
    "    # Cria as pastas\n",
    "    os.makedirs('dados/treino/' + nomes_classes[i])\n",
    "    os.makedirs('dados/val/' + nomes_classes[i])\n",
    "    os.makedirs('dados/teste/' + nomes_classes[i])"
   ]
  },
  {
   "cell_type": "markdown",
   "id": "9276f1df",
   "metadata": {},
   "source": [
    "### 2.2 Input das imagens nas pastas"
   ]
  },
  {
   "cell_type": "code",
   "execution_count": 9,
   "id": "73622b82",
   "metadata": {},
   "outputs": [
    {
     "name": "stdout",
     "output_type": "stream",
     "text": [
      "\n",
      "Classe: cloudy\n",
      "Número Total de Imagens:  1500\n",
      "Imagens de Treino:  1050\n",
      "Imagens de Validação:  225\n",
      "Imagens de Teste:  225\n",
      "\n",
      "Classe: desert\n",
      "Número Total de Imagens:  1131\n",
      "Imagens de Treino:  791\n",
      "Imagens de Validação:  170\n",
      "Imagens de Teste:  170\n",
      "\n",
      "Classe: green_area\n",
      "Número Total de Imagens:  1500\n",
      "Imagens de Treino:  1050\n",
      "Imagens de Validação:  225\n",
      "Imagens de Teste:  225\n",
      "\n",
      "Classe: water\n",
      "Número Total de Imagens:  1500\n",
      "Imagens de Treino:  1050\n",
      "Imagens de Validação:  225\n",
      "Imagens de Teste:  225\n"
     ]
    }
   ],
   "source": [
    "# Loop\n",
    "for k in range(len(nomes_classes)):\n",
    "    \n",
    "    # Extrai um nome de classe\n",
    "    nome_classe = nomes_classes[k]\n",
    "    \n",
    "    # Define a fonte\n",
    "    src = pasta_dados_originais + \"/\" + nome_classe \n",
    "    \n",
    "    # Mostra qual classe estamos processando\n",
    "    print(\"\\nClasse:\", nomes_classes[k])\n",
    "    \n",
    "    # Lista o conteúdo da pasta\n",
    "    allFileNames = os.listdir(src)\n",
    "    \n",
    "    # \"Embaralha\" os dados\n",
    "    np.random.shuffle(allFileNames)\n",
    "    \n",
    "    # Divisão = 70% treino, 15% teste, 15% validação \n",
    "    train_FileNames, val_FileNames, test_FileNames = np.split(np.array(allFileNames),\n",
    "                                                          [int(len(allFileNames)*0.7), int(len(allFileNames)*0.85)])\n",
    "\n",
    "\n",
    "    # Nome dos arquivos\n",
    "    train_FileNames = [src + '/' + name for name in train_FileNames.tolist()]\n",
    "    val_FileNames = [src + '/' + name for name in val_FileNames.tolist()]\n",
    "    test_FileNames = [src + '/' + name for name in test_FileNames.tolist()]\n",
    "\n",
    "    # Print\n",
    "    print('Número Total de Imagens: ', len(allFileNames))\n",
    "    print('Imagens de Treino: ', len(train_FileNames))\n",
    "    print('Imagens de Validação: ', len(val_FileNames))\n",
    "    print('Imagens de Teste: ', len(test_FileNames))\n",
    "    \n",
    "    # Copia as imagens\n",
    "    for name in train_FileNames:\n",
    "        shutil.copy(name, \"dados/treino/\" + nome_classe)\n",
    "    \n",
    "    for name in val_FileNames:\n",
    "        shutil.copy(name, \"dados/val/\" + nome_classe)\n",
    "        \n",
    "    for name in test_FileNames:\n",
    "        shutil.copy(name, \"dados/teste/\" + nome_classe)  "
   ]
  },
  {
   "cell_type": "markdown",
   "id": "be4c4b5e",
   "metadata": {},
   "source": [
    "### 2.3 Verificando o ambiente de desenvolvimento"
   ]
  },
  {
   "cell_type": "code",
   "execution_count": 10,
   "id": "9bfa285d",
   "metadata": {},
   "outputs": [
    {
     "name": "stdout",
     "output_type": "stream",
     "text": [
      "--------------------------------------Visão Geral do Ambiente---------------------------------------\n",
      "\n",
      "Device: cpu\n",
      "Pasta de Dados:  dados\n",
      "Versões dos Pacotes Requeridos:  [('matplotlib', '3.5.2'), ('numpy', '1.21.5'), ('torch', '1.13.0'), ('torchvision', '0.14.0')]\n",
      "Dispositivo Que Será Usado Para Treinar o Modelo:  cpu\n",
      "CUDA Está Disponível?  False\n",
      "Versão do PyTorch:  1.13.0+cpu\n",
      "Versão do Lightning:  1.8.3\n",
      "\n",
      "------------------Se NVIDIA-SMI não for encontrado, então CUDA não está disponível------------------\n",
      "\n",
      "\n",
      "Limpando a Memória da GPU (se disponível):  None\n",
      "\n",
      "------------------------------------------Fim da Checagem-------------------------------------------\n"
     ]
    },
    {
     "name": "stderr",
     "output_type": "stream",
     "text": [
      "'nvidia-smi' nÆo ‚ reconhecido como um comando interno\n",
      "ou externo, um programa oper vel ou um arquivo em lotes.\n"
     ]
    }
   ],
   "source": [
    "# Relatório completo\n",
    "\n",
    "# Verificando o dispositivo\n",
    "processing_device = \"cuda\" if torch.cuda.is_available() else \"cpu\"\n",
    "\n",
    "# Verificando se GPU pode ser usada (isso depende da plataforma CUDA estar instalada)\n",
    "torch_aval = torch.cuda.is_available()\n",
    "\n",
    "# Labels para o relatório de verificação\n",
    "lable_1 = 'Visão Geral do Ambiente'\n",
    "lable_2 = 'Se NVIDIA-SMI não for encontrado, então CUDA não está disponível'\n",
    "lable_3 = 'Fim da Checagem'\n",
    "\n",
    "# Função para verificar o que está importado nesta sessão\n",
    "def get_imports():\n",
    "\n",
    "    for name, val in globals().items():\n",
    "        if isinstance(val, types.ModuleType):\n",
    "            name = val.__name__.split(\".\")[0]\n",
    "\n",
    "        elif isinstance(val, type):            \n",
    "            name = val.__module__.split(\".\")[0]\n",
    "\n",
    "        poorly_named_packages = {\"PIL\": \"Pillow\", \"sklearn\": \"scikit-learn\"}\n",
    "\n",
    "        if name in poorly_named_packages.keys():\n",
    "            name = poorly_named_packages[name]\n",
    "\n",
    "        yield name\n",
    "\n",
    "# Imports nesta sessão\n",
    "imports = list(set(get_imports()))\n",
    "\n",
    "# Loop para verificar os requerimentos\n",
    "requirements = []\n",
    "for m in pkg_resources.working_set:\n",
    "    if m.project_name in imports and m.project_name!=\"pip\":\n",
    "        requirements.append((m.project_name, m.version))\n",
    "        \n",
    "# Pasta com os dados (quando necessário)\n",
    "pasta_dados = r'dados'\n",
    "\n",
    "print(f'{lable_1:-^100}')\n",
    "print()\n",
    "print(f\"Device:\", processing_device)\n",
    "print(f\"Pasta de Dados: \", pasta_dados)\n",
    "print(f\"Versões dos Pacotes Requeridos: \", requirements)\n",
    "print(f\"Dispositivo Que Será Usado Para Treinar o Modelo: \", processing_device)\n",
    "print(f\"CUDA Está Disponível? \", torch_aval)\n",
    "print(\"Versão do PyTorch: \", torch.__version__)\n",
    "print(\"Versão do Lightning: \", pl.__version__)\n",
    "print()\n",
    "print(f'{lable_2:-^100}\\n')\n",
    "!nvidia-smi\n",
    "gc.collect()\n",
    "print()\n",
    "print(f\"Limpando a Memória da GPU (se disponível): \", torch.cuda.empty_cache())\n",
    "print(f'\\n{lable_3:-^100}')"
   ]
  },
  {
   "cell_type": "markdown",
   "id": "6be4e477",
   "metadata": {},
   "source": [
    "### 2.4 Funções auxiliares para input dos dados no dispositivo de treino"
   ]
  },
  {
   "cell_type": "code",
   "execution_count": 11,
   "id": "72d61f15",
   "metadata": {},
   "outputs": [],
   "source": [
    "# Função para obter o device\n",
    "# Se disponível usamos GPU, caso contrário usamos CPU.\n",
    "\n",
    "def get_default_device():\n",
    "    if torch.cuda.is_available():\n",
    "        return torch.device('cuda')\n",
    "    else:\n",
    "        return torch.device('cpu')"
   ]
  },
  {
   "cell_type": "code",
   "execution_count": 12,
   "id": "8a97d45f",
   "metadata": {},
   "outputs": [],
   "source": [
    "# Função para enviar um tensor para o device\n",
    "def to_device(data, device):\n",
    "    if isinstance(data, (list, tuple)):\n",
    "        return [to_device(x, device) for x in data]\n",
    "    return data.to(device, non_blocking = True)"
   ]
  },
  {
   "cell_type": "code",
   "execution_count": 13,
   "id": "b4871c11",
   "metadata": {},
   "outputs": [],
   "source": [
    "# Classe para enviar os dataloaders para o device\n",
    "class DeviceDataLoader():\n",
    "    \n",
    "    def __init__(self, dl, device):\n",
    "        self.dl = dl\n",
    "        self.device = device\n",
    "    \n",
    "    def __iter__(self):\n",
    "        for b in self.dl:\n",
    "            yield to_device(b, self.device)\n",
    "    \n",
    "    def __len__(self):\n",
    "        return len(self.dl)"
   ]
  },
  {
   "cell_type": "code",
   "execution_count": 14,
   "id": "325cc4a9",
   "metadata": {},
   "outputs": [
    {
     "data": {
      "text/plain": [
       "device(type='cpu')"
      ]
     },
     "execution_count": 14,
     "metadata": {},
     "output_type": "execute_result"
    }
   ],
   "source": [
    "# Visualiza o device\n",
    "device = get_default_device()\n",
    "device"
   ]
  },
  {
   "cell_type": "markdown",
   "id": "971ad5d2",
   "metadata": {},
   "source": [
    "## 3. Pré-Processamento dos Dados"
   ]
  },
  {
   "cell_type": "markdown",
   "id": "edecac7a",
   "metadata": {},
   "source": [
    "### 3.1 Transformação dos dados"
   ]
  },
  {
   "cell_type": "code",
   "execution_count": 15,
   "id": "c137dc28",
   "metadata": {},
   "outputs": [],
   "source": [
    "# Processo de normalização dos dados (médias e desvio padrão para cada canal de cor)\n",
    "stats = ((0.4914, 0.4822, 0.4465), (0.2023, 0.1994, 0.2010))"
   ]
  },
  {
   "cell_type": "code",
   "execution_count": 16,
   "id": "ac805b4d",
   "metadata": {},
   "outputs": [],
   "source": [
    "# Define as transformações dos dados\n",
    "transforms = transforms.Compose([transforms.RandomCrop(64, padding_mode = 'reflect'),\n",
    "                                 transforms.Resize(64),\n",
    "                                 transforms.RandomHorizontalFlip(),\n",
    "                                 transforms.ToTensor(),\n",
    "                                 transforms.Normalize(*stats, inplace = True)])"
   ]
  },
  {
   "cell_type": "markdown",
   "id": "3002a582",
   "metadata": {},
   "source": [
    "### 3.2 Carga dos dados"
   ]
  },
  {
   "cell_type": "code",
   "execution_count": 17,
   "id": "c7459ced",
   "metadata": {},
   "outputs": [],
   "source": [
    "# Dados de treino\n",
    "dados_treino = datasets.ImageFolder('dados/treino', transform = transforms)"
   ]
  },
  {
   "cell_type": "code",
   "execution_count": 18,
   "id": "33926893",
   "metadata": {},
   "outputs": [],
   "source": [
    "# Dados de validação\n",
    "dados_valid = datasets.ImageFolder('dados/val', transform = transforms)"
   ]
  },
  {
   "cell_type": "code",
   "execution_count": 19,
   "id": "479d5b71",
   "metadata": {},
   "outputs": [],
   "source": [
    "# Dados de teste\n",
    "dados_teste = datasets.ImageFolder('dados/teste', transform = transforms)"
   ]
  },
  {
   "cell_type": "code",
   "execution_count": 20,
   "id": "e54b58e9",
   "metadata": {},
   "outputs": [
    {
     "name": "stdout",
     "output_type": "stream",
     "text": [
      "Número Total de Imagens de Treino: 3941\n",
      "Número Total de Imagens de Validação: 845\n",
      "Número Total de Imagens de Teste: 845\n"
     ]
    }
   ],
   "source": [
    "# Visualiza os dados\n",
    "print(f\"Número Total de Imagens de Treino: {len(dados_treino)}\")\n",
    "print(f\"Número Total de Imagens de Validação: {len(dados_valid)}\")\n",
    "print(f\"Número Total de Imagens de Teste: {len(dados_teste)}\") "
   ]
  },
  {
   "cell_type": "markdown",
   "id": "94e6411d",
   "metadata": {},
   "source": [
    "### 3.3 Prepara os dataloaders"
   ]
  },
  {
   "cell_type": "code",
   "execution_count": 21,
   "id": "4adae435",
   "metadata": {},
   "outputs": [],
   "source": [
    "# Parâmetros para os dataloaders\n",
    "batch_size = 8\n",
    "shuffle = True\n",
    "num_workers = 2\n",
    "pin_memory = True"
   ]
  },
  {
   "cell_type": "code",
   "execution_count": 22,
   "id": "d5723de3",
   "metadata": {},
   "outputs": [],
   "source": [
    "# Data loader de treino\n",
    "data_loader_treino = DataLoader(dados_treino, \n",
    "                                batch_size, \n",
    "                                shuffle = shuffle, \n",
    "                                num_workers = num_workers, \n",
    "                                pin_memory = pin_memory)"
   ]
  },
  {
   "cell_type": "code",
   "execution_count": 23,
   "id": "b8418bc3",
   "metadata": {},
   "outputs": [],
   "source": [
    "# Data loader de validação\n",
    "data_loader_valid = DataLoader(dados_valid, \n",
    "                               batch_size, \n",
    "                               num_workers = num_workers, \n",
    "                               pin_memory = pin_memory)"
   ]
  },
  {
   "cell_type": "code",
   "execution_count": 24,
   "id": "349ae59e",
   "metadata": {},
   "outputs": [],
   "source": [
    "# Data loader de teste\n",
    "data_loader_teste = DataLoader(dados_teste, \n",
    "                               batch_size * 2, \n",
    "                               num_workers = num_workers, \n",
    "                               pin_memory = pin_memory)"
   ]
  },
  {
   "cell_type": "code",
   "execution_count": 25,
   "id": "54628d6c",
   "metadata": {},
   "outputs": [],
   "source": [
    "# Função para \"desnormalizar\" os dados\n",
    "def denormalize(images, means, stds):\n",
    "    means = torch.tensor(means).reshape(1, 3, 1, 1)\n",
    "    stds = torch.tensor(stds).reshape(1, 3, 1, 1)\n",
    "    return images * stds + means"
   ]
  },
  {
   "cell_type": "code",
   "execution_count": 26,
   "id": "244e6814",
   "metadata": {},
   "outputs": [],
   "source": [
    "# Função para imprimir um batch de dados\n",
    "def mostra_dados(dl):\n",
    "    for images, labels in dl:\n",
    "        fig, ax = plt.subplots(figsize = (12, 12))\n",
    "        ax.set_xticks([]); ax.set_yticks([])\n",
    "        denorm_images = denormalize(images, *stats)\n",
    "        ax.imshow(make_grid(denorm_images[:64], nrow = 8).permute(1, 2, 0).clamp(0,1))\n",
    "        break"
   ]
  },
  {
   "cell_type": "code",
   "execution_count": 27,
   "id": "7ede13b3",
   "metadata": {},
   "outputs": [],
   "source": [
    "#mostra_dados(data_loader_treino)"
   ]
  },
  {
   "cell_type": "markdown",
   "id": "dd9c8e3d",
   "metadata": {},
   "source": [
    "## 4. Arquitetura do Modelo"
   ]
  },
  {
   "cell_type": "code",
   "execution_count": null,
   "id": "86236eb5",
   "metadata": {},
   "outputs": [],
   "source": []
  },
  {
   "cell_type": "code",
   "execution_count": null,
   "id": "09f39ba9",
   "metadata": {},
   "outputs": [],
   "source": []
  },
  {
   "cell_type": "code",
   "execution_count": null,
   "id": "b18257ad",
   "metadata": {},
   "outputs": [],
   "source": []
  },
  {
   "cell_type": "code",
   "execution_count": null,
   "id": "5f063873",
   "metadata": {},
   "outputs": [],
   "source": []
  },
  {
   "cell_type": "code",
   "execution_count": null,
   "id": "871b64d0",
   "metadata": {},
   "outputs": [],
   "source": []
  },
  {
   "cell_type": "code",
   "execution_count": null,
   "id": "85198a2e",
   "metadata": {},
   "outputs": [],
   "source": []
  },
  {
   "cell_type": "code",
   "execution_count": null,
   "id": "7ed06878",
   "metadata": {},
   "outputs": [],
   "source": []
  },
  {
   "cell_type": "code",
   "execution_count": null,
   "id": "66ca956d",
   "metadata": {},
   "outputs": [],
   "source": []
  },
  {
   "cell_type": "code",
   "execution_count": null,
   "id": "f88d9e43",
   "metadata": {},
   "outputs": [],
   "source": []
  },
  {
   "cell_type": "code",
   "execution_count": null,
   "id": "5bad9e6f",
   "metadata": {},
   "outputs": [],
   "source": []
  },
  {
   "cell_type": "code",
   "execution_count": null,
   "id": "e223afc3",
   "metadata": {},
   "outputs": [],
   "source": []
  }
 ],
 "metadata": {
  "kernelspec": {
   "display_name": "Python 3 (ipykernel)",
   "language": "python",
   "name": "python3"
  },
  "language_info": {
   "codemirror_mode": {
    "name": "ipython",
    "version": 3
   },
   "file_extension": ".py",
   "mimetype": "text/x-python",
   "name": "python",
   "nbconvert_exporter": "python",
   "pygments_lexer": "ipython3",
   "version": "3.9.13"
  }
 },
 "nbformat": 4,
 "nbformat_minor": 5
}
