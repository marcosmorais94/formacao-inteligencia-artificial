{
 "cells": [
  {
   "cell_type": "markdown",
   "id": "2112c225",
   "metadata": {},
   "source": [
    "# Projeto 2 - Sistema de Recomendação para Aplicativos de Contabilidade"
   ]
  },
  {
   "cell_type": "markdown",
   "id": "256f9077",
   "metadata": {},
   "source": [
    "Neste projeto o objetivo é construir um sistema de recomendação com a arquitetura Graph Attention Network – GAT através do mecanismo de atenção em uma rede convolucional de grafos. O projeto é em Linguagem Python com PyTorch e PyTorch Geometric.Ao final do projeto o sistema será capaz de recomendar aplicativos de Contabilidade."
   ]
  },
  {
   "cell_type": "markdown",
   "id": "d6ff8ed6",
   "metadata": {},
   "source": [
    "## 1. Carga e Instalação dos Pacotes"
   ]
  },
  {
   "cell_type": "code",
   "execution_count": 2,
   "id": "effc51b9",
   "metadata": {},
   "outputs": [
    {
     "name": "stdout",
     "output_type": "stream",
     "text": [
      "Versão da linguagem Python usada neste Jupyter Notebook é:  3.9.13\n"
     ]
    }
   ],
   "source": [
    "# Versão da Linguagem Python\n",
    "from platform import python_version\n",
    "print('Versão da linguagem Python usada neste Jupyter Notebook é: ', python_version())"
   ]
  },
  {
   "cell_type": "code",
   "execution_count": 3,
   "id": "0e35faa8",
   "metadata": {},
   "outputs": [],
   "source": [
    "# Instalação Pytorch\n",
    "!pip install -q torch==2.0.0"
   ]
  },
  {
   "cell_type": "code",
   "execution_count": 4,
   "id": "be78e4cf",
   "metadata": {},
   "outputs": [],
   "source": [
    "# Instalação Pytorch Geometric\n",
    "!pip install -q torch_geometric==2.3.1"
   ]
  },
  {
   "cell_type": "code",
   "execution_count": 5,
   "id": "6014f997",
   "metadata": {},
   "outputs": [],
   "source": [
    "# Carga dos Pacotes\n",
    "# Manipulação de Dados\n",
    "import pandas as pd\n",
    "import numpy as np\n",
    "\n",
    "# Pytorch\n",
    "import torch\n",
    "import torch.nn.functional as F\n",
    "\n",
    "# Pytorch-Geometric\n",
    "import torch_geometric\n",
    "from torch_geometric.data import Data\n",
    "from torch_geometric.nn import GATConv, global_mean_pool\n",
    "from torch_geometric.utils import to_undirected\n",
    "from torch_geometric.loader import DataLoader\n",
    "\n",
    "#Scikit-Learn\n",
    "import sklearn\n",
    "from sklearn.model_selection import train_test_split\n",
    "\n",
    "# Remoção de Warnings\n",
    "import warnings\n",
    "warnings.filterwarnings('ignore')"
   ]
  },
  {
   "cell_type": "code",
   "execution_count": 6,
   "id": "667f9ba8",
   "metadata": {},
   "outputs": [
    {
     "name": "stdout",
     "output_type": "stream",
     "text": [
      "Author: Projeto 2 - Sistema de Recomendação App Contabilidade\n",
      "\n",
      "sklearn        : 1.0.2\n",
      "torch_geometric: 2.3.1\n",
      "torch          : 2.0.0\n",
      "numpy          : 1.21.5\n",
      "pandas         : 1.4.4\n",
      "\n"
     ]
    }
   ],
   "source": [
    "# Versões dos pacotes usados neste jupyter notebook\n",
    "%reload_ext watermark\n",
    "%watermark -a \"Projeto 2 - Sistema de Recomendação App Contabilidade\" --iversions"
   ]
  },
  {
   "cell_type": "markdown",
   "id": "26943425",
   "metadata": {},
   "source": [
    "## 2. Preparação do Conjunto de Dados"
   ]
  },
  {
   "cell_type": "code",
   "execution_count": 8,
   "id": "afa5d6f5",
   "metadata": {},
   "outputs": [],
   "source": [
    "# Dataframe de usuários\n",
    "users = pd.DataFrame({\"user_id\": [0, 1, 2, 3]})\n",
    "\n",
    "# Dataframe de apps\n",
    "aplicativos = pd.DataFrame({\"app_id\": [0, 1, 2]})\n",
    "\n",
    "# Dataframe de avaliações (ratings)\n",
    "ratings = pd.DataFrame({\"user_id\": [0, 1, 1, 2, 3],\n",
    "                        \"app_id\": [0, 0, 1, 2, 2],\n",
    "                        \"rating\": [4, 5, 3, 2, 4]})"
   ]
  },
  {
   "cell_type": "code",
   "execution_count": 9,
   "id": "b9cdd997",
   "metadata": {},
   "outputs": [
    {
     "data": {
      "text/html": [
       "<div>\n",
       "<style scoped>\n",
       "    .dataframe tbody tr th:only-of-type {\n",
       "        vertical-align: middle;\n",
       "    }\n",
       "\n",
       "    .dataframe tbody tr th {\n",
       "        vertical-align: top;\n",
       "    }\n",
       "\n",
       "    .dataframe thead th {\n",
       "        text-align: right;\n",
       "    }\n",
       "</style>\n",
       "<table border=\"1\" class=\"dataframe\">\n",
       "  <thead>\n",
       "    <tr style=\"text-align: right;\">\n",
       "      <th></th>\n",
       "      <th>user_id</th>\n",
       "    </tr>\n",
       "  </thead>\n",
       "  <tbody>\n",
       "    <tr>\n",
       "      <th>0</th>\n",
       "      <td>0</td>\n",
       "    </tr>\n",
       "    <tr>\n",
       "      <th>1</th>\n",
       "      <td>1</td>\n",
       "    </tr>\n",
       "    <tr>\n",
       "      <th>2</th>\n",
       "      <td>2</td>\n",
       "    </tr>\n",
       "    <tr>\n",
       "      <th>3</th>\n",
       "      <td>3</td>\n",
       "    </tr>\n",
       "  </tbody>\n",
       "</table>\n",
       "</div>"
      ],
      "text/plain": [
       "   user_id\n",
       "0        0\n",
       "1        1\n",
       "2        2\n",
       "3        3"
      ]
     },
     "execution_count": 9,
     "metadata": {},
     "output_type": "execute_result"
    }
   ],
   "source": [
    "# Visualiza dados de usuários\n",
    "users"
   ]
  },
  {
   "cell_type": "code",
   "execution_count": 10,
   "id": "17253f57",
   "metadata": {},
   "outputs": [
    {
     "data": {
      "text/html": [
       "<div>\n",
       "<style scoped>\n",
       "    .dataframe tbody tr th:only-of-type {\n",
       "        vertical-align: middle;\n",
       "    }\n",
       "\n",
       "    .dataframe tbody tr th {\n",
       "        vertical-align: top;\n",
       "    }\n",
       "\n",
       "    .dataframe thead th {\n",
       "        text-align: right;\n",
       "    }\n",
       "</style>\n",
       "<table border=\"1\" class=\"dataframe\">\n",
       "  <thead>\n",
       "    <tr style=\"text-align: right;\">\n",
       "      <th></th>\n",
       "      <th>app_id</th>\n",
       "    </tr>\n",
       "  </thead>\n",
       "  <tbody>\n",
       "    <tr>\n",
       "      <th>0</th>\n",
       "      <td>0</td>\n",
       "    </tr>\n",
       "    <tr>\n",
       "      <th>1</th>\n",
       "      <td>1</td>\n",
       "    </tr>\n",
       "    <tr>\n",
       "      <th>2</th>\n",
       "      <td>2</td>\n",
       "    </tr>\n",
       "  </tbody>\n",
       "</table>\n",
       "</div>"
      ],
      "text/plain": [
       "   app_id\n",
       "0       0\n",
       "1       1\n",
       "2       2"
      ]
     },
     "execution_count": 10,
     "metadata": {},
     "output_type": "execute_result"
    }
   ],
   "source": [
    "# Visualiza dados de aplicativos\n",
    "aplicativos"
   ]
  },
  {
   "cell_type": "code",
   "execution_count": 11,
   "id": "c9b7980d",
   "metadata": {},
   "outputs": [
    {
     "data": {
      "text/html": [
       "<div>\n",
       "<style scoped>\n",
       "    .dataframe tbody tr th:only-of-type {\n",
       "        vertical-align: middle;\n",
       "    }\n",
       "\n",
       "    .dataframe tbody tr th {\n",
       "        vertical-align: top;\n",
       "    }\n",
       "\n",
       "    .dataframe thead th {\n",
       "        text-align: right;\n",
       "    }\n",
       "</style>\n",
       "<table border=\"1\" class=\"dataframe\">\n",
       "  <thead>\n",
       "    <tr style=\"text-align: right;\">\n",
       "      <th></th>\n",
       "      <th>user_id</th>\n",
       "      <th>app_id</th>\n",
       "      <th>rating</th>\n",
       "    </tr>\n",
       "  </thead>\n",
       "  <tbody>\n",
       "    <tr>\n",
       "      <th>0</th>\n",
       "      <td>0</td>\n",
       "      <td>0</td>\n",
       "      <td>4</td>\n",
       "    </tr>\n",
       "    <tr>\n",
       "      <th>1</th>\n",
       "      <td>1</td>\n",
       "      <td>0</td>\n",
       "      <td>5</td>\n",
       "    </tr>\n",
       "    <tr>\n",
       "      <th>2</th>\n",
       "      <td>1</td>\n",
       "      <td>1</td>\n",
       "      <td>3</td>\n",
       "    </tr>\n",
       "    <tr>\n",
       "      <th>3</th>\n",
       "      <td>2</td>\n",
       "      <td>2</td>\n",
       "      <td>2</td>\n",
       "    </tr>\n",
       "    <tr>\n",
       "      <th>4</th>\n",
       "      <td>3</td>\n",
       "      <td>2</td>\n",
       "      <td>4</td>\n",
       "    </tr>\n",
       "  </tbody>\n",
       "</table>\n",
       "</div>"
      ],
      "text/plain": [
       "   user_id  app_id  rating\n",
       "0        0       0       4\n",
       "1        1       0       5\n",
       "2        1       1       3\n",
       "3        2       2       2\n",
       "4        3       2       4"
      ]
     },
     "execution_count": 11,
     "metadata": {},
     "output_type": "execute_result"
    }
   ],
   "source": [
    "# Visualia dados de ratings\n",
    "ratings"
   ]
  },
  {
   "cell_type": "code",
   "execution_count": 12,
   "id": "8e37f4c6",
   "metadata": {},
   "outputs": [],
   "source": [
    "# Converta os IDs dos aplicativos para evitar confusão com os IDs dos usuários\n",
    "ratings[\"app_id\"] += users.shape[0] - 1"
   ]
  },
  {
   "cell_type": "code",
   "execution_count": 13,
   "id": "85e5fb36",
   "metadata": {},
   "outputs": [
    {
     "data": {
      "text/html": [
       "<div>\n",
       "<style scoped>\n",
       "    .dataframe tbody tr th:only-of-type {\n",
       "        vertical-align: middle;\n",
       "    }\n",
       "\n",
       "    .dataframe tbody tr th {\n",
       "        vertical-align: top;\n",
       "    }\n",
       "\n",
       "    .dataframe thead th {\n",
       "        text-align: right;\n",
       "    }\n",
       "</style>\n",
       "<table border=\"1\" class=\"dataframe\">\n",
       "  <thead>\n",
       "    <tr style=\"text-align: right;\">\n",
       "      <th></th>\n",
       "      <th>user_id</th>\n",
       "      <th>app_id</th>\n",
       "      <th>rating</th>\n",
       "    </tr>\n",
       "  </thead>\n",
       "  <tbody>\n",
       "    <tr>\n",
       "      <th>0</th>\n",
       "      <td>0</td>\n",
       "      <td>3</td>\n",
       "      <td>4</td>\n",
       "    </tr>\n",
       "    <tr>\n",
       "      <th>1</th>\n",
       "      <td>1</td>\n",
       "      <td>3</td>\n",
       "      <td>5</td>\n",
       "    </tr>\n",
       "    <tr>\n",
       "      <th>2</th>\n",
       "      <td>1</td>\n",
       "      <td>4</td>\n",
       "      <td>3</td>\n",
       "    </tr>\n",
       "    <tr>\n",
       "      <th>3</th>\n",
       "      <td>2</td>\n",
       "      <td>5</td>\n",
       "      <td>2</td>\n",
       "    </tr>\n",
       "    <tr>\n",
       "      <th>4</th>\n",
       "      <td>3</td>\n",
       "      <td>5</td>\n",
       "      <td>4</td>\n",
       "    </tr>\n",
       "  </tbody>\n",
       "</table>\n",
       "</div>"
      ],
      "text/plain": [
       "   user_id  app_id  rating\n",
       "0        0       3       4\n",
       "1        1       3       5\n",
       "2        1       4       3\n",
       "3        2       5       2\n",
       "4        3       5       4"
      ]
     },
     "execution_count": 13,
     "metadata": {},
     "output_type": "execute_result"
    }
   ],
   "source": [
    "# Visualiza as alterações em ratings\n",
    "ratings"
   ]
  },
  {
   "cell_type": "markdown",
   "id": "b0bd6e43",
   "metadata": {},
   "source": [
    "## 3. Pré-Processamento dos Dados em Formato de Grafo"
   ]
  },
  {
   "cell_type": "code",
   "execution_count": 14,
   "id": "de6fd8b8",
   "metadata": {},
   "outputs": [],
   "source": [
    "# Divide os dados em conjuntos de treinamento e teste\n",
    "train_ratings, test_ratings = train_test_split(ratings, test_size = 0.2, random_state = 42)"
   ]
  },
  {
   "cell_type": "code",
   "execution_count": 15,
   "id": "f524a290",
   "metadata": {},
   "outputs": [],
   "source": [
    "# Prepara os nodes de treino\n",
    "train_source_nodes = torch.tensor(train_ratings['user_id'].values, dtype = torch.long) #torch.long é para aumentar a precisão do cálculo, igual o float32\n",
    "train_target_nodes = torch.tensor(train_ratings['app_id'].values, dtype = torch.long)"
   ]
  },
  {
   "cell_type": "code",
   "execution_count": 16,
   "id": "b784766e",
   "metadata": {},
   "outputs": [
    {
     "data": {
      "text/plain": [
       "tensor([3, 1, 0, 2])"
      ]
     },
     "execution_count": 16,
     "metadata": {},
     "output_type": "execute_result"
    }
   ],
   "source": [
    "# Visualiza a fonte dos nodes\n",
    "train_source_nodes"
   ]
  },
  {
   "cell_type": "code",
   "execution_count": 17,
   "id": "895a8563",
   "metadata": {},
   "outputs": [
    {
     "data": {
      "text/plain": [
       "tensor([5, 4, 3, 5])"
      ]
     },
     "execution_count": 17,
     "metadata": {},
     "output_type": "execute_result"
    }
   ],
   "source": [
    "# Visualiza o target dos nodes\n",
    "train_target_nodes"
   ]
  },
  {
   "cell_type": "markdown",
   "id": "e73dda44",
   "metadata": {},
   "source": [
    "Os dados separados em treino e teste são tranformados nos nodes, ou nós, para o processamente com os grafos. No exemplo acima, temos os nós dos usuários e os nós dos app, porém ainda não temos nada com o que ligar as duas partes."
   ]
  },
  {
   "cell_type": "code",
   "execution_count": 24,
   "id": "cde08d2a",
   "metadata": {},
   "outputs": [],
   "source": [
    "# Prepara os edges (arestas) de treino\n",
    "train_edge_index = torch.stack([train_source_nodes, train_target_nodes], dim = 0)\n",
    "train_edge_index = to_undirected(train_edge_index)\n",
    "#train_edge_attr = torch.tensor(train_ratings['rating'].values, dtype = torch.float32).view(-1,1)"
   ]
  },
  {
   "cell_type": "code",
   "execution_count": 25,
   "id": "1f94d83b",
   "metadata": {},
   "outputs": [
    {
     "data": {
      "text/plain": [
       "tensor([[0, 1, 2, 3, 3, 4, 5, 5],\n",
       "        [3, 4, 5, 0, 5, 1, 2, 3]])"
      ]
     },
     "execution_count": 25,
     "metadata": {},
     "output_type": "execute_result"
    }
   ],
   "source": [
    "# Visualiza o index\n",
    "train_edge_index"
   ]
  },
  {
   "cell_type": "code",
   "execution_count": 21,
   "id": "e27eb0ef",
   "metadata": {},
   "outputs": [
    {
     "data": {
      "text/plain": [
       "tensor([[4.],\n",
       "        [3.],\n",
       "        [4.],\n",
       "        [2.]])"
      ]
     },
     "execution_count": 21,
     "metadata": {},
     "output_type": "execute_result"
    }
   ],
   "source": [
    "# Visualiza a aresta\n",
    "train_edge_attr"
   ]
  },
  {
   "cell_type": "markdown",
   "id": "b2ea4b08",
   "metadata": {},
   "source": [
    "Esta etapa criou as arestas, ou seja, o que liga os nodes entre si. Aqui temos o caso a aresta bidirecional, que siginifica que o modelo irá aprender da fonte para o target e ao contrário também. Por isso no index, temos mais registros que nos nodes de treino, os números são os mesmos dos nodes de treino. Então temos o sentido indo e voltando.\n",
    "\n",
    "Nesse caso, a avaliação determina qual será a distância da aresta para ligar os nodes. "
   ]
  },
  {
   "cell_type": "code",
   "execution_count": 26,
   "id": "fd8d3346",
   "metadata": {},
   "outputs": [],
   "source": [
    "# Repete o processo anterior para os dados de teste\n",
    "test_source_nodes = torch.tensor(test_ratings[\"user_id\"].values, dtype = torch.long)\n",
    "test_target_nodes = torch.tensor(test_ratings[\"app_id\"].values, dtype = torch.long)\n",
    "test_edge_index = torch.stack([test_source_nodes, test_target_nodes], dim = 0)\n",
    "test_edge_index = to_undirected(test_edge_index)\n",
    "test_edge_attr = torch.tensor(test_ratings[\"rating\"].values, dtype = torch.float32).view(-1, 1)"
   ]
  },
  {
   "cell_type": "code",
   "execution_count": 27,
   "id": "f5b51d8e",
   "metadata": {},
   "outputs": [
    {
     "data": {
      "text/plain": [
       "7"
      ]
     },
     "execution_count": 27,
     "metadata": {},
     "output_type": "execute_result"
    }
   ],
   "source": [
    "# Número de nodes\n",
    "num_nodes = users.shape[0] + aplicativos.shape[0]\n",
    "\n",
    "# Visualiza o número de nodes\n",
    "num_nodes"
   ]
  },
  {
   "cell_type": "code",
   "execution_count": 28,
   "id": "9330e842",
   "metadata": {},
   "outputs": [],
   "source": [
    "# Cria os atributos de aresta do conjunto de treinamento\n",
    "# Função Data do Torch-Geometric\n",
    "# Função cria o conjunto de dados com grafo, cria uma matriz\n",
    "train_data = Data(x = torch.eye(num_nodes, dtype = torch.float32),\n",
    "                  edge_index = train_edge_index, #Indices das arestas\n",
    "                  edge_attr = train_edge_attr, # Atributos das arestas\n",
    "                  y = train_edge_attr) # Avaliação dos usuários, o que o modelo vai prever"
   ]
  },
  {
   "cell_type": "code",
   "execution_count": 29,
   "id": "d5439731",
   "metadata": {},
   "outputs": [
    {
     "data": {
      "text/plain": [
       "Data(x=[7, 7], edge_index=[2, 8], edge_attr=[4, 1], y=[4, 1])"
      ]
     },
     "execution_count": 29,
     "metadata": {},
     "output_type": "execute_result"
    }
   ],
   "source": [
    "# Visualiza o grafo\n",
    "train_data"
   ]
  },
  {
   "cell_type": "markdown",
   "id": "9b2a7d97",
   "metadata": {},
   "source": [
    "##### Descrição dos Itens no Grafo\n",
    "\n",
    "Essa representação acima é típica de um objeto Data do PyTorch Geometric, que armazena as informações de um grafo em um formato específico. Vamos entender cada componente dessa representação:\n",
    "\n",
    "x=[7, 7]: Essa é a matriz de atributos dos nós. O primeiro valor (7) indica o número de nós no grafo, e o segundo valor (7) representa o número de atributos (características) para cada nó. Portanto, a matriz de atributos dos nós terá dimensões 7x7.\n",
    "\n",
    "edge_index=[2, 8]: Essa é a matriz de índices de arestas, que indica as conexões entre os nós. A matriz tem duas linhas (valor 2), onde cada coluna representa uma aresta. O número 8 indica que existem 8 arestas no grafo.\n",
    "\n",
    "edge_attr=[4, 1]: Essa é a matriz de atributos das arestas. O primeiro valor (4) indica o número de arestas no grafo, e o segundo valor (1) representa o número de atributos (características) para cada aresta. \n",
    "\n",
    "y=[4, 1]: Essa é a matriz de rótulos (labels) dos nós ou arestas, geralmente usada como a variável alvo (target) em problemas de aprendizado supervisionado. O primeiro valor (4) indica o número de rótulos, e o segundo valor (1) indica que cada rótulo é unidimensional (escalar). "
   ]
  },
  {
   "cell_type": "code",
   "execution_count": 30,
   "id": "d953bd98",
   "metadata": {},
   "outputs": [],
   "source": [
    "# Cria os atributos de aresta do conjunto de teste\n",
    "test_data = Data(x = torch.eye(num_nodes, dtype = torch.float32), \n",
    "                 edge_index = test_edge_index, \n",
    "                 edge_attr = test_edge_attr, \n",
    "                 y = test_edge_attr)"
   ]
  },
  {
   "cell_type": "code",
   "execution_count": 31,
   "id": "0e6a51a0",
   "metadata": {},
   "outputs": [],
   "source": [
    "# Cria os dataloaders (o que é requerido pelo PyTorch)\n",
    "train_data_loader = DataLoader([train_data], batch_size = 1)\n",
    "test_data_loader = DataLoader([test_data], batch_size = 1)"
   ]
  },
  {
   "cell_type": "markdown",
   "id": "29b5e94a",
   "metadata": {},
   "source": [
    "## 4. Construção do Modelo"
   ]
  },
  {
   "cell_type": "code",
   "execution_count": null,
   "id": "75da9de1",
   "metadata": {},
   "outputs": [],
   "source": []
  },
  {
   "cell_type": "code",
   "execution_count": null,
   "id": "e1b43116",
   "metadata": {},
   "outputs": [],
   "source": []
  },
  {
   "cell_type": "code",
   "execution_count": null,
   "id": "50022847",
   "metadata": {},
   "outputs": [],
   "source": []
  },
  {
   "cell_type": "code",
   "execution_count": null,
   "id": "854a991e",
   "metadata": {},
   "outputs": [],
   "source": []
  },
  {
   "cell_type": "code",
   "execution_count": null,
   "id": "fd080532",
   "metadata": {},
   "outputs": [],
   "source": []
  },
  {
   "cell_type": "code",
   "execution_count": null,
   "id": "af2ad382",
   "metadata": {},
   "outputs": [],
   "source": []
  },
  {
   "cell_type": "code",
   "execution_count": null,
   "id": "61eacaa5",
   "metadata": {},
   "outputs": [],
   "source": []
  }
 ],
 "metadata": {
  "kernelspec": {
   "display_name": "Python 3 (ipykernel)",
   "language": "python",
   "name": "python3"
  },
  "language_info": {
   "codemirror_mode": {
    "name": "ipython",
    "version": 3
   },
   "file_extension": ".py",
   "mimetype": "text/x-python",
   "name": "python",
   "nbconvert_exporter": "python",
   "pygments_lexer": "ipython3",
   "version": "3.9.13"
  }
 },
 "nbformat": 4,
 "nbformat_minor": 5
}
