{
 "cells": [
  {
   "cell_type": "markdown",
   "id": "03562294",
   "metadata": {},
   "source": [
    "# Projeto 1 - Análise de Sentimento com Transformers"
   ]
  },
  {
   "cell_type": "markdown",
   "id": "a5e6f7f2",
   "metadata": {},
   "source": [
    "Este script em Python tem como objetivo demonstrar uma análise de sentimento com o uso de inteligência artificial, no caso com um modelo transformer. A análise de sentimento é uma ferramenta capaz de identificar se determinada mensagem, como um tweet ou post no Facebook, são positivas ou negativas. Ou seja, com Inteligência Artificial é possível identificar se uma campanha de marketing surtiu o efeito previsto com base na análise das mensagens públicas nas redes sociais sobre o tema."
   ]
  },
  {
   "cell_type": "markdown",
   "id": "28a0acfc",
   "metadata": {},
   "source": [
    "## 1. Instalando os pacotes"
   ]
  },
  {
   "cell_type": "code",
   "execution_count": 1,
   "id": "9d51b2ea",
   "metadata": {},
   "outputs": [
    {
     "name": "stdout",
     "output_type": "stream",
     "text": [
      "A versão da linguagem Python usada neste Jupyter Notebook é:  3.9.13\n"
     ]
    }
   ],
   "source": [
    "# Versão da linguagem Python\n",
    "from platform import python_version\n",
    "print(\"A versão da linguagem Python usada neste Jupyter Notebook é: \", python_version())"
   ]
  },
  {
   "cell_type": "code",
   "execution_count": 3,
   "id": "856975b7",
   "metadata": {},
   "outputs": [],
   "source": [
    "# Instala o Pytorch\n",
    "!pip install -q torch==2.0.0"
   ]
  },
  {
   "cell_type": "code",
   "execution_count": 4,
   "id": "36572164",
   "metadata": {},
   "outputs": [],
   "source": [
    "# Instala o transformes\n",
    "!pip install -q transformers==4.28.1"
   ]
  },
  {
   "cell_type": "code",
   "execution_count": 5,
   "id": "b8035f67",
   "metadata": {},
   "outputs": [],
   "source": [
    "# Carga de Pacotes\n",
    "\n",
    "# CSV para importar base de dados\n",
    "import csv\n",
    "\n",
    "# Pytorch\n",
    "import torch\n",
    "from torch.utils.data import DataLoader, Dataset\n",
    "\n",
    "# Transformers\n",
    "from transformers import BertTokenizer, BertForSequenceClassification\n",
    "\n",
    "# Scikit-learn\n",
    "from sklearn.model_selection import train_test_split"
   ]
  },
  {
   "cell_type": "code",
   "execution_count": 6,
   "id": "8fc88278",
   "metadata": {},
   "outputs": [],
   "source": [
    "# Remove os avisos do Transformers\n",
    "from transformers import logging\n",
    "logging.set_verbosity_error()"
   ]
  },
  {
   "cell_type": "code",
   "execution_count": 7,
   "id": "de67985d",
   "metadata": {},
   "outputs": [
    {
     "name": "stdout",
     "output_type": "stream",
     "text": [
      "Author: Projeto 1 - Análise de Sentimento com I.A\n",
      "\n",
      "torch       : 2.0.0\n",
      "csv         : 1.0\n",
      "transformers: 4.28.1\n",
      "\n"
     ]
    }
   ],
   "source": [
    "# Versões dos pacotes usados neste Jupyter Notebook\n",
    "%reload_ext watermark\n",
    "%watermark -a \"Projeto 1 - Análise de Sentimento com I.A\" --iversions"
   ]
  },
  {
   "cell_type": "markdown",
   "id": "af6b886b",
   "metadata": {},
   "source": [
    "## 2. Carga dos dados"
   ]
  },
  {
   "cell_type": "code",
   "execution_count": 8,
   "id": "7f312397",
   "metadata": {},
   "outputs": [],
   "source": [
    "# Caminho do arquivo CSV\n",
    "csv_file_path = 'dados-projeto1/frases.csv'"
   ]
  },
  {
   "cell_type": "code",
   "execution_count": 9,
   "id": "74952f61",
   "metadata": {},
   "outputs": [],
   "source": [
    "# Cria lista para armazenar as frases\n",
    "frases = []"
   ]
  },
  {
   "cell_type": "code",
   "execution_count": 10,
   "id": "5307fe9c",
   "metadata": {},
   "outputs": [],
   "source": [
    "# Abre o arquivo CSV no modo de leitura ('r')\n",
    "# Usa o objeto 'csv.reader' para ler o arquivo\n",
    "with open(csv_file_path, 'r', encoding='utf-8') as file:\n",
    "    \n",
    "    csv_reader = csv.reader(file)\n",
    "    \n",
    "    # Iterar sobre cada linha no arquivo CSV\n",
    "    for row in csv_reader:\n",
    "        frase = row[0]\n",
    "        frases.append(frase)"
   ]
  },
  {
   "cell_type": "code",
   "execution_count": 11,
   "id": "de40fbd8",
   "metadata": {},
   "outputs": [
    {
     "name": "stdout",
     "output_type": "stream",
     "text": [
      "['Eu amei este filme!', 'Este produto é terrível.', 'A comida estava deliciosa.', 'O serviço foi péssimo.', 'Este livro é incrível.', 'A história da Inglaterra é curiosa.', 'Não gostei daquele novo modelo de carro.', 'Aqueles foi um dos melhores jogos de futebol da história.', 'Este curso é fantástico e de alto nível.', 'O serviço do garçom não esteve à altura do nome do restaurante.']\n"
     ]
    }
   ],
   "source": [
    "# Visualiza as frases\n",
    "print(frases)"
   ]
  },
  {
   "cell_type": "code",
   "execution_count": 12,
   "id": "51d1be36",
   "metadata": {},
   "outputs": [],
   "source": [
    "# Nome do objeto\n",
    "texts = frases"
   ]
  },
  {
   "cell_type": "code",
   "execution_count": 13,
   "id": "fcc8909a",
   "metadata": {},
   "outputs": [],
   "source": [
    "# Carrega os labels\n",
    "# 1: positivo, 0: negativo\n",
    "labels = [1, 0, 1, 0, 1, 1, 0, 1, 1, 0]"
   ]
  },
  {
   "cell_type": "markdown",
   "id": "cd3c5f8f",
   "metadata": {},
   "source": [
    "## 3. Pré-Processamento dos dados"
   ]
  },
  {
   "cell_type": "code",
   "execution_count": 14,
   "id": "21ef69ed",
   "metadata": {},
   "outputs": [],
   "source": [
    "RANDOM_SEED = 42"
   ]
  },
  {
   "cell_type": "code",
   "execution_count": 15,
   "id": "848a12b8",
   "metadata": {},
   "outputs": [],
   "source": [
    "# Divisão dos dados em treino e teste\n",
    "train_texts, test_texts, train_labels, test_labels = train_test_split(texts,\n",
    "                                                                      labels,\n",
    "                                                                      test_size = 0.2,\n",
    "                                                                      random_state = RANDOM_SEED)\n"
   ]
  },
  {
   "cell_type": "code",
   "execution_count": 16,
   "id": "f9c0a60a",
   "metadata": {},
   "outputs": [],
   "source": [
    "# Carrega o tokenizador\n",
    "tokenizer = BertTokenizer.from_pretrained('bert-base-uncased')"
   ]
  },
  {
   "cell_type": "code",
   "execution_count": 17,
   "id": "a3d7bc84",
   "metadata": {},
   "outputs": [],
   "source": [
    "# Classe de tokenização dos dados\n",
    "class SentimentAnalysisTokenizer(Dataset):\n",
    "    \n",
    "    # Método construtor com os parâmetros que serão determinados no treino e teste\n",
    "    def __init__(self, texts, labels, tokenizer, max_length): # Método para iniciar a classe\n",
    "        self.texts = texts # Extrai as frases\n",
    "        self.labels = labels # Extrai os labels\n",
    "        self.tokenizer = tokenizer # Registra o tokenizer\n",
    "        self.max_length = max_length # Registra o comprimento máximo do texto\n",
    "\n",
    "    # Método para calcular o comprimento do texto em cada sentença    \n",
    "    def __len__(self):\n",
    "        return len(self.texts) # Registra o tamanho do texto\n",
    "\n",
    "    # Método para obter um item tokenizado\n",
    "    def __getitem__(self, idx):\n",
    "        \n",
    "        # Obtém o indíce do texto e label\n",
    "        text = self.texts[idx] # registra a frase pelo index\n",
    "        label = self.labels[idx] # registra o label pelo index, mesmo da frase\n",
    "        \n",
    "        # Aplica a tokenização para converter a frase em matriz\n",
    "        inputs = self.tokenizer.encode_plus(text, #aplica a tokenização na frase do index em text\n",
    "                                            add_special_tokens = True, # indica o início e final da frase\n",
    "                                            max_length = self.max_length, # comprimento máximo do texto\n",
    "                                            padding = 'max_length', # Determina que as frases tem o mesmo tamanho (trunca a frase)\n",
    "                                            truncation = True, # trunca o texto de acordo com o max lenght\n",
    "                                            return_tensors = 'pt') # retorna tensores do tipo pytorch\n",
    "\n",
    "        return {\n",
    "            'input_ids': inputs['input_ids'].squeeze(0), # retorna a entrada da matriz\n",
    "            'attention_mask': inputs['attention_mask'].squeeze(0), # retorna a attention mask\n",
    "            'label': torch.tensor(label) # retorna o label\n",
    "        }"
   ]
  },
  {
   "cell_type": "code",
   "execution_count": 18,
   "id": "5363f5ce",
   "metadata": {},
   "outputs": [],
   "source": [
    "# Comprimento máximo do texto\n",
    "MAX_LENGTH = 64"
   ]
  },
  {
   "cell_type": "code",
   "execution_count": 19,
   "id": "42429b83",
   "metadata": {},
   "outputs": [],
   "source": [
    "# Aplica a tokenização\n",
    "train_dataset = SentimentAnalysisTokenizer(train_texts, train_labels, tokenizer, MAX_LENGTH)"
   ]
  },
  {
   "cell_type": "code",
   "execution_count": 20,
   "id": "d10a95df",
   "metadata": {},
   "outputs": [],
   "source": [
    "# Aplica a tokenização\n",
    "test_dataset = SentimentAnalysisTokenizer(test_texts, test_labels, tokenizer, MAX_LENGTH)"
   ]
  },
  {
   "cell_type": "code",
   "execution_count": 21,
   "id": "8f380a2a",
   "metadata": {},
   "outputs": [],
   "source": [
    "# Cria o data loader\n",
    "train_loader = DataLoader(train_dataset, batch_size = 16, shuffle = True)"
   ]
  },
  {
   "cell_type": "code",
   "execution_count": 22,
   "id": "9afc29d9",
   "metadata": {},
   "outputs": [],
   "source": [
    "# Cria o data loader\n",
    "test_loader = DataLoader(test_dataset, batch_size = 16)"
   ]
  },
  {
   "cell_type": "markdown",
   "id": "76aed7f3",
   "metadata": {},
   "source": [
    "## 4. Treino e Teste do Modelo"
   ]
  },
  {
   "cell_type": "code",
   "execution_count": 23,
   "id": "9856892b",
   "metadata": {},
   "outputs": [],
   "source": [
    "# Função para treinar o modelo\n",
    "# criterion é a função de erro\n",
    "def train_epoch(model, data_loader, criterion, optimizer, device):\n",
    "    \n",
    "    # Inicia o modelo em modo de treino\n",
    "    # Inicia a perda do modelo\n",
    "    model.train()\n",
    "    total_loss = 0\n",
    "\n",
    "    # Loop for para o batch do data loader\n",
    "    for batch in data_loader:\n",
    "        \n",
    "        input_ids = batch['input_ids'].to(device) # extrai a entrada do modelo\n",
    "        attention_mask = batch['attention_mask'].to(device) # extrai a attention mask\n",
    "        labels = batch['label'].to(device) # extrai o label\n",
    "\n",
    "        optimizer.zero_grad() # zera os gradientes\n",
    "        outputs = model(input_ids, attention_mask = attention_mask, labels = labels) # treino do modelo\n",
    "        loss = outputs.loss # cálcula do erro do modelo\n",
    "        loss.backward() # aplica o backpropagation (otimização dos pesos para a próxima passada)\n",
    "        optimizer.step()\n",
    "\n",
    "        total_loss += loss.item() # totaliza o erro\n",
    "\n",
    "    return total_loss / len(data_loader) # retorna o erro %"
   ]
  },
  {
   "cell_type": "code",
   "execution_count": 24,
   "id": "c33ec39e",
   "metadata": {},
   "outputs": [],
   "source": [
    "# Função para avaliar o modelo\n",
    "# optimizer só entra no treino do modelo\n",
    "def eval_epoch(model, data_loader, criterion, device):\n",
    "    \n",
    "    # Inicia o modelo em modo de treino\n",
    "    # Inicia a perda do modelo\n",
    "    model.eval()\n",
    "    total_loss = 0\n",
    "\n",
    "    # Nãos será feito o track do modelo\n",
    "    with torch.no_grad():\n",
    "        # Loop for para o batch do data loader\n",
    "        for batch in data_loader:\n",
    "            \n",
    "            input_ids = batch['input_ids'].to(device)\n",
    "            attention_mask = batch['attention_mask'].to(device)\n",
    "            labels = batch['label'].to(device)\n",
    "\n",
    "            outputs = model(input_ids, attention_mask=attention_mask, labels=labels)\n",
    "            loss = outputs.loss\n",
    "            total_loss += loss.item()\n",
    "\n",
    "    return total_loss / len(data_loader)"
   ]
  },
  {
   "cell_type": "code",
   "execution_count": 25,
   "id": "f0d93ee0",
   "metadata": {},
   "outputs": [],
   "source": [
    "# Função para obter previsões do modelo\n",
    "def predict(model, data_loader, device):\n",
    "    \n",
    "    model.eval()\n",
    "    predictions = [] # cria lista com as previsões\n",
    "\n",
    "    with torch.no_grad():\n",
    "        \n",
    "        for batch in data_loader:\n",
    "            \n",
    "            input_ids = batch['input_ids'].to(device)\n",
    "            attention_mask = batch['attention_mask'].to(device)\n",
    "\n",
    "            outputs = model(input_ids, attention_mask=attention_mask)\n",
    "            _, preds = torch.max(outputs.logits, dim=1) # extrai a previsão com o maior valor de logit\n",
    "            predictions.extend(preds.tolist()) # inclui as previsões na lista\n",
    "\n",
    "    return predictions"
   ]
  },
  {
   "cell_type": "markdown",
   "id": "078a5aa5",
   "metadata": {},
   "source": [
    "## 5. Construção do Modelo"
   ]
  },
  {
   "cell_type": "code",
   "execution_count": 26,
   "id": "224f1d58",
   "metadata": {},
   "outputs": [],
   "source": [
    "# Inicialização do modelo e configuração do dispositivo\n",
    "device = torch.device('cuda' if torch.cuda.is_available() else 'cpu')"
   ]
  },
  {
   "cell_type": "code",
   "execution_count": 27,
   "id": "7ab6a0d1",
   "metadata": {},
   "outputs": [],
   "source": [
    "# Carrega o modelo\n",
    "# labels igual a 2 porque temos labels de 1 e 0 apenas\n",
    "modelo = BertForSequenceClassification.from_pretrained('bert-base-uncased', num_labels = 2)"
   ]
  },
  {
   "cell_type": "code",
   "execution_count": 28,
   "id": "edc5c6a2",
   "metadata": {},
   "outputs": [
    {
     "data": {
      "text/plain": [
       "BertForSequenceClassification(\n",
       "  (bert): BertModel(\n",
       "    (embeddings): BertEmbeddings(\n",
       "      (word_embeddings): Embedding(30522, 768, padding_idx=0)\n",
       "      (position_embeddings): Embedding(512, 768)\n",
       "      (token_type_embeddings): Embedding(2, 768)\n",
       "      (LayerNorm): LayerNorm((768,), eps=1e-12, elementwise_affine=True)\n",
       "      (dropout): Dropout(p=0.1, inplace=False)\n",
       "    )\n",
       "    (encoder): BertEncoder(\n",
       "      (layer): ModuleList(\n",
       "        (0-11): 12 x BertLayer(\n",
       "          (attention): BertAttention(\n",
       "            (self): BertSelfAttention(\n",
       "              (query): Linear(in_features=768, out_features=768, bias=True)\n",
       "              (key): Linear(in_features=768, out_features=768, bias=True)\n",
       "              (value): Linear(in_features=768, out_features=768, bias=True)\n",
       "              (dropout): Dropout(p=0.1, inplace=False)\n",
       "            )\n",
       "            (output): BertSelfOutput(\n",
       "              (dense): Linear(in_features=768, out_features=768, bias=True)\n",
       "              (LayerNorm): LayerNorm((768,), eps=1e-12, elementwise_affine=True)\n",
       "              (dropout): Dropout(p=0.1, inplace=False)\n",
       "            )\n",
       "          )\n",
       "          (intermediate): BertIntermediate(\n",
       "            (dense): Linear(in_features=768, out_features=3072, bias=True)\n",
       "            (intermediate_act_fn): GELUActivation()\n",
       "          )\n",
       "          (output): BertOutput(\n",
       "            (dense): Linear(in_features=3072, out_features=768, bias=True)\n",
       "            (LayerNorm): LayerNorm((768,), eps=1e-12, elementwise_affine=True)\n",
       "            (dropout): Dropout(p=0.1, inplace=False)\n",
       "          )\n",
       "        )\n",
       "      )\n",
       "    )\n",
       "    (pooler): BertPooler(\n",
       "      (dense): Linear(in_features=768, out_features=768, bias=True)\n",
       "      (activation): Tanh()\n",
       "    )\n",
       "  )\n",
       "  (dropout): Dropout(p=0.1, inplace=False)\n",
       "  (classifier): Linear(in_features=768, out_features=2, bias=True)\n",
       ")"
      ]
     },
     "execution_count": 28,
     "metadata": {},
     "output_type": "execute_result"
    }
   ],
   "source": [
    "# Coloca o modelo na memória do device\n",
    "modelo.to(device)"
   ]
  },
  {
   "cell_type": "code",
   "execution_count": 29,
   "id": "26969a6c",
   "metadata": {},
   "outputs": [],
   "source": [
    "# Hiperparâmetros\n",
    "EPOCHS = 10\n",
    "LEARNING_RATE = 2e-5"
   ]
  },
  {
   "cell_type": "code",
   "execution_count": 30,
   "id": "e80cba88",
   "metadata": {},
   "outputs": [],
   "source": [
    "# Otimizador\n",
    "optimizer = torch.optim.AdamW(modelo.parameters(), lr = LEARNING_RATE)"
   ]
  },
  {
   "cell_type": "code",
   "execution_count": 31,
   "id": "c9f22cce",
   "metadata": {},
   "outputs": [],
   "source": [
    "# Função de perda\n",
    "criterion = torch.nn.CrossEntropyLoss()"
   ]
  },
  {
   "cell_type": "markdown",
   "id": "59a9c712",
   "metadata": {},
   "source": [
    "## 6. Treinamento e Avaliação do Modelo"
   ]
  },
  {
   "cell_type": "code",
   "execution_count": 34,
   "id": "edf4b13b",
   "metadata": {},
   "outputs": [
    {
     "name": "stdout",
     "output_type": "stream",
     "text": [
      "Epoch 1/10, Train Loss: 0.7125353813171387, Test Loss: 0.698032796382904\n",
      "Epoch 2/10, Train Loss: 0.6585090160369873, Test Loss: 0.681705117225647\n",
      "Epoch 3/10, Train Loss: 0.6205040216445923, Test Loss: 0.7412533164024353\n",
      "Epoch 4/10, Train Loss: 0.6916980743408203, Test Loss: 0.7378116250038147\n",
      "Epoch 5/10, Train Loss: 0.5738108158111572, Test Loss: 0.7376834154129028\n",
      "Epoch 6/10, Train Loss: 0.5448307991027832, Test Loss: 0.7551488280296326\n",
      "Epoch 7/10, Train Loss: 0.48689982295036316, Test Loss: 0.7095967531204224\n",
      "Epoch 8/10, Train Loss: 0.46572527289390564, Test Loss: 0.7322322130203247\n",
      "Epoch 9/10, Train Loss: 0.47990214824676514, Test Loss: 0.73696368932724\n",
      "Epoch 10/10, Train Loss: 0.4394643008708954, Test Loss: 0.7230180501937866\n"
     ]
    }
   ],
   "source": [
    "# Treinamento e validação do modelo\n",
    "for epoch in range(EPOCHS):\n",
    "    train_loss = train_epoch(modelo, train_loader, criterion, optimizer, device)\n",
    "    test_loss = eval_epoch(modelo, test_loader, criterion, device)\n",
    "    print(f'Epoch {epoch+1}/{EPOCHS}, Train Loss: {train_loss}, Test Loss: {test_loss}')"
   ]
  },
  {
   "cell_type": "code",
   "execution_count": 35,
   "id": "c89d2ab5",
   "metadata": {},
   "outputs": [],
   "source": [
    "# Salva o modelo em disco\n",
    "torch.save(modelo, 'modelos/modelo_dsa_mp1.pt')"
   ]
  },
  {
   "cell_type": "code",
   "execution_count": 36,
   "id": "cc6ae2f5",
   "metadata": {},
   "outputs": [],
   "source": [
    "# Carrega o modelo do disco\n",
    "modelo_final = torch.load('modelos/modelo_dsa_mp1.pt')"
   ]
  },
  {
   "cell_type": "markdown",
   "id": "821e2ae5",
   "metadata": {},
   "source": [
    "## 7. Testando o Modelo com Novos Dados"
   ]
  },
  {
   "cell_type": "code",
   "execution_count": 37,
   "id": "6560065b",
   "metadata": {},
   "outputs": [],
   "source": [
    "# Novos dados\n",
    "novas_frases = ['Eu gostei muito deste filme.',\n",
    "                'O atendimento do restaurante foi decepcionante.']"
   ]
  },
  {
   "cell_type": "code",
   "execution_count": 38,
   "id": "b88dcacf",
   "metadata": {},
   "outputs": [],
   "source": [
    "# Aplica a tokenização\n",
    "dataset = SentimentAnalysisTokenizer(novas_frases, [0] * len(novas_frases), tokenizer, MAX_LENGTH)"
   ]
  },
  {
   "cell_type": "code",
   "execution_count": 39,
   "id": "9db07e1a",
   "metadata": {},
   "outputs": [],
   "source": [
    "# Cria o data loader\n",
    "loader = DataLoader(dataset, batch_size = 16)"
   ]
  },
  {
   "cell_type": "code",
   "execution_count": 40,
   "id": "68a51983",
   "metadata": {},
   "outputs": [],
   "source": [
    "# Previsões\n",
    "previsoes = predict(modelo_final, loader, device)"
   ]
  },
  {
   "cell_type": "code",
   "execution_count": 41,
   "id": "81c09fb3",
   "metadata": {},
   "outputs": [
    {
     "name": "stdout",
     "output_type": "stream",
     "text": [
      "Sentença: Eu gostei muito deste filme. | Sentimento: negativo\n",
      "Sentença: O atendimento do restaurante foi decepcionante. | Sentimento: negativo\n"
     ]
    }
   ],
   "source": [
    "# Análise de sentimento\n",
    "for text, prediction in zip(novas_frases, previsoes):\n",
    "    print(f'Sentença: {text} | Sentimento: {\"positivo\" if prediction else \"negativo\"}')"
   ]
  }
 ],
 "metadata": {
  "kernelspec": {
   "display_name": "Python 3 (ipykernel)",
   "language": "python",
   "name": "python3"
  },
  "language_info": {
   "codemirror_mode": {
    "name": "ipython",
    "version": 3
   },
   "file_extension": ".py",
   "mimetype": "text/x-python",
   "name": "python",
   "nbconvert_exporter": "python",
   "pygments_lexer": "ipython3",
   "version": "3.9.13"
  }
 },
 "nbformat": 4,
 "nbformat_minor": 5
}
