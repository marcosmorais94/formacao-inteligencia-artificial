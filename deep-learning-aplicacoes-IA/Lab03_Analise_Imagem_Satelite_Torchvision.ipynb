{
  "cells": [
    {
      "cell_type": "markdown",
      "id": "42dc1b57",
      "metadata": {
        "id": "42dc1b57"
      },
      "source": [
        "# Análise Preditiva - Reconhecimento de Imagens de Satélite no Torchvision\n",
        "\n",
        "Neste Jupyter Notebook será utilizado técnicas de reconhecimento de imagens de satélite com Torchvision através da linguagem Python. Outro ponto desta análise é verificar o impacto e interpretação de diferentes funções de ativação na construção de um modelo de alta precisão.\n",
        "\n",
        "Será usado  o  Torchvision  para  construir  um modelo  de  Visão  Computacional  com arquitetura de Deep Learning para classificar as imagens, avaliando o impacto e interpretação no uso de funções de ativação. Ao final teremos um modelo de classificação de imagens de satélites.\n",
        "\n",
        "Fonte dos dados: https://www.kaggle.com/datasets/mahmoudreda55/satellite-image-classification"
      ]
    },
    {
      "cell_type": "markdown",
      "id": "037b42c3",
      "metadata": {
        "id": "037b42c3"
      },
      "source": [
        "## Etapa 1 - Preparação dos dados\n",
        "Nesta seção será feito a criação dos diretórios e preparação do ambiente para o início da modelagem"
      ]
    },
    {
      "cell_type": "markdown",
      "id": "d8477d5f",
      "metadata": {
        "id": "d8477d5f"
      },
      "source": [
        "## 1. Carga dos pacotes"
      ]
    },
    {
      "cell_type": "code",
      "execution_count": null,
      "id": "4cdb8768",
      "metadata": {
        "id": "4cdb8768",
        "outputId": "fbc5e7aa-809d-4026-a918-65096ad04a80"
      },
      "outputs": [
        {
          "name": "stdout",
          "output_type": "stream",
          "text": [
            "A versão utilizada do Python neste Jupyter Notebook é:  3.9.13\n"
          ]
        }
      ],
      "source": [
        "# Verifica a versão do Python\n",
        "from platform import python_version\n",
        "print('A versão utilizada do Python neste Jupyter Notebook é: ', python_version())"
      ]
    },
    {
      "cell_type": "code",
      "execution_count": null,
      "id": "90b79a24",
      "metadata": {
        "id": "90b79a24"
      },
      "outputs": [],
      "source": [
        "# Carga dos pacotes para a preparação dos dados\n",
        "import os\n",
        "import numpy as np\n",
        "import shutil"
      ]
    },
    {
      "cell_type": "markdown",
      "id": "5e4dcedb",
      "metadata": {
        "id": "5e4dcedb"
      },
      "source": [
        "## 2. Criação de pastas no diretório"
      ]
    },
    {
      "cell_type": "code",
      "execution_count": null,
      "id": "3c4a4009",
      "metadata": {
        "id": "3c4a4009"
      },
      "outputs": [],
      "source": [
        "# Define nome da pasta onde estão os dados originais\n",
        "pasta_dados_originais = 'data'"
      ]
    },
    {
      "cell_type": "code",
      "execution_count": null,
      "id": "271c0eb8",
      "metadata": {
        "id": "271c0eb8"
      },
      "outputs": [],
      "source": [
        "# Define o nome das classes das imagens\n",
        "nomes_classes = ['cloudy', 'desert', 'green_area', 'water']"
      ]
    },
    {
      "cell_type": "code",
      "execution_count": null,
      "id": "1d8d981c",
      "metadata": {
        "id": "1d8d981c"
      },
      "outputs": [],
      "source": [
        "# Loop para criação de subpastas com as classes das imagens\n",
        "for i in range(len(nomes_classes)):\n",
        "    \n",
        "    # Extrai o nome de cada classe\n",
        "    classe = '/' + nomes_classes[i]\n",
        "    \n",
        "    # Cria as subpastas\n",
        "    os.makedirs('dados/treino/' + nomes_classes[i])\n",
        "    os.makedirs('dados/val/' + nomes_classes[i])\n",
        "    os.makedirs('dados/teste/' + nomes_classes[i])"
      ]
    },
    {
      "cell_type": "markdown",
      "id": "7c463f24",
      "metadata": {
        "id": "7c463f24"
      },
      "source": [
        "## 3. Input de dados nas subpastas"
      ]
    },
    {
      "cell_type": "code",
      "execution_count": null,
      "id": "fc6d806b",
      "metadata": {
        "id": "fc6d806b",
        "outputId": "ef518ada-8842-4613-97a4-af61534f942c"
      },
      "outputs": [
        {
          "name": "stdout",
          "output_type": "stream",
          "text": [
            "\n",
            "Classe: cloudy\n",
            "Número Total de Imagens:  1500\n",
            "Imagens de Treino:  1050\n",
            "Imagens de Validação:  225\n",
            "Imagens de Teste:  225\n",
            "\n",
            "Classe: desert\n",
            "Número Total de Imagens:  1131\n",
            "Imagens de Treino:  791\n",
            "Imagens de Validação:  170\n",
            "Imagens de Teste:  170\n",
            "\n",
            "Classe: green_area\n",
            "Número Total de Imagens:  1500\n",
            "Imagens de Treino:  1050\n",
            "Imagens de Validação:  225\n",
            "Imagens de Teste:  225\n",
            "\n",
            "Classe: water\n",
            "Número Total de Imagens:  1500\n",
            "Imagens de Treino:  1050\n",
            "Imagens de Validação:  225\n",
            "Imagens de Teste:  225\n"
          ]
        }
      ],
      "source": [
        "# loop\n",
        "for k in range(len(nomes_classes)):\n",
        "    \n",
        "    # Extrai um nome de classe\n",
        "    nome_classe = nomes_classes[k]\n",
        "    \n",
        "    # Define a fonte\n",
        "    src = pasta_dados_originais + '/' + nome_classe\n",
        "    \n",
        "    # Mostra qual classe estamos processando\n",
        "    print('\\nClasse:', nomes_classes[k])\n",
        "    \n",
        "    # Lista o conteúdo da pasta\n",
        "    allFileNames = os.listdir(src)\n",
        "    \n",
        "    # Set aletório dos dados\n",
        "    np.random.shuffle(allFileNames)\n",
        "    \n",
        "    # Divisão = 70% treino, 15% teste, 15% validação\n",
        "    train_FileNames, val_FileNames, test_FileNames = np.split(np.array(allFileNames),\n",
        "                                                          [int(len(allFileNames)*0.7), int(len(allFileNames)*0.85)])\n",
        "    # Nome dos arquivos\n",
        "    train_FileNames = [src + '/' + name for name in train_FileNames.tolist()]\n",
        "    val_FileNames = [src + '/' + name for name in val_FileNames.tolist()]\n",
        "    test_FileNames = [src + '/' + name for name in test_FileNames.tolist()]\n",
        "    \n",
        "    # Print\n",
        "    print('Número Total de Imagens: ', len(allFileNames))\n",
        "    print('Imagens de Treino: ', len(train_FileNames))\n",
        "    print('Imagens de Validação: ', len(val_FileNames))\n",
        "    print('Imagens de Teste: ', len(test_FileNames))\n",
        "    \n",
        "    # Copia das imagens\n",
        "    for name in train_FileNames:\n",
        "        shutil.copy(name, 'dados/treino/' + nome_classe)\n",
        "    \n",
        "    for name in val_FileNames:\n",
        "        shutil.copy(name, 'dados/val/' + nome_classe)\n",
        "        \n",
        "    for name in test_FileNames:\n",
        "        shutil.copy(name, 'dados/teste/' + nome_classe)\n",
        "    "
      ]
    },
    {
      "cell_type": "markdown",
      "id": "b6ad4386",
      "metadata": {
        "id": "b6ad4386"
      },
      "source": [
        "## Etapa 2 - Modelagem Preditiva com Torchvision\n",
        "Nesta seção do Jupyter Notebook será feito a modelagem propriamente dita para o reconhecimento de imagens de satélite."
      ]
    },
    {
      "cell_type": "markdown",
      "id": "5e07c508",
      "metadata": {
        "id": "5e07c508"
      },
      "source": [
        "## 1. Carga e instalação dos pacotes"
      ]
    },
    {
      "cell_type": "code",
      "execution_count": null,
      "id": "759b2571",
      "metadata": {
        "id": "759b2571"
      },
      "outputs": [],
      "source": [
        "# Instala Torch\n",
        "!pip install -q torch==1.13.0"
      ]
    },
    {
      "cell_type": "code",
      "execution_count": null,
      "id": "1f9542a7",
      "metadata": {
        "id": "1f9542a7"
      },
      "outputs": [],
      "source": [
        "# Instala Torchvision\n",
        "!pip install -q torchvision==0.14.0"
      ]
    },
    {
      "cell_type": "code",
      "source": [
        "# Instala o watermark\n",
        "!pip install -q -U watermark"
      ],
      "metadata": {
        "id": "78UVlT_vHwGz"
      },
      "id": "78UVlT_vHwGz",
      "execution_count": null,
      "outputs": []
    },
    {
      "cell_type": "code",
      "execution_count": null,
      "id": "91699645",
      "metadata": {
        "id": "91699645"
      },
      "outputs": [],
      "source": [
        "# Carga dos pacotes\n",
        "\n",
        "# Pacotes para processamento e visualização dos dados\n",
        "import numpy as np\n",
        "import matplotlib.pyplot as plt\n",
        "from sklearn import metrics\n",
        "\n",
        "# Pacotes Torch\n",
        "import torch\n",
        "import torch.nn as nn\n",
        "from torch.utils.data import Dataset, DataLoader, random_split\n",
        "from torch.utils.data.sampler import SubsetRandomSampler\n",
        "\n",
        "# Pacotes Torchvision\n",
        "import torchvision\n",
        "import torchvision.datasets as datasets\n",
        "import torchvision.transforms as transforms\n",
        "from torchvision import models\n",
        "\n",
        "# Pacote do Lightning\n",
        "import pytorch_lightning as pl\n",
        "\n",
        "# Pacotes para relatório do ambiente\n",
        "import gc\n",
        "import types\n",
        "import pkg_resources\n",
        "\n",
        "# Pacote para operar o SO\n",
        "import os\n",
        "# Pacote para time\n",
        "import time\n",
        "\n",
        "# Gráficos no Jupyter Notebook\n",
        "%matplotlib inline"
      ]
    },
    {
      "cell_type": "code",
      "execution_count": null,
      "id": "9b1632e4",
      "metadata": {
        "id": "9b1632e4",
        "outputId": "476ecb2f-b86c-49fc-b685-e735b276eefe"
      },
      "outputs": [
        {
          "name": "stdout",
          "output_type": "stream",
          "text": [
            "Author: Lab03 - Imagens por Satélite\n",
            "\n",
            "matplotlib       : 3.5.2\n",
            "torchvision      : 0.14.0\n",
            "numpy            : 1.21.5\n",
            "torch            : 1.13.0\n",
            "pytorch_lightning: 1.8.3\n",
            "sklearn          : 1.0.2\n",
            "\n"
          ]
        }
      ],
      "source": [
        "# Versões dos pacotes usados neste jupyter notebook\n",
        "%reload_ext watermark\n",
        "%watermark -a \"Lab03 - Imagens por Satélite\" --iversions"
      ]
    },
    {
      "cell_type": "markdown",
      "id": "569734d2",
      "metadata": {
        "id": "569734d2"
      },
      "source": [
        "## 2. Verifica o ambiente de desenvolvimento"
      ]
    },
    {
      "cell_type": "code",
      "execution_count": null,
      "id": "4e10a8b4",
      "metadata": {
        "id": "4e10a8b4",
        "outputId": "dc69dcf7-6b07-4e6c-fb9a-235c55292843"
      },
      "outputs": [
        {
          "name": "stdout",
          "output_type": "stream",
          "text": [
            "--------------------------------------Visão Geral do Ambiente---------------------------------------\n",
            "\n",
            "Device: cpu\n",
            "Pasta de Dados:  dados\n",
            "Versões dos Pacotes Requeridos:  [('matplotlib', '3.5.2'), ('numpy', '1.21.5'), ('torch', '1.13.0'), ('scikit-learn', '1.0.2'), ('torchvision', '0.14.0')]\n",
            "Dispositivo Que Será Usado Para Treinar o Modelo:  cpu\n",
            "CUDA Está Disponível?  False\n",
            "Versão do PyTorch:  1.13.0+cpu\n",
            "Versão do Lightning:  1.8.3\n",
            "\n",
            "------------------Se NVIDIA-SMI não for encontrado, então CUDA não está disponível------------------\n",
            "\n",
            "\n",
            "Limpando a Memória da GPU (se disponível):  None\n",
            "\n",
            "------------------------------------------Fim da Checagem-------------------------------------------\n"
          ]
        },
        {
          "name": "stderr",
          "output_type": "stream",
          "text": [
            "'nvidia-smi' nÆo ‚ reconhecido como um comando interno\n",
            "ou externo, um programa oper vel ou um arquivo em lotes.\n"
          ]
        }
      ],
      "source": [
        "# Relatório completo\n",
        "\n",
        "# Verificando o dispositivo\n",
        "processing_device = \"cuda\" if torch.cuda.is_available() else \"cpu\"\n",
        "\n",
        "# Verificando se GPU pode ser usada (isso depende da plataforma CUDA estar instalada)\n",
        "torch_aval = torch.cuda.is_available()\n",
        "\n",
        "# Labels para o relatório de verificação\n",
        "lable_1 = 'Visão Geral do Ambiente'\n",
        "lable_2 = 'Se NVIDIA-SMI não for encontrado, então CUDA não está disponível'\n",
        "lable_3 = 'Fim da Checagem'\n",
        "\n",
        "# Função para verificar o que está importado nesta sessão\n",
        "def get_imports():\n",
        "\n",
        "    for name, val in globals().items():\n",
        "        if isinstance(val, types.ModuleType):\n",
        "            name = val.__name__.split(\".\")[0]\n",
        "\n",
        "        elif isinstance(val, type):            \n",
        "            name = val.__module__.split(\".\")[0]\n",
        "\n",
        "        poorly_named_packages = {\"PIL\": \"Pillow\", \"sklearn\": \"scikit-learn\"}\n",
        "\n",
        "        if name in poorly_named_packages.keys():\n",
        "            name = poorly_named_packages[name]\n",
        "\n",
        "        yield name\n",
        "\n",
        "# Imports nesta sessão\n",
        "imports = list(set(get_imports()))\n",
        "\n",
        "# Loop para verificar os requerimentos\n",
        "requirements = []\n",
        "for m in pkg_resources.working_set:\n",
        "    if m.project_name in imports and m.project_name!=\"pip\":\n",
        "        requirements.append((m.project_name, m.version))\n",
        "        \n",
        "# Pasta com os dados (quando necessário)\n",
        "pasta_dados = r'dados'\n",
        "\n",
        "print(f'{lable_1:-^100}')\n",
        "print()\n",
        "print(f\"Device:\", processing_device)\n",
        "print(f\"Pasta de Dados: \", pasta_dados)\n",
        "print(f\"Versões dos Pacotes Requeridos: \", requirements)\n",
        "print(f\"Dispositivo Que Será Usado Para Treinar o Modelo: \", processing_device)\n",
        "print(f\"CUDA Está Disponível? \", torch_aval)\n",
        "print(\"Versão do PyTorch: \", torch.__version__)\n",
        "print(\"Versão do Lightning: \", pl.__version__)\n",
        "print()\n",
        "print(f'{lable_2:-^100}\\n')\n",
        "!nvidia-smi\n",
        "gc.collect()\n",
        "print()\n",
        "print(f\"Limpando a Memória da GPU (se disponível): \", torch.cuda.empty_cache())\n",
        "print(f'\\n{lable_3:-^100}')"
      ]
    },
    {
      "cell_type": "markdown",
      "id": "5855db29",
      "metadata": {
        "id": "5855db29"
      },
      "source": [
        "## 3. Pré-Processamento dos dados"
      ]
    },
    {
      "cell_type": "markdown",
      "id": "e0afef13",
      "metadata": {
        "id": "e0afef13"
      },
      "source": [
        "### 3.1 Transformações dos dados e hiperparâmetros"
      ]
    },
    {
      "cell_type": "code",
      "execution_count": null,
      "id": "7eeb3a36",
      "metadata": {
        "id": "7eeb3a36"
      },
      "outputs": [],
      "source": [
        "# Define os hiperparâmetros\n",
        "batch_size = 32 # Tamanho do lote (número de imagens por vez que são colocadas na memória, seja RAM ou GPU)\n",
        "num_epochs = 50 # Número de épocas, passadas do treinamento\n",
        "learning_rate = 0.0003 # Taxa de aprendizagem, quanto maior é mais rápido o treinamento só que perde na acurácia"
      ]
    },
    {
      "cell_type": "code",
      "execution_count": null,
      "id": "f99a6431",
      "metadata": {
        "id": "f99a6431"
      },
      "outputs": [],
      "source": [
        "# Define as transformações\n",
        "# Tranforms do Torchvision para processamento de imagens\n",
        "# Compose é um conjunto de transformações \n",
        "transform = transforms.Compose([transforms.RandomHorizontalFlip(), # Giro aleatório horizontal nas imagens, melhora a acurácia\n",
        "                                transforms.ToTensor(), # Transformar em tensor\n",
        "                                transforms.Resize((100 , 100)), # Padroniza os tamanhos das imagens\n",
        "                                transforms.Normalize(mean = [0.485, 0.456, 0.406], # Normaliza os dados com média e desvio padrão\n",
        "                                                     std = [0.229, 0.224, 0.225])])"
      ]
    },
    {
      "cell_type": "markdown",
      "id": "6baaf551",
      "metadata": {
        "id": "6baaf551"
      },
      "source": [
        "### 3.2 Divisão dos datasets para modelagem"
      ]
    },
    {
      "cell_type": "code",
      "execution_count": null,
      "id": "849e212e",
      "metadata": {
        "id": "849e212e"
      },
      "outputs": [],
      "source": [
        "# Dataset de treino\n",
        "dataset_treino = datasets.ImageFolder('dados/treino', transform = transform)"
      ]
    },
    {
      "cell_type": "code",
      "execution_count": null,
      "id": "05226553",
      "metadata": {
        "id": "05226553"
      },
      "outputs": [],
      "source": [
        "# Dataset de validação\n",
        "dataset_valid = datasets.ImageFolder('dados/val', transform = transform)"
      ]
    },
    {
      "cell_type": "code",
      "execution_count": null,
      "id": "fb743132",
      "metadata": {
        "id": "fb743132"
      },
      "outputs": [],
      "source": [
        "# Dataset de teste\n",
        "dataset_teste = datasets.ImageFolder('dados/teste', transform = transform)"
      ]
    },
    {
      "cell_type": "code",
      "execution_count": null,
      "id": "d700109d",
      "metadata": {
        "id": "d700109d",
        "outputId": "9662cb61-0464-4045-a4cf-5111fb9f9ad9"
      },
      "outputs": [
        {
          "name": "stdout",
          "output_type": "stream",
          "text": [
            "O número total de imagens de treino são: 3941\n",
            "O número total de imagens de validação são: 845\n",
            "O número total de imagens de teste são: 845\n"
          ]
        }
      ],
      "source": [
        "# Visualiza a quantidade de registros dos datasets\n",
        "print(f'O número total de imagens de treino são: {len(dataset_treino)}')\n",
        "print(f'O número total de imagens de validação são: {len(dataset_valid)}')\n",
        "print(f'O número total de imagens de teste são: {len(dataset_teste)}')"
      ]
    },
    {
      "cell_type": "markdown",
      "id": "3ffcedb0",
      "metadata": {
        "id": "3ffcedb0"
      },
      "source": [
        "### 3.3 Preparação dos dataloaders"
      ]
    },
    {
      "cell_type": "code",
      "execution_count": null,
      "id": "5d341ca6",
      "metadata": {
        "id": "5d341ca6"
      },
      "outputs": [],
      "source": [
        "# Dataloader de treino\n",
        "dataloader_treino = DataLoader(dataset_treino, batch_size = batch_size, shuffle = True)"
      ]
    },
    {
      "cell_type": "code",
      "execution_count": null,
      "id": "fc746a12",
      "metadata": {
        "id": "fc746a12"
      },
      "outputs": [],
      "source": [
        "# Dataloader de validação\n",
        "dataloader_valid = DataLoader(dataset_valid, batch_size = batch_size, shuffle = True) "
      ]
    },
    {
      "cell_type": "code",
      "execution_count": null,
      "id": "0a9ea3ca",
      "metadata": {
        "id": "0a9ea3ca"
      },
      "outputs": [],
      "source": [
        "# Dataloader de teste\n",
        "dataloader_teste = DataLoader(dataset_teste, batch_size = batch_size, shuffle = False)"
      ]
    },
    {
      "cell_type": "markdown",
      "id": "ae4104bd",
      "metadata": {
        "id": "ae4104bd"
      },
      "source": [
        "Shuffle é para embaralhar o lote das imagens, por isso em teste o argumento é definido como False. No treinamento, é necessário que a ordem seja aleatória para o treinamento ser o mais genérico possível e evitar que o modelo fique tendecioso"
      ]
    },
    {
      "cell_type": "markdown",
      "id": "4b1a4926",
      "metadata": {
        "id": "4b1a4926"
      },
      "source": [
        "### 3.4 Visualização da distribuição de classes"
      ]
    },
    {
      "cell_type": "code",
      "execution_count": null,
      "id": "65310916",
      "metadata": {
        "id": "65310916",
        "outputId": "3efd0c01-fbb6-4393-ba96-084d3f9297ab"
      },
      "outputs": [
        {
          "data": {
            "text/plain": [
              "['cloudy', 'desert', 'green_area', 'water']"
            ]
          },
          "execution_count": 24,
          "metadata": {},
          "output_type": "execute_result"
        }
      ],
      "source": [
        "# Nome das classes\n",
        "nomes_classes = os.listdir('dados/treino')\n",
        "\n",
        "# Visualiza os dados\n",
        "nomes_classes"
      ]
    },
    {
      "cell_type": "code",
      "execution_count": null,
      "id": "e46aaf8d",
      "metadata": {
        "id": "e46aaf8d",
        "outputId": "a9151818-a074-4e7b-e42b-57d60eb595ef"
      },
      "outputs": [
        {
          "data": {
            "text/plain": [
              "{'cloudy': 1049, 'desert': 790, 'green_area': 1049, 'water': 1049}"
            ]
          },
          "execution_count": 25,
          "metadata": {},
          "output_type": "execute_result"
        }
      ],
      "source": [
        "# Loop para contar as imagens em cada classe\n",
        "image_count = {}\n",
        "for i in nomes_classes:\n",
        "    image_count[i] = len(os.listdir(os.path.join('dados/treino', i))) - 1\n",
        "    \n",
        "# Visualiza os dados\n",
        "image_count"
      ]
    },
    {
      "cell_type": "code",
      "execution_count": null,
      "id": "93905fe8",
      "metadata": {
        "id": "93905fe8",
        "outputId": "89671d4a-7ee3-4b0a-fb82-095367f72440"
      },
      "outputs": [
        {
          "data": {
            "image/png": "[encoded data removed]",
            "text/plain": [
              "<Figure size 500x500 with 1 Axes>"
            ]
          },
          "metadata": {},
          "output_type": "display_data"
        },
        {
          "name": "stdout",
          "output_type": "stream",
          "text": [
            "{'cloudy': 1049, 'desert': 790, 'green_area': 1049, 'water': 1049}\n"
          ]
        }
      ],
      "source": [
        "# Plot\n",
        "fig1, ax1 = plt.subplots(figsize = (5, 5), subplot_kw = dict(aspect = \"equal\"))\n",
        "ax1.pie(image_count.values(),\n",
        "        labels = image_count.keys(),\n",
        "        shadow = True,\n",
        "        textprops = dict(color = \"black\"),\n",
        "        autopct = '%1.1f%%',\n",
        "        startangle = 90)\n",
        "\n",
        "# Define título do gráfico\n",
        "plt.title(\"\\nPercentual de Imagens de Cada Classe (Dados de Treino)\", color = 'black')\n",
        "\n",
        "# Visualiza o gráfico\n",
        "plt.show()\n",
        "print(image_count)"
      ]
    },
    {
      "cell_type": "markdown",
      "id": "950faa82",
      "metadata": {
        "id": "950faa82"
      },
      "source": [
        "## 4. Modelo Preditivo - Torchvision"
      ]
    },
    {
      "cell_type": "code",
      "execution_count": null,
      "id": "1f223ae3",
      "metadata": {
        "colab": {
          "referenced_widgets": [
            "9f417d2171a349bf9fba5018b44c68bf"
          ]
        },
        "id": "1f223ae3",
        "outputId": "601ac8f2-ea12-4ada-d410-50166fa4f112"
      },
      "outputs": [
        {
          "name": "stderr",
          "output_type": "stream",
          "text": [
            "Downloading: \"https://download.pytorch.org/models/densenet121-a639ec97.pth\" to C:\\Users\\morai/.cache\\torch\\hub\\checkpoints\\densenet121-a639ec97.pth\n"
          ]
        },
        {
          "data": {
            "application/vnd.jupyter.widget-view+json": {
              "model_id": "9f417d2171a349bf9fba5018b44c68bf",
              "version_major": 2,
              "version_minor": 0
            },
            "text/plain": [
              "  0%|          | 0.00/30.8M [00:00<?, ?B/s]"
            ]
          },
          "metadata": {},
          "output_type": "display_data"
        }
      ],
      "source": [
        "# Download do modelo pré-treinado de arquitetura DesenNet, incluindo os pesos\n",
        "modelo = models.densenet121(weights = 'DEFAULT')"
      ]
    },
    {
      "cell_type": "code",
      "execution_count": null,
      "id": "514886b5",
      "metadata": {
        "id": "514886b5",
        "outputId": "b17f145e-45ba-484f-984a-43fcba29daf7"
      },
      "outputs": [
        {
          "data": {
            "text/plain": [
              "<generator object Module.parameters at 0x000002CA61678660>"
            ]
          },
          "execution_count": 28,
          "metadata": {},
          "output_type": "execute_result"
        }
      ],
      "source": [
        "# Carga dos parâmetros do modelo\n",
        "modelo.parameters()"
      ]
    },
    {
      "cell_type": "code",
      "execution_count": null,
      "id": "a605f834",
      "metadata": {
        "id": "a605f834"
      },
      "outputs": [],
      "source": [
        "# Congela os parâmetros do modelo\n",
        "for param in modelo.parameters():\n",
        "    param.require_grad = False"
      ]
    },
    {
      "cell_type": "markdown",
      "id": "2707501f",
      "metadata": {
        "id": "2707501f"
      },
      "source": [
        "### 4.1 Função de Ativação LeakyReLU"
      ]
    },
    {
      "cell_type": "code",
      "execution_count": null,
      "id": "c9131586",
      "metadata": {
        "id": "c9131586"
      },
      "outputs": [],
      "source": [
        "# Arquitetura do modelo\n",
        "#clf = nn.Sequential(nn.Linear(1024, 460),\n",
        "                    #nn.LeakyReLu(0.1),\n",
        "                    #nn.Dropout(0.4),\n",
        "                    #nn.Linear(460, 5))"
      ]
    },
    {
      "cell_type": "markdown",
      "id": "b1cc2a88",
      "metadata": {
        "id": "b1cc2a88"
      },
      "source": [
        "### 4.2 Função de Ativação ELU (Exponential Linear)"
      ]
    },
    {
      "cell_type": "code",
      "execution_count": null,
      "id": "da1a06a5",
      "metadata": {
        "id": "da1a06a5"
      },
      "outputs": [],
      "source": [
        "# Arquitetura do modelo\n",
        "#clf = nn.Sequential(nn.Linear(1024, 460),\n",
        "                    #nn.ELU(),\n",
        "                    #nn.Dropout(0.4),\n",
        "                    #nn.Linear(460, 5))"
      ]
    },
    {
      "cell_type": "markdown",
      "id": "c7b2aa26",
      "metadata": {
        "id": "c7b2aa26"
      },
      "source": [
        "### 4.3 Função de Ativação ReLU"
      ]
    },
    {
      "cell_type": "code",
      "execution_count": null,
      "id": "fd128597",
      "metadata": {
        "id": "fd128597"
      },
      "outputs": [],
      "source": [
        "# Arquitetura do modelo\n",
        "# Sequência de camadas\n",
        "clf = nn.Sequential(nn.Linear(1024, 460), # Camada Linear\n",
        "                    nn.ReLU(), # Camada da Função de Ativação\n",
        "                    nn.Dropout(0.4), #Camada Drop Out\n",
        "                    nn.Linear(460, 5)) # Camada Linear"
      ]
    },
    {
      "cell_type": "markdown",
      "id": "978b6992",
      "metadata": {
        "id": "978b6992"
      },
      "source": [
        "### 4.4 Treino do modelo"
      ]
    },
    {
      "cell_type": "code",
      "execution_count": null,
      "id": "966cc4fb",
      "metadata": {
        "id": "966cc4fb"
      },
      "outputs": [],
      "source": [
        "# Adiciona uma camada de classificação do modelo pré-treinado\n",
        "modelo.classifier = clf"
      ]
    },
    {
      "cell_type": "code",
      "execution_count": null,
      "id": "0da6e3e0",
      "metadata": {
        "id": "0da6e3e0"
      },
      "outputs": [],
      "source": [
        "# Fórmula para visualizar se está usando GPU ou CPU\n",
        "\"\"\"Se disponível usamos GPU. Caso contrário usamos CPU.\"\"\"\n",
        "def get_default_device():\n",
        "    if torch.cuda.is_available():\n",
        "        return torch.device('cuda')\n",
        "    else:\n",
        "        return torch.device('cpu')"
      ]
    },
    {
      "cell_type": "code",
      "execution_count": null,
      "id": "bd8c0259",
      "metadata": {
        "id": "bd8c0259",
        "outputId": "453cbb64-3138-497f-f0b3-849391ef9322"
      },
      "outputs": [
        {
          "name": "stdout",
          "output_type": "stream",
          "text": [
            "cpu\n"
          ]
        }
      ],
      "source": [
        "# Visualiza o tipo de processamento\n",
        "device = get_default_device()\n",
        "print(device)"
      ]
    },
    {
      "cell_type": "code",
      "execution_count": null,
      "id": "a989aa9a",
      "metadata": {
        "id": "a989aa9a",
        "outputId": "19665ac6-627b-422d-f7cb-5c02563efcb5"
      },
      "outputs": [
        {
          "data": {
            "text/plain": [
              "DenseNet(\n",
              "  (features): Sequential(\n",
              "    (conv0): Conv2d(3, 64, kernel_size=(7, 7), stride=(2, 2), padding=(3, 3), bias=False)\n",
              "    (norm0): BatchNorm2d(64, eps=1e-05, momentum=0.1, affine=True, track_running_stats=True)\n",
              "    (relu0): ReLU(inplace=True)\n",
              "    (pool0): MaxPool2d(kernel_size=3, stride=2, padding=1, dilation=1, ceil_mode=False)\n",
              "    (denseblock1): _DenseBlock(\n",
              "      (denselayer1): _DenseLayer(\n",
              "        (norm1): BatchNorm2d(64, eps=1e-05, momentum=0.1, affine=True, track_running_stats=True)\n",
              "        (relu1): ReLU(inplace=True)\n",
              "        (conv1): Conv2d(64, 128, kernel_size=(1, 1), stride=(1, 1), bias=False)\n",
              "        (norm2): BatchNorm2d(128, eps=1e-05, momentum=0.1, affine=True, track_running_stats=True)\n",
              "        (relu2): ReLU(inplace=True)\n",
              "        (conv2): Conv2d(128, 32, kernel_size=(3, 3), stride=(1, 1), padding=(1, 1), bias=False)\n",
              "      )\n",
              "      (denselayer2): _DenseLayer(\n",
              "        (norm1): BatchNorm2d(96, eps=1e-05, momentum=0.1, affine=True, track_running_stats=True)\n",
              "        (relu1): ReLU(inplace=True)\n",
              "        (conv1): Conv2d(96, 128, kernel_size=(1, 1), stride=(1, 1), bias=False)\n",
              "        (norm2): BatchNorm2d(128, eps=1e-05, momentum=0.1, affine=True, track_running_stats=True)\n",
              "        (relu2): ReLU(inplace=True)\n",
              "        (conv2): Conv2d(128, 32, kernel_size=(3, 3), stride=(1, 1), padding=(1, 1), bias=False)\n",
              "      )\n",
              "      (denselayer3): _DenseLayer(\n",
              "        (norm1): BatchNorm2d(128, eps=1e-05, momentum=0.1, affine=True, track_running_stats=True)\n",
              "        (relu1): ReLU(inplace=True)\n",
              "        (conv1): Conv2d(128, 128, kernel_size=(1, 1), stride=(1, 1), bias=False)\n",
              "        (norm2): BatchNorm2d(128, eps=1e-05, momentum=0.1, affine=True, track_running_stats=True)\n",
              "        (relu2): ReLU(inplace=True)\n",
              "        (conv2): Conv2d(128, 32, kernel_size=(3, 3), stride=(1, 1), padding=(1, 1), bias=False)\n",
              "      )\n",
              "      (denselayer4): _DenseLayer(\n",
              "        (norm1): BatchNorm2d(160, eps=1e-05, momentum=0.1, affine=True, track_running_stats=True)\n",
              "        (relu1): ReLU(inplace=True)\n",
              "        (conv1): Conv2d(160, 128, kernel_size=(1, 1), stride=(1, 1), bias=False)\n",
              "        (norm2): BatchNorm2d(128, eps=1e-05, momentum=0.1, affine=True, track_running_stats=True)\n",
              "        (relu2): ReLU(inplace=True)\n",
              "        (conv2): Conv2d(128, 32, kernel_size=(3, 3), stride=(1, 1), padding=(1, 1), bias=False)\n",
              "      )\n",
              "      (denselayer5): _DenseLayer(\n",
              "        (norm1): BatchNorm2d(192, eps=1e-05, momentum=0.1, affine=True, track_running_stats=True)\n",
              "        (relu1): ReLU(inplace=True)\n",
              "        (conv1): Conv2d(192, 128, kernel_size=(1, 1), stride=(1, 1), bias=False)\n",
              "        (norm2): BatchNorm2d(128, eps=1e-05, momentum=0.1, affine=True, track_running_stats=True)\n",
              "        (relu2): ReLU(inplace=True)\n",
              "        (conv2): Conv2d(128, 32, kernel_size=(3, 3), stride=(1, 1), padding=(1, 1), bias=False)\n",
              "      )\n",
              "      (denselayer6): _DenseLayer(\n",
              "        (norm1): BatchNorm2d(224, eps=1e-05, momentum=0.1, affine=True, track_running_stats=True)\n",
              "        (relu1): ReLU(inplace=True)\n",
              "        (conv1): Conv2d(224, 128, kernel_size=(1, 1), stride=(1, 1), bias=False)\n",
              "        (norm2): BatchNorm2d(128, eps=1e-05, momentum=0.1, affine=True, track_running_stats=True)\n",
              "        (relu2): ReLU(inplace=True)\n",
              "        (conv2): Conv2d(128, 32, kernel_size=(3, 3), stride=(1, 1), padding=(1, 1), bias=False)\n",
              "      )\n",
              "    )\n",
              "    (transition1): _Transition(\n",
              "      (norm): BatchNorm2d(256, eps=1e-05, momentum=0.1, affine=True, track_running_stats=True)\n",
              "      (relu): ReLU(inplace=True)\n",
              "      (conv): Conv2d(256, 128, kernel_size=(1, 1), stride=(1, 1), bias=False)\n",
              "      (pool): AvgPool2d(kernel_size=2, stride=2, padding=0)\n",
              "    )\n",
              "    (denseblock2): _DenseBlock(\n",
              "      (denselayer1): _DenseLayer(\n",
              "        (norm1): BatchNorm2d(128, eps=1e-05, momentum=0.1, affine=True, track_running_stats=True)\n",
              "        (relu1): ReLU(inplace=True)\n",
              "        (conv1): Conv2d(128, 128, kernel_size=(1, 1), stride=(1, 1), bias=False)\n",
              "        (norm2): BatchNorm2d(128, eps=1e-05, momentum=0.1, affine=True, track_running_stats=True)\n",
              "        (relu2): ReLU(inplace=True)\n",
              "        (conv2): Conv2d(128, 32, kernel_size=(3, 3), stride=(1, 1), padding=(1, 1), bias=False)\n",
              "      )\n",
              "      (denselayer2): _DenseLayer(\n",
              "        (norm1): BatchNorm2d(160, eps=1e-05, momentum=0.1, affine=True, track_running_stats=True)\n",
              "        (relu1): ReLU(inplace=True)\n",
              "        (conv1): Conv2d(160, 128, kernel_size=(1, 1), stride=(1, 1), bias=False)\n",
              "        (norm2): BatchNorm2d(128, eps=1e-05, momentum=0.1, affine=True, track_running_stats=True)\n",
              "        (relu2): ReLU(inplace=True)\n",
              "        (conv2): Conv2d(128, 32, kernel_size=(3, 3), stride=(1, 1), padding=(1, 1), bias=False)\n",
              "      )\n",
              "      (denselayer3): _DenseLayer(\n",
              "        (norm1): BatchNorm2d(192, eps=1e-05, momentum=0.1, affine=True, track_running_stats=True)\n",
              "        (relu1): ReLU(inplace=True)\n",
              "        (conv1): Conv2d(192, 128, kernel_size=(1, 1), stride=(1, 1), bias=False)\n",
              "        (norm2): BatchNorm2d(128, eps=1e-05, momentum=0.1, affine=True, track_running_stats=True)\n",
              "        (relu2): ReLU(inplace=True)\n",
              "        (conv2): Conv2d(128, 32, kernel_size=(3, 3), stride=(1, 1), padding=(1, 1), bias=False)\n",
              "      )\n",
              "      (denselayer4): _DenseLayer(\n",
              "        (norm1): BatchNorm2d(224, eps=1e-05, momentum=0.1, affine=True, track_running_stats=True)\n",
              "        (relu1): ReLU(inplace=True)\n",
              "        (conv1): Conv2d(224, 128, kernel_size=(1, 1), stride=(1, 1), bias=False)\n",
              "        (norm2): BatchNorm2d(128, eps=1e-05, momentum=0.1, affine=True, track_running_stats=True)\n",
              "        (relu2): ReLU(inplace=True)\n",
              "        (conv2): Conv2d(128, 32, kernel_size=(3, 3), stride=(1, 1), padding=(1, 1), bias=False)\n",
              "      )\n",
              "      (denselayer5): _DenseLayer(\n",
              "        (norm1): BatchNorm2d(256, eps=1e-05, momentum=0.1, affine=True, track_running_stats=True)\n",
              "        (relu1): ReLU(inplace=True)\n",
              "        (conv1): Conv2d(256, 128, kernel_size=(1, 1), stride=(1, 1), bias=False)\n",
              "        (norm2): BatchNorm2d(128, eps=1e-05, momentum=0.1, affine=True, track_running_stats=True)\n",
              "        (relu2): ReLU(inplace=True)\n",
              "        (conv2): Conv2d(128, 32, kernel_size=(3, 3), stride=(1, 1), padding=(1, 1), bias=False)\n",
              "      )\n",
              "      (denselayer6): _DenseLayer(\n",
              "        (norm1): BatchNorm2d(288, eps=1e-05, momentum=0.1, affine=True, track_running_stats=True)\n",
              "        (relu1): ReLU(inplace=True)\n",
              "        (conv1): Conv2d(288, 128, kernel_size=(1, 1), stride=(1, 1), bias=False)\n",
              "        (norm2): BatchNorm2d(128, eps=1e-05, momentum=0.1, affine=True, track_running_stats=True)\n",
              "        (relu2): ReLU(inplace=True)\n",
              "        (conv2): Conv2d(128, 32, kernel_size=(3, 3), stride=(1, 1), padding=(1, 1), bias=False)\n",
              "      )\n",
              "      (denselayer7): _DenseLayer(\n",
              "        (norm1): BatchNorm2d(320, eps=1e-05, momentum=0.1, affine=True, track_running_stats=True)\n",
              "        (relu1): ReLU(inplace=True)\n",
              "        (conv1): Conv2d(320, 128, kernel_size=(1, 1), stride=(1, 1), bias=False)\n",
              "        (norm2): BatchNorm2d(128, eps=1e-05, momentum=0.1, affine=True, track_running_stats=True)\n",
              "        (relu2): ReLU(inplace=True)\n",
              "        (conv2): Conv2d(128, 32, kernel_size=(3, 3), stride=(1, 1), padding=(1, 1), bias=False)\n",
              "      )\n",
              "      (denselayer8): _DenseLayer(\n",
              "        (norm1): BatchNorm2d(352, eps=1e-05, momentum=0.1, affine=True, track_running_stats=True)\n",
              "        (relu1): ReLU(inplace=True)\n",
              "        (conv1): Conv2d(352, 128, kernel_size=(1, 1), stride=(1, 1), bias=False)\n",
              "        (norm2): BatchNorm2d(128, eps=1e-05, momentum=0.1, affine=True, track_running_stats=True)\n",
              "        (relu2): ReLU(inplace=True)\n",
              "        (conv2): Conv2d(128, 32, kernel_size=(3, 3), stride=(1, 1), padding=(1, 1), bias=False)\n",
              "      )\n",
              "      (denselayer9): _DenseLayer(\n",
              "        (norm1): BatchNorm2d(384, eps=1e-05, momentum=0.1, affine=True, track_running_stats=True)\n",
              "        (relu1): ReLU(inplace=True)\n",
              "        (conv1): Conv2d(384, 128, kernel_size=(1, 1), stride=(1, 1), bias=False)\n",
              "        (norm2): BatchNorm2d(128, eps=1e-05, momentum=0.1, affine=True, track_running_stats=True)\n",
              "        (relu2): ReLU(inplace=True)\n",
              "        (conv2): Conv2d(128, 32, kernel_size=(3, 3), stride=(1, 1), padding=(1, 1), bias=False)\n",
              "      )\n",
              "      (denselayer10): _DenseLayer(\n",
              "        (norm1): BatchNorm2d(416, eps=1e-05, momentum=0.1, affine=True, track_running_stats=True)\n",
              "        (relu1): ReLU(inplace=True)\n",
              "        (conv1): Conv2d(416, 128, kernel_size=(1, 1), stride=(1, 1), bias=False)\n",
              "        (norm2): BatchNorm2d(128, eps=1e-05, momentum=0.1, affine=True, track_running_stats=True)\n",
              "        (relu2): ReLU(inplace=True)\n",
              "        (conv2): Conv2d(128, 32, kernel_size=(3, 3), stride=(1, 1), padding=(1, 1), bias=False)\n",
              "      )\n",
              "      (denselayer11): _DenseLayer(\n",
              "        (norm1): BatchNorm2d(448, eps=1e-05, momentum=0.1, affine=True, track_running_stats=True)\n",
              "        (relu1): ReLU(inplace=True)\n",
              "        (conv1): Conv2d(448, 128, kernel_size=(1, 1), stride=(1, 1), bias=False)\n",
              "        (norm2): BatchNorm2d(128, eps=1e-05, momentum=0.1, affine=True, track_running_stats=True)\n",
              "        (relu2): ReLU(inplace=True)\n",
              "        (conv2): Conv2d(128, 32, kernel_size=(3, 3), stride=(1, 1), padding=(1, 1), bias=False)\n",
              "      )\n",
              "      (denselayer12): _DenseLayer(\n",
              "        (norm1): BatchNorm2d(480, eps=1e-05, momentum=0.1, affine=True, track_running_stats=True)\n",
              "        (relu1): ReLU(inplace=True)\n",
              "        (conv1): Conv2d(480, 128, kernel_size=(1, 1), stride=(1, 1), bias=False)\n",
              "        (norm2): BatchNorm2d(128, eps=1e-05, momentum=0.1, affine=True, track_running_stats=True)\n",
              "        (relu2): ReLU(inplace=True)\n",
              "        (conv2): Conv2d(128, 32, kernel_size=(3, 3), stride=(1, 1), padding=(1, 1), bias=False)\n",
              "      )\n",
              "    )\n",
              "    (transition2): _Transition(\n",
              "      (norm): BatchNorm2d(512, eps=1e-05, momentum=0.1, affine=True, track_running_stats=True)\n",
              "      (relu): ReLU(inplace=True)\n",
              "      (conv): Conv2d(512, 256, kernel_size=(1, 1), stride=(1, 1), bias=False)\n",
              "      (pool): AvgPool2d(kernel_size=2, stride=2, padding=0)\n",
              "    )\n",
              "    (denseblock3): _DenseBlock(\n",
              "      (denselayer1): _DenseLayer(\n",
              "        (norm1): BatchNorm2d(256, eps=1e-05, momentum=0.1, affine=True, track_running_stats=True)\n",
              "        (relu1): ReLU(inplace=True)\n",
              "        (conv1): Conv2d(256, 128, kernel_size=(1, 1), stride=(1, 1), bias=False)\n",
              "        (norm2): BatchNorm2d(128, eps=1e-05, momentum=0.1, affine=True, track_running_stats=True)\n",
              "        (relu2): ReLU(inplace=True)\n",
              "        (conv2): Conv2d(128, 32, kernel_size=(3, 3), stride=(1, 1), padding=(1, 1), bias=False)\n",
              "      )\n",
              "      (denselayer2): _DenseLayer(\n",
              "        (norm1): BatchNorm2d(288, eps=1e-05, momentum=0.1, affine=True, track_running_stats=True)\n",
              "        (relu1): ReLU(inplace=True)\n",
              "        (conv1): Conv2d(288, 128, kernel_size=(1, 1), stride=(1, 1), bias=False)\n",
              "        (norm2): BatchNorm2d(128, eps=1e-05, momentum=0.1, affine=True, track_running_stats=True)\n",
              "        (relu2): ReLU(inplace=True)\n",
              "        (conv2): Conv2d(128, 32, kernel_size=(3, 3), stride=(1, 1), padding=(1, 1), bias=False)\n",
              "      )\n",
              "      (denselayer3): _DenseLayer(\n",
              "        (norm1): BatchNorm2d(320, eps=1e-05, momentum=0.1, affine=True, track_running_stats=True)\n",
              "        (relu1): ReLU(inplace=True)\n",
              "        (conv1): Conv2d(320, 128, kernel_size=(1, 1), stride=(1, 1), bias=False)\n",
              "        (norm2): BatchNorm2d(128, eps=1e-05, momentum=0.1, affine=True, track_running_stats=True)\n",
              "        (relu2): ReLU(inplace=True)\n",
              "        (conv2): Conv2d(128, 32, kernel_size=(3, 3), stride=(1, 1), padding=(1, 1), bias=False)\n",
              "      )\n",
              "      (denselayer4): _DenseLayer(\n",
              "        (norm1): BatchNorm2d(352, eps=1e-05, momentum=0.1, affine=True, track_running_stats=True)\n",
              "        (relu1): ReLU(inplace=True)\n",
              "        (conv1): Conv2d(352, 128, kernel_size=(1, 1), stride=(1, 1), bias=False)\n",
              "        (norm2): BatchNorm2d(128, eps=1e-05, momentum=0.1, affine=True, track_running_stats=True)\n",
              "        (relu2): ReLU(inplace=True)\n",
              "        (conv2): Conv2d(128, 32, kernel_size=(3, 3), stride=(1, 1), padding=(1, 1), bias=False)\n",
              "      )\n",
              "      (denselayer5): _DenseLayer(\n",
              "        (norm1): BatchNorm2d(384, eps=1e-05, momentum=0.1, affine=True, track_running_stats=True)\n",
              "        (relu1): ReLU(inplace=True)\n",
              "        (conv1): Conv2d(384, 128, kernel_size=(1, 1), stride=(1, 1), bias=False)\n",
              "        (norm2): BatchNorm2d(128, eps=1e-05, momentum=0.1, affine=True, track_running_stats=True)\n",
              "        (relu2): ReLU(inplace=True)\n",
              "        (conv2): Conv2d(128, 32, kernel_size=(3, 3), stride=(1, 1), padding=(1, 1), bias=False)\n",
              "      )\n",
              "      (denselayer6): _DenseLayer(\n",
              "        (norm1): BatchNorm2d(416, eps=1e-05, momentum=0.1, affine=True, track_running_stats=True)\n",
              "        (relu1): ReLU(inplace=True)\n",
              "        (conv1): Conv2d(416, 128, kernel_size=(1, 1), stride=(1, 1), bias=False)\n",
              "        (norm2): BatchNorm2d(128, eps=1e-05, momentum=0.1, affine=True, track_running_stats=True)\n",
              "        (relu2): ReLU(inplace=True)\n",
              "        (conv2): Conv2d(128, 32, kernel_size=(3, 3), stride=(1, 1), padding=(1, 1), bias=False)\n",
              "      )\n",
              "      (denselayer7): _DenseLayer(\n",
              "        (norm1): BatchNorm2d(448, eps=1e-05, momentum=0.1, affine=True, track_running_stats=True)\n",
              "        (relu1): ReLU(inplace=True)\n",
              "        (conv1): Conv2d(448, 128, kernel_size=(1, 1), stride=(1, 1), bias=False)\n",
              "        (norm2): BatchNorm2d(128, eps=1e-05, momentum=0.1, affine=True, track_running_stats=True)\n",
              "        (relu2): ReLU(inplace=True)\n",
              "        (conv2): Conv2d(128, 32, kernel_size=(3, 3), stride=(1, 1), padding=(1, 1), bias=False)\n",
              "      )\n",
              "      (denselayer8): _DenseLayer(\n",
              "        (norm1): BatchNorm2d(480, eps=1e-05, momentum=0.1, affine=True, track_running_stats=True)\n",
              "        (relu1): ReLU(inplace=True)\n",
              "        (conv1): Conv2d(480, 128, kernel_size=(1, 1), stride=(1, 1), bias=False)\n",
              "        (norm2): BatchNorm2d(128, eps=1e-05, momentum=0.1, affine=True, track_running_stats=True)\n",
              "        (relu2): ReLU(inplace=True)\n",
              "        (conv2): Conv2d(128, 32, kernel_size=(3, 3), stride=(1, 1), padding=(1, 1), bias=False)\n",
              "      )\n",
              "      (denselayer9): _DenseLayer(\n",
              "        (norm1): BatchNorm2d(512, eps=1e-05, momentum=0.1, affine=True, track_running_stats=True)\n",
              "        (relu1): ReLU(inplace=True)\n",
              "        (conv1): Conv2d(512, 128, kernel_size=(1, 1), stride=(1, 1), bias=False)\n",
              "        (norm2): BatchNorm2d(128, eps=1e-05, momentum=0.1, affine=True, track_running_stats=True)\n",
              "        (relu2): ReLU(inplace=True)\n",
              "        (conv2): Conv2d(128, 32, kernel_size=(3, 3), stride=(1, 1), padding=(1, 1), bias=False)\n",
              "      )\n",
              "      (denselayer10): _DenseLayer(\n",
              "        (norm1): BatchNorm2d(544, eps=1e-05, momentum=0.1, affine=True, track_running_stats=True)\n",
              "        (relu1): ReLU(inplace=True)\n",
              "        (conv1): Conv2d(544, 128, kernel_size=(1, 1), stride=(1, 1), bias=False)\n",
              "        (norm2): BatchNorm2d(128, eps=1e-05, momentum=0.1, affine=True, track_running_stats=True)\n",
              "        (relu2): ReLU(inplace=True)\n",
              "        (conv2): Conv2d(128, 32, kernel_size=(3, 3), stride=(1, 1), padding=(1, 1), bias=False)\n",
              "      )\n",
              "      (denselayer11): _DenseLayer(\n",
              "        (norm1): BatchNorm2d(576, eps=1e-05, momentum=0.1, affine=True, track_running_stats=True)\n",
              "        (relu1): ReLU(inplace=True)\n",
              "        (conv1): Conv2d(576, 128, kernel_size=(1, 1), stride=(1, 1), bias=False)\n",
              "        (norm2): BatchNorm2d(128, eps=1e-05, momentum=0.1, affine=True, track_running_stats=True)\n",
              "        (relu2): ReLU(inplace=True)\n",
              "        (conv2): Conv2d(128, 32, kernel_size=(3, 3), stride=(1, 1), padding=(1, 1), bias=False)\n",
              "      )\n",
              "      (denselayer12): _DenseLayer(\n",
              "        (norm1): BatchNorm2d(608, eps=1e-05, momentum=0.1, affine=True, track_running_stats=True)\n",
              "        (relu1): ReLU(inplace=True)\n",
              "        (conv1): Conv2d(608, 128, kernel_size=(1, 1), stride=(1, 1), bias=False)\n",
              "        (norm2): BatchNorm2d(128, eps=1e-05, momentum=0.1, affine=True, track_running_stats=True)\n",
              "        (relu2): ReLU(inplace=True)\n",
              "        (conv2): Conv2d(128, 32, kernel_size=(3, 3), stride=(1, 1), padding=(1, 1), bias=False)\n",
              "      )\n",
              "      (denselayer13): _DenseLayer(\n",
              "        (norm1): BatchNorm2d(640, eps=1e-05, momentum=0.1, affine=True, track_running_stats=True)\n",
              "        (relu1): ReLU(inplace=True)\n",
              "        (conv1): Conv2d(640, 128, kernel_size=(1, 1), stride=(1, 1), bias=False)\n",
              "        (norm2): BatchNorm2d(128, eps=1e-05, momentum=0.1, affine=True, track_running_stats=True)\n",
              "        (relu2): ReLU(inplace=True)\n",
              "        (conv2): Conv2d(128, 32, kernel_size=(3, 3), stride=(1, 1), padding=(1, 1), bias=False)\n",
              "      )\n",
              "      (denselayer14): _DenseLayer(\n",
              "        (norm1): BatchNorm2d(672, eps=1e-05, momentum=0.1, affine=True, track_running_stats=True)\n",
              "        (relu1): ReLU(inplace=True)\n",
              "        (conv1): Conv2d(672, 128, kernel_size=(1, 1), stride=(1, 1), bias=False)\n",
              "        (norm2): BatchNorm2d(128, eps=1e-05, momentum=0.1, affine=True, track_running_stats=True)\n",
              "        (relu2): ReLU(inplace=True)\n",
              "        (conv2): Conv2d(128, 32, kernel_size=(3, 3), stride=(1, 1), padding=(1, 1), bias=False)\n",
              "      )\n",
              "      (denselayer15): _DenseLayer(\n",
              "        (norm1): BatchNorm2d(704, eps=1e-05, momentum=0.1, affine=True, track_running_stats=True)\n",
              "        (relu1): ReLU(inplace=True)\n",
              "        (conv1): Conv2d(704, 128, kernel_size=(1, 1), stride=(1, 1), bias=False)\n",
              "        (norm2): BatchNorm2d(128, eps=1e-05, momentum=0.1, affine=True, track_running_stats=True)\n",
              "        (relu2): ReLU(inplace=True)\n",
              "        (conv2): Conv2d(128, 32, kernel_size=(3, 3), stride=(1, 1), padding=(1, 1), bias=False)\n",
              "      )\n",
              "      (denselayer16): _DenseLayer(\n",
              "        (norm1): BatchNorm2d(736, eps=1e-05, momentum=0.1, affine=True, track_running_stats=True)\n",
              "        (relu1): ReLU(inplace=True)\n",
              "        (conv1): Conv2d(736, 128, kernel_size=(1, 1), stride=(1, 1), bias=False)\n",
              "        (norm2): BatchNorm2d(128, eps=1e-05, momentum=0.1, affine=True, track_running_stats=True)\n",
              "        (relu2): ReLU(inplace=True)\n",
              "        (conv2): Conv2d(128, 32, kernel_size=(3, 3), stride=(1, 1), padding=(1, 1), bias=False)\n",
              "      )\n",
              "      (denselayer17): _DenseLayer(\n",
              "        (norm1): BatchNorm2d(768, eps=1e-05, momentum=0.1, affine=True, track_running_stats=True)\n",
              "        (relu1): ReLU(inplace=True)\n",
              "        (conv1): Conv2d(768, 128, kernel_size=(1, 1), stride=(1, 1), bias=False)\n",
              "        (norm2): BatchNorm2d(128, eps=1e-05, momentum=0.1, affine=True, track_running_stats=True)\n",
              "        (relu2): ReLU(inplace=True)\n",
              "        (conv2): Conv2d(128, 32, kernel_size=(3, 3), stride=(1, 1), padding=(1, 1), bias=False)\n",
              "      )\n",
              "      (denselayer18): _DenseLayer(\n",
              "        (norm1): BatchNorm2d(800, eps=1e-05, momentum=0.1, affine=True, track_running_stats=True)\n",
              "        (relu1): ReLU(inplace=True)\n",
              "        (conv1): Conv2d(800, 128, kernel_size=(1, 1), stride=(1, 1), bias=False)\n",
              "        (norm2): BatchNorm2d(128, eps=1e-05, momentum=0.1, affine=True, track_running_stats=True)\n",
              "        (relu2): ReLU(inplace=True)\n",
              "        (conv2): Conv2d(128, 32, kernel_size=(3, 3), stride=(1, 1), padding=(1, 1), bias=False)\n",
              "      )\n",
              "      (denselayer19): _DenseLayer(\n",
              "        (norm1): BatchNorm2d(832, eps=1e-05, momentum=0.1, affine=True, track_running_stats=True)\n",
              "        (relu1): ReLU(inplace=True)\n",
              "        (conv1): Conv2d(832, 128, kernel_size=(1, 1), stride=(1, 1), bias=False)\n",
              "        (norm2): BatchNorm2d(128, eps=1e-05, momentum=0.1, affine=True, track_running_stats=True)\n",
              "        (relu2): ReLU(inplace=True)\n",
              "        (conv2): Conv2d(128, 32, kernel_size=(3, 3), stride=(1, 1), padding=(1, 1), bias=False)\n",
              "      )\n",
              "      (denselayer20): _DenseLayer(\n",
              "        (norm1): BatchNorm2d(864, eps=1e-05, momentum=0.1, affine=True, track_running_stats=True)\n",
              "        (relu1): ReLU(inplace=True)\n",
              "        (conv1): Conv2d(864, 128, kernel_size=(1, 1), stride=(1, 1), bias=False)\n",
              "        (norm2): BatchNorm2d(128, eps=1e-05, momentum=0.1, affine=True, track_running_stats=True)\n",
              "        (relu2): ReLU(inplace=True)\n",
              "        (conv2): Conv2d(128, 32, kernel_size=(3, 3), stride=(1, 1), padding=(1, 1), bias=False)\n",
              "      )\n",
              "      (denselayer21): _DenseLayer(\n",
              "        (norm1): BatchNorm2d(896, eps=1e-05, momentum=0.1, affine=True, track_running_stats=True)\n",
              "        (relu1): ReLU(inplace=True)\n",
              "        (conv1): Conv2d(896, 128, kernel_size=(1, 1), stride=(1, 1), bias=False)\n",
              "        (norm2): BatchNorm2d(128, eps=1e-05, momentum=0.1, affine=True, track_running_stats=True)\n",
              "        (relu2): ReLU(inplace=True)\n",
              "        (conv2): Conv2d(128, 32, kernel_size=(3, 3), stride=(1, 1), padding=(1, 1), bias=False)\n",
              "      )\n",
              "      (denselayer22): _DenseLayer(\n",
              "        (norm1): BatchNorm2d(928, eps=1e-05, momentum=0.1, affine=True, track_running_stats=True)\n",
              "        (relu1): ReLU(inplace=True)\n",
              "        (conv1): Conv2d(928, 128, kernel_size=(1, 1), stride=(1, 1), bias=False)\n",
              "        (norm2): BatchNorm2d(128, eps=1e-05, momentum=0.1, affine=True, track_running_stats=True)\n",
              "        (relu2): ReLU(inplace=True)\n",
              "        (conv2): Conv2d(128, 32, kernel_size=(3, 3), stride=(1, 1), padding=(1, 1), bias=False)\n",
              "      )\n",
              "      (denselayer23): _DenseLayer(\n",
              "        (norm1): BatchNorm2d(960, eps=1e-05, momentum=0.1, affine=True, track_running_stats=True)\n",
              "        (relu1): ReLU(inplace=True)\n",
              "        (conv1): Conv2d(960, 128, kernel_size=(1, 1), stride=(1, 1), bias=False)\n",
              "        (norm2): BatchNorm2d(128, eps=1e-05, momentum=0.1, affine=True, track_running_stats=True)\n",
              "        (relu2): ReLU(inplace=True)\n",
              "        (conv2): Conv2d(128, 32, kernel_size=(3, 3), stride=(1, 1), padding=(1, 1), bias=False)\n",
              "      )\n",
              "      (denselayer24): _DenseLayer(\n",
              "        (norm1): BatchNorm2d(992, eps=1e-05, momentum=0.1, affine=True, track_running_stats=True)\n",
              "        (relu1): ReLU(inplace=True)\n",
              "        (conv1): Conv2d(992, 128, kernel_size=(1, 1), stride=(1, 1), bias=False)\n",
              "        (norm2): BatchNorm2d(128, eps=1e-05, momentum=0.1, affine=True, track_running_stats=True)\n",
              "        (relu2): ReLU(inplace=True)\n",
              "        (conv2): Conv2d(128, 32, kernel_size=(3, 3), stride=(1, 1), padding=(1, 1), bias=False)\n",
              "      )\n",
              "    )\n",
              "    (transition3): _Transition(\n",
              "      (norm): BatchNorm2d(1024, eps=1e-05, momentum=0.1, affine=True, track_running_stats=True)\n",
              "      (relu): ReLU(inplace=True)\n",
              "      (conv): Conv2d(1024, 512, kernel_size=(1, 1), stride=(1, 1), bias=False)\n",
              "      (pool): AvgPool2d(kernel_size=2, stride=2, padding=0)\n",
              "    )\n",
              "    (denseblock4): _DenseBlock(\n",
              "      (denselayer1): _DenseLayer(\n",
              "        (norm1): BatchNorm2d(512, eps=1e-05, momentum=0.1, affine=True, track_running_stats=True)\n",
              "        (relu1): ReLU(inplace=True)\n",
              "        (conv1): Conv2d(512, 128, kernel_size=(1, 1), stride=(1, 1), bias=False)\n",
              "        (norm2): BatchNorm2d(128, eps=1e-05, momentum=0.1, affine=True, track_running_stats=True)\n",
              "        (relu2): ReLU(inplace=True)\n",
              "        (conv2): Conv2d(128, 32, kernel_size=(3, 3), stride=(1, 1), padding=(1, 1), bias=False)\n",
              "      )\n",
              "      (denselayer2): _DenseLayer(\n",
              "        (norm1): BatchNorm2d(544, eps=1e-05, momentum=0.1, affine=True, track_running_stats=True)\n",
              "        (relu1): ReLU(inplace=True)\n",
              "        (conv1): Conv2d(544, 128, kernel_size=(1, 1), stride=(1, 1), bias=False)\n",
              "        (norm2): BatchNorm2d(128, eps=1e-05, momentum=0.1, affine=True, track_running_stats=True)\n",
              "        (relu2): ReLU(inplace=True)\n",
              "        (conv2): Conv2d(128, 32, kernel_size=(3, 3), stride=(1, 1), padding=(1, 1), bias=False)\n",
              "      )\n",
              "      (denselayer3): _DenseLayer(\n",
              "        (norm1): BatchNorm2d(576, eps=1e-05, momentum=0.1, affine=True, track_running_stats=True)\n",
              "        (relu1): ReLU(inplace=True)\n",
              "        (conv1): Conv2d(576, 128, kernel_size=(1, 1), stride=(1, 1), bias=False)\n",
              "        (norm2): BatchNorm2d(128, eps=1e-05, momentum=0.1, affine=True, track_running_stats=True)\n",
              "        (relu2): ReLU(inplace=True)\n",
              "        (conv2): Conv2d(128, 32, kernel_size=(3, 3), stride=(1, 1), padding=(1, 1), bias=False)\n",
              "      )\n",
              "      (denselayer4): _DenseLayer(\n",
              "        (norm1): BatchNorm2d(608, eps=1e-05, momentum=0.1, affine=True, track_running_stats=True)\n",
              "        (relu1): ReLU(inplace=True)\n",
              "        (conv1): Conv2d(608, 128, kernel_size=(1, 1), stride=(1, 1), bias=False)\n",
              "        (norm2): BatchNorm2d(128, eps=1e-05, momentum=0.1, affine=True, track_running_stats=True)\n",
              "        (relu2): ReLU(inplace=True)\n",
              "        (conv2): Conv2d(128, 32, kernel_size=(3, 3), stride=(1, 1), padding=(1, 1), bias=False)\n",
              "      )\n",
              "      (denselayer5): _DenseLayer(\n",
              "        (norm1): BatchNorm2d(640, eps=1e-05, momentum=0.1, affine=True, track_running_stats=True)\n",
              "        (relu1): ReLU(inplace=True)\n",
              "        (conv1): Conv2d(640, 128, kernel_size=(1, 1), stride=(1, 1), bias=False)\n",
              "        (norm2): BatchNorm2d(128, eps=1e-05, momentum=0.1, affine=True, track_running_stats=True)\n",
              "        (relu2): ReLU(inplace=True)\n",
              "        (conv2): Conv2d(128, 32, kernel_size=(3, 3), stride=(1, 1), padding=(1, 1), bias=False)\n",
              "      )\n",
              "      (denselayer6): _DenseLayer(\n",
              "        (norm1): BatchNorm2d(672, eps=1e-05, momentum=0.1, affine=True, track_running_stats=True)\n",
              "        (relu1): ReLU(inplace=True)\n",
              "        (conv1): Conv2d(672, 128, kernel_size=(1, 1), stride=(1, 1), bias=False)\n",
              "        (norm2): BatchNorm2d(128, eps=1e-05, momentum=0.1, affine=True, track_running_stats=True)\n",
              "        (relu2): ReLU(inplace=True)\n",
              "        (conv2): Conv2d(128, 32, kernel_size=(3, 3), stride=(1, 1), padding=(1, 1), bias=False)\n",
              "      )\n",
              "      (denselayer7): _DenseLayer(\n",
              "        (norm1): BatchNorm2d(704, eps=1e-05, momentum=0.1, affine=True, track_running_stats=True)\n",
              "        (relu1): ReLU(inplace=True)\n",
              "        (conv1): Conv2d(704, 128, kernel_size=(1, 1), stride=(1, 1), bias=False)\n",
              "        (norm2): BatchNorm2d(128, eps=1e-05, momentum=0.1, affine=True, track_running_stats=True)\n",
              "        (relu2): ReLU(inplace=True)\n",
              "        (conv2): Conv2d(128, 32, kernel_size=(3, 3), stride=(1, 1), padding=(1, 1), bias=False)\n",
              "      )\n",
              "      (denselayer8): _DenseLayer(\n",
              "        (norm1): BatchNorm2d(736, eps=1e-05, momentum=0.1, affine=True, track_running_stats=True)\n",
              "        (relu1): ReLU(inplace=True)\n",
              "        (conv1): Conv2d(736, 128, kernel_size=(1, 1), stride=(1, 1), bias=False)\n",
              "        (norm2): BatchNorm2d(128, eps=1e-05, momentum=0.1, affine=True, track_running_stats=True)\n",
              "        (relu2): ReLU(inplace=True)\n",
              "        (conv2): Conv2d(128, 32, kernel_size=(3, 3), stride=(1, 1), padding=(1, 1), bias=False)\n",
              "      )\n",
              "      (denselayer9): _DenseLayer(\n",
              "        (norm1): BatchNorm2d(768, eps=1e-05, momentum=0.1, affine=True, track_running_stats=True)\n",
              "        (relu1): ReLU(inplace=True)\n",
              "        (conv1): Conv2d(768, 128, kernel_size=(1, 1), stride=(1, 1), bias=False)\n",
              "        (norm2): BatchNorm2d(128, eps=1e-05, momentum=0.1, affine=True, track_running_stats=True)\n",
              "        (relu2): ReLU(inplace=True)\n",
              "        (conv2): Conv2d(128, 32, kernel_size=(3, 3), stride=(1, 1), padding=(1, 1), bias=False)\n",
              "      )\n",
              "      (denselayer10): _DenseLayer(\n",
              "        (norm1): BatchNorm2d(800, eps=1e-05, momentum=0.1, affine=True, track_running_stats=True)\n",
              "        (relu1): ReLU(inplace=True)\n",
              "        (conv1): Conv2d(800, 128, kernel_size=(1, 1), stride=(1, 1), bias=False)\n",
              "        (norm2): BatchNorm2d(128, eps=1e-05, momentum=0.1, affine=True, track_running_stats=True)\n",
              "        (relu2): ReLU(inplace=True)\n",
              "        (conv2): Conv2d(128, 32, kernel_size=(3, 3), stride=(1, 1), padding=(1, 1), bias=False)\n",
              "      )\n",
              "      (denselayer11): _DenseLayer(\n",
              "        (norm1): BatchNorm2d(832, eps=1e-05, momentum=0.1, affine=True, track_running_stats=True)\n",
              "        (relu1): ReLU(inplace=True)\n",
              "        (conv1): Conv2d(832, 128, kernel_size=(1, 1), stride=(1, 1), bias=False)\n",
              "        (norm2): BatchNorm2d(128, eps=1e-05, momentum=0.1, affine=True, track_running_stats=True)\n",
              "        (relu2): ReLU(inplace=True)\n",
              "        (conv2): Conv2d(128, 32, kernel_size=(3, 3), stride=(1, 1), padding=(1, 1), bias=False)\n",
              "      )\n",
              "      (denselayer12): _DenseLayer(\n",
              "        (norm1): BatchNorm2d(864, eps=1e-05, momentum=0.1, affine=True, track_running_stats=True)\n",
              "        (relu1): ReLU(inplace=True)\n",
              "        (conv1): Conv2d(864, 128, kernel_size=(1, 1), stride=(1, 1), bias=False)\n",
              "        (norm2): BatchNorm2d(128, eps=1e-05, momentum=0.1, affine=True, track_running_stats=True)\n",
              "        (relu2): ReLU(inplace=True)\n",
              "        (conv2): Conv2d(128, 32, kernel_size=(3, 3), stride=(1, 1), padding=(1, 1), bias=False)\n",
              "      )\n",
              "      (denselayer13): _DenseLayer(\n",
              "        (norm1): BatchNorm2d(896, eps=1e-05, momentum=0.1, affine=True, track_running_stats=True)\n",
              "        (relu1): ReLU(inplace=True)\n",
              "        (conv1): Conv2d(896, 128, kernel_size=(1, 1), stride=(1, 1), bias=False)\n",
              "        (norm2): BatchNorm2d(128, eps=1e-05, momentum=0.1, affine=True, track_running_stats=True)\n",
              "        (relu2): ReLU(inplace=True)\n",
              "        (conv2): Conv2d(128, 32, kernel_size=(3, 3), stride=(1, 1), padding=(1, 1), bias=False)\n",
              "      )\n",
              "      (denselayer14): _DenseLayer(\n",
              "        (norm1): BatchNorm2d(928, eps=1e-05, momentum=0.1, affine=True, track_running_stats=True)\n",
              "        (relu1): ReLU(inplace=True)\n",
              "        (conv1): Conv2d(928, 128, kernel_size=(1, 1), stride=(1, 1), bias=False)\n",
              "        (norm2): BatchNorm2d(128, eps=1e-05, momentum=0.1, affine=True, track_running_stats=True)\n",
              "        (relu2): ReLU(inplace=True)\n",
              "        (conv2): Conv2d(128, 32, kernel_size=(3, 3), stride=(1, 1), padding=(1, 1), bias=False)\n",
              "      )\n",
              "      (denselayer15): _DenseLayer(\n",
              "        (norm1): BatchNorm2d(960, eps=1e-05, momentum=0.1, affine=True, track_running_stats=True)\n",
              "        (relu1): ReLU(inplace=True)\n",
              "        (conv1): Conv2d(960, 128, kernel_size=(1, 1), stride=(1, 1), bias=False)\n",
              "        (norm2): BatchNorm2d(128, eps=1e-05, momentum=0.1, affine=True, track_running_stats=True)\n",
              "        (relu2): ReLU(inplace=True)\n",
              "        (conv2): Conv2d(128, 32, kernel_size=(3, 3), stride=(1, 1), padding=(1, 1), bias=False)\n",
              "      )\n",
              "      (denselayer16): _DenseLayer(\n",
              "        (norm1): BatchNorm2d(992, eps=1e-05, momentum=0.1, affine=True, track_running_stats=True)\n",
              "        (relu1): ReLU(inplace=True)\n",
              "        (conv1): Conv2d(992, 128, kernel_size=(1, 1), stride=(1, 1), bias=False)\n",
              "        (norm2): BatchNorm2d(128, eps=1e-05, momentum=0.1, affine=True, track_running_stats=True)\n",
              "        (relu2): ReLU(inplace=True)\n",
              "        (conv2): Conv2d(128, 32, kernel_size=(3, 3), stride=(1, 1), padding=(1, 1), bias=False)\n",
              "      )\n",
              "    )\n",
              "    (norm5): BatchNorm2d(1024, eps=1e-05, momentum=0.1, affine=True, track_running_stats=True)\n",
              "  )\n",
              "  (classifier): Sequential(\n",
              "    (0): Linear(in_features=1024, out_features=460, bias=True)\n",
              "    (1): ReLU()\n",
              "    (2): Dropout(p=0.4, inplace=False)\n",
              "    (3): Linear(in_features=460, out_features=5, bias=True)\n",
              "  )\n",
              ")"
            ]
          },
          "execution_count": 36,
          "metadata": {},
          "output_type": "execute_result"
        }
      ],
      "source": [
        "# Envia o modelo para a memória do device\n",
        "modelo.to(device)"
      ]
    },
    {
      "cell_type": "code",
      "execution_count": null,
      "id": "5dc7ff3e",
      "metadata": {
        "id": "5dc7ff3e"
      },
      "outputs": [],
      "source": [
        "# Função de perda\n",
        "criterion = nn.CrossEntropyLoss()"
      ]
    },
    {
      "cell_type": "code",
      "execution_count": null,
      "id": "d6a30af7",
      "metadata": {
        "id": "d6a30af7"
      },
      "outputs": [],
      "source": [
        "# Otimizador\n",
        "optimizer = torch.optim.Adam(modelo.parameters(), lr = learning_rate)"
      ]
    },
    {
      "cell_type": "code",
      "execution_count": null,
      "id": "4e435edd",
      "metadata": {
        "id": "4e435edd",
        "outputId": "4c9f49ab-aad7-464e-d527-f24ef3f8231e"
      },
      "outputs": [
        {
          "name": "stdout",
          "output_type": "stream",
          "text": [
            "Epoch [1/5], Step [123/124], Loss: 0.0265: Batch Loss : 0.00021569415684637985\n",
            "Epoch [2/5], Step [123/124], Loss: 0.2254: Batch Loss : 0.0018325425018139972\n",
            "Epoch [3/5], Step [123/124], Loss: 0.0005: Batch Loss : 3.7506300335129103e-06\n",
            "Epoch [4/5], Step [123/124], Loss: 0.0090: Batch Loss : 7.348170700838895e-05\n",
            "Epoch [5/5], Step [123/124], Loss: 0.0454: Batch Loss : 0.000369091132065145\n",
            "Wall time: 21min 37s\n"
          ]
        }
      ],
      "source": [
        "%%time\n",
        "\n",
        "# Vamos medir o tempo de execução\n",
        "total_step = len(dataloader_treino)\n",
        "print_every = len(dataloader_treino) - 1\n",
        "loss_values = []\n",
        "total_step = len(dataloader_treino)\n",
        "epoch_times = []\n",
        "\n",
        "# Loop de treinamento pelo número de épocas\n",
        "for epoch in range(num_epochs):\n",
        "    \n",
        "    # Loop por cada batch de imagem/label\n",
        "    for i, (images, labels) in enumerate(dataloader_treino): \n",
        "        \n",
        "        # Zera o contador de erro\n",
        "        running_loss = 0.0\n",
        "        \n",
        "        # Carrega imagens do batch\n",
        "        images = images.to(device)\n",
        "        \n",
        "        # Carrega labels do batch\n",
        "        labels = labels.to(device)\n",
        "        \n",
        "        # Faz a previsão com o modelo\n",
        "        outputs = modelo(images)\n",
        "        \n",
        "        # Calcula o erro do modelo\n",
        "        loss = criterion(outputs, labels)\n",
        "        \n",
        "        # Zera os gradientes que serão aprendidos\n",
        "        optimizer.zero_grad()\n",
        "        \n",
        "        # Aplica o backpropagation\n",
        "        loss.backward()\n",
        "        \n",
        "        # Aplica a otimização dos gradientes (aqui ocorre o aprendizado)\n",
        "        optimizer.step()\n",
        "        \n",
        "        # Registra o erro do modelo\n",
        "        running_loss += loss.item() \n",
        "        \n",
        "        # Imprime em intervalos regulares\n",
        "        if (i+1) % print_every == 0:\n",
        "            \n",
        "            loss_values.append(running_loss / print_every)\n",
        "            \n",
        "            print ('Epoch [{}/{}], Step [{}/{}], Loss: {:.4f}: Batch Loss : {}' \n",
        "                   .format(epoch+1, num_epochs, i+1, total_step, loss.item(), running_loss / print_every))\n",
        "            \n",
        "            running_loss = 0"
      ]
    },
    {
      "cell_type": "markdown",
      "id": "c3066b0a",
      "metadata": {
        "id": "c3066b0a"
      },
      "source": [
        "## 5. Previsões do modelo"
      ]
    },
    {
      "cell_type": "code",
      "execution_count": null,
      "id": "2ada3bcf",
      "metadata": {
        "id": "2ada3bcf"
      },
      "outputs": [],
      "source": [
        "# Cria os arrays que vão receber as previsões\n",
        "arr_pred = np.empty((0, len(dataset_teste)), int)\n",
        "arr_label = np.empty((0, len(dataset_teste)), int)"
      ]
    },
    {
      "cell_type": "code",
      "execution_count": null,
      "id": "79d38963",
      "metadata": {
        "id": "79d38963",
        "outputId": "382eea49-a983-43a5-f967-fdf15af2683f"
      },
      "outputs": [
        {
          "name": "stdout",
          "output_type": "stream",
          "text": [
            "Acurácia do modelo em 845imagens de teste 36.21301775147929 %\n"
          ]
        }
      ],
      "source": [
        "# Loop das previsões\n",
        "with torch.no_grad():\n",
        "    \n",
        "    # Contadores\n",
        "    correct = 0\n",
        "    total = 0\n",
        "    \n",
        "    # Loop pelos dados de teste\n",
        "    for images, labels in dataloader_teste:\n",
        "        \n",
        "        # Extrai imagens e labels do batch de teste\n",
        "        images = images.to(device)\n",
        "        labels = labels.to(device)\n",
        "        \n",
        "        # Previsão com o modelo\n",
        "        outputs = modelo(images)\n",
        "        \n",
        "        # Extrai o maior valor de probabilidade (classe prevista)\n",
        "        _, predicted = torch.max(outputs.data, 1)\n",
        "        \n",
        "        total += labels.size(0)\n",
        "        correct += (predicted == labels).sum().item()\n",
        "        pred = predicted.cpu().numpy()\n",
        "        lb = labels.cpu().numpy()\n",
        "        arr_pred = np.append(arr_pred, pred)\n",
        "        arr_label = np.append(arr_label, lb)\n",
        "    \n",
        "    print('Acurácia do modelo em ' + str(len(dataset_teste)) + 'imagens de teste {} %'.format(100 * correct/total))"
      ]
    },
    {
      "cell_type": "markdown",
      "id": "ab17b117",
      "metadata": {
        "id": "ab17b117"
      },
      "source": [
        "## 6. Avaliação do modelo"
      ]
    },
    {
      "cell_type": "code",
      "execution_count": null,
      "id": "0dc1de2a",
      "metadata": {
        "id": "0dc1de2a"
      },
      "outputs": [],
      "source": [
        "# Função para o plot da matriz de confusão\n",
        "def plot_confusion_matrix(cm,\n",
        "                          target_names,\n",
        "                          title = 'Matriz de Confusão',\n",
        "                          cmap = None,\n",
        "                          normalize = True):\n",
        "    import itertools\n",
        "\n",
        "    accuracy = np.trace(cm) / float(np.sum(cm))\n",
        "    misclass = 1 - accuracy\n",
        "\n",
        "    if cmap is None:\n",
        "        cmap = plt.get_cmap('Blues')\n",
        "\n",
        "    plt.figure(figsize = (10, 8))\n",
        "    plt.imshow(cm, interpolation = 'nearest', cmap=cmap)\n",
        "    plt.title(title)\n",
        "    plt.colorbar()\n",
        "        \n",
        "    if target_names is not None:\n",
        "        tick_marks = np.arange(len(target_names))\n",
        "        plt.xticks(tick_marks, target_names, rotation=45)\n",
        "        plt.yticks(tick_marks, target_names)\n",
        "\n",
        "    if normalize:\n",
        "        cm = cm.astype('float') / cm.sum(axis=1)[:, np.newaxis]\n",
        "\n",
        "\n",
        "    thresh = cm.max() / 1.5 if normalize else cm.max() / 2\n",
        "    for i, j in itertools.product(range(cm.shape[0]), range(cm.shape[1])):\n",
        "        if normalize:\n",
        "            plt.text(j, i, \"{:0.4f}\".format(cm[i, j]),\n",
        "                     horizontalalignment=\"center\",\n",
        "                     color=\"white\" if cm[i, j] > thresh else \"black\")\n",
        "        else:\n",
        "            plt.text(j, i, \"{:,}\".format(cm[i, j]),\n",
        "                     horizontalalignment=\"center\",\n",
        "                     color=\"white\" if cm[i, j] > thresh else \"black\")\n",
        "\n",
        "\n",
        "    plt.tight_layout()\n",
        "    plt.ylabel('Label Real')\n",
        "    plt.xlabel('Label Previsto\\naccuracy={:0.4f}; misclass={:0.4f}'.format(accuracy, misclass))\n",
        "    plt.show()"
      ]
    },
    {
      "cell_type": "code",
      "execution_count": null,
      "id": "c9495276",
      "metadata": {
        "id": "c9495276",
        "outputId": "d5a2e12a-670e-49be-cf17-72d709c1d7ec"
      },
      "outputs": [
        {
          "name": "stdout",
          "output_type": "stream",
          "text": [
            "              precision    recall  f1-score   support\n",
            "\n",
            "           0       0.35      0.41      0.38       225\n",
            "           1       0.25      0.13      0.17       170\n",
            "           2       0.38      0.33      0.35       225\n",
            "           3       0.40      0.52      0.45       225\n",
            "\n",
            "    accuracy                           0.36       845\n",
            "   macro avg       0.34      0.35      0.34       845\n",
            "weighted avg       0.35      0.36      0.35       845\n",
            "\n"
          ]
        }
      ],
      "source": [
        "# Visualiza as métricas\n",
        "print(metrics.classification_report(arr_label, arr_pred))"
      ]
    },
    {
      "cell_type": "code",
      "execution_count": null,
      "id": "152cf970",
      "metadata": {
        "id": "152cf970",
        "outputId": "c437b619-d008-4151-fa08-5cc322d86fe5"
      },
      "outputs": [
        {
          "data": {
            "image/png": "[encoded data removed]",
            "text/plain": [
              "<Figure size 1000x800 with 2 Axes>"
            ]
          },
          "metadata": {},
          "output_type": "display_data"
        }
      ],
      "source": [
        "# Confusion Matrix\n",
        "cm = metrics.confusion_matrix(arr_label, arr_pred)\n",
        "plot_confusion_matrix(cm, target_names = nomes_classes, title = 'Confusion Matrix' , normalize = False)"
      ]
    }
  ],
  "metadata": {
    "kernelspec": {
      "display_name": "Python 3 (ipykernel)",
      "language": "python",
      "name": "python3"
    },
    "language_info": {
      "codemirror_mode": {
        "name": "ipython",
        "version": 3
      },
      "file_extension": ".py",
      "mimetype": "text/x-python",
      "name": "python",
      "nbconvert_exporter": "python",
      "pygments_lexer": "ipython3",
      "version": "3.9.13"
    },
    "colab": {
      "provenance": []
    },
    "accelerator": "GPU",
    "gpuClass": "standard"
  },
  "nbformat": 4,
  "nbformat_minor": 5
}