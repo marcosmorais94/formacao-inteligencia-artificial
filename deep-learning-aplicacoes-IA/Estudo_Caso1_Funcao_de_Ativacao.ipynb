{
  "cells": [
    {
      "cell_type": "markdown",
      "id": "1520cc91",
      "metadata": {
        "id": "1520cc91"
      },
      "source": [
        "# Estudo de Caso 1 - Funções de Ativação"
      ]
    },
    {
      "cell_type": "markdown",
      "id": "267c696d",
      "metadata": {
        "id": "267c696d"
      },
      "source": [
        "Em muitos problemas de Ciência de Dados, nem sem sempre a entrada X tem uma relação linear com a saída Y. Por exemplo, o preço de um imóvel tem n variáveis que podem influenciar para mais ou menos o preço de uma casa. Com uma análise padrão, nem sempre conseguimos achar alguma resposta clara de como é a relação em X com Y e então usamos as chamadas funções de ativação. \n",
        "\n",
        "As funções de ativação são usadas em modelos com Deep Learning para introduzir a não linearidade na análise preditiva. Ou seja, em muitos problemas temos uma relação não linear entre as variáveis preditoras e a variável target. \n",
        "\n",
        "Algumas das funções de ativação mais comuns incluem a ReLU (unidade linear retificada), a sigmóide e a tangente hiperbólica. O objetivo desse script é demonstrar na prática quais as principais diferentes entre eles na performance do modelo."
      ]
    },
    {
      "cell_type": "markdown",
      "id": "f94eac95",
      "metadata": {
        "id": "f94eac95"
      },
      "source": [
        "## 1. Instalação e Carga de Pacotes"
      ]
    },
    {
      "cell_type": "code",
      "execution_count": null,
      "id": "3b40119b",
      "metadata": {
        "colab": {
          "base_uri": "https://localhost:8080/"
        },
        "id": "3b40119b",
        "outputId": "7393db7a-7da2-44c4-a67d-2be9507ae74b"
      },
      "outputs": [
        {
          "output_type": "stream",
          "name": "stdout",
          "text": [
            "Versão da linguagem Python usada neste Jupyter Notebook: 3.9.16\n"
          ]
        }
      ],
      "source": [
        "# Versão da Linguagem Python\n",
        "from platform import python_version\n",
        "print('Versão da linguagem Python usada neste Jupyter Notebook:', python_version())"
      ]
    },
    {
      "cell_type": "code",
      "execution_count": null,
      "id": "4d08d1e7",
      "metadata": {
        "id": "4d08d1e7",
        "colab": {
          "base_uri": "https://localhost:8080/"
        },
        "outputId": "c543ee08-5d39-49b8-8f3d-1e632481ff27"
      },
      "outputs": [
        {
          "output_type": "stream",
          "name": "stdout",
          "text": [
            "\u001b[2K     \u001b[90m━━━━━━━━━━━━━━━━━━━━━━━━━━━━━━━━━━━━━━━\u001b[0m \u001b[32m890.2/890.2 MB\u001b[0m \u001b[31m1.5 MB/s\u001b[0m eta \u001b[36m0:00:00\u001b[0m\n",
            "\u001b[2K     \u001b[90m━━━━━━━━━━━━━━━━━━━━━━━━━━━━━━━━━━━━━━\u001b[0m \u001b[32m849.3/849.3 KB\u001b[0m \u001b[31m61.4 MB/s\u001b[0m eta \u001b[36m0:00:00\u001b[0m\n",
            "\u001b[2K     \u001b[90m━━━━━━━━━━━━━━━━━━━━━━━━━━━━━━━━━━━━━━━━\u001b[0m \u001b[32m21.0/21.0 MB\u001b[0m \u001b[31m66.7 MB/s\u001b[0m eta \u001b[36m0:00:00\u001b[0m\n",
            "\u001b[2K     \u001b[90m━━━━━━━━━━━━━━━━━━━━━━━━━━━━━━━━━━━━━━━\u001b[0m \u001b[32m557.1/557.1 MB\u001b[0m \u001b[31m3.0 MB/s\u001b[0m eta \u001b[36m0:00:00\u001b[0m\n",
            "\u001b[2K     \u001b[90m━━━━━━━━━━━━━━━━━━━━━━━━━━━━━━━━━━━━━━━\u001b[0m \u001b[32m317.1/317.1 MB\u001b[0m \u001b[31m4.7 MB/s\u001b[0m eta \u001b[36m0:00:00\u001b[0m\n",
            "\u001b[?25h\u001b[31mERROR: pip's dependency resolver does not currently take into account all the packages that are installed. This behaviour is the source of the following dependency conflicts.\n",
            "torchvision 0.15.1+cu118 requires torch==2.0.0, but you have torch 1.13.0 which is incompatible.\n",
            "torchtext 0.15.1 requires torch==2.0.0, but you have torch 1.13.0 which is incompatible.\n",
            "torchdata 0.6.0 requires torch==2.0.0, but you have torch 1.13.0 which is incompatible.\n",
            "torchaudio 2.0.1+cu118 requires torch==2.0.0, but you have torch 1.13.0 which is incompatible.\u001b[0m\u001b[31m\n",
            "\u001b[0m"
          ]
        }
      ],
      "source": [
        "# Pytorch\n",
        "!pip install -q torch==1.13.0"
      ]
    },
    {
      "cell_type": "code",
      "execution_count": null,
      "id": "a5e0d5cc",
      "metadata": {
        "id": "a5e0d5cc",
        "colab": {
          "base_uri": "https://localhost:8080/"
        },
        "outputId": "7d89479e-bb76-4a1c-9ad1-67ab179ad4b9"
      },
      "outputs": [
        {
          "output_type": "stream",
          "name": "stdout",
          "text": [
            "\u001b[2K     \u001b[90m━━━━━━━━━━━━━━━━━━━━━━━━━━━━━━━━━━━━━━━━\u001b[0m \u001b[32m24.3/24.3 MB\u001b[0m \u001b[31m37.5 MB/s\u001b[0m eta \u001b[36m0:00:00\u001b[0m\n",
            "\u001b[?25h"
          ]
        }
      ],
      "source": [
        "# Torchvision\n",
        "!pip install -q torchvision==0.14.0"
      ]
    },
    {
      "cell_type": "code",
      "source": [
        "# Watermark\n",
        "!pip install -q -U watermark"
      ],
      "metadata": {
        "id": "8qXBXnP6F3bo",
        "colab": {
          "base_uri": "https://localhost:8080/"
        },
        "outputId": "82dee757-3f0f-4242-c9a0-25d6ab424ce4"
      },
      "id": "8qXBXnP6F3bo",
      "execution_count": null,
      "outputs": [
        {
          "output_type": "stream",
          "name": "stdout",
          "text": [
            "\u001b[?25l     \u001b[90m━━━━━━━━━━━━━━━━━━━━━━━━━━━━━━━━━━━━━━━━\u001b[0m \u001b[32m0.0/1.6 MB\u001b[0m \u001b[31m?\u001b[0m eta \u001b[36m-:--:--\u001b[0m\r\u001b[2K     \u001b[90m━━━━━━━━━━━━━━━━━━━━━━━━━━━━━━━━━━━━━━━━\u001b[0m \u001b[32m1.6/1.6 MB\u001b[0m \u001b[31m64.8 MB/s\u001b[0m eta \u001b[36m0:00:00\u001b[0m\n",
            "\u001b[?25h"
          ]
        }
      ]
    },
    {
      "cell_type": "code",
      "execution_count": null,
      "id": "6df8cc87",
      "metadata": {
        "id": "6df8cc87"
      },
      "outputs": [],
      "source": [
        "# Carga dos Pacotes\n",
        "\n",
        "# Verifica tempo de treinamento\n",
        "import time\n",
        "\n",
        "# Pacote torch\n",
        "import torch\n",
        "import torch.nn as nn # local das funções de ativação\n",
        "import torch.optim as optim # otimização do modelo\n",
        "import torch.nn.functional as F # camadas do modelo de Deep Learning\n",
        "\n",
        "# Pacote Torchvision\n",
        "import torchvision\n",
        "from torchvision import datasets, transforms # Origem dos dados e aplicação de transformação aos dados\n",
        "\n",
        "# Pacotes para análises de dados\n",
        "import matplotlib.pyplot as plt\n",
        "import matplotlib\n",
        "import numpy as np"
      ]
    },
    {
      "cell_type": "code",
      "execution_count": null,
      "id": "7033848f",
      "metadata": {
        "colab": {
          "base_uri": "https://localhost:8080/"
        },
        "id": "7033848f",
        "outputId": "0c9cb0f5-f3cc-4116-d9a7-4a4805968581"
      },
      "outputs": [
        {
          "output_type": "stream",
          "name": "stdout",
          "text": [
            "Author: Estudo de Caso 1 - Funções de Ativação\n",
            "\n",
            "torchvision: 0.14.0\n",
            "matplotlib : 3.7.1\n",
            "numpy      : 1.22.4\n",
            "torch      : 1.13.0\n",
            "\n"
          ]
        }
      ],
      "source": [
        "# Versões dos pacotes usados neste jupyter notebook\n",
        "%reload_ext watermark\n",
        "%watermark -a \"Estudo de Caso 1 - Funções de Ativação\" --iversions"
      ]
    },
    {
      "cell_type": "markdown",
      "id": "ec3da88e",
      "metadata": {
        "id": "ec3da88e"
      },
      "source": [
        "## 2. Carga dos Dados"
      ]
    },
    {
      "cell_type": "code",
      "execution_count": null,
      "id": "82a6ee38",
      "metadata": {
        "id": "82a6ee38"
      },
      "outputs": [],
      "source": [
        "# Definição da função Transformer para carga dos dados\n",
        "# Função transforma os dados em tensor e aplica normalização\n",
        "transformacoes = transforms.Compose([transforms.ToTensor(), transforms.Normalize((0.5,), (0.5,))])"
      ]
    },
    {
      "cell_type": "code",
      "execution_count": null,
      "id": "2eec91b7",
      "metadata": {
        "id": "2eec91b7",
        "colab": {
          "base_uri": "https://localhost:8080/",
          "height": 437,
          "referenced_widgets": [
            "56c84216ebb54c75b46f71d4b078b080",
            "5d209cb49799425ab4939d3d603a4a5d",
            "64f571832d7347dd8ab4e454159c7300",
            "4185e5095293476ab9d4b85a1eb2f777",
            "ae3db6a22fcf40f0b1fdc4991aa5256f",
            "e80e75bfe3ca42e1b252fdebba492fd3",
            "3f5e68979cd34d13847190f77748def0",
            "c9954ac30e7f44dc81218e82a19a5e8f",
            "aed4336bbade4fdf99560b42ed51a4a0",
            "00d22d3d7ba043d0b339a75dd77493c1",
            "4c28190fcc0348daa6dadef32d64cfb7",
            "88de5fe6517e49688bf1c3539b9ff090",
            "0d48218f7d0d4957a1e69ea9d575df4e",
            "bddc20b537fc46f49ca6e305193c7dea",
            "32d82ba11d3f48b8acc82ed70e9885ca",
            "0654c7a9cace4ff796977e6f740fe147",
            "39354e76d2cc4e39bdda3a3c7adfb525",
            "22a6a8e3ce524d29a6955a328bdad705",
            "0b0b88740bb942aba43c1bdb37953832",
            "ddd1eac955664f57bd3929cd4326d94c",
            "d6b7283280b94386bc0cfe37bc9654d4",
            "fe94f269baea4ac8afffa63473c0a74e",
            "d8242a537486475cbc7a11d5600763ba",
            "aaef304f4c364440931f0071e3909650",
            "1aa9d6544b0a4dd49a66f0947ebae7ce",
            "f8d6cf685ae64ba495ab73dad4a41b56",
            "e6c35c869b76460b81a9af923c366214",
            "27bb156760da4fc2b5270483f15f7498",
            "d8e79bbaeed0404ea69213462d4b08f1",
            "40b94d4f47454e4a9d751d5ab7553c97",
            "91db8a02865f4fdeb0bd0154d08b57e9",
            "173c8f7a9dc64f2d83eab3c2963021e9",
            "fad74bccb1594a73b0394896db363044",
            "e1956b7c428a4438b124c2e5746527e5",
            "b54375059e4f4f7b802928e598e5c252",
            "0dcce13d7efb4b47b8bc39a5b1359959",
            "2c18df57f988418ba5e06cb3b291c5bd",
            "901b2ab0d94c4825b871ffcc149ccee9",
            "7a1b6a0344424847916de1f67fa1ecca",
            "4d06167786514f09889eba946cf00baa",
            "889ac19e9c5b401bbaadcc0c7f3810db",
            "8291a34547f14202b895ccd5b978efbc",
            "5199a77b88eb4449be774e1c782e96e5",
            "f51ac12fc102499aa643f8e798ffb106"
          ]
        },
        "outputId": "01e4c984-5148-49e8-e09f-8bf8caf3d069"
      },
      "outputs": [
        {
          "output_type": "stream",
          "name": "stdout",
          "text": [
            "Downloading http://yann.lecun.com/exdb/mnist/train-images-idx3-ubyte.gz\n",
            "Downloading http://yann.lecun.com/exdb/mnist/train-images-idx3-ubyte.gz to dados/MNIST/raw/train-images-idx3-ubyte.gz\n"
          ]
        },
        {
          "output_type": "display_data",
          "data": {
            "text/plain": [
              "  0%|          | 0/9912422 [00:00<?, ?it/s]"
            ],
            "application/vnd.jupyter.widget-view+json": {
              "version_major": 2,
              "version_minor": 0,
              "model_id": "56c84216ebb54c75b46f71d4b078b080"
            }
          },
          "metadata": {}
        },
        {
          "output_type": "stream",
          "name": "stdout",
          "text": [
            "Extracting dados/MNIST/raw/train-images-idx3-ubyte.gz to dados/MNIST/raw\n",
            "\n",
            "Downloading http://yann.lecun.com/exdb/mnist/train-labels-idx1-ubyte.gz\n",
            "Downloading http://yann.lecun.com/exdb/mnist/train-labels-idx1-ubyte.gz to dados/MNIST/raw/train-labels-idx1-ubyte.gz\n"
          ]
        },
        {
          "output_type": "display_data",
          "data": {
            "text/plain": [
              "  0%|          | 0/28881 [00:00<?, ?it/s]"
            ],
            "application/vnd.jupyter.widget-view+json": {
              "version_major": 2,
              "version_minor": 0,
              "model_id": "88de5fe6517e49688bf1c3539b9ff090"
            }
          },
          "metadata": {}
        },
        {
          "output_type": "stream",
          "name": "stdout",
          "text": [
            "Extracting dados/MNIST/raw/train-labels-idx1-ubyte.gz to dados/MNIST/raw\n",
            "\n",
            "Downloading http://yann.lecun.com/exdb/mnist/t10k-images-idx3-ubyte.gz\n",
            "Downloading http://yann.lecun.com/exdb/mnist/t10k-images-idx3-ubyte.gz to dados/MNIST/raw/t10k-images-idx3-ubyte.gz\n"
          ]
        },
        {
          "output_type": "display_data",
          "data": {
            "text/plain": [
              "  0%|          | 0/1648877 [00:00<?, ?it/s]"
            ],
            "application/vnd.jupyter.widget-view+json": {
              "version_major": 2,
              "version_minor": 0,
              "model_id": "d8242a537486475cbc7a11d5600763ba"
            }
          },
          "metadata": {}
        },
        {
          "output_type": "stream",
          "name": "stdout",
          "text": [
            "Extracting dados/MNIST/raw/t10k-images-idx3-ubyte.gz to dados/MNIST/raw\n",
            "\n",
            "Downloading http://yann.lecun.com/exdb/mnist/t10k-labels-idx1-ubyte.gz\n",
            "Downloading http://yann.lecun.com/exdb/mnist/t10k-labels-idx1-ubyte.gz to dados/MNIST/raw/t10k-labels-idx1-ubyte.gz\n"
          ]
        },
        {
          "output_type": "display_data",
          "data": {
            "text/plain": [
              "  0%|          | 0/4542 [00:00<?, ?it/s]"
            ],
            "application/vnd.jupyter.widget-view+json": {
              "version_major": 2,
              "version_minor": 0,
              "model_id": "e1956b7c428a4438b124c2e5746527e5"
            }
          },
          "metadata": {}
        },
        {
          "output_type": "stream",
          "name": "stdout",
          "text": [
            "Extracting dados/MNIST/raw/t10k-labels-idx1-ubyte.gz to dados/MNIST/raw\n",
            "\n"
          ]
        }
      ],
      "source": [
        "# Carga dos dados de treino\n",
        "dados_treino = torch.utils.data.DataLoader(datasets.MNIST('dados',\n",
        "                                                         train = True,\n",
        "                                                         download = True,\n",
        "                                                         transform = transformacoes),\n",
        "                                                         batch_size = 64, # tamanho do lote de imagens\n",
        "                                                         shuffle = True) # ordem aleatória das imagens"
      ]
    },
    {
      "cell_type": "code",
      "execution_count": null,
      "id": "f61153b2",
      "metadata": {
        "id": "f61153b2"
      },
      "outputs": [],
      "source": [
        "# Carga dos dados de teste\n",
        "dados_teste = torch.utils.data.DataLoader(datasets.MNIST('dados',\n",
        "                                                        train = False,\n",
        "                                                        transform = transformacoes),\n",
        "                                                        batch_size = 64,\n",
        "                                                        shuffle = True)"
      ]
    },
    {
      "cell_type": "code",
      "execution_count": null,
      "id": "018b745a",
      "metadata": {
        "colab": {
          "base_uri": "https://localhost:8080/"
        },
        "id": "018b745a",
        "outputId": "aa088ddb-3165-4584-fbe1-11a8cd57b3c5"
      },
      "outputs": [
        {
          "output_type": "stream",
          "name": "stdout",
          "text": [
            "torch.Size([64, 1, 28, 28])\n",
            "torch.Size([64])\n"
          ]
        }
      ],
      "source": [
        "# Visualização a dimensão dos dados de treino\n",
        "# São 64 imagens em cada lote com dimensão 28x28 pixels.\n",
        "dataiter = iter(dados_treino)\n",
        "images, labels = next(dataiter)\n",
        "\n",
        "print(images.shape)\n",
        "print(labels.shape)"
      ]
    },
    {
      "cell_type": "code",
      "source": [
        "# Visualizando uma imagem\n",
        "plt.imshow(images[0].numpy().squeeze(), cmap = 'gray_r');"
      ],
      "metadata": {
        "colab": {
          "base_uri": "https://localhost:8080/",
          "height": 430
        },
        "id": "PMnLXL_cGS85",
        "outputId": "a9d0bedc-f61b-4e23-f5b9-9e473c3f74a5"
      },
      "id": "PMnLXL_cGS85",
      "execution_count": null,
      "outputs": [
        {
          "output_type": "display_data",
          "data": {
            "text/plain": [
              "<Figure size 640x480 with 1 Axes>"
            ],
            "image/png": "[encoded data removed]"
          },
          "metadata": {}
        }
      ]
    },
    {
      "cell_type": "code",
      "source": [
        "# Visualizando várias imagens\n",
        "figure = plt.figure()\n",
        "num_of_images = 60\n",
        "for index in range(1, num_of_images + 1):\n",
        "    plt.subplot(6, 10, index)\n",
        "    plt.axis('off')\n",
        "    plt.imshow(images[index].numpy().squeeze(), cmap = 'gray_r')"
      ],
      "metadata": {
        "colab": {
          "base_uri": "https://localhost:8080/",
          "height": 395
        },
        "id": "oU7V-3AKGqZ5",
        "outputId": "796ca4df-d63e-4c3b-923c-f5d42eab7707"
      },
      "id": "oU7V-3AKGqZ5",
      "execution_count": null,
      "outputs": [
        {
          "output_type": "display_data",
          "data": {
            "text/plain": [
              "<Figure size 640x480 with 60 Axes>"
            ],
            "image/png": "[encoded data removed]"
          },
          "metadata": {}
        }
      ]
    },
    {
      "cell_type": "markdown",
      "id": "fa4cacbf",
      "metadata": {
        "id": "fa4cacbf"
      },
      "source": [
        "## 3. Definição dos Hiperparâmetros"
      ]
    },
    {
      "cell_type": "code",
      "execution_count": null,
      "id": "374898a7",
      "metadata": {
        "id": "374898a7"
      },
      "outputs": [],
      "source": [
        "# Hiperparâmetros da rede\n",
        "\n",
        "input_size = 784 # entrada do modelo\n",
        "hidden_sizes = [128, 64] # camadas da matriz\n",
        "output_size = 10 #saída do modelo"
      ]
    },
    {
      "cell_type": "markdown",
      "id": "a2b623d4",
      "metadata": {
        "id": "a2b623d4"
      },
      "source": [
        "## 4. Função de Ativação ReLU\n",
        "\n",
        "Em resumo, a função ReLU transforma valores negativos em 0 e mantém os valores positivos. Contudo, o tempo de treinamento tende a ser maior."
      ]
    },
    {
      "cell_type": "code",
      "execution_count": null,
      "id": "20acb9b6",
      "metadata": {
        "id": "20acb9b6"
      },
      "outputs": [],
      "source": [
        "# Modelo com função de ativação ReLu\n",
        "modelo_fa = nn.Sequential(nn.Linear(input_size, hidden_sizes[0]),  # 784 x 128\n",
        "                          nn.ReLU(),\n",
        "                          nn.Linear(hidden_sizes[0], hidden_sizes[1]),  # 128 x 64\n",
        "                          nn.ReLU(),\n",
        "                          nn.Linear(hidden_sizes[1], output_size),  # 64 x 10\n",
        "                          nn.LogSoftmax(dim = 1))"
      ]
    },
    {
      "cell_type": "markdown",
      "id": "13e1100e",
      "metadata": {
        "id": "13e1100e"
      },
      "source": [
        "## 5. Função de Ativação LeakyReLU\n",
        "Em resumo, a função LeakyReLU tem o mesmo princípio da ReLU com a diferença de que os valores negativos não são zerados, mas sim aproximados a 0. Isso garante um treinamento mais rápido que a ReLU, mas nem sempre significa uma maior acurácia do modelo."
      ]
    },
    {
      "cell_type": "code",
      "execution_count": null,
      "id": "deb28204",
      "metadata": {
        "id": "deb28204"
      },
      "outputs": [],
      "source": [
        "# Modelo da função de ativação LeakyReLU\n",
        "# modelo_fa = nn.Sequential(nn.Linear(input_size, hidden_sizes[0]), # 784 x 128\n",
        "                          # nn.LeakyReLU(0.2),\n",
        "                          # nn.Linear(hidden_sizes[0], hidden_sizes[1]), # 128 x 64\n",
        "                          # nn.LeakyReLU(0.2),\n",
        "                          #nn.Linear(hidden_sizes[0], hidden_sizes[1]), # 64 x 10\n",
        "                          #nn.LogSoftmax(dim = 1))"
      ]
    },
    {
      "cell_type": "markdown",
      "id": "a8dadd9d",
      "metadata": {
        "id": "a8dadd9d"
      },
      "source": [
        "## 6. Função de Ativação Sigmoid\n",
        "A Sigmoid é uma das funções mais antigas em Deep Learning. Possui resultado entre 0 e 1 com a reta em forma de s que não passa pela origem. Por ser uma das funções mais antigas, apresenta uma performance pior quando é usada com problemas mais complexos com muitas camadas. Outro ponto é que leva ao Gradient Vanishing, ou seja, o gradiente fica próximo de 0 levando a imprecisão do modelo."
      ]
    },
    {
      "cell_type": "code",
      "execution_count": null,
      "id": "a8628173",
      "metadata": {
        "id": "a8628173"
      },
      "outputs": [],
      "source": [
        "# Modelo da função de ativação Sigmoid\n",
        "# modelo_fa = nn.Sequential(nn.Linear(input_size, hidden_sizes[0]), # 784 x 128\n",
        "                          # nn.Sigmoid(),\n",
        "                          # nn.Linear(hidden_sizes[0], hidden_sizes[1]), # 128 x 64\n",
        "                          # nn.Sigmoid(),\n",
        "                          # nn.Linear(hidden_sizes[0], hidden_sizes[1]), # 64 x 10\n",
        "                          # nn.LogSoftmax(dim = 1))"
      ]
    },
    {
      "cell_type": "markdown",
      "id": "ff93be7c",
      "metadata": {
        "id": "ff93be7c"
      },
      "source": [
        "## 7. Função de Ativação Tahn\n",
        "\n",
        "Muito parecida com a função Sigmoid, mas entre valores de -1 e +1, sendo que o problema com o Gradient Vanishing persiste."
      ]
    },
    {
      "cell_type": "code",
      "execution_count": null,
      "id": "17d2ae27",
      "metadata": {
        "id": "17d2ae27"
      },
      "outputs": [],
      "source": [
        "# Modelo com função de ativação Tanh\n",
        "#modelo_fa = nn.Sequential(nn.Linear(input_size, hidden_sizes[0]),  # 784 x 128\n",
        "#                          nn.Tanh(),\n",
        "#                          nn.Linear(hidden_sizes[0], hidden_sizes[1]),  # 128 x 64\n",
        "#                          nn.Tanh(),\n",
        "#                          nn.Linear(hidden_sizes[1], output_size),  # 64 x 10\n",
        "#                          nn.LogSoftmax(dim = 1))"
      ]
    },
    {
      "cell_type": "code",
      "execution_count": null,
      "id": "050c9448",
      "metadata": {
        "colab": {
          "base_uri": "https://localhost:8080/"
        },
        "id": "050c9448",
        "outputId": "123efcfc-ac50-447b-c582-9d74f34eb8c6"
      },
      "outputs": [
        {
          "output_type": "stream",
          "name": "stdout",
          "text": [
            "Sequential(\n",
            "  (0): Linear(in_features=784, out_features=128, bias=True)\n",
            "  (1): ReLU()\n",
            "  (2): Linear(in_features=128, out_features=64, bias=True)\n",
            "  (3): ReLU()\n",
            "  (4): Linear(in_features=64, out_features=10, bias=True)\n",
            "  (5): LogSoftmax(dim=1)\n",
            ")\n"
          ]
        }
      ],
      "source": [
        "# Visualiza o modelo utilizado\n",
        "print(modelo_fa)"
      ]
    },
    {
      "cell_type": "markdown",
      "id": "de2bd05d",
      "metadata": {
        "id": "de2bd05d"
      },
      "source": [
        "## 8. Modelo de Rede Neural\n",
        "###  8.1 Definições do modelo"
      ]
    },
    {
      "cell_type": "code",
      "execution_count": null,
      "id": "377d18c0",
      "metadata": {
        "id": "377d18c0"
      },
      "outputs": [],
      "source": [
        "# Função de custo do modelo\n",
        "criterion = nn.NLLLoss()"
      ]
    },
    {
      "cell_type": "code",
      "execution_count": null,
      "id": "325a9712",
      "metadata": {
        "id": "325a9712"
      },
      "outputs": [],
      "source": [
        "# Obtendo os lotes de dados\n",
        "images, labels = next(iter(dados_treino))"
      ]
    },
    {
      "cell_type": "code",
      "execution_count": null,
      "id": "5a3fdc1b",
      "metadata": {
        "id": "5a3fdc1b"
      },
      "outputs": [],
      "source": [
        "# Ajustando o shape\n",
        "images = images.view(images.shape[0], -1)"
      ]
    },
    {
      "cell_type": "code",
      "execution_count": null,
      "id": "cd4d6d21",
      "metadata": {
        "id": "cd4d6d21"
      },
      "outputs": [],
      "source": [
        "# Logs das probabilidades de classe\n",
        "logps = modelo_fa(images)"
      ]
    },
    {
      "cell_type": "code",
      "execution_count": null,
      "id": "f052a1a6",
      "metadata": {
        "id": "f052a1a6"
      },
      "outputs": [],
      "source": [
        "# Perda\n",
        "loss = criterion(logps, labels)"
      ]
    },
    {
      "cell_type": "code",
      "execution_count": null,
      "id": "4e536bde",
      "metadata": {
        "colab": {
          "base_uri": "https://localhost:8080/"
        },
        "id": "4e536bde",
        "outputId": "1c378cf8-6f10-4925-d25f-56a9068cde2e"
      },
      "outputs": [
        {
          "output_type": "stream",
          "name": "stdout",
          "text": [
            "\n",
            "Antes do Backward Pass: \n",
            " None\n",
            "\n",
            "Depois do Backward Pass: \n",
            " tensor([[ 0.0007,  0.0007,  0.0007,  ...,  0.0007,  0.0007,  0.0007],\n",
            "        [-0.0015, -0.0015, -0.0015,  ..., -0.0015, -0.0015, -0.0015],\n",
            "        [ 0.0026,  0.0026,  0.0026,  ...,  0.0026,  0.0026,  0.0026],\n",
            "        ...,\n",
            "        [ 0.0002,  0.0002,  0.0002,  ...,  0.0002,  0.0002,  0.0002],\n",
            "        [-0.0030, -0.0030, -0.0030,  ..., -0.0030, -0.0030, -0.0030],\n",
            "        [ 0.0007,  0.0007,  0.0007,  ...,  0.0007,  0.0007,  0.0007]])\n"
          ]
        }
      ],
      "source": [
        "print('\\nAntes do Backward Pass: \\n', modelo_fa[0].weight.grad)\n",
        "loss.backward()\n",
        "print('\\nDepois do Backward Pass: \\n', modelo_fa[0].weight.grad)"
      ]
    },
    {
      "cell_type": "markdown",
      "id": "fe030013",
      "metadata": {
        "id": "fe030013"
      },
      "source": [
        "### 8.2 Treinamento do modelo"
      ]
    },
    {
      "cell_type": "code",
      "execution_count": null,
      "id": "faf88bec",
      "metadata": {
        "colab": {
          "base_uri": "https://localhost:8080/"
        },
        "id": "faf88bec",
        "outputId": "b83045ee-69dd-4f73-8931-f28267b908d9"
      },
      "outputs": [
        {
          "output_type": "stream",
          "name": "stdout",
          "text": [
            "Epoch: 0, Tempo Decorrido: 20.25s, Loss(Erro): 0.6536815500716919\n",
            "Epoch: 1, Tempo Decorrido: 14.45s, Loss(Erro): 0.2811933786971673\n",
            "Epoch: 2, Tempo Decorrido: 14.74s, Loss(Erro): 0.2195301042444734\n",
            "Epoch: 3, Tempo Decorrido: 15.14s, Loss(Erro): 0.17767248990566237\n",
            "Epoch: 4, Tempo Decorrido: 15.46s, Loss(Erro): 0.14983027888291173\n"
          ]
        }
      ],
      "source": [
        "# Otimizador\n",
        "optimizer = optim.SGD(modelo_fa.parameters(), lr = 0.003, momentum = 0.9)\n",
        "\n",
        "# Número de épocas\n",
        "epochs = 5\n",
        "\n",
        "# Loop de treinamento\n",
        "for e in range(epochs):\n",
        "    \n",
        "    # Registra o momento de início da época\n",
        "    start_time = time.time()\n",
        "    \n",
        "    # Zera o erro da época\n",
        "    running_loss = 0\n",
        "    \n",
        "    # Loop pelas imagens e labels\n",
        "    for images, labels in dados_treino:\n",
        "        \n",
        "        # Flatten das imagens \n",
        "        images = images.view(images.shape[0], -1)\n",
        "    \n",
        "        # Zera os gradientes\n",
        "        optimizer.zero_grad()\n",
        "        \n",
        "        # Previsão com o modelo\n",
        "        output = modelo_fa(images)\n",
        "        \n",
        "        # Cálculo do erro\n",
        "        loss = criterion(output, labels)\n",
        "        \n",
        "        # Aqui acontece o aprendizado com backpropagation\n",
        "        loss.backward()\n",
        "        \n",
        "        # E aqui otimiza os pesos\n",
        "        optimizer.step()\n",
        "        \n",
        "        running_loss += loss.item()\n",
        "    else:\n",
        "        print('Epoch: {0}, Tempo Decorrido: {1:.2f}s, Loss(Erro): {2}'.format(e, \n",
        "                                                                          time.time() - start_time, \n",
        "                                                                          running_loss / len(dados_treino)))"
      ]
    },
    {
      "cell_type": "markdown",
      "id": "a9d73677",
      "metadata": {
        "id": "a9d73677"
      },
      "source": [
        "### 8.3 Avaliação e teste do modelo"
      ]
    },
    {
      "cell_type": "code",
      "execution_count": null,
      "id": "2e3a1205",
      "metadata": {
        "id": "2e3a1205"
      },
      "outputs": [],
      "source": [
        "# Função para visualizar a classificação\n",
        "def visualiza_classe(img, ps):\n",
        "    ps = ps.data.numpy().squeeze()\n",
        "    fig, (ax1, ax2) = plt.subplots(figsize = (6,9), ncols = 2)\n",
        "    ax1.imshow(img.resize_(1, 28, 28).numpy().squeeze())\n",
        "    ax1.axis('off')\n",
        "    ax2.barh(np.arange(10), ps)\n",
        "    ax2.set_aspect(0.1)\n",
        "    ax2.set_yticks(np.arange(10))\n",
        "    ax2.set_yticklabels(np.arange(10))\n",
        "    ax2.set_title('Probabilidade de Classe')\n",
        "    ax2.set_xlim(0, 1.1)\n",
        "    plt.tight_layout()"
      ]
    },
    {
      "cell_type": "code",
      "execution_count": null,
      "id": "df745192",
      "metadata": {
        "colab": {
          "base_uri": "https://localhost:8080/",
          "height": 363
        },
        "id": "df745192",
        "outputId": "558e2f1f-cadd-4637-cbc5-24f05bbbb2bf"
      },
      "outputs": [
        {
          "output_type": "stream",
          "name": "stdout",
          "text": [
            "Dígito Previsto = 6\n"
          ]
        },
        {
          "output_type": "display_data",
          "data": {
            "text/plain": [
              "<Figure size 600x900 with 2 Axes>"
            ],
            "image/png": "[encoded data removed]"
          },
          "metadata": {}
        }
      ],
      "source": [
        "# Obtém uma imagem de teste\n",
        "images, labels = next(iter(dados_teste))\n",
        "\n",
        "# Ajusta a imagem\n",
        "img = images[0].view(1, 784)\n",
        "\n",
        "# Faz previsão com a imagem\n",
        "with torch.no_grad():\n",
        "    logps = modelo_fa(img)\n",
        "\n",
        "# Log de probabilidade da previsão\n",
        "ps = torch.exp(logps)\n",
        "probab = list(ps.numpy()[0])\n",
        "\n",
        "# Print\n",
        "print(\"Dígito Previsto =\", probab.index(max(probab)))\n",
        "\n",
        "# Visualiza classe\n",
        "visualiza_classe(img.view(1, 28, 28), ps)"
      ]
    },
    {
      "cell_type": "code",
      "execution_count": null,
      "id": "14a436b6",
      "metadata": {
        "colab": {
          "base_uri": "https://localhost:8080/"
        },
        "id": "14a436b6",
        "outputId": "0f67f5c2-3279-4725-990e-844189fba7e4"
      },
      "outputs": [
        {
          "output_type": "stream",
          "name": "stdout",
          "text": [
            "Número de Imagens Testadas = 10000\n",
            "Acurácia nos Dados de Teste (%) = 95.88\n"
          ]
        }
      ],
      "source": [
        "# Avaliando o modelo\n",
        "\n",
        "# Contadores\n",
        "correct_count, all_count = 0, 0\n",
        "\n",
        "# Loop\n",
        "for images,labels in dados_teste:\n",
        "    for i in range(len(labels)):\n",
        "        \n",
        "        img = images[i].view(1, 784)\n",
        "        \n",
        "        with torch.no_grad():\n",
        "            logps = modelo_fa(img)\n",
        "\n",
        "        ps = torch.exp(logps)\n",
        "        \n",
        "        probab = list(ps.numpy()[0])\n",
        "        \n",
        "        pred_label = probab.index(max(probab))\n",
        "        \n",
        "        true_label = labels.numpy()[i]\n",
        "        \n",
        "        if(true_label == pred_label):\n",
        "            correct_count += 1\n",
        "        \n",
        "        all_count += 1\n",
        "\n",
        "print(\"Número de Imagens Testadas =\", all_count)\n",
        "print(\"Acurácia nos Dados de Teste (%) =\", (correct_count/all_count) * 100)"
      ]
    },
    {
      "cell_type": "markdown",
      "id": "1e7e57b6",
      "metadata": {
        "id": "1e7e57b6"
      },
      "source": [
        "## 9. Conclusão"
      ]
    },
    {
      "cell_type": "code",
      "execution_count": null,
      "id": "28b28722",
      "metadata": {
        "id": "28b28722"
      },
      "outputs": [],
      "source": [
        "# Resultado da avaliação dos modelos (pode ser ligeiramente diferente a cada execução)\n",
        "\n",
        "# ReLU - Acc de 96.05%\n",
        "# LeakyReLU - Acc de 95.40%\n",
        "# Sigmoid - Acc de 88.51%\n",
        "# Tanh - Acc de 95.52%"
      ]
    },
    {
      "cell_type": "markdown",
      "id": "3c60f92a",
      "metadata": {
        "id": "3c60f92a"
      },
      "source": [
        "Dentre as funções de ativação avaliadas neste script, a ReLU apresentou a melhor acurácia. Mesmo com os seus pontos negativos, ela se mostrou a mais eficientes dentre as demais."
      ]
    }
  ],
  "metadata": {
    "kernelspec": {
      "display_name": "Python 3 (ipykernel)",
      "language": "python",
      "name": "python3"
    },
    "language_info": {
      "codemirror_mode": {
        "name": "ipython",
        "version": 3
      },
      "file_extension": ".py",
      "mimetype": "text/x-python",
      "name": "python",
      "nbconvert_exporter": "python",
      "pygments_lexer": "ipython3",
      "version": "3.9.13"
    },
    "colab": {
      "provenance": []
    },
    "accelerator": "GPU",
    "gpuClass": "standard",
    "widgets": {
      "application/vnd.jupyter.widget-state+json": {
        "56c84216ebb54c75b46f71d4b078b080": {
          "model_module": "@jupyter-widgets/controls",
          "model_name": "HBoxModel",
          "model_module_version": "1.5.0",
          "state": {
            "_dom_classes": [],
            "_model_module": "@jupyter-widgets/controls",
            "_model_module_version": "1.5.0",
            "_model_name": "HBoxModel",
            "_view_count": null,
            "_view_module": "@jupyter-widgets/controls",
            "_view_module_version": "1.5.0",
            "_view_name": "HBoxView",
            "box_style": "",
            "children": [
              "IPY_MODEL_5d209cb49799425ab4939d3d603a4a5d",
              "IPY_MODEL_64f571832d7347dd8ab4e454159c7300",
              "IPY_MODEL_4185e5095293476ab9d4b85a1eb2f777"
            ],
            "layout": "IPY_MODEL_ae3db6a22fcf40f0b1fdc4991aa5256f"
          }
        },
        "5d209cb49799425ab4939d3d603a4a5d": {
          "model_module": "@jupyter-widgets/controls",
          "model_name": "HTMLModel",
          "model_module_version": "1.5.0",
          "state": {
            "_dom_classes": [],
            "_model_module": "@jupyter-widgets/controls",
            "_model_module_version": "1.5.0",
            "_model_name": "HTMLModel",
            "_view_count": null,
            "_view_module": "@jupyter-widgets/controls",
            "_view_module_version": "1.5.0",
            "_view_name": "HTMLView",
            "description": "",
            "description_tooltip": null,
            "layout": "IPY_MODEL_e80e75bfe3ca42e1b252fdebba492fd3",
            "placeholder": "​",
            "style": "IPY_MODEL_3f5e68979cd34d13847190f77748def0",
            "value": "100%"
          }
        },
        "64f571832d7347dd8ab4e454159c7300": {
          "model_module": "@jupyter-widgets/controls",
          "model_name": "FloatProgressModel",
          "model_module_version": "1.5.0",
          "state": {
            "_dom_classes": [],
            "_model_module": "@jupyter-widgets/controls",
            "_model_module_version": "1.5.0",
            "_model_name": "FloatProgressModel",
            "_view_count": null,
            "_view_module": "@jupyter-widgets/controls",
            "_view_module_version": "1.5.0",
            "_view_name": "ProgressView",
            "bar_style": "success",
            "description": "",
            "description_tooltip": null,
            "layout": "IPY_MODEL_c9954ac30e7f44dc81218e82a19a5e8f",
            "max": 9912422,
            "min": 0,
            "orientation": "horizontal",
            "style": "IPY_MODEL_aed4336bbade4fdf99560b42ed51a4a0",
            "value": 9912422
          }
        },
        "4185e5095293476ab9d4b85a1eb2f777": {
          "model_module": "@jupyter-widgets/controls",
          "model_name": "HTMLModel",
          "model_module_version": "1.5.0",
          "state": {
            "_dom_classes": [],
            "_model_module": "@jupyter-widgets/controls",
            "_model_module_version": "1.5.0",
            "_model_name": "HTMLModel",
            "_view_count": null,
            "_view_module": "@jupyter-widgets/controls",
            "_view_module_version": "1.5.0",
            "_view_name": "HTMLView",
            "description": "",
            "description_tooltip": null,
            "layout": "IPY_MODEL_00d22d3d7ba043d0b339a75dd77493c1",
            "placeholder": "​",
            "style": "IPY_MODEL_4c28190fcc0348daa6dadef32d64cfb7",
            "value": " 9912422/9912422 [00:00&lt;00:00, 114074826.44it/s]"
          }
        },
        "ae3db6a22fcf40f0b1fdc4991aa5256f": {
          "model_module": "@jupyter-widgets/base",
          "model_name": "LayoutModel",
          "model_module_version": "1.2.0",
          "state": {
            "_model_module": "@jupyter-widgets/base",
            "_model_module_version": "1.2.0",
            "_model_name": "LayoutModel",
            "_view_count": null,
            "_view_module": "@jupyter-widgets/base",
            "_view_module_version": "1.2.0",
            "_view_name": "LayoutView",
            "align_content": null,
            "align_items": null,
            "align_self": null,
            "border": null,
            "bottom": null,
            "display": null,
            "flex": null,
            "flex_flow": null,
            "grid_area": null,
            "grid_auto_columns": null,
            "grid_auto_flow": null,
            "grid_auto_rows": null,
            "grid_column": null,
            "grid_gap": null,
            "grid_row": null,
            "grid_template_areas": null,
            "grid_template_columns": null,
            "grid_template_rows": null,
            "height": null,
            "justify_content": null,
            "justify_items": null,
            "left": null,
            "margin": null,
            "max_height": null,
            "max_width": null,
            "min_height": null,
            "min_width": null,
            "object_fit": null,
            "object_position": null,
            "order": null,
            "overflow": null,
            "overflow_x": null,
            "overflow_y": null,
            "padding": null,
            "right": null,
            "top": null,
            "visibility": null,
            "width": null
          }
        },
        "e80e75bfe3ca42e1b252fdebba492fd3": {
          "model_module": "@jupyter-widgets/base",
          "model_name": "LayoutModel",
          "model_module_version": "1.2.0",
          "state": {
            "_model_module": "@jupyter-widgets/base",
            "_model_module_version": "1.2.0",
            "_model_name": "LayoutModel",
            "_view_count": null,
            "_view_module": "@jupyter-widgets/base",
            "_view_module_version": "1.2.0",
            "_view_name": "LayoutView",
            "align_content": null,
            "align_items": null,
            "align_self": null,
            "border": null,
            "bottom": null,
            "display": null,
            "flex": null,
            "flex_flow": null,
            "grid_area": null,
            "grid_auto_columns": null,
            "grid_auto_flow": null,
            "grid_auto_rows": null,
            "grid_column": null,
            "grid_gap": null,
            "grid_row": null,
            "grid_template_areas": null,
            "grid_template_columns": null,
            "grid_template_rows": null,
            "height": null,
            "justify_content": null,
            "justify_items": null,
            "left": null,
            "margin": null,
            "max_height": null,
            "max_width": null,
            "min_height": null,
            "min_width": null,
            "object_fit": null,
            "object_position": null,
            "order": null,
            "overflow": null,
            "overflow_x": null,
            "overflow_y": null,
            "padding": null,
            "right": null,
            "top": null,
            "visibility": null,
            "width": null
          }
        },
        "3f5e68979cd34d13847190f77748def0": {
          "model_module": "@jupyter-widgets/controls",
          "model_name": "DescriptionStyleModel",
          "model_module_version": "1.5.0",
          "state": {
            "_model_module": "@jupyter-widgets/controls",
            "_model_module_version": "1.5.0",
            "_model_name": "DescriptionStyleModel",
            "_view_count": null,
            "_view_module": "@jupyter-widgets/base",
            "_view_module_version": "1.2.0",
            "_view_name": "StyleView",
            "description_width": ""
          }
        },
        "c9954ac30e7f44dc81218e82a19a5e8f": {
          "model_module": "@jupyter-widgets/base",
          "model_name": "LayoutModel",
          "model_module_version": "1.2.0",
          "state": {
            "_model_module": "@jupyter-widgets/base",
            "_model_module_version": "1.2.0",
            "_model_name": "LayoutModel",
            "_view_count": null,
            "_view_module": "@jupyter-widgets/base",
            "_view_module_version": "1.2.0",
            "_view_name": "LayoutView",
            "align_content": null,
            "align_items": null,
            "align_self": null,
            "border": null,
            "bottom": null,
            "display": null,
            "flex": null,
            "flex_flow": null,
            "grid_area": null,
            "grid_auto_columns": null,
            "grid_auto_flow": null,
            "grid_auto_rows": null,
            "grid_column": null,
            "grid_gap": null,
            "grid_row": null,
            "grid_template_areas": null,
            "grid_template_columns": null,
            "grid_template_rows": null,
            "height": null,
            "justify_content": null,
            "justify_items": null,
            "left": null,
            "margin": null,
            "max_height": null,
            "max_width": null,
            "min_height": null,
            "min_width": null,
            "object_fit": null,
            "object_position": null,
            "order": null,
            "overflow": null,
            "overflow_x": null,
            "overflow_y": null,
            "padding": null,
            "right": null,
            "top": null,
            "visibility": null,
            "width": null
          }
        },
        "aed4336bbade4fdf99560b42ed51a4a0": {
          "model_module": "@jupyter-widgets/controls",
          "model_name": "ProgressStyleModel",
          "model_module_version": "1.5.0",
          "state": {
            "_model_module": "@jupyter-widgets/controls",
            "_model_module_version": "1.5.0",
            "_model_name": "ProgressStyleModel",
            "_view_count": null,
            "_view_module": "@jupyter-widgets/base",
            "_view_module_version": "1.2.0",
            "_view_name": "StyleView",
            "bar_color": null,
            "description_width": ""
          }
        },
        "00d22d3d7ba043d0b339a75dd77493c1": {
          "model_module": "@jupyter-widgets/base",
          "model_name": "LayoutModel",
          "model_module_version": "1.2.0",
          "state": {
            "_model_module": "@jupyter-widgets/base",
            "_model_module_version": "1.2.0",
            "_model_name": "LayoutModel",
            "_view_count": null,
            "_view_module": "@jupyter-widgets/base",
            "_view_module_version": "1.2.0",
            "_view_name": "LayoutView",
            "align_content": null,
            "align_items": null,
            "align_self": null,
            "border": null,
            "bottom": null,
            "display": null,
            "flex": null,
            "flex_flow": null,
            "grid_area": null,
            "grid_auto_columns": null,
            "grid_auto_flow": null,
            "grid_auto_rows": null,
            "grid_column": null,
            "grid_gap": null,
            "grid_row": null,
            "grid_template_areas": null,
            "grid_template_columns": null,
            "grid_template_rows": null,
            "height": null,
            "justify_content": null,
            "justify_items": null,
            "left": null,
            "margin": null,
            "max_height": null,
            "max_width": null,
            "min_height": null,
            "min_width": null,
            "object_fit": null,
            "object_position": null,
            "order": null,
            "overflow": null,
            "overflow_x": null,
            "overflow_y": null,
            "padding": null,
            "right": null,
            "top": null,
            "visibility": null,
            "width": null
          }
        },
        "4c28190fcc0348daa6dadef32d64cfb7": {
          "model_module": "@jupyter-widgets/controls",
          "model_name": "DescriptionStyleModel",
          "model_module_version": "1.5.0",
          "state": {
            "_model_module": "@jupyter-widgets/controls",
            "_model_module_version": "1.5.0",
            "_model_name": "DescriptionStyleModel",
            "_view_count": null,
            "_view_module": "@jupyter-widgets/base",
            "_view_module_version": "1.2.0",
            "_view_name": "StyleView",
            "description_width": ""
          }
        },
        "88de5fe6517e49688bf1c3539b9ff090": {
          "model_module": "@jupyter-widgets/controls",
          "model_name": "HBoxModel",
          "model_module_version": "1.5.0",
          "state": {
            "_dom_classes": [],
            "_model_module": "@jupyter-widgets/controls",
            "_model_module_version": "1.5.0",
            "_model_name": "HBoxModel",
            "_view_count": null,
            "_view_module": "@jupyter-widgets/controls",
            "_view_module_version": "1.5.0",
            "_view_name": "HBoxView",
            "box_style": "",
            "children": [
              "IPY_MODEL_0d48218f7d0d4957a1e69ea9d575df4e",
              "IPY_MODEL_bddc20b537fc46f49ca6e305193c7dea",
              "IPY_MODEL_32d82ba11d3f48b8acc82ed70e9885ca"
            ],
            "layout": "IPY_MODEL_0654c7a9cace4ff796977e6f740fe147"
          }
        },
        "0d48218f7d0d4957a1e69ea9d575df4e": {
          "model_module": "@jupyter-widgets/controls",
          "model_name": "HTMLModel",
          "model_module_version": "1.5.0",
          "state": {
            "_dom_classes": [],
            "_model_module": "@jupyter-widgets/controls",
            "_model_module_version": "1.5.0",
            "_model_name": "HTMLModel",
            "_view_count": null,
            "_view_module": "@jupyter-widgets/controls",
            "_view_module_version": "1.5.0",
            "_view_name": "HTMLView",
            "description": "",
            "description_tooltip": null,
            "layout": "IPY_MODEL_39354e76d2cc4e39bdda3a3c7adfb525",
            "placeholder": "​",
            "style": "IPY_MODEL_22a6a8e3ce524d29a6955a328bdad705",
            "value": "100%"
          }
        },
        "bddc20b537fc46f49ca6e305193c7dea": {
          "model_module": "@jupyter-widgets/controls",
          "model_name": "FloatProgressModel",
          "model_module_version": "1.5.0",
          "state": {
            "_dom_classes": [],
            "_model_module": "@jupyter-widgets/controls",
            "_model_module_version": "1.5.0",
            "_model_name": "FloatProgressModel",
            "_view_count": null,
            "_view_module": "@jupyter-widgets/controls",
            "_view_module_version": "1.5.0",
            "_view_name": "ProgressView",
            "bar_style": "success",
            "description": "",
            "description_tooltip": null,
            "layout": "IPY_MODEL_0b0b88740bb942aba43c1bdb37953832",
            "max": 28881,
            "min": 0,
            "orientation": "horizontal",
            "style": "IPY_MODEL_ddd1eac955664f57bd3929cd4326d94c",
            "value": 28881
          }
        },
        "32d82ba11d3f48b8acc82ed70e9885ca": {
          "model_module": "@jupyter-widgets/controls",
          "model_name": "HTMLModel",
          "model_module_version": "1.5.0",
          "state": {
            "_dom_classes": [],
            "_model_module": "@jupyter-widgets/controls",
            "_model_module_version": "1.5.0",
            "_model_name": "HTMLModel",
            "_view_count": null,
            "_view_module": "@jupyter-widgets/controls",
            "_view_module_version": "1.5.0",
            "_view_name": "HTMLView",
            "description": "",
            "description_tooltip": null,
            "layout": "IPY_MODEL_d6b7283280b94386bc0cfe37bc9654d4",
            "placeholder": "​",
            "style": "IPY_MODEL_fe94f269baea4ac8afffa63473c0a74e",
            "value": " 28881/28881 [00:00&lt;00:00, 1036171.43it/s]"
          }
        },
        "0654c7a9cace4ff796977e6f740fe147": {
          "model_module": "@jupyter-widgets/base",
          "model_name": "LayoutModel",
          "model_module_version": "1.2.0",
          "state": {
            "_model_module": "@jupyter-widgets/base",
            "_model_module_version": "1.2.0",
            "_model_name": "LayoutModel",
            "_view_count": null,
            "_view_module": "@jupyter-widgets/base",
            "_view_module_version": "1.2.0",
            "_view_name": "LayoutView",
            "align_content": null,
            "align_items": null,
            "align_self": null,
            "border": null,
            "bottom": null,
            "display": null,
            "flex": null,
            "flex_flow": null,
            "grid_area": null,
            "grid_auto_columns": null,
            "grid_auto_flow": null,
            "grid_auto_rows": null,
            "grid_column": null,
            "grid_gap": null,
            "grid_row": null,
            "grid_template_areas": null,
            "grid_template_columns": null,
            "grid_template_rows": null,
            "height": null,
            "justify_content": null,
            "justify_items": null,
            "left": null,
            "margin": null,
            "max_height": null,
            "max_width": null,
            "min_height": null,
            "min_width": null,
            "object_fit": null,
            "object_position": null,
            "order": null,
            "overflow": null,
            "overflow_x": null,
            "overflow_y": null,
            "padding": null,
            "right": null,
            "top": null,
            "visibility": null,
            "width": null
          }
        },
        "39354e76d2cc4e39bdda3a3c7adfb525": {
          "model_module": "@jupyter-widgets/base",
          "model_name": "LayoutModel",
          "model_module_version": "1.2.0",
          "state": {
            "_model_module": "@jupyter-widgets/base",
            "_model_module_version": "1.2.0",
            "_model_name": "LayoutModel",
            "_view_count": null,
            "_view_module": "@jupyter-widgets/base",
            "_view_module_version": "1.2.0",
            "_view_name": "LayoutView",
            "align_content": null,
            "align_items": null,
            "align_self": null,
            "border": null,
            "bottom": null,
            "display": null,
            "flex": null,
            "flex_flow": null,
            "grid_area": null,
            "grid_auto_columns": null,
            "grid_auto_flow": null,
            "grid_auto_rows": null,
            "grid_column": null,
            "grid_gap": null,
            "grid_row": null,
            "grid_template_areas": null,
            "grid_template_columns": null,
            "grid_template_rows": null,
            "height": null,
            "justify_content": null,
            "justify_items": null,
            "left": null,
            "margin": null,
            "max_height": null,
            "max_width": null,
            "min_height": null,
            "min_width": null,
            "object_fit": null,
            "object_position": null,
            "order": null,
            "overflow": null,
            "overflow_x": null,
            "overflow_y": null,
            "padding": null,
            "right": null,
            "top": null,
            "visibility": null,
            "width": null
          }
        },
        "22a6a8e3ce524d29a6955a328bdad705": {
          "model_module": "@jupyter-widgets/controls",
          "model_name": "DescriptionStyleModel",
          "model_module_version": "1.5.0",
          "state": {
            "_model_module": "@jupyter-widgets/controls",
            "_model_module_version": "1.5.0",
            "_model_name": "DescriptionStyleModel",
            "_view_count": null,
            "_view_module": "@jupyter-widgets/base",
            "_view_module_version": "1.2.0",
            "_view_name": "StyleView",
            "description_width": ""
          }
        },
        "0b0b88740bb942aba43c1bdb37953832": {
          "model_module": "@jupyter-widgets/base",
          "model_name": "LayoutModel",
          "model_module_version": "1.2.0",
          "state": {
            "_model_module": "@jupyter-widgets/base",
            "_model_module_version": "1.2.0",
            "_model_name": "LayoutModel",
            "_view_count": null,
            "_view_module": "@jupyter-widgets/base",
            "_view_module_version": "1.2.0",
            "_view_name": "LayoutView",
            "align_content": null,
            "align_items": null,
            "align_self": null,
            "border": null,
            "bottom": null,
            "display": null,
            "flex": null,
            "flex_flow": null,
            "grid_area": null,
            "grid_auto_columns": null,
            "grid_auto_flow": null,
            "grid_auto_rows": null,
            "grid_column": null,
            "grid_gap": null,
            "grid_row": null,
            "grid_template_areas": null,
            "grid_template_columns": null,
            "grid_template_rows": null,
            "height": null,
            "justify_content": null,
            "justify_items": null,
            "left": null,
            "margin": null,
            "max_height": null,
            "max_width": null,
            "min_height": null,
            "min_width": null,
            "object_fit": null,
            "object_position": null,
            "order": null,
            "overflow": null,
            "overflow_x": null,
            "overflow_y": null,
            "padding": null,
            "right": null,
            "top": null,
            "visibility": null,
            "width": null
          }
        },
        "ddd1eac955664f57bd3929cd4326d94c": {
          "model_module": "@jupyter-widgets/controls",
          "model_name": "ProgressStyleModel",
          "model_module_version": "1.5.0",
          "state": {
            "_model_module": "@jupyter-widgets/controls",
            "_model_module_version": "1.5.0",
            "_model_name": "ProgressStyleModel",
            "_view_count": null,
            "_view_module": "@jupyter-widgets/base",
            "_view_module_version": "1.2.0",
            "_view_name": "StyleView",
            "bar_color": null,
            "description_width": ""
          }
        },
        "d6b7283280b94386bc0cfe37bc9654d4": {
          "model_module": "@jupyter-widgets/base",
          "model_name": "LayoutModel",
          "model_module_version": "1.2.0",
          "state": {
            "_model_module": "@jupyter-widgets/base",
            "_model_module_version": "1.2.0",
            "_model_name": "LayoutModel",
            "_view_count": null,
            "_view_module": "@jupyter-widgets/base",
            "_view_module_version": "1.2.0",
            "_view_name": "LayoutView",
            "align_content": null,
            "align_items": null,
            "align_self": null,
            "border": null,
            "bottom": null,
            "display": null,
            "flex": null,
            "flex_flow": null,
            "grid_area": null,
            "grid_auto_columns": null,
            "grid_auto_flow": null,
            "grid_auto_rows": null,
            "grid_column": null,
            "grid_gap": null,
            "grid_row": null,
            "grid_template_areas": null,
            "grid_template_columns": null,
            "grid_template_rows": null,
            "height": null,
            "justify_content": null,
            "justify_items": null,
            "left": null,
            "margin": null,
            "max_height": null,
            "max_width": null,
            "min_height": null,
            "min_width": null,
            "object_fit": null,
            "object_position": null,
            "order": null,
            "overflow": null,
            "overflow_x": null,
            "overflow_y": null,
            "padding": null,
            "right": null,
            "top": null,
            "visibility": null,
            "width": null
          }
        },
        "fe94f269baea4ac8afffa63473c0a74e": {
          "model_module": "@jupyter-widgets/controls",
          "model_name": "DescriptionStyleModel",
          "model_module_version": "1.5.0",
          "state": {
            "_model_module": "@jupyter-widgets/controls",
            "_model_module_version": "1.5.0",
            "_model_name": "DescriptionStyleModel",
            "_view_count": null,
            "_view_module": "@jupyter-widgets/base",
            "_view_module_version": "1.2.0",
            "_view_name": "StyleView",
            "description_width": ""
          }
        },
        "d8242a537486475cbc7a11d5600763ba": {
          "model_module": "@jupyter-widgets/controls",
          "model_name": "HBoxModel",
          "model_module_version": "1.5.0",
          "state": {
            "_dom_classes": [],
            "_model_module": "@jupyter-widgets/controls",
            "_model_module_version": "1.5.0",
            "_model_name": "HBoxModel",
            "_view_count": null,
            "_view_module": "@jupyter-widgets/controls",
            "_view_module_version": "1.5.0",
            "_view_name": "HBoxView",
            "box_style": "",
            "children": [
              "IPY_MODEL_aaef304f4c364440931f0071e3909650",
              "IPY_MODEL_1aa9d6544b0a4dd49a66f0947ebae7ce",
              "IPY_MODEL_f8d6cf685ae64ba495ab73dad4a41b56"
            ],
            "layout": "IPY_MODEL_e6c35c869b76460b81a9af923c366214"
          }
        },
        "aaef304f4c364440931f0071e3909650": {
          "model_module": "@jupyter-widgets/controls",
          "model_name": "HTMLModel",
          "model_module_version": "1.5.0",
          "state": {
            "_dom_classes": [],
            "_model_module": "@jupyter-widgets/controls",
            "_model_module_version": "1.5.0",
            "_model_name": "HTMLModel",
            "_view_count": null,
            "_view_module": "@jupyter-widgets/controls",
            "_view_module_version": "1.5.0",
            "_view_name": "HTMLView",
            "description": "",
            "description_tooltip": null,
            "layout": "IPY_MODEL_27bb156760da4fc2b5270483f15f7498",
            "placeholder": "​",
            "style": "IPY_MODEL_d8e79bbaeed0404ea69213462d4b08f1",
            "value": "100%"
          }
        },
        "1aa9d6544b0a4dd49a66f0947ebae7ce": {
          "model_module": "@jupyter-widgets/controls",
          "model_name": "FloatProgressModel",
          "model_module_version": "1.5.0",
          "state": {
            "_dom_classes": [],
            "_model_module": "@jupyter-widgets/controls",
            "_model_module_version": "1.5.0",
            "_model_name": "FloatProgressModel",
            "_view_count": null,
            "_view_module": "@jupyter-widgets/controls",
            "_view_module_version": "1.5.0",
            "_view_name": "ProgressView",
            "bar_style": "success",
            "description": "",
            "description_tooltip": null,
            "layout": "IPY_MODEL_40b94d4f47454e4a9d751d5ab7553c97",
            "max": 1648877,
            "min": 0,
            "orientation": "horizontal",
            "style": "IPY_MODEL_91db8a02865f4fdeb0bd0154d08b57e9",
            "value": 1648877
          }
        },
        "f8d6cf685ae64ba495ab73dad4a41b56": {
          "model_module": "@jupyter-widgets/controls",
          "model_name": "HTMLModel",
          "model_module_version": "1.5.0",
          "state": {
            "_dom_classes": [],
            "_model_module": "@jupyter-widgets/controls",
            "_model_module_version": "1.5.0",
            "_model_name": "HTMLModel",
            "_view_count": null,
            "_view_module": "@jupyter-widgets/controls",
            "_view_module_version": "1.5.0",
            "_view_name": "HTMLView",
            "description": "",
            "description_tooltip": null,
            "layout": "IPY_MODEL_173c8f7a9dc64f2d83eab3c2963021e9",
            "placeholder": "​",
            "style": "IPY_MODEL_fad74bccb1594a73b0394896db363044",
            "value": " 1648877/1648877 [00:00&lt;00:00, 42471774.47it/s]"
          }
        },
        "e6c35c869b76460b81a9af923c366214": {
          "model_module": "@jupyter-widgets/base",
          "model_name": "LayoutModel",
          "model_module_version": "1.2.0",
          "state": {
            "_model_module": "@jupyter-widgets/base",
            "_model_module_version": "1.2.0",
            "_model_name": "LayoutModel",
            "_view_count": null,
            "_view_module": "@jupyter-widgets/base",
            "_view_module_version": "1.2.0",
            "_view_name": "LayoutView",
            "align_content": null,
            "align_items": null,
            "align_self": null,
            "border": null,
            "bottom": null,
            "display": null,
            "flex": null,
            "flex_flow": null,
            "grid_area": null,
            "grid_auto_columns": null,
            "grid_auto_flow": null,
            "grid_auto_rows": null,
            "grid_column": null,
            "grid_gap": null,
            "grid_row": null,
            "grid_template_areas": null,
            "grid_template_columns": null,
            "grid_template_rows": null,
            "height": null,
            "justify_content": null,
            "justify_items": null,
            "left": null,
            "margin": null,
            "max_height": null,
            "max_width": null,
            "min_height": null,
            "min_width": null,
            "object_fit": null,
            "object_position": null,
            "order": null,
            "overflow": null,
            "overflow_x": null,
            "overflow_y": null,
            "padding": null,
            "right": null,
            "top": null,
            "visibility": null,
            "width": null
          }
        },
        "27bb156760da4fc2b5270483f15f7498": {
          "model_module": "@jupyter-widgets/base",
          "model_name": "LayoutModel",
          "model_module_version": "1.2.0",
          "state": {
            "_model_module": "@jupyter-widgets/base",
            "_model_module_version": "1.2.0",
            "_model_name": "LayoutModel",
            "_view_count": null,
            "_view_module": "@jupyter-widgets/base",
            "_view_module_version": "1.2.0",
            "_view_name": "LayoutView",
            "align_content": null,
            "align_items": null,
            "align_self": null,
            "border": null,
            "bottom": null,
            "display": null,
            "flex": null,
            "flex_flow": null,
            "grid_area": null,
            "grid_auto_columns": null,
            "grid_auto_flow": null,
            "grid_auto_rows": null,
            "grid_column": null,
            "grid_gap": null,
            "grid_row": null,
            "grid_template_areas": null,
            "grid_template_columns": null,
            "grid_template_rows": null,
            "height": null,
            "justify_content": null,
            "justify_items": null,
            "left": null,
            "margin": null,
            "max_height": null,
            "max_width": null,
            "min_height": null,
            "min_width": null,
            "object_fit": null,
            "object_position": null,
            "order": null,
            "overflow": null,
            "overflow_x": null,
            "overflow_y": null,
            "padding": null,
            "right": null,
            "top": null,
            "visibility": null,
            "width": null
          }
        },
        "d8e79bbaeed0404ea69213462d4b08f1": {
          "model_module": "@jupyter-widgets/controls",
          "model_name": "DescriptionStyleModel",
          "model_module_version": "1.5.0",
          "state": {
            "_model_module": "@jupyter-widgets/controls",
            "_model_module_version": "1.5.0",
            "_model_name": "DescriptionStyleModel",
            "_view_count": null,
            "_view_module": "@jupyter-widgets/base",
            "_view_module_version": "1.2.0",
            "_view_name": "StyleView",
            "description_width": ""
          }
        },
        "40b94d4f47454e4a9d751d5ab7553c97": {
          "model_module": "@jupyter-widgets/base",
          "model_name": "LayoutModel",
          "model_module_version": "1.2.0",
          "state": {
            "_model_module": "@jupyter-widgets/base",
            "_model_module_version": "1.2.0",
            "_model_name": "LayoutModel",
            "_view_count": null,
            "_view_module": "@jupyter-widgets/base",
            "_view_module_version": "1.2.0",
            "_view_name": "LayoutView",
            "align_content": null,
            "align_items": null,
            "align_self": null,
            "border": null,
            "bottom": null,
            "display": null,
            "flex": null,
            "flex_flow": null,
            "grid_area": null,
            "grid_auto_columns": null,
            "grid_auto_flow": null,
            "grid_auto_rows": null,
            "grid_column": null,
            "grid_gap": null,
            "grid_row": null,
            "grid_template_areas": null,
            "grid_template_columns": null,
            "grid_template_rows": null,
            "height": null,
            "justify_content": null,
            "justify_items": null,
            "left": null,
            "margin": null,
            "max_height": null,
            "max_width": null,
            "min_height": null,
            "min_width": null,
            "object_fit": null,
            "object_position": null,
            "order": null,
            "overflow": null,
            "overflow_x": null,
            "overflow_y": null,
            "padding": null,
            "right": null,
            "top": null,
            "visibility": null,
            "width": null
          }
        },
        "91db8a02865f4fdeb0bd0154d08b57e9": {
          "model_module": "@jupyter-widgets/controls",
          "model_name": "ProgressStyleModel",
          "model_module_version": "1.5.0",
          "state": {
            "_model_module": "@jupyter-widgets/controls",
            "_model_module_version": "1.5.0",
            "_model_name": "ProgressStyleModel",
            "_view_count": null,
            "_view_module": "@jupyter-widgets/base",
            "_view_module_version": "1.2.0",
            "_view_name": "StyleView",
            "bar_color": null,
            "description_width": ""
          }
        },
        "173c8f7a9dc64f2d83eab3c2963021e9": {
          "model_module": "@jupyter-widgets/base",
          "model_name": "LayoutModel",
          "model_module_version": "1.2.0",
          "state": {
            "_model_module": "@jupyter-widgets/base",
            "_model_module_version": "1.2.0",
            "_model_name": "LayoutModel",
            "_view_count": null,
            "_view_module": "@jupyter-widgets/base",
            "_view_module_version": "1.2.0",
            "_view_name": "LayoutView",
            "align_content": null,
            "align_items": null,
            "align_self": null,
            "border": null,
            "bottom": null,
            "display": null,
            "flex": null,
            "flex_flow": null,
            "grid_area": null,
            "grid_auto_columns": null,
            "grid_auto_flow": null,
            "grid_auto_rows": null,
            "grid_column": null,
            "grid_gap": null,
            "grid_row": null,
            "grid_template_areas": null,
            "grid_template_columns": null,
            "grid_template_rows": null,
            "height": null,
            "justify_content": null,
            "justify_items": null,
            "left": null,
            "margin": null,
            "max_height": null,
            "max_width": null,
            "min_height": null,
            "min_width": null,
            "object_fit": null,
            "object_position": null,
            "order": null,
            "overflow": null,
            "overflow_x": null,
            "overflow_y": null,
            "padding": null,
            "right": null,
            "top": null,
            "visibility": null,
            "width": null
          }
        },
        "fad74bccb1594a73b0394896db363044": {
          "model_module": "@jupyter-widgets/controls",
          "model_name": "DescriptionStyleModel",
          "model_module_version": "1.5.0",
          "state": {
            "_model_module": "@jupyter-widgets/controls",
            "_model_module_version": "1.5.0",
            "_model_name": "DescriptionStyleModel",
            "_view_count": null,
            "_view_module": "@jupyter-widgets/base",
            "_view_module_version": "1.2.0",
            "_view_name": "StyleView",
            "description_width": ""
          }
        },
        "e1956b7c428a4438b124c2e5746527e5": {
          "model_module": "@jupyter-widgets/controls",
          "model_name": "HBoxModel",
          "model_module_version": "1.5.0",
          "state": {
            "_dom_classes": [],
            "_model_module": "@jupyter-widgets/controls",
            "_model_module_version": "1.5.0",
            "_model_name": "HBoxModel",
            "_view_count": null,
            "_view_module": "@jupyter-widgets/controls",
            "_view_module_version": "1.5.0",
            "_view_name": "HBoxView",
            "box_style": "",
            "children": [
              "IPY_MODEL_b54375059e4f4f7b802928e598e5c252",
              "IPY_MODEL_0dcce13d7efb4b47b8bc39a5b1359959",
              "IPY_MODEL_2c18df57f988418ba5e06cb3b291c5bd"
            ],
            "layout": "IPY_MODEL_901b2ab0d94c4825b871ffcc149ccee9"
          }
        },
        "b54375059e4f4f7b802928e598e5c252": {
          "model_module": "@jupyter-widgets/controls",
          "model_name": "HTMLModel",
          "model_module_version": "1.5.0",
          "state": {
            "_dom_classes": [],
            "_model_module": "@jupyter-widgets/controls",
            "_model_module_version": "1.5.0",
            "_model_name": "HTMLModel",
            "_view_count": null,
            "_view_module": "@jupyter-widgets/controls",
            "_view_module_version": "1.5.0",
            "_view_name": "HTMLView",
            "description": "",
            "description_tooltip": null,
            "layout": "IPY_MODEL_7a1b6a0344424847916de1f67fa1ecca",
            "placeholder": "​",
            "style": "IPY_MODEL_4d06167786514f09889eba946cf00baa",
            "value": "100%"
          }
        },
        "0dcce13d7efb4b47b8bc39a5b1359959": {
          "model_module": "@jupyter-widgets/controls",
          "model_name": "FloatProgressModel",
          "model_module_version": "1.5.0",
          "state": {
            "_dom_classes": [],
            "_model_module": "@jupyter-widgets/controls",
            "_model_module_version": "1.5.0",
            "_model_name": "FloatProgressModel",
            "_view_count": null,
            "_view_module": "@jupyter-widgets/controls",
            "_view_module_version": "1.5.0",
            "_view_name": "ProgressView",
            "bar_style": "success",
            "description": "",
            "description_tooltip": null,
            "layout": "IPY_MODEL_889ac19e9c5b401bbaadcc0c7f3810db",
            "max": 4542,
            "min": 0,
            "orientation": "horizontal",
            "style": "IPY_MODEL_8291a34547f14202b895ccd5b978efbc",
            "value": 4542
          }
        },
        "2c18df57f988418ba5e06cb3b291c5bd": {
          "model_module": "@jupyter-widgets/controls",
          "model_name": "HTMLModel",
          "model_module_version": "1.5.0",
          "state": {
            "_dom_classes": [],
            "_model_module": "@jupyter-widgets/controls",
            "_model_module_version": "1.5.0",
            "_model_name": "HTMLModel",
            "_view_count": null,
            "_view_module": "@jupyter-widgets/controls",
            "_view_module_version": "1.5.0",
            "_view_name": "HTMLView",
            "description": "",
            "description_tooltip": null,
            "layout": "IPY_MODEL_5199a77b88eb4449be774e1c782e96e5",
            "placeholder": "​",
            "style": "IPY_MODEL_f51ac12fc102499aa643f8e798ffb106",
            "value": " 4542/4542 [00:00&lt;00:00, 200179.99it/s]"
          }
        },
        "901b2ab0d94c4825b871ffcc149ccee9": {
          "model_module": "@jupyter-widgets/base",
          "model_name": "LayoutModel",
          "model_module_version": "1.2.0",
          "state": {
            "_model_module": "@jupyter-widgets/base",
            "_model_module_version": "1.2.0",
            "_model_name": "LayoutModel",
            "_view_count": null,
            "_view_module": "@jupyter-widgets/base",
            "_view_module_version": "1.2.0",
            "_view_name": "LayoutView",
            "align_content": null,
            "align_items": null,
            "align_self": null,
            "border": null,
            "bottom": null,
            "display": null,
            "flex": null,
            "flex_flow": null,
            "grid_area": null,
            "grid_auto_columns": null,
            "grid_auto_flow": null,
            "grid_auto_rows": null,
            "grid_column": null,
            "grid_gap": null,
            "grid_row": null,
            "grid_template_areas": null,
            "grid_template_columns": null,
            "grid_template_rows": null,
            "height": null,
            "justify_content": null,
            "justify_items": null,
            "left": null,
            "margin": null,
            "max_height": null,
            "max_width": null,
            "min_height": null,
            "min_width": null,
            "object_fit": null,
            "object_position": null,
            "order": null,
            "overflow": null,
            "overflow_x": null,
            "overflow_y": null,
            "padding": null,
            "right": null,
            "top": null,
            "visibility": null,
            "width": null
          }
        },
        "7a1b6a0344424847916de1f67fa1ecca": {
          "model_module": "@jupyter-widgets/base",
          "model_name": "LayoutModel",
          "model_module_version": "1.2.0",
          "state": {
            "_model_module": "@jupyter-widgets/base",
            "_model_module_version": "1.2.0",
            "_model_name": "LayoutModel",
            "_view_count": null,
            "_view_module": "@jupyter-widgets/base",
            "_view_module_version": "1.2.0",
            "_view_name": "LayoutView",
            "align_content": null,
            "align_items": null,
            "align_self": null,
            "border": null,
            "bottom": null,
            "display": null,
            "flex": null,
            "flex_flow": null,
            "grid_area": null,
            "grid_auto_columns": null,
            "grid_auto_flow": null,
            "grid_auto_rows": null,
            "grid_column": null,
            "grid_gap": null,
            "grid_row": null,
            "grid_template_areas": null,
            "grid_template_columns": null,
            "grid_template_rows": null,
            "height": null,
            "justify_content": null,
            "justify_items": null,
            "left": null,
            "margin": null,
            "max_height": null,
            "max_width": null,
            "min_height": null,
            "min_width": null,
            "object_fit": null,
            "object_position": null,
            "order": null,
            "overflow": null,
            "overflow_x": null,
            "overflow_y": null,
            "padding": null,
            "right": null,
            "top": null,
            "visibility": null,
            "width": null
          }
        },
        "4d06167786514f09889eba946cf00baa": {
          "model_module": "@jupyter-widgets/controls",
          "model_name": "DescriptionStyleModel",
          "model_module_version": "1.5.0",
          "state": {
            "_model_module": "@jupyter-widgets/controls",
            "_model_module_version": "1.5.0",
            "_model_name": "DescriptionStyleModel",
            "_view_count": null,
            "_view_module": "@jupyter-widgets/base",
            "_view_module_version": "1.2.0",
            "_view_name": "StyleView",
            "description_width": ""
          }
        },
        "889ac19e9c5b401bbaadcc0c7f3810db": {
          "model_module": "@jupyter-widgets/base",
          "model_name": "LayoutModel",
          "model_module_version": "1.2.0",
          "state": {
            "_model_module": "@jupyter-widgets/base",
            "_model_module_version": "1.2.0",
            "_model_name": "LayoutModel",
            "_view_count": null,
            "_view_module": "@jupyter-widgets/base",
            "_view_module_version": "1.2.0",
            "_view_name": "LayoutView",
            "align_content": null,
            "align_items": null,
            "align_self": null,
            "border": null,
            "bottom": null,
            "display": null,
            "flex": null,
            "flex_flow": null,
            "grid_area": null,
            "grid_auto_columns": null,
            "grid_auto_flow": null,
            "grid_auto_rows": null,
            "grid_column": null,
            "grid_gap": null,
            "grid_row": null,
            "grid_template_areas": null,
            "grid_template_columns": null,
            "grid_template_rows": null,
            "height": null,
            "justify_content": null,
            "justify_items": null,
            "left": null,
            "margin": null,
            "max_height": null,
            "max_width": null,
            "min_height": null,
            "min_width": null,
            "object_fit": null,
            "object_position": null,
            "order": null,
            "overflow": null,
            "overflow_x": null,
            "overflow_y": null,
            "padding": null,
            "right": null,
            "top": null,
            "visibility": null,
            "width": null
          }
        },
        "8291a34547f14202b895ccd5b978efbc": {
          "model_module": "@jupyter-widgets/controls",
          "model_name": "ProgressStyleModel",
          "model_module_version": "1.5.0",
          "state": {
            "_model_module": "@jupyter-widgets/controls",
            "_model_module_version": "1.5.0",
            "_model_name": "ProgressStyleModel",
            "_view_count": null,
            "_view_module": "@jupyter-widgets/base",
            "_view_module_version": "1.2.0",
            "_view_name": "StyleView",
            "bar_color": null,
            "description_width": ""
          }
        },
        "5199a77b88eb4449be774e1c782e96e5": {
          "model_module": "@jupyter-widgets/base",
          "model_name": "LayoutModel",
          "model_module_version": "1.2.0",
          "state": {
            "_model_module": "@jupyter-widgets/base",
            "_model_module_version": "1.2.0",
            "_model_name": "LayoutModel",
            "_view_count": null,
            "_view_module": "@jupyter-widgets/base",
            "_view_module_version": "1.2.0",
            "_view_name": "LayoutView",
            "align_content": null,
            "align_items": null,
            "align_self": null,
            "border": null,
            "bottom": null,
            "display": null,
            "flex": null,
            "flex_flow": null,
            "grid_area": null,
            "grid_auto_columns": null,
            "grid_auto_flow": null,
            "grid_auto_rows": null,
            "grid_column": null,
            "grid_gap": null,
            "grid_row": null,
            "grid_template_areas": null,
            "grid_template_columns": null,
            "grid_template_rows": null,
            "height": null,
            "justify_content": null,
            "justify_items": null,
            "left": null,
            "margin": null,
            "max_height": null,
            "max_width": null,
            "min_height": null,
            "min_width": null,
            "object_fit": null,
            "object_position": null,
            "order": null,
            "overflow": null,
            "overflow_x": null,
            "overflow_y": null,
            "padding": null,
            "right": null,
            "top": null,
            "visibility": null,
            "width": null
          }
        },
        "f51ac12fc102499aa643f8e798ffb106": {
          "model_module": "@jupyter-widgets/controls",
          "model_name": "DescriptionStyleModel",
          "model_module_version": "1.5.0",
          "state": {
            "_model_module": "@jupyter-widgets/controls",
            "_model_module_version": "1.5.0",
            "_model_name": "DescriptionStyleModel",
            "_view_count": null,
            "_view_module": "@jupyter-widgets/base",
            "_view_module_version": "1.2.0",
            "_view_name": "StyleView",
            "description_width": ""
          }
        }
      }
    }
  },
  "nbformat": 4,
  "nbformat_minor": 5
}