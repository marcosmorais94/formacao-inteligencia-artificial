{
 "cells": [
  {
   "cell_type": "markdown",
   "id": "79dcdbee",
   "metadata": {},
   "source": [
    "# Lab 1 - Análise Preditiva com Rede Neural"
   ]
  },
  {
   "cell_type": "markdown",
   "id": "14527688",
   "metadata": {},
   "source": [
    "Este script \n",
    "demonstra um exemplo prático de utilização de análise preditiva com um modelo de redes neurais. O exercício faz parte da formação Inteligência Artificial da Data Science Academy. \n",
    "\n",
    "O modelo treinado passa por todas as etapas principais para preparação, treino e avaliação do modelo de rede neural. Neste exerício foi usando o Pytorch e o Ligthning com o uso de linguagem Python."
   ]
  },
  {
   "cell_type": "markdown",
   "id": "51b2015c",
   "metadata": {},
   "source": [
    "## 1. Instalando e carregando pacotes"
   ]
  },
  {
   "cell_type": "code",
   "execution_count": 1,
   "id": "3d85f1b9",
   "metadata": {},
   "outputs": [
    {
     "name": "stdout",
     "output_type": "stream",
     "text": [
      "Versão da linguagem Python usada neste Jupyter Notebook é:  3.9.13\n"
     ]
    }
   ],
   "source": [
    "# Versão do python\n",
    "from platform import python_version\n",
    "print('Versão da linguagem Python usada neste Jupyter Notebook é: ', python_version())"
   ]
  },
  {
   "cell_type": "code",
   "execution_count": 2,
   "id": "835f56a7",
   "metadata": {},
   "outputs": [],
   "source": [
    "# instala o watermark\n",
    "#!pip install -q -U watermark"
   ]
  },
  {
   "cell_type": "code",
   "execution_count": 3,
   "id": "9efda2ef",
   "metadata": {},
   "outputs": [],
   "source": [
    "# instala o pytorch e lightning\n",
    "#!pip install -q torch==1.13.0"
   ]
  },
  {
   "cell_type": "code",
   "execution_count": 4,
   "id": "9159e31a",
   "metadata": {},
   "outputs": [],
   "source": [
    "# instala o pytorch e lightning\n",
    "#!pip install -q pytorch-lightning==1.8.3"
   ]
  },
  {
   "cell_type": "code",
   "execution_count": 5,
   "id": "af14e7b9",
   "metadata": {},
   "outputs": [],
   "source": [
    "# Carga dos pacotes\n",
    "\n",
    "# Pacotes para check de hardware e versões\n",
    "import gc\n",
    "import types\n",
    "import pkg_resources\n",
    "\n",
    "# Pytorch e Pytorch Lightning\n",
    "import torch\n",
    "import pytorch_lightning as pl\n",
    "\n",
    "# Pacote de rede neural e otimizador\n",
    "from torch import nn, optim\n",
    "\n",
    "# Pacote para prepara o dataset de exemplo\n",
    "from torch.autograd import Variable\n",
    "\n",
    "# Pacote para preparar os dados para treinar o modelo\n",
    "from torch.utils.data import DataLoader\n",
    "\n",
    "# Pacote para gravar o modelo em disco\n",
    "from pytorch_lightning.callbacks import ModelCheckpoint\n",
    "\n",
    "import warnings\n",
    "warnings.filterwarnings('ignore')"
   ]
  },
  {
   "cell_type": "code",
   "execution_count": 6,
   "id": "bd52d381",
   "metadata": {},
   "outputs": [
    {
     "name": "stdout",
     "output_type": "stream",
     "text": [
      "Author: Lab1 - IA\n",
      "\n",
      "pytorch_lightning: 1.8.3\n",
      "torch            : 1.13.0\n",
      "\n"
     ]
    }
   ],
   "source": [
    "# Versões dos pacotes utilizados neste Jupyter Notebook\n",
    "%reload_ext watermark\n",
    "%watermark -a \"Lab1 - IA\" --iversions"
   ]
  },
  {
   "cell_type": "markdown",
   "id": "98943e75",
   "metadata": {},
   "source": [
    "## 2. Verificando o ambiente de desenvolvimento"
   ]
  },
  {
   "cell_type": "code",
   "execution_count": 7,
   "id": "57151ec6",
   "metadata": {},
   "outputs": [],
   "source": [
    "# Verificando o dispositivo\n",
    "processing_device = 'cuda' if torch.cuda.is_available() else 'cpu'"
   ]
  },
  {
   "cell_type": "code",
   "execution_count": 8,
   "id": "437f9b6b",
   "metadata": {},
   "outputs": [
    {
     "name": "stdout",
     "output_type": "stream",
     "text": [
      "cpu\n"
     ]
    }
   ],
   "source": [
    "# verifica resultado\n",
    "print(processing_device)"
   ]
  },
  {
   "cell_type": "code",
   "execution_count": 9,
   "id": "32c36f5a",
   "metadata": {},
   "outputs": [],
   "source": [
    "# Verifica se a GPU pode ser utilizado\n",
    "# Nesse caso o resultado esperado é FALSE\n",
    "torch_aval = torch.cuda.is_available()"
   ]
  },
  {
   "cell_type": "code",
   "execution_count": 10,
   "id": "ee5df6ad",
   "metadata": {},
   "outputs": [
    {
     "name": "stdout",
     "output_type": "stream",
     "text": [
      "False\n"
     ]
    }
   ],
   "source": [
    "# Verifica resultado\n",
    "print(torch_aval)"
   ]
  },
  {
   "cell_type": "code",
   "execution_count": 11,
   "id": "58a20f2a",
   "metadata": {},
   "outputs": [],
   "source": [
    "# Labels para o relatório de verificação\n",
    "label_1 = 'Visão Geral do Ambiente'\n",
    "label_2 = 'Se NVIDIA não for encontrado, então CUDA não está disponível'\n",
    "label_3 = 'Fim da Verificação'"
   ]
  },
  {
   "cell_type": "code",
   "execution_count": 12,
   "id": "11071f3d",
   "metadata": {},
   "outputs": [],
   "source": [
    "# Função que verifica o que está importado nesta seção\n",
    "def get_imports():\n",
    "    \n",
    "    for name, val in globals().items():\n",
    "        if isinstance(val, types.ModuleType):\n",
    "            name = val.__name__.split('.')[0]\n",
    "            \n",
    "        elif isinstance(val, type):\n",
    "            name = val.__module__.split('.')[0]\n",
    "        \n",
    "        poorly_named_packages = {'PIL': 'Pillow', 'sklearn': 'scikit-learn'}\n",
    "        \n",
    "        if name in poorly_named_packages.keys():\n",
    "            name = poorly_named_packages[name]\n",
    "        \n",
    "        yield name"
   ]
  },
  {
   "cell_type": "code",
   "execution_count": 13,
   "id": "4711e3a4",
   "metadata": {},
   "outputs": [
    {
     "name": "stdout",
     "output_type": "stream",
     "text": [
      "['pytorch_lightning', '_i13', 'In', '_iii', '_i9', '__', '_i8', 'warnings', 'builtins', '_i6', 'gc', '_i11', '_i12', 'get_imports', '__name__', '_oh', 'types', 'torch_aval', '_i', '__spec__', '_i1', 'label_2', '_dh', '_i3', '_i10', 'torch', 'exit', '_i2', 'quit', 'label_3', '__package__', 'python_version', 'Out', 'processing_device', '_i4', '_ih', '___', '_i5', 'pkg_resources', 'label_1', '_i7', 'get_ipython', '_', '__doc__', '__loader__', '_ii']\n"
     ]
    }
   ],
   "source": [
    "# Pacotes importados neste jupyter notebook\n",
    "imports = list(set(get_imports()))\n",
    "print(imports)"
   ]
  },
  {
   "cell_type": "code",
   "execution_count": 14,
   "id": "a86e0883",
   "metadata": {},
   "outputs": [],
   "source": [
    "# Loop para verificar os requerimentos de instalação dos pacotes\n",
    "requeriments = []\n",
    "for m in pkg_resources.working_set:\n",
    "    if m.project_name in imports and m.project_name!='pip':\n",
    "        requeriments.append((m.project_name, m.version))"
   ]
  },
  {
   "cell_type": "code",
   "execution_count": 15,
   "id": "e61dbedc",
   "metadata": {},
   "outputs": [
    {
     "name": "stdout",
     "output_type": "stream",
     "text": [
      "[('torch', '1.13.0')]\n"
     ]
    }
   ],
   "source": [
    "# Verifica o resultado\n",
    "print(requeriments)"
   ]
  },
  {
   "cell_type": "code",
   "execution_count": 16,
   "id": "03e12aa2",
   "metadata": {},
   "outputs": [],
   "source": [
    "# Cria pasta de dados\n",
    "pasta_dados = r'dados'"
   ]
  },
  {
   "cell_type": "code",
   "execution_count": 17,
   "id": "83808beb",
   "metadata": {},
   "outputs": [
    {
     "name": "stdout",
     "output_type": "stream",
     "text": [
      "--------------------------------------Visão Geral do Ambiente---------------------------------------\n",
      "\n",
      "Pasta de Dados:  dados\n",
      "Versões dos Pacotes Requeridos:  [('torch', '1.13.0')]\n",
      "Dispositivo que será usado para treinar o modelo:  cpu\n",
      "CUDA está disponível?  False\n",
      "Versão do Pytorch:  1.13.0+cpu\n",
      "Versão do Lightning:  1.8.3\n",
      "\n",
      "--------------------Se NVIDIA não for encontrado, então CUDA não está disponível--------------------\n",
      "\n",
      "Limpando a memória da GPU (se disponível):  None\n",
      "-----------------------------------------Fim da Verificação-----------------------------------------\n"
     ]
    },
    {
     "name": "stderr",
     "output_type": "stream",
     "text": [
      "'nvidia-smi' nÆo ‚ reconhecido como um comando interno\n",
      "ou externo, um programa oper vel ou um arquivo em lotes.\n"
     ]
    }
   ],
   "source": [
    "# Print do resumo \n",
    "print(f'{label_1:-^100}')\n",
    "print()\n",
    "print(f'Pasta de Dados: ', pasta_dados)\n",
    "print(f'Versões dos Pacotes Requeridos: ', requeriments)\n",
    "print(f'Dispositivo que será usado para treinar o modelo: ', processing_device)\n",
    "print(f'CUDA está disponível? ', torch_aval)\n",
    "print('Versão do Pytorch: ', torch.__version__)\n",
    "print('Versão do Lightning: ', pl.__version__)\n",
    "print()\n",
    "print(f'{label_2:-^100}')\n",
    "!nvidia-smi\n",
    "gc.collect()\n",
    "print()\n",
    "print(f'Limpando a memória da GPU (se disponível): ', torch.cuda.empty_cache())\n",
    "print(f'{label_3:-^100}')"
   ]
  },
  {
   "cell_type": "markdown",
   "id": "cd4fad3a",
   "metadata": {},
   "source": [
    "## 3. Carga dos Dados"
   ]
  },
  {
   "cell_type": "code",
   "execution_count": 18,
   "id": "f759af57",
   "metadata": {},
   "outputs": [],
   "source": [
    "# Carga dos dados de entrada\n",
    "dados_entrada = [Variable(torch.Tensor([0, 0])),\n",
    "                 Variable(torch.Tensor([0, 1])),\n",
    "                 Variable(torch.Tensor([1, 0])),\n",
    "                 Variable(torch.Tensor([1, 1]))]"
   ]
  },
  {
   "cell_type": "code",
   "execution_count": 19,
   "id": "11116579",
   "metadata": {},
   "outputs": [
    {
     "data": {
      "text/plain": [
       "list"
      ]
     },
     "execution_count": 19,
     "metadata": {},
     "output_type": "execute_result"
    }
   ],
   "source": [
    "# Verifica os dados de entrada\n",
    "type(dados_entrada)"
   ]
  },
  {
   "cell_type": "code",
   "execution_count": 20,
   "id": "b7f49633",
   "metadata": {},
   "outputs": [],
   "source": [
    "# Carga dos dados de saída\n",
    "dados_saida = [Variable(torch.Tensor([0])),\n",
    "                 Variable(torch.Tensor([1])),\n",
    "                 Variable(torch.Tensor([1])),\n",
    "                 Variable(torch.Tensor([0]))]"
   ]
  },
  {
   "cell_type": "code",
   "execution_count": 21,
   "id": "cf4ac88c",
   "metadata": {},
   "outputs": [
    {
     "data": {
      "text/plain": [
       "list"
      ]
     },
     "execution_count": 21,
     "metadata": {},
     "output_type": "execute_result"
    }
   ],
   "source": [
    "# Verifica os dados de saída\n",
    "type(dados_saida)"
   ]
  },
  {
   "cell_type": "code",
   "execution_count": 22,
   "id": "8cc77722",
   "metadata": {},
   "outputs": [
    {
     "data": {
      "text/plain": [
       "[(tensor([0., 0.]), tensor([0.])),\n",
       " (tensor([0., 1.]), tensor([1.])),\n",
       " (tensor([1., 0.]), tensor([1.])),\n",
       " (tensor([1., 1.]), tensor([0.]))]"
      ]
     },
     "execution_count": 22,
     "metadata": {},
     "output_type": "execute_result"
    }
   ],
   "source": [
    "# Dataset final\n",
    "dados_final = list(zip(dados_entrada, dados_saida))\n",
    "dados_final"
   ]
  },
  {
   "cell_type": "code",
   "execution_count": 23,
   "id": "56d89503",
   "metadata": {},
   "outputs": [
    {
     "data": {
      "text/plain": [
       "list"
      ]
     },
     "execution_count": 23,
     "metadata": {},
     "output_type": "execute_result"
    }
   ],
   "source": [
    "# Verifica os dados final\n",
    "type(dados_final)"
   ]
  },
  {
   "cell_type": "code",
   "execution_count": 24,
   "id": "42ec56bb",
   "metadata": {},
   "outputs": [],
   "source": [
    "# Prepara o data loader\n",
    "loader_treinamento = DataLoader(dados_final, batch_size = 1)"
   ]
  },
  {
   "cell_type": "code",
   "execution_count": 25,
   "id": "f75f6e41",
   "metadata": {},
   "outputs": [
    {
     "data": {
      "text/plain": [
       "torch.utils.data.dataloader.DataLoader"
      ]
     },
     "execution_count": 25,
     "metadata": {},
     "output_type": "execute_result"
    }
   ],
   "source": [
    "# Verifica o tipo\n",
    "type(loader_treinamento)"
   ]
  },
  {
   "cell_type": "code",
   "execution_count": 26,
   "id": "980fb9f7",
   "metadata": {},
   "outputs": [],
   "source": [
    "class SimpleNet(pl.LightningModule):\n",
    "  \n",
    "    # Método construtor\n",
    "    # Usado para inicializar os parâmetros do modelo\n",
    "    def __init__(self):\n",
    "\n",
    "        super(SimpleNet, self).__init__()  \n",
    "        \n",
    "        self.input_layer = nn.Linear(2, 4)\n",
    "        self.output_layer = nn.Linear(4, 1)\n",
    "        self.sigmoid = nn.Sigmoid()\n",
    "        self.loss = nn.MSELoss()\n",
    "\n",
    "    # Método da passada para frente (forward)\n",
    "    def forward(self, input):\n",
    "        x = self.input_layer(input)\n",
    "        x = self.sigmoid(x)\n",
    "        output = self.output_layer(x)\n",
    "        return output\n",
    "\n",
    "    # Método de otimização\n",
    "    def configure_optimizers(self):\n",
    "        params = self.parameters()\n",
    "        optimizer = optim.Adam(params = params, lr = 0.01)\n",
    "        return optimizer\n",
    "\n",
    "    # Método das passadas de treinamento\n",
    "    def training_step(self, batch, batch_idx):\n",
    "        entrada, saida = batch\n",
    "        outputs = self(entrada) \n",
    "        loss = self.loss(outputs, saida)\n",
    "        return loss "
   ]
  },
  {
   "cell_type": "markdown",
   "id": "47476eb8",
   "metadata": {},
   "source": [
    "#### Mais informações no capítulo 15 do Deep Learning Book"
   ]
  },
  {
   "cell_type": "markdown",
   "id": "8e6284b9",
   "metadata": {},
   "source": [
    "## 4. Treino do Modelo com Rede Neural"
   ]
  },
  {
   "cell_type": "code",
   "execution_count": 27,
   "id": "231a5f8b",
   "metadata": {},
   "outputs": [],
   "source": [
    "# Cria o modelo\n",
    "modelo = SimpleNet()"
   ]
  },
  {
   "cell_type": "code",
   "execution_count": 28,
   "id": "ea1a645a",
   "metadata": {},
   "outputs": [],
   "source": [
    "# Cria o callback de checkpoint\n",
    "checkpoint_callback = ModelCheckpoint()"
   ]
  },
  {
   "cell_type": "code",
   "execution_count": 29,
   "id": "2d3ab9a0",
   "metadata": {},
   "outputs": [
    {
     "name": "stderr",
     "output_type": "stream",
     "text": [
      "GPU available: False, used: False\n",
      "TPU available: False, using: 0 TPU cores\n",
      "IPU available: False, using: 0 IPUs\n",
      "HPU available: False, using: 0 HPUs\n"
     ]
    }
   ],
   "source": [
    "# Cria o trainer\n",
    "trainer = pl.Trainer(devices = 1,\n",
    "                     accelerator = 'cpu',\n",
    "                     max_epochs = 100,\n",
    "                     callbacks = [checkpoint_callback])"
   ]
  },
  {
   "cell_type": "code",
   "execution_count": 30,
   "id": "90709348",
   "metadata": {},
   "outputs": [
    {
     "name": "stderr",
     "output_type": "stream",
     "text": [
      "Missing logger folder: C:\\Users\\morai\\DSA_IA\\DeepLearningPytorch\\Cap02\\Lab1\\lightning_logs\n",
      "\n",
      "  | Name         | Type    | Params\n",
      "-----------------------------------------\n",
      "0 | input_layer  | Linear  | 12    \n",
      "1 | output_layer | Linear  | 5     \n",
      "2 | sigmoid      | Sigmoid | 0     \n",
      "3 | loss         | MSELoss | 0     \n",
      "-----------------------------------------\n",
      "17        Trainable params\n",
      "0         Non-trainable params\n",
      "17        Total params\n",
      "0.000     Total estimated model params size (MB)\n"
     ]
    },
    {
     "data": {
      "application/vnd.jupyter.widget-view+json": {
       "model_id": "a7272cbfdb1d4ac2a84bedf587089c3e",
       "version_major": 2,
       "version_minor": 0
      },
      "text/plain": [
       "Training: 0it [00:00, ?it/s]"
      ]
     },
     "metadata": {},
     "output_type": "display_data"
    },
    {
     "name": "stderr",
     "output_type": "stream",
     "text": [
      "`Trainer.fit` stopped: `max_epochs=100` reached.\n"
     ]
    }
   ],
   "source": [
    "# Treinamento\n",
    "trainer.fit(modelo, train_dataloaders = loader_treinamento)"
   ]
  },
  {
   "cell_type": "code",
   "execution_count": 31,
   "id": "ce826f99",
   "metadata": {},
   "outputs": [
    {
     "data": {
      "text/plain": [
       "device(type='cpu')"
      ]
     },
     "execution_count": 31,
     "metadata": {},
     "output_type": "execute_result"
    }
   ],
   "source": [
    "# Verifica tipo do device\n",
    "modelo.device"
   ]
  },
  {
   "cell_type": "code",
   "execution_count": 32,
   "id": "4037a958",
   "metadata": {},
   "outputs": [
    {
     "data": {
      "text/plain": [
       "SimpleNet(\n",
       "  (input_layer): Linear(in_features=2, out_features=4, bias=True)\n",
       "  (output_layer): Linear(in_features=4, out_features=1, bias=True)\n",
       "  (sigmoid): Sigmoid()\n",
       "  (loss): MSELoss()\n",
       ")"
      ]
     },
     "execution_count": 32,
     "metadata": {},
     "output_type": "execute_result"
    }
   ],
   "source": [
    "# Verifica a arquiterura do modelo\n",
    "modelo.eval()"
   ]
  },
  {
   "cell_type": "code",
   "execution_count": 33,
   "id": "72b86505",
   "metadata": {},
   "outputs": [
    {
     "data": {
      "text/plain": [
       "OrderedDict([('input_layer.weight',\n",
       "              tensor([[ 0.4819,  0.0095],\n",
       "                      [ 0.4522,  0.1973],\n",
       "                      [-1.0225, -0.9093],\n",
       "                      [-0.4804, -0.2510]])),\n",
       "             ('input_layer.bias',\n",
       "              tensor([-0.4570,  0.6250, -0.2941,  0.4637])),\n",
       "             ('output_layer.weight',\n",
       "              tensor([[-0.3625,  0.5242, -0.2409,  0.1075]])),\n",
       "             ('output_layer.bias', tensor([0.2890]))])"
      ]
     },
     "execution_count": 33,
     "metadata": {},
     "output_type": "execute_result"
    }
   ],
   "source": [
    "# Resumo do modelo\n",
    "modelo.state_dict()"
   ]
  },
  {
   "cell_type": "markdown",
   "id": "b7b78db2",
   "metadata": {},
   "source": [
    "## 5. Avaliação do Modelo"
   ]
  },
  {
   "cell_type": "code",
   "execution_count": 34,
   "id": "dc4f5584",
   "metadata": {},
   "outputs": [
    {
     "name": "stdout",
     "output_type": "stream",
     "text": [
      "C:\\Users\\morai\\DSA_IA\\DeepLearningPytorch\\Cap02\\Lab1\\lightning_logs\\version_0\\checkpoints\\epoch=99-step=400.ckpt\n"
     ]
    }
   ],
   "source": [
    "# Extrai o melhor modelo do checkpoint\n",
    "melhor_modelo = (checkpoint_callback.best_model_path)\n",
    "print(melhor_modelo)"
   ]
  },
  {
   "cell_type": "code",
   "execution_count": 35,
   "id": "01fc8664",
   "metadata": {},
   "outputs": [],
   "source": [
    "# Carrega o modelo do último checkpoint\n",
    "modelo_final = modelo.load_from_checkpoint(checkpoint_callback.best_model_path)"
   ]
  },
  {
   "cell_type": "code",
   "execution_count": 36,
   "id": "a63f3ca3",
   "metadata": {},
   "outputs": [
    {
     "data": {
      "text/plain": [
       "OrderedDict([('input_layer.weight',\n",
       "              tensor([[ 0.4819,  0.0095],\n",
       "                      [ 0.4522,  0.1973],\n",
       "                      [-1.0225, -0.9093],\n",
       "                      [-0.4804, -0.2510]])),\n",
       "             ('input_layer.bias',\n",
       "              tensor([-0.4570,  0.6250, -0.2941,  0.4637])),\n",
       "             ('output_layer.weight',\n",
       "              tensor([[-0.3625,  0.5242, -0.2409,  0.1075]])),\n",
       "             ('output_layer.bias', tensor([0.2890]))])"
      ]
     },
     "execution_count": 36,
     "metadata": {},
     "output_type": "execute_result"
    }
   ],
   "source": [
    "# Verifica o resumo do modelo final\n",
    "modelo_final.state_dict()"
   ]
  },
  {
   "cell_type": "code",
   "execution_count": 37,
   "id": "ed905c67",
   "metadata": {},
   "outputs": [],
   "source": [
    "# Novo registro de entrada\n",
    "novo_dado_entrada_A = Variable(torch.Tensor([1,1]))"
   ]
  },
  {
   "cell_type": "code",
   "execution_count": 38,
   "id": "b0dedd8c",
   "metadata": {},
   "outputs": [
    {
     "name": "stdout",
     "output_type": "stream",
     "text": [
      "tensor([0.5374], grad_fn=<AddBackward0>)\n"
     ]
    }
   ],
   "source": [
    "# Faz a previsão\n",
    "pred_A = modelo_final(novo_dado_entrada_A)\n",
    "print(pred_A)"
   ]
  },
  {
   "cell_type": "code",
   "execution_count": 39,
   "id": "44d0424d",
   "metadata": {},
   "outputs": [
    {
     "name": "stdout",
     "output_type": "stream",
     "text": [
      "A previsão de classe de pred_A é:  1\n"
     ]
    }
   ],
   "source": [
    "print('A previsão de classe de pred_A é: ', int(pred_A.round()))"
   ]
  },
  {
   "cell_type": "code",
   "execution_count": 40,
   "id": "8c774cfa",
   "metadata": {},
   "outputs": [],
   "source": [
    "# Novos dados de entrada\n",
    "novos_dados = [Variable(torch.Tensor([1,1])),\n",
    "               Variable(torch.Tensor([0,0])),\n",
    "               Variable(torch.Tensor([1,0])),\n",
    "               Variable(torch.Tensor([0,1]))]"
   ]
  },
  {
   "cell_type": "code",
   "execution_count": 42,
   "id": "36a98e9e",
   "metadata": {},
   "outputs": [
    {
     "name": "stdout",
     "output_type": "stream",
     "text": [
      "[1, 1] 1\n",
      "[0, 0] 0\n",
      "[1, 0] 0\n",
      "[0, 1] 1\n"
     ]
    }
   ],
   "source": [
    "# Loop de test\n",
    "for val in novos_dados:\n",
    "    \n",
    "    # Faz a previsão de cada registro\n",
    "    previsao = modelo_final(val)\n",
    "    \n",
    "    # Imprime o resultado\n",
    "    print([int(val [0]), int(val [1])], int(previsao.round()))"
   ]
  },
  {
   "cell_type": "code",
   "execution_count": 43,
   "id": "7973c71d",
   "metadata": {},
   "outputs": [
    {
     "name": "stdout",
     "output_type": "stream",
     "text": [
      "Author: LAB 1 - DSA I.A\n",
      "\n",
      "pytorch_lightning: 1.8.3\n",
      "torch            : 1.13.0\n",
      "\n"
     ]
    }
   ],
   "source": [
    "# Versões dos pacotes usados neste jupyter notebook\n",
    "%reload_ext watermark\n",
    "%watermark -a \"LAB 1 - DSA I.A\" --iversions"
   ]
  }
 ],
 "metadata": {
  "kernelspec": {
   "display_name": "Python 3 (ipykernel)",
   "language": "python",
   "name": "python3"
  },
  "language_info": {
   "codemirror_mode": {
    "name": "ipython",
    "version": 3
   },
   "file_extension": ".py",
   "mimetype": "text/x-python",
   "name": "python",
   "nbconvert_exporter": "python",
   "pygments_lexer": "ipython3",
   "version": "3.9.13"
  }
 },
 "nbformat": 4,
 "nbformat_minor": 5
}
