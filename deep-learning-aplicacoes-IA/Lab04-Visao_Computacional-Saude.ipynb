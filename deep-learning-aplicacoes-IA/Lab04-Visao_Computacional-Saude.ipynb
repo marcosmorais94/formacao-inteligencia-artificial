{
 "cells": [
  {
   "cell_type": "markdown",
   "id": "9f571164",
   "metadata": {},
   "source": [
    "# Análise Preditiva com Inteligência Artificial\n",
    "## Detecção de Câncer de Pele com Reconhecimento de Imagens\n",
    "\n",
    "\n",
    "O objetivo desta análise preditiva é identificar um câncer de pele através do reconhecimento de imagens e para isso será usado inteligência artificial, mais precisamente será utilizado uma CNN (Redes Neurais Convolucionais) para a deteccção desta doença.\n",
    "\n",
    "A fonte dos dados é: https://dataverse.harvard.edu/dataset.xhtml?persistentId=doi:10.7910/DVN/DBW86T"
   ]
  },
  {
   "cell_type": "markdown",
   "id": "ea8a9738",
   "metadata": {},
   "source": [
    "## 1. Introdução\n",
    "\n",
    "A pele, o maior órgão do corpo humano, é composta por duas camadas: a epiderme, na parte externa, e a derme, na parte interna. Além de regular a temperatura do corpo, ela serve de proteção contra agentes externos, como luz do sol e calor, contra agentes infecciosos e agentes químicos (ingestão de arsênico, exposição a raios-X e rádio).\n",
    "\n",
    "O câncer de pele é muito comuns no Brasil (25% dos tumores malignos diagnosticados), e ocorre por causa do excesso de exposição aos raios ultravioleta do sol.\n",
    "\n",
    "Eles podem ser de vários tipos de câncer de pele. Os mais comuns são os carcinomas (carcinoma basocelular e carcinoma epidermoide) com incidência mais alta, porém menor gravidade, e os melanomas que, apesar de menos frequentes, são mais graves por causa do risco de metástases aumentado.\n",
    "\n",
    "Fonte: https://drauziovarella.uol.com.br/doencas-e-sintomas/cancer-de-pele/"
   ]
  },
  {
   "cell_type": "code",
   "execution_count": null,
   "id": "af894b44",
   "metadata": {},
   "outputs": [],
   "source": []
  },
  {
   "cell_type": "code",
   "execution_count": null,
   "id": "812f6dd3",
   "metadata": {},
   "outputs": [],
   "source": []
  },
  {
   "cell_type": "code",
   "execution_count": null,
   "id": "595fd63c",
   "metadata": {},
   "outputs": [],
   "source": []
  },
  {
   "cell_type": "code",
   "execution_count": null,
   "id": "0dac8a5f",
   "metadata": {},
   "outputs": [],
   "source": []
  },
  {
   "cell_type": "code",
   "execution_count": null,
   "id": "d1bccf69",
   "metadata": {},
   "outputs": [],
   "source": []
  },
  {
   "cell_type": "code",
   "execution_count": null,
   "id": "e726badd",
   "metadata": {},
   "outputs": [],
   "source": []
  },
  {
   "cell_type": "code",
   "execution_count": null,
   "id": "83852a54",
   "metadata": {},
   "outputs": [],
   "source": []
  },
  {
   "cell_type": "code",
   "execution_count": null,
   "id": "1f57d4b4",
   "metadata": {},
   "outputs": [],
   "source": []
  },
  {
   "cell_type": "code",
   "execution_count": null,
   "id": "94540671",
   "metadata": {},
   "outputs": [],
   "source": []
  },
  {
   "cell_type": "code",
   "execution_count": null,
   "id": "c8495661",
   "metadata": {},
   "outputs": [],
   "source": []
  },
  {
   "cell_type": "code",
   "execution_count": null,
   "id": "c102ad82",
   "metadata": {},
   "outputs": [],
   "source": []
  },
  {
   "cell_type": "code",
   "execution_count": null,
   "id": "f8e845d3",
   "metadata": {},
   "outputs": [],
   "source": []
  },
  {
   "cell_type": "code",
   "execution_count": null,
   "id": "94fbb38f",
   "metadata": {},
   "outputs": [],
   "source": []
  },
  {
   "cell_type": "code",
   "execution_count": null,
   "id": "afdd2d04",
   "metadata": {},
   "outputs": [],
   "source": []
  },
  {
   "cell_type": "code",
   "execution_count": null,
   "id": "35a728a0",
   "metadata": {},
   "outputs": [],
   "source": []
  },
  {
   "cell_type": "code",
   "execution_count": null,
   "id": "fd82e834",
   "metadata": {},
   "outputs": [],
   "source": []
  },
  {
   "cell_type": "code",
   "execution_count": null,
   "id": "7cf47084",
   "metadata": {},
   "outputs": [],
   "source": []
  },
  {
   "cell_type": "code",
   "execution_count": null,
   "id": "79587113",
   "metadata": {},
   "outputs": [],
   "source": []
  },
  {
   "cell_type": "code",
   "execution_count": null,
   "id": "ad150994",
   "metadata": {},
   "outputs": [],
   "source": []
  },
  {
   "cell_type": "code",
   "execution_count": null,
   "id": "f4a03cc5",
   "metadata": {},
   "outputs": [],
   "source": []
  },
  {
   "cell_type": "code",
   "execution_count": null,
   "id": "981a6776",
   "metadata": {},
   "outputs": [],
   "source": []
  },
  {
   "cell_type": "code",
   "execution_count": null,
   "id": "9faa58a4",
   "metadata": {},
   "outputs": [],
   "source": []
  },
  {
   "cell_type": "code",
   "execution_count": null,
   "id": "6d13c872",
   "metadata": {},
   "outputs": [],
   "source": []
  },
  {
   "cell_type": "code",
   "execution_count": null,
   "id": "cf72e1ff",
   "metadata": {},
   "outputs": [],
   "source": []
  },
  {
   "cell_type": "code",
   "execution_count": null,
   "id": "b9bad081",
   "metadata": {},
   "outputs": [],
   "source": []
  },
  {
   "cell_type": "code",
   "execution_count": null,
   "id": "668c6b34",
   "metadata": {},
   "outputs": [],
   "source": []
  },
  {
   "cell_type": "code",
   "execution_count": null,
   "id": "121ac27d",
   "metadata": {},
   "outputs": [],
   "source": []
  },
  {
   "cell_type": "code",
   "execution_count": null,
   "id": "920509d5",
   "metadata": {},
   "outputs": [],
   "source": []
  }
 ],
 "metadata": {
  "kernelspec": {
   "display_name": "Python 3 (ipykernel)",
   "language": "python",
   "name": "python3"
  },
  "language_info": {
   "codemirror_mode": {
    "name": "ipython",
    "version": 3
   },
   "file_extension": ".py",
   "mimetype": "text/x-python",
   "name": "python",
   "nbconvert_exporter": "python",
   "pygments_lexer": "ipython3",
   "version": "3.9.13"
  }
 },
 "nbformat": 4,
 "nbformat_minor": 5
}
